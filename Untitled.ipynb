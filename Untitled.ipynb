{
 "cells": [
  {
   "cell_type": "code",
   "execution_count": 111,
   "metadata": {},
   "outputs": [],
   "source": [
    "import math\n",
    "from collections import Counter \n",
    "\n",
    "def addition(a, b):\n",
    "    return a + b\n",
    "\n",
    "def subtraction(a, b):\n",
    "    return b - a\n",
    "\n",
    "def division(a,b):\n",
    "    return b / a\n",
    "\n",
    "def multiplication(a,b):\n",
    "    return a * b\n",
    "\n",
    "def square(a):\n",
    "    return a * a\n",
    "\n",
    "def squareRoot(a):\n",
    "    return a**(1/2.0)\n",
    "\n",
    "\n",
    "class Calculator(object):\n",
    "    \n",
    "    result = None\n",
    "    \n",
    "    def __init__(self):\n",
    "        result = 0\n",
    "\n",
    "    def add(self,a,b):\n",
    "        self.result = addition(a,b)\n",
    "        return self.result\n",
    "\n",
    "    def subtract(self,a,b):\n",
    "        self.result = subtraction(a,b)\n",
    "        return self.result\n",
    "\n",
    "    def divide(self,a,b):\n",
    "        self.result = division(a,b)\n",
    "        return self.result\n",
    "\n",
    "    def multiply(self,a,b):\n",
    "        self.result = multiplication(a,b)\n",
    "        return self.result\n",
    "\n",
    "    def sqr(self,a):\n",
    "        self.result = square(a)\n",
    "        return self.result\n",
    "\n",
    "    def sqrt(self,a):\n",
    "        self.result = squareRoot(a)\n",
    "        return self.result\n",
    "\n",
    "\n",
    "# def getMean(data):\n",
    "#    \n",
    "#    summation = sum(data)\n",
    "#    mean = summation / len(data)\n",
    "#\n",
    "#    return mean\n",
    "#\n",
    "# def getMedian(data):\n",
    "#    \n",
    "#    sorted_data = sorted(data)\n",
    "#    print(sorted_data)\n",
    "#\n",
    "#    if (len(data) % 2 ==0):\n",
    "#        median = (sorted_data[len(data)//2 - 1] + sorted_data[len(data)//2])/2\n",
    "#    else:\n",
    "#        median = sorted_data[len(data)//2]\n",
    "#\n",
    "#    return median\n",
    "def frequencyTable(data):\n",
    "    \"\"\"\n",
    "    This piece is based on Python mode function\n",
    "    :param data: data list\n",
    "    :return: frequency table\n",
    "    \"\"\"\n",
    "    # Generate a table of sorted (value, frequency) pairs.\n",
    "    table = collections.Counter(iter(data)).most_common()\n",
    "    if not table:\n",
    "        return table\n",
    "    # Extract the values with the highest frequency.\n",
    "    maxfreq = table[0][1]\n",
    "    for i in range(1, len(table)):\n",
    "        if table[i][1] != maxfreq:\n",
    "            table = table[:i]\n",
    "            break\n",
    "    return table\n",
    "\n",
    "\n",
    "class Statistics(Calculator):\n",
    "    result = None\n",
    "\n",
    "    def __init__(self):\n",
    "        super().__init__()\n",
    "        result = 0\n",
    "\n",
    "    def covariance(self, data1: list, data2: list):\n",
    "        add = self.add\n",
    "        divide = self.divide\n",
    "        subtract = self.subtract\n",
    "        multiply = self.multiply\n",
    "        mean = self.mean\n",
    "        stddev = self.stddev\n",
    "\n",
    "        data1_size = len(data1)\n",
    "        data2_size = len(data2)\n",
    "\n",
    "        if data1_size != data2_size:\n",
    "            self.result = None\n",
    "            return self.result\n",
    "        else:\n",
    "\n",
    "            nominator = 1\n",
    "            denominator = subtract(1, data1_size)\n",
    "\n",
    "            co = divide(denominator, nominator)\n",
    "            data1_mean = mean(data1)\n",
    "            data2_mean = mean(data2)\n",
    "\n",
    "            variable = 0\n",
    "            for i in range(data1_size):\n",
    "                diff1 = subtract(data1_mean, data1[i])\n",
    "                diff2 = subtract(data2_mean, data2[i])\n",
    "                product = multiply(diff1, diff2)\n",
    "                variable = add(variable, product)\n",
    "\n",
    "            data_covariance = multiply(co, variable)\n",
    "\n",
    "            self.result = data_covariance\n",
    "            return self.result\n",
    "\n",
    "    def sem(self, data: list):\n",
    "        stddev = self.stddev\n",
    "        sqrt = self.sqrt\n",
    "        divide = self.divide\n",
    "\n",
    "        data_size = len(data)\n",
    "        data_stddev = stddev(data)\n",
    "\n",
    "        data_size_sqrt = sqrt(data_size)\n",
    "\n",
    "        data_sem = divide(data_size_sqrt, data_stddev)\n",
    "        self.result = data_sem\n",
    "        return self.result\n",
    "\n",
    "    def cdf(self, value: float, mean=0, stddev=1):\n",
    "        e = math.e\n",
    "        pi = math.pi\n",
    "\n",
    "        subtract = self.subtract\n",
    "        divide = self.divide\n",
    "        multiply = self.multiply\n",
    "        sqr = self.sqr\n",
    "        sqrt = self.sqrt\n",
    "\n",
    "        pow = math.pow\n",
    "\n",
    "        base = multiply(2, pi)\n",
    "        base = sqrt(base)\n",
    "        base = multiply(base, stddev)\n",
    "        base = divide(base, 1)\n",
    "        base = multiply(base, e)\n",
    "\n",
    "        p = subtract(mean, value)\n",
    "        p = divide(stddev, p)\n",
    "        p = sqr(p)\n",
    "        p = multiply(0.5, p)\n",
    "        p = -p\n",
    "\n",
    "        data_cdf = pow(base, p)\n",
    "        self.result = data_cdf\n",
    "        return self.result\n",
    "\n",
    "    def mean(self, data: list):\n",
    "        \"\"\"\n",
    "        Task 1 and 13\n",
    "        get the mean value of the data\n",
    "        :param data: data list\n",
    "        :return: mean value\n",
    "        \"\"\"\n",
    "\n",
    "        \"\"\"define function built in class 'Calculator' \"\"\"\n",
    "        divide = self.divide\n",
    "        '''define required variables '''\n",
    "        data_size = len(data)\n",
    "\n",
    "        summation = sum(data)\n",
    "        data_mean = divide(data_size, summation)\n",
    "\n",
    "        self.result = data_mean\n",
    "        return self.result\n",
    "\n",
    "    def median(self, data: list):\n",
    "        \"\"\"\n",
    "        Task 2\n",
    "        get the median value of sorted data list;\n",
    "        calculation method is depend on Parity of length of the data list\n",
    "        :param data: data list\n",
    "        :return: median value\n",
    "        \"\"\"\n",
    "\n",
    "        divide = self.divide\n",
    "        subtract = self.subtract\n",
    "        add = self.add\n",
    "\n",
    "        data_size = len(data)\n",
    "        sorted_data = sorted(data)\n",
    "\n",
    "        if data_size % 2 == 0:\n",
    "            '''left_median = len(data)/2 - 1'''\n",
    "            '''right_median = len(data)/2   '''\n",
    "            minuend = divide(2, data_size)\n",
    "            minuend = int(minuend)\n",
    "\n",
    "            index_low = subtract(1, minuend)\n",
    "            index_high = add(index_low, 1)\n",
    "\n",
    "            left_median = sorted_data[index_low]\n",
    "            right_median = sorted_data[index_high]\n",
    "\n",
    "            sum_left_right_median = add(left_median, right_median)\n",
    "\n",
    "            data_median = divide(2, sum_left_right_median)\n",
    "\n",
    "        else:\n",
    "            '''right_median = len(data)/2'''\n",
    "            index = divide(2, data_size)\n",
    "            index = int(index)\n",
    "\n",
    "            data_median = sorted_data[index]\n",
    "\n",
    "        self.result = data_median\n",
    "\n",
    "        return self.result\n",
    "\n",
    "    def mode(self, data: list):\n",
    "        \"\"\"\n",
    "        Task 3\n",
    "        get the most frequent numbers in data list;\n",
    "        will return error when all numbers have same frequency\n",
    "        Based on Python mode library\n",
    "        :param data: data list\n",
    "        :return: error or  mode value\n",
    "        \"\"\"\n",
    "        n = len(data) \n",
    "\n",
    "        data_cnt = Counter(data) \n",
    "        print(data_cnt)\n",
    "        get_mode = dict(data_cnt) \n",
    "        print(get_mode)\n",
    "        mode = [k for k, v in get_mode.items() if v == max(list(data_cnt.values()))] \n",
    "\n",
    "        if len(mode) == n: \n",
    "            get_mode = None\n",
    "        else: \n",
    "            get_mode = list(map(str, mode))\n",
    "            \n",
    "        self.result = get_mode\n",
    "        return self.result\n",
    "    \n",
    "#         table = frequencyTable(data)\n",
    "#         if len(table) == 1:\n",
    "#             self.result = table[0][0]\n",
    "\n",
    "#         elif table:\n",
    "#             print('no unique mode')\n",
    "#             self.result = None\n",
    "\n",
    "#         else:\n",
    "#             print('empty data list')\n",
    "#             self.result = None\n",
    "\n",
    "#         return self.result\n",
    "     \n",
    "        # list of elements to calculate mode \n",
    "         \n",
    "\n",
    "\n",
    "    def stddev(self, data: list, mode=\"population\"):\n",
    "        \"\"\"\n",
    "        Task 4 and 14\n",
    "        Calculate stand deviation for population data or sample data\n",
    "        :param data: data list\n",
    "        :param mode: \"population\" or \"sample\"\n",
    "        :return: stand deviation\n",
    "        \"\"\"\n",
    "\n",
    "        \"\"\"returns the standard deviation of data\"\"\"\n",
    "        variance = self.variance\n",
    "        sqrt = self.sqrt\n",
    "\n",
    "        data_variance = variance(data, mode)\n",
    "        data_stddev = sqrt(data_variance)\n",
    "\n",
    "        self.result = data_stddev\n",
    "        return self.result\n",
    "\n",
    "    def vp(self, data: list, success_data_count: int):\n",
    "        \"\"\"\n",
    "        Task 5 and 15\n",
    "        ^p = X / n\n",
    "        q = sqrt( ^p * (1 - ^p) / n)\n",
    "        :param data: data list has size n\n",
    "        :param success_data_count: given count of data which matches the characteristics we want X\n",
    "        :return: variance of population/sample proportion q\n",
    "        \"\"\"\n",
    "        subtract = self.subtract\n",
    "        multiply = self.multiply\n",
    "        divide = self.divide\n",
    "        sqrt = self.sqrt\n",
    "\n",
    "        proportion = self.proportion\n",
    "\n",
    "        data_size = len(data)\n",
    "\n",
    "        data_proportion = proportion(data, success_data_count)\n",
    "\n",
    "        complementary_proportion = subtract(data_proportion, 1)\n",
    "        nominator = multiply(data_proportion, complementary_proportion)\n",
    "        denominator = data_size\n",
    "        ratio = divide(denominator, nominator)\n",
    "        vp = sqrt(ratio)\n",
    "\n",
    "        self.result = vp\n",
    "        return self.result\n",
    "\n",
    "    def zscore(self, value, data: list):\n",
    "        \"\"\"\n",
    "        Task 6\n",
    "        get z-score of data list\n",
    "        :param value:\n",
    "        :param data:\n",
    "        :return:\n",
    "        \"\"\"\n",
    "\n",
    "        divide = self.divide\n",
    "        subtract = self.subtract\n",
    "        mean = self.mean\n",
    "        stddev = self.stddev\n",
    "\n",
    "        data_mean = mean(data)\n",
    "        data_stddev = stddev(data)\n",
    "        data_mdev = subtract(data_mean, value)\n",
    "\n",
    "        data_zscore = divide(data_stddev, data_mdev)\n",
    "\n",
    "        self.result = data_zscore\n",
    "        return self.result\n",
    "\n",
    "    def standardizedscore(self, value, data: list):\n",
    "        \"\"\"\n",
    "        Task 7\n",
    "        same meaning with z-score\n",
    "        :param value:\n",
    "        :param data:\n",
    "        :return:\n",
    "        \"\"\"\n",
    "\n",
    "        zscore = self.zscore\n",
    "        self.result = zscore(value, data)\n",
    "        return self.result\n",
    "\n",
    "    def pcc(self, data1: list, data2: list):\n",
    "        \"\"\"\n",
    "        Task 8\n",
    "        get population correlation coefficient\n",
    "        :param data1:\n",
    "        :param data2:\n",
    "        :return:\n",
    "        \"\"\"\n",
    "\n",
    "        divide = self.divide\n",
    "        multiply = self.multiply\n",
    "\n",
    "        covariance = self.covariance\n",
    "        stddev = self.stddev\n",
    "\n",
    "        data_covariance = covariance(data1, data2)\n",
    "        data1_stddev = stddev(data1)\n",
    "        data2_stddev = stddev(data2)\n",
    "\n",
    "        product_data_stddev = multiply(data1_stddev, data2_stddev)\n",
    "\n",
    "        data_ppc = divide(product_data_stddev, data_covariance)\n",
    "        self.result = data_ppc\n",
    "        return self.result\n",
    "\n",
    "    def ci(self, data: list, cl=0.95):\n",
    "        \"\"\"\n",
    "        Task 9\n",
    "        Confidence interval - given a data list of values compute the stand deviation,\n",
    "        divided by the number of entries,\n",
    "        multiplied by a constant factor of (cc).\n",
    "        The constant factor can be looked up from a table, for 95% confidence\n",
    "        on a reasonable size sample (>=500) 1.96 is used.\n",
    "        \"\"\"\n",
    "        add = self.add\n",
    "        subtract = self.subtract\n",
    "        divide = self.divide\n",
    "        multiply = self.multiply\n",
    "        sqrt = self.sqrt\n",
    "\n",
    "        mean = self.mean\n",
    "        stddev = self.stddev\n",
    "\n",
    "        data_mean = mean(data)\n",
    "        data_size = len(data)\n",
    "        data_stddev = stddev(data)\n",
    "\n",
    "        if cl == 0.95:\n",
    "            cc = 1.96\n",
    "        elif cl == 0.90:\n",
    "            cc = 1.64\n",
    "        elif cl == 0.99:\n",
    "            cc = 2.58\n",
    "        else:\n",
    "            cc = 1.96\n",
    "            print('Only 0.90, 0.95 or 0.99 % are allowed for, using default 0.95')\n",
    "\n",
    "        data_size_sqrt = sqrt(data_size)\n",
    "        h = divide(data_size_sqrt, data_stddev)\n",
    "        h = multiply(h, cc)\n",
    "\n",
    "        left = subtract(h, data_mean)\n",
    "        right = add(h, data_mean)\n",
    "\n",
    "        self.result = [left, right]\n",
    "        return self.result\n",
    "\n",
    "    def variance(self, data: list, mode=\"population\"):\n",
    "        \"\"\"\n",
    "        Task 10\n",
    "        get variance of population data or sample data\n",
    "        :param data:\n",
    "        :param mode:\n",
    "        :return:\n",
    "        \"\"\"\n",
    "\n",
    "        add = self.add\n",
    "        subtract = self.subtract\n",
    "        divide = self.divide\n",
    "        sqr = self.sqr\n",
    "        mean = self.mean\n",
    "\n",
    "        data_size = len(data)\n",
    "\n",
    "        diff_sqr_summation = 0\n",
    "        mn = mean(data)\n",
    "        for e in data:\n",
    "            diff = subtract(mn, e)\n",
    "            diff_sqr = sqr(diff)\n",
    "            diff_sqr_summation = add(diff_sqr_summation, diff_sqr)\n",
    "\n",
    "        if mode == \"sample\":\n",
    "            data_variance = divide(data_size, diff_sqr_summation)\n",
    "        else:\n",
    "            df = subtract(1, data_size)\n",
    "            data_variance = divide(df, diff_sqr_summation)\n",
    "\n",
    "        self.result = data_variance\n",
    "        return self.result\n",
    "\n",
    "    def pvalue(self, value, data: list, mode=\"one\"):\n",
    "        \"\"\"\n",
    "        Task 11\n",
    "        get p-value from z-score\n",
    "        :param mode: \"one\" or \"two\"\n",
    "        :param value: value in data list that be computed to get p-value\n",
    "        :param data: data list\n",
    "        :return: p-value on one-tail or two-tail\n",
    "        \"\"\"\n",
    "        subtract = self.subtract\n",
    "        multiply = self.multiply\n",
    "\n",
    "        mean = self.mean\n",
    "        stddev = self.stddev\n",
    "        cdf = self.cdf\n",
    "        zscore = self.zscore\n",
    "\n",
    "        data_mean = mean(data)\n",
    "        data_stddev = stddev(data)\n",
    "\n",
    "        value_zscore = zscore(value)\n",
    "        abs_zscore = abs(value_zscore)\n",
    "        data_cdf = cdf(abs_zscore, mean=data_mean, stddev=data_stddev)\n",
    "        pvalue = subtract(data_cdf, 1)\n",
    "\n",
    "        if mode == \"two\":\n",
    "            pvalue = multiply(pvalue, 2)\n",
    "\n",
    "        self.result = pvalue\n",
    "        return self.result\n",
    "\n",
    "    def proportion(self, data: list, success_data_count: int):\n",
    "        \"\"\"\n",
    "        Task 12\n",
    "        ^p = X / n\n",
    "        Where X is the given count of data which matches the characteristics we want\n",
    "              n is the sample size where draws the X\n",
    "              ^p is the proportion\n",
    "        :param data: sample size n\n",
    "        :param success_data_count: given count of data which matches the characteristics we want X\n",
    "        :return: proportion ^p\n",
    "        \"\"\"\n",
    "\n",
    "        divide = self.divide\n",
    "\n",
    "        data_size = len(data)\n",
    "\n",
    "        data_proportion = divide(data_size, success_data_count)\n",
    "        self.result = data_proportion\n",
    "        return self.result"
   ]
  },
  {
   "cell_type": "code",
   "execution_count": 112,
   "metadata": {},
   "outputs": [
    {
     "name": "stdout",
     "output_type": "stream",
     "text": [
      "Counter({3: 3, 5: 3, 2: 1, 4: 1})\n",
      "{2: 1, 3: 3, 5: 3, 4: 1}\n",
      "['3', '5']\n"
     ]
    }
   ],
   "source": [
    "numbers = [2, 3, 3, 3, 5, 4, 5, 5]\n",
    "statistics = Statistics()\n",
    "result = statistics.mode(numbers)\n",
    "print(result)"
   ]
  },
  {
   "cell_type": "code",
   "execution_count": 10,
   "metadata": {},
   "outputs": [],
   "source": [
    "numbers = [2, 3, 4, 5, 6, 7]\n",
    "statistics = Statistics()"
   ]
  },
  {
   "cell_type": "code",
   "execution_count": 34,
   "metadata": {},
   "outputs": [
    {
     "name": "stdout",
     "output_type": "stream",
     "text": [
      "1.707825127659933\n"
     ]
    }
   ],
   "source": [
    "numbers = [2, 3, 4, 5, 6, 7]\n",
    "statistics = Statistics()\n",
    "result = statistics.stddev(numbers,  mode=\"sample\")\n",
    "print(result)"
   ]
  },
  {
   "cell_type": "code",
   "execution_count": 14,
   "metadata": {
    "scrolled": true
   },
   "outputs": [
    {
     "name": "stdout",
     "output_type": "stream",
     "text": [
      "-1.7566201313073597\n"
     ]
    }
   ],
   "source": [
    "value = 1.5\n",
    "numbers = [2, 3, 4, 5, 6, 7]\n",
    "statistics = Statistics()\n",
    "result = statistics.zscore(value, numbers)\n",
    "print(result)"
   ]
  },
  {
   "cell_type": "code",
   "execution_count": 15,
   "metadata": {},
   "outputs": [
    {
     "name": "stdout",
     "output_type": "stream",
     "text": [
      "1.1970737153967075\n"
     ]
    }
   ],
   "source": [
    "numbers1 = [2.3, 3.6, 4.7, 5.5, 6.47, 7.5]\n",
    "numbers2 = [2, 3, 4, 5, 6, 7]\n",
    "statistics = Statistics()\n",
    "result = statistics.pcc(numbers1, numbers2)\n",
    "print(result)"
   ]
  },
  {
   "cell_type": "code",
   "execution_count": 16,
   "metadata": {},
   "outputs": [
    {
     "name": "stdout",
     "output_type": "stream",
     "text": [
      "2.9166666666666665\n"
     ]
    }
   ],
   "source": [
    "numbers = [2, 3, 4, 5, 6, 7]\n",
    "statistics = Statistics()\n",
    "result = statistics.variance(numbers)\n",
    "print(result)"
   ]
  },
  {
   "cell_type": "code",
   "execution_count": 21,
   "metadata": {},
   "outputs": [
    {
     "name": "stdout",
     "output_type": "stream",
     "text": [
      "[0.0, 0.2, 0.4, 0.6, 0.8, 1.0]\n"
     ]
    }
   ],
   "source": [
    "numbers = [2, 3, 4, 5, 6, 7]\n",
    "statistics = Statistics()\n",
    "result = statistics.proportion(numbers)\n",
    "print(result)"
   ]
  },
  {
   "cell_type": "code",
   "execution_count": 36,
   "metadata": {},
   "outputs": [
    {
     "ename": "TypeError",
     "evalue": "mean() got an unexpected keyword argument 'mode'",
     "output_type": "error",
     "traceback": [
      "\u001b[1;31m---------------------------------------------------------------------------\u001b[0m",
      "\u001b[1;31mTypeError\u001b[0m                                 Traceback (most recent call last)",
      "\u001b[1;32m<ipython-input-36-fe1e43f50048>\u001b[0m in \u001b[0;36m<module>\u001b[1;34m\u001b[0m\n\u001b[0;32m      1\u001b[0m \u001b[0mnumbers\u001b[0m \u001b[1;33m=\u001b[0m \u001b[1;33m[\u001b[0m\u001b[1;36m2\u001b[0m\u001b[1;33m,\u001b[0m \u001b[1;36m3\u001b[0m\u001b[1;33m,\u001b[0m \u001b[1;36m4\u001b[0m\u001b[1;33m,\u001b[0m \u001b[1;36m5\u001b[0m\u001b[1;33m,\u001b[0m \u001b[1;36m6\u001b[0m\u001b[1;33m,\u001b[0m \u001b[1;36m7\u001b[0m\u001b[1;33m]\u001b[0m\u001b[1;33m\u001b[0m\u001b[1;33m\u001b[0m\u001b[0m\n\u001b[0;32m      2\u001b[0m \u001b[0mstatistics\u001b[0m \u001b[1;33m=\u001b[0m \u001b[0mStatistics\u001b[0m\u001b[1;33m(\u001b[0m\u001b[1;33m)\u001b[0m\u001b[1;33m\u001b[0m\u001b[1;33m\u001b[0m\u001b[0m\n\u001b[1;32m----> 3\u001b[1;33m \u001b[0mresult\u001b[0m \u001b[1;33m=\u001b[0m \u001b[0mstatistics\u001b[0m\u001b[1;33m.\u001b[0m\u001b[0mmean\u001b[0m\u001b[1;33m(\u001b[0m\u001b[0mnumbers\u001b[0m\u001b[1;33m,\u001b[0m \u001b[0mmode\u001b[0m\u001b[1;33m=\u001b[0m\u001b[1;34m\"sample\"\u001b[0m\u001b[1;33m)\u001b[0m\u001b[1;33m\u001b[0m\u001b[1;33m\u001b[0m\u001b[0m\n\u001b[0m\u001b[0;32m      4\u001b[0m \u001b[0mprint\u001b[0m\u001b[1;33m(\u001b[0m\u001b[0mresult\u001b[0m\u001b[1;33m)\u001b[0m\u001b[1;33m\u001b[0m\u001b[1;33m\u001b[0m\u001b[0m\n",
      "\u001b[1;31mTypeError\u001b[0m: mean() got an unexpected keyword argument 'mode'"
     ]
    }
   ],
   "source": [
    "numbers = [2, 3, 4, 5, 6, 7]\n",
    "statistics = Statistics()\n",
    "result = statistics.mean(numbers, mode=\"sample\")\n",
    "print(result)"
   ]
  },
  {
   "cell_type": "code",
   "execution_count": 24,
   "metadata": {},
   "outputs": [
    {
     "name": "stdout",
     "output_type": "stream",
     "text": [
      "5\n"
     ]
    }
   ],
   "source": [
    "numbers = [2, 3, 4, 5, 6, 7, 8]\n",
    "statistics = Statistics()\n",
    "result = statistics.median(numbers, )\n",
    "print(result)"
   ]
  },
  {
   "cell_type": "code",
   "execution_count": 27,
   "metadata": {},
   "outputs": [
    {
     "name": "stdout",
     "output_type": "stream",
     "text": [
      "5\n"
     ]
    }
   ],
   "source": [
    "numbers = [2, 3, 4, 5, 6, 7, 8]\n",
    "statistics = Statistics()\n",
    "result = statistics.median(numbers)\n",
    "print(result)"
   ]
  },
  {
   "cell_type": "code",
   "execution_count": 32,
   "metadata": {},
   "outputs": [
    {
     "name": "stdout",
     "output_type": "stream",
     "text": [
      "1.707825127659933\n"
     ]
    }
   ],
   "source": [
    "numbers = [2, 3, 4, 5, 6, 7]\n",
    "statistics = Statistics()\n",
    "result = statistics.stddev(numbers,  mode=\"sample\")\n",
    "print(result)"
   ]
  },
  {
   "cell_type": "code",
   "execution_count": 33,
   "metadata": {},
   "outputs": [
    {
     "name": "stdout",
     "output_type": "stream",
     "text": [
      "[3.003025272981092, 5.996974727018908]\n"
     ]
    }
   ],
   "source": [
    "numbers = [2, 3, 4, 5, 6, 7]\n",
    "statistics = Statistics()\n",
    "result = statistics.ci(numbers, cl = 0.95)\n",
    "print(result)"
   ]
  },
  {
   "cell_type": "code",
   "execution_count": 56,
   "metadata": {},
   "outputs": [
    {
     "name": "stdout",
     "output_type": "stream",
     "text": [
      "13.528104691935328  have a z-score of  1.0065119079295075 in the list of:  [13.52810469 10.80031442 11.95747597 14.4817864  13.73511598  8.04544424\n",
      " 11.90017684  9.69728558  9.7935623  10.821197  ]\n"
     ]
    }
   ],
   "source": [
    "import numpy as np\n",
    "from numpy.linalg import cholesky\n",
    "\n",
    "sampleNum = 10\n",
    "mu = 10\n",
    "sigma = 2\n",
    "np.random.seed(0)\n",
    "s = np.random.normal(mu, sigma, sampleNum)\n",
    "\n",
    "value = s[0]\n",
    "statistics = Statistics()\n",
    "zscore = statistics.zscore(value, s) \n",
    "print(value, \" have a z-score of \", zscore, \"in the list of: \" , s)\n",
    " "
   ]
  },
  {
   "cell_type": "code",
   "execution_count": 53,
   "metadata": {},
   "outputs": [
    {
     "data": {
      "text/plain": [
       "1.8321615203818618"
      ]
     },
     "execution_count": 53,
     "metadata": {},
     "output_type": "execute_result"
    }
   ],
   "source": [
    "zscore"
   ]
  },
  {
   "cell_type": "code",
   "execution_count": 48,
   "metadata": {},
   "outputs": [
    {
     "data": {
      "text/plain": [
       "13.528104691935328"
      ]
     },
     "execution_count": 48,
     "metadata": {},
     "output_type": "execute_result"
    }
   ],
   "source": [
    "value"
   ]
  },
  {
   "cell_type": "code",
   "execution_count": 49,
   "metadata": {},
   "outputs": [
    {
     "ename": "TypeError",
     "evalue": "pvalue() takes 2 positional arguments but 3 were given",
     "output_type": "error",
     "traceback": [
      "\u001b[1;31m---------------------------------------------------------------------------\u001b[0m",
      "\u001b[1;31mTypeError\u001b[0m                                 Traceback (most recent call last)",
      "\u001b[1;32m<ipython-input-49-d2de91c2e0d4>\u001b[0m in \u001b[0;36m<module>\u001b[1;34m\u001b[0m\n\u001b[1;32m----> 1\u001b[1;33m \u001b[0mpvalue\u001b[0m \u001b[1;33m=\u001b[0m \u001b[0mstatistics\u001b[0m\u001b[1;33m.\u001b[0m\u001b[0mpvalue\u001b[0m\u001b[1;33m(\u001b[0m\u001b[0mvalue\u001b[0m\u001b[1;33m,\u001b[0m \u001b[0ms\u001b[0m\u001b[1;33m)\u001b[0m\u001b[1;33m\u001b[0m\u001b[1;33m\u001b[0m\u001b[0m\n\u001b[0m",
      "\u001b[1;31mTypeError\u001b[0m: pvalue() takes 2 positional arguments but 3 were given"
     ]
    }
   ],
   "source": [
    "pvalue = statistics.pvalue(value, s)  "
   ]
  },
  {
   "cell_type": "code",
   "execution_count": 81,
   "metadata": {},
   "outputs": [
    {
     "name": "stdout",
     "output_type": "stream",
     "text": [
      "0.2041241452319315\n"
     ]
    }
   ],
   "source": [
    "numbers = [2, 3, 4, 5, 6, 7]\n",
    "statistics = Statistics()\n",
    "result = statistics.vp(numbers, 3)\n",
    "print(result)"
   ]
  },
  {
   "cell_type": "code",
   "execution_count": 80,
   "metadata": {},
   "outputs": [
    {
     "name": "stdout",
     "output_type": "stream",
     "text": [
      "9.166484305189059  have a p-value of  -199.73780902503592 in the list of:  [ 9.16648431  9.88746635  5.72760781 13.28054162  6.41312883  8.31650527\n",
      " 11.00576283  7.50942383  7.88409556  8.18198477]\n"
     ]
    }
   ],
   "source": [
    "import numpy as np\n",
    "from numpy.linalg import cholesky\n",
    "\n",
    "sampleNum = 10\n",
    "mu = 10\n",
    "sigma = 2\n",
    "np.random.seed(2)\n",
    "s = np.random.normal(mu, sigma, sampleNum)\n",
    "\n",
    "value = s[0]\n",
    "statistics = Statistics()\n",
    "pvalue = statistics.pvalue(value, s, mode = \"one\") \n",
    "print(value, \" have a p-value of \", pvalue, \"in the list of: \" , s)"
   ]
  },
  {
   "cell_type": "code",
   "execution_count": 90,
   "metadata": {},
   "outputs": [
    {
     "ename": "NameError",
     "evalue": "name 'collections' is not defined",
     "output_type": "error",
     "traceback": [
      "\u001b[1;31m---------------------------------------------------------------------------\u001b[0m",
      "\u001b[1;31mNameError\u001b[0m                                 Traceback (most recent call last)",
      "\u001b[1;32m<ipython-input-90-247dd2f6339c>\u001b[0m in \u001b[0;36m<module>\u001b[1;34m\u001b[0m\n\u001b[0;32m      1\u001b[0m \u001b[0mnumbers\u001b[0m \u001b[1;33m=\u001b[0m \u001b[1;33m[\u001b[0m\u001b[1;36m2\u001b[0m\u001b[1;33m,\u001b[0m \u001b[1;36m3\u001b[0m\u001b[1;33m,\u001b[0m \u001b[1;36m3\u001b[0m\u001b[1;33m,\u001b[0m \u001b[1;36m3\u001b[0m\u001b[1;33m,\u001b[0m \u001b[1;36m3\u001b[0m\u001b[1;33m,\u001b[0m \u001b[1;36m4\u001b[0m\u001b[1;33m,\u001b[0m \u001b[1;36m5\u001b[0m\u001b[1;33m,\u001b[0m \u001b[1;36m5\u001b[0m\u001b[1;33m]\u001b[0m\u001b[1;33m\u001b[0m\u001b[1;33m\u001b[0m\u001b[0m\n\u001b[0;32m      2\u001b[0m \u001b[0mstatistics\u001b[0m \u001b[1;33m=\u001b[0m \u001b[0mStatistics\u001b[0m\u001b[1;33m(\u001b[0m\u001b[1;33m)\u001b[0m\u001b[1;33m\u001b[0m\u001b[1;33m\u001b[0m\u001b[0m\n\u001b[1;32m----> 3\u001b[1;33m \u001b[0mresult\u001b[0m \u001b[1;33m=\u001b[0m \u001b[0mstatistics\u001b[0m\u001b[1;33m.\u001b[0m\u001b[0mmode\u001b[0m\u001b[1;33m(\u001b[0m\u001b[0mnumbers\u001b[0m\u001b[1;33m)\u001b[0m\u001b[1;33m\u001b[0m\u001b[1;33m\u001b[0m\u001b[0m\n\u001b[0m\u001b[0;32m      4\u001b[0m \u001b[0mprint\u001b[0m\u001b[1;33m(\u001b[0m\u001b[0mresult\u001b[0m\u001b[1;33m)\u001b[0m\u001b[1;33m\u001b[0m\u001b[1;33m\u001b[0m\u001b[0m\n",
      "\u001b[1;32m<ipython-input-89-11f4a9b7fade>\u001b[0m in \u001b[0;36mmode\u001b[1;34m(self, data)\u001b[0m\n\u001b[0;32m    245\u001b[0m         \"\"\"\n\u001b[0;32m    246\u001b[0m \u001b[1;33m\u001b[0m\u001b[0m\n\u001b[1;32m--> 247\u001b[1;33m         \u001b[0mtable\u001b[0m \u001b[1;33m=\u001b[0m \u001b[0mfrequencyTable\u001b[0m\u001b[1;33m(\u001b[0m\u001b[0mdata\u001b[0m\u001b[1;33m)\u001b[0m\u001b[1;33m\u001b[0m\u001b[1;33m\u001b[0m\u001b[0m\n\u001b[0m\u001b[0;32m    248\u001b[0m         \u001b[1;32mif\u001b[0m \u001b[0mlen\u001b[0m\u001b[1;33m(\u001b[0m\u001b[0mtable\u001b[0m\u001b[1;33m)\u001b[0m \u001b[1;33m==\u001b[0m \u001b[1;36m1\u001b[0m\u001b[1;33m:\u001b[0m\u001b[1;33m\u001b[0m\u001b[1;33m\u001b[0m\u001b[0m\n\u001b[0;32m    249\u001b[0m             \u001b[0mself\u001b[0m\u001b[1;33m.\u001b[0m\u001b[0mresult\u001b[0m \u001b[1;33m=\u001b[0m \u001b[0mtable\u001b[0m\u001b[1;33m[\u001b[0m\u001b[1;36m0\u001b[0m\u001b[1;33m]\u001b[0m\u001b[1;33m[\u001b[0m\u001b[1;36m0\u001b[0m\u001b[1;33m]\u001b[0m\u001b[1;33m\u001b[0m\u001b[1;33m\u001b[0m\u001b[0m\n",
      "\u001b[1;32m<ipython-input-89-11f4a9b7fade>\u001b[0m in \u001b[0;36mfrequencyTable\u001b[1;34m(data)\u001b[0m\n\u001b[0;32m     77\u001b[0m     \"\"\"\n\u001b[0;32m     78\u001b[0m     \u001b[1;31m# Generate a table of sorted (value, frequency) pairs.\u001b[0m\u001b[1;33m\u001b[0m\u001b[1;33m\u001b[0m\u001b[1;33m\u001b[0m\u001b[0m\n\u001b[1;32m---> 79\u001b[1;33m     \u001b[0mtable\u001b[0m \u001b[1;33m=\u001b[0m \u001b[0mcollections\u001b[0m\u001b[1;33m.\u001b[0m\u001b[0mCounter\u001b[0m\u001b[1;33m(\u001b[0m\u001b[0miter\u001b[0m\u001b[1;33m(\u001b[0m\u001b[0mdata\u001b[0m\u001b[1;33m)\u001b[0m\u001b[1;33m)\u001b[0m\u001b[1;33m.\u001b[0m\u001b[0mmost_common\u001b[0m\u001b[1;33m(\u001b[0m\u001b[1;33m)\u001b[0m\u001b[1;33m\u001b[0m\u001b[1;33m\u001b[0m\u001b[0m\n\u001b[0m\u001b[0;32m     80\u001b[0m     \u001b[1;32mif\u001b[0m \u001b[1;32mnot\u001b[0m \u001b[0mtable\u001b[0m\u001b[1;33m:\u001b[0m\u001b[1;33m\u001b[0m\u001b[1;33m\u001b[0m\u001b[0m\n\u001b[0;32m     81\u001b[0m         \u001b[1;32mreturn\u001b[0m \u001b[0mtable\u001b[0m\u001b[1;33m\u001b[0m\u001b[1;33m\u001b[0m\u001b[0m\n",
      "\u001b[1;31mNameError\u001b[0m: name 'collections' is not defined"
     ]
    }
   ],
   "source": [
    "numbers = [2, 3, 3, 3, 3, 4, 5, 5]\n",
    "statistics = Statistics()\n",
    "result = statistics.mode(numbers)\n",
    "print(result)"
   ]
  },
  {
   "cell_type": "code",
   "execution_count": null,
   "metadata": {},
   "outputs": [],
   "source": []
  }
 ],
 "metadata": {
  "kernelspec": {
   "display_name": "Python 3",
   "language": "python",
   "name": "python3"
  },
  "language_info": {
   "codemirror_mode": {
    "name": "ipython",
    "version": 3
   },
   "file_extension": ".py",
   "mimetype": "text/x-python",
   "name": "python",
   "nbconvert_exporter": "python",
   "pygments_lexer": "ipython3",
   "version": "3.7.3"
  }
 },
 "nbformat": 4,
 "nbformat_minor": 2
}

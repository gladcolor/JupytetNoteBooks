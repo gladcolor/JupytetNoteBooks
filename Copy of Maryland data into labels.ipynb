{
 "cells": [
  {
   "cell_type": "code",
   "execution_count": 1,
   "metadata": {
    "colab": {
     "base_uri": "https://localhost:8080/",
     "height": 190
    },
    "colab_type": "code",
    "executionInfo": {
     "elapsed": 14072,
     "status": "ok",
     "timestamp": 1584846190212,
     "user": {
      "displayName": "Huan Ning",
      "photoUrl": "",
      "userId": "15463873355239564744"
     },
     "user_tz": 240
    },
    "id": "hNWqfb_52zW8",
    "outputId": "df11b4ce-8d31-4f0c-8df3-4393ce645b71"
   },
   "outputs": [
    {
     "name": "stdout",
     "output_type": "stream",
     "text": [
      "Collecting dbfread\n",
      "  Downloading https://files.pythonhosted.org/packages/4c/94/51349e43503e30ed7b4ecfe68a8809cdb58f722c0feb79d18b1f1e36fe74/dbfread-2.0.7-py2.py3-none-any.whl\n",
      "Installing collected packages: dbfread\n",
      "Successfully installed dbfread-2.0.7\n",
      "Collecting pyproj\n",
      "\u001b[?25l  Downloading https://files.pythonhosted.org/packages/ce/37/705ee471f71130d4ceee41bbcb06f3b52175cb89273cbb5755ed5e6374e0/pyproj-2.6.0-cp36-cp36m-manylinux2010_x86_64.whl (10.4MB)\n",
      "\u001b[K     |████████████████████████████████| 10.4MB 2.7MB/s \n",
      "\u001b[?25hInstalling collected packages: pyproj\n",
      "Successfully installed pyproj-2.6.0\n"
     ]
    }
   ],
   "source": [
    "!pip install dbfread\n",
    "!pip install pyproj"
   ]
  },
  {
   "cell_type": "markdown",
   "metadata": {
    "colab_type": "text",
    "id": "_adXICH6QA-7"
   },
   "source": []
  },
  {
   "cell_type": "code",
   "execution_count": 0,
   "metadata": {
    "colab": {},
    "colab_type": "code",
    "id": "c2rVCjerWAXt"
   },
   "outputs": [],
   "source": [
    "import os\n",
    "import re\n",
    "import glob\n",
    "import requests\n",
    "from dbfread import DBF\n",
    "from pyproj import CRS\n",
    "from pyproj import Transformer"
   ]
  },
  {
   "cell_type": "code",
   "execution_count": 3,
   "metadata": {
    "colab": {
     "base_uri": "https://localhost:8080/",
     "height": 122
    },
    "colab_type": "code",
    "executionInfo": {
     "elapsed": 45411,
     "status": "ok",
     "timestamp": 1584846223769,
     "user": {
      "displayName": "Huan Ning",
      "photoUrl": "",
      "userId": "15463873355239564744"
     },
     "user_tz": 240
    },
    "id": "sUDqoUq9WFpB",
    "outputId": "95dac0da-c7dd-40d0-d07b-8f8c14564895"
   },
   "outputs": [
    {
     "name": "stdout",
     "output_type": "stream",
     "text": [
      "Go to this URL in a browser: https://accounts.google.com/o/oauth2/auth?client_id=947318989803-6bn6qk8qdgf4n4g3pfee6491hc0brc4i.apps.googleusercontent.com&redirect_uri=urn%3aietf%3awg%3aoauth%3a2.0%3aoob&response_type=code&scope=email%20https%3a%2f%2fwww.googleapis.com%2fauth%2fdocs.test%20https%3a%2f%2fwww.googleapis.com%2fauth%2fdrive%20https%3a%2f%2fwww.googleapis.com%2fauth%2fdrive.photos.readonly%20https%3a%2f%2fwww.googleapis.com%2fauth%2fpeopleapi.readonly\n",
      "\n",
      "Enter your authorization code:\n",
      "··········\n",
      "Mounted at /content/drive\n"
     ]
    }
   ],
   "source": [
    "from google.colab import drive\n",
    "drive.mount('/content/drive')"
   ]
  },
  {
   "cell_type": "code",
   "execution_count": 4,
   "metadata": {
    "colab": {
     "base_uri": "https://localhost:8080/",
     "height": 34
    },
    "colab_type": "code",
    "executionInfo": {
     "elapsed": 422,
     "status": "ok",
     "timestamp": 1584846224599,
     "user": {
      "displayName": "Huan Ning",
      "photoUrl": "",
      "userId": "15463873355239564744"
     },
     "user_tz": 240
    },
    "id": "VSugN3v6aObb",
    "outputId": "fe96cc67-c0c9-445a-9903-23558fa37534"
   },
   "outputs": [
    {
     "name": "stdout",
     "output_type": "stream",
     "text": [
      "/content/drive/My Drive/House_research/data\n"
     ]
    }
   ],
   "source": [
    "# Make the directory if it does not exist\n",
    "# You can change the directory as you'd like\n",
    "# !mkdir 'drive/My Drive/research'\n",
    "# !mkdir 'drive/My Drive/research/data'\n",
    "%cd 'drive/My Drive/House_research/data'"
   ]
  },
  {
   "cell_type": "markdown",
   "metadata": {
    "colab_type": "text",
    "id": "GVryQNCX2LNQ"
   },
   "source": [
    "Get the list of data files"
   ]
  },
  {
   "cell_type": "code",
   "execution_count": 0,
   "metadata": {
    "colab": {},
    "colab_type": "code",
    "id": "vPI8SDiBWSjC"
   },
   "outputs": [],
   "source": [
    "download_page = \"https://apps.planning.maryland.gov/Secure/REST/SharepointService1.svc/GetOpenData\"\n",
    "attachments = requests.get(download_page).json()\n",
    "links = []\n",
    "for attachment in attachments:\n",
    "  if attachment[\"FILENAME\"].endswith(\"MPV15\"):\n",
    "    links.append((attachment[\"FILELINK\"], attachment[\"FILENAME\"]))"
   ]
  },
  {
   "cell_type": "markdown",
   "metadata": {
    "colab_type": "text",
    "id": "nzl9aUbX2ICS"
   },
   "source": [
    "Download all of the data files"
   ]
  },
  {
   "cell_type": "code",
   "execution_count": 0,
   "metadata": {
    "colab": {
     "base_uri": "https://localhost:8080/",
     "height": 458
    },
    "colab_type": "code",
    "executionInfo": {
     "elapsed": 554,
     "status": "ok",
     "timestamp": 1580159133554,
     "user": {
      "displayName": "David Kim",
      "photoUrl": "",
      "userId": "08832455040070111319"
     },
     "user_tz": 300
    },
    "id": "yCWpW2Qy0eXE",
    "outputId": "7d0dbf1b-c237-4469-b9d7-8fe4dbcd4246"
   },
   "outputs": [
    {
     "name": "stdout",
     "output_type": "stream",
     "text": [
      "downloading ALLE_MPV15\n",
      "downloading ANNE_MPV15\n",
      "downloading BACO_MPV15\n",
      "downloading BACI_MPV15\n",
      "downloading CALV_MPV15\n",
      "downloading CARO_MPV15\n",
      "downloading CARR_MPV15\n",
      "downloading CECI_MPV15\n",
      "downloading CHAR_MPV15\n",
      "downloading DORC_MPV15\n",
      "downloading FRED_MPV15\n",
      "downloading GARR_MPV15\n",
      "downloading HARF_MPV15\n",
      "downloading HOWA_MPV15\n",
      "downloading KENT_MPV15\n",
      "downloading MONT_MPV15\n",
      "downloading PRIN_MPV15\n",
      "downloading QUEE_MPV15\n",
      "downloading SOME_MPV15\n",
      "downloading STMA_MPV15\n",
      "downloading TALB_MPV15\n",
      "downloading WASH_MPV15\n",
      "downloading WICO_MPV15\n",
      "downloading WORC_MPV15\n"
     ]
    }
   ],
   "source": [
    "for link, filename in links:\n",
    "  print(f\"downloading {filename}\")\n",
    "  os.system(f\"wget -nc {link}?dl=1 -O {filename}.zip\")"
   ]
  },
  {
   "cell_type": "markdown",
   "metadata": {
    "colab_type": "text",
    "id": "AyftBQxW2QJh"
   },
   "source": [
    "Unzip data files (this takes a long time)\n"
   ]
  },
  {
   "cell_type": "code",
   "execution_count": 0,
   "metadata": {
    "colab": {},
    "colab_type": "code",
    "id": "E6fOYnRNfeRU"
   },
   "outputs": [],
   "source": [
    "!unzip \\*.zip"
   ]
  },
  {
   "cell_type": "code",
   "execution_count": 7,
   "metadata": {
    "colab": {
     "base_uri": "https://localhost:8080/",
     "height": 187
    },
    "colab_type": "code",
    "executionInfo": {
     "elapsed": 1590,
     "status": "ok",
     "timestamp": 1584848399388,
     "user": {
      "displayName": "Huan Ning",
      "photoUrl": "",
      "userId": "15463873355239564744"
     },
     "user_tz": 240
    },
    "id": "TgqZyZO5f4ab",
    "outputId": "49d04fc2-58d0-4db9-8896-f4b5fd6a38fc"
   },
   "outputs": [
    {
     "name": "stdout",
     "output_type": "stream",
     "text": [
      "\u001b[0m\u001b[01;34mAlle2015\u001b[0m/       \u001b[01;34mCaro2015\u001b[0m/       \u001b[01;34mFred2015\u001b[0m/       \u001b[01;34mMont2015\u001b[0m/       \u001b[01;34mTalb2015\u001b[0m/\n",
      "ALLE_MPV15.zip  CARO_MPV15.zip  FRED_MPV15.zip  MONT_MPV15.zip  TALB_MPV15.zip\n",
      "\u001b[01;34mAnne2015\u001b[0m/       \u001b[01;34mCarr2015\u001b[0m/       \u001b[01;34mGarr2015\u001b[0m/       \u001b[01;34mPrin2015\u001b[0m/       \u001b[01;34mWash2015\u001b[0m/\n",
      "ANNE_MPV15.zip  CARR_MPV15.zip  GARR_MPV15.zip  PRIN_MPV15.zip  WASH_MPV15.zip\n",
      "\u001b[01;34mBaci2015\u001b[0m/       \u001b[01;34mCeci2015\u001b[0m/       \u001b[01;34mHarf2015\u001b[0m/       \u001b[01;34mQuee2015\u001b[0m/       \u001b[01;34mWico2015\u001b[0m/\n",
      "BACI_MPV15.zip  CECI_MPV15.zip  HARF_MPV15.zip  QUEE_MPV15.zip  WICO_MPV15.zip\n",
      "\u001b[01;34mBaco2015\u001b[0m/       \u001b[01;34mChar2015\u001b[0m/       \u001b[01;34mHowa2015\u001b[0m/       \u001b[01;34mSome2015\u001b[0m/       \u001b[01;34mWorc2015\u001b[0m/\n",
      "BACO_MPV15.zip  CHAR_MPV15.zip  HOWA_MPV15.zip  SOME_MPV15.zip  WORC_MPV15.zip\n",
      "\u001b[01;34mCalv2015\u001b[0m/       \u001b[01;34mDorc2015\u001b[0m/       \u001b[01;34mKent2015\u001b[0m/       \u001b[01;34mStma2015\u001b[0m/\n",
      "CALV_MPV15.zip  DORC_MPV15.zip  KENT_MPV15.zip  STMA_MPV15.zip\n"
     ]
    }
   ],
   "source": [
    "%ls\n",
    "# make sure all the files are here"
   ]
  },
  {
   "cell_type": "code",
   "execution_count": 0,
   "metadata": {
    "colab": {},
    "colab_type": "code",
    "id": "w5JZzDmTW48b"
   },
   "outputs": [],
   "source": [
    "data_files = glob.glob(\"*/ATDATA/DATABASE/*2015.dbf\")"
   ]
  },
  {
   "cell_type": "code",
   "execution_count": 0,
   "metadata": {
    "colab": {},
    "colab_type": "code",
    "id": "BTkAQ2Rk4Pax"
   },
   "outputs": [],
   "source": [
    "# Setup transformer\n",
    "crs_102285 = CRS.from_proj4(\"+proj=lcc +lat_1=38.3 +lat_2=39.45 +lat_0=37.66666666666666 +lon_0=-77 +x_0=400000 +y_0=0 +ellps=GRS80 +units=m no_defs\")\n",
    "# This is obtained from http://epsg.io/102285\n",
    "crs_4326 = CRS.from_epsg(4326)\n",
    "transformer = Transformer.from_crs(crs_102285, crs_4326)"
   ]
  },
  {
   "cell_type": "code",
   "execution_count": 10,
   "metadata": {
    "colab": {
     "base_uri": "https://localhost:8080/",
     "height": 425
    },
    "colab_type": "code",
    "executionInfo": {
     "elapsed": 574993,
     "status": "ok",
     "timestamp": 1584849834076,
     "user": {
      "displayName": "Huan Ning",
      "photoUrl": "",
      "userId": "15463873355239564744"
     },
     "user_tz": 240
    },
    "id": "t1MnUO1pZ5Py",
    "outputId": "f2272a22-38db-47b7-8de5-9265fb5d74d8"
   },
   "outputs": [
    {
     "name": "stdout",
     "output_type": "stream",
     "text": [
      "Processing Alle2015/ATDATA/DATABASE/Alle2015.dbf\n",
      "Processing Anne2015/ATDATA/DATABASE/Anne2015.dbf\n",
      "Processing Baco2015/ATDATA/DATABASE/Baco2015.dbf\n",
      "Processing Baci2015/ATDATA/DATABASE/Baci2015.dbf\n",
      "Processing Calv2015/ATDATA/DATABASE/Calv2015.dbf\n",
      "Processing Caro2015/ATDATA/DATABASE/Caro2015.dbf\n",
      "Processing Carr2015/ATDATA/DATABASE/Carr2015.dbf\n",
      "Processing Ceci2015/ATDATA/DATABASE/Ceci2015.dbf\n",
      "Processing Char2015/ATDATA/DATABASE/Char2015.dbf\n",
      "Processing Dorc2015/ATDATA/DATABASE/Dorc2015.dbf\n",
      "Processing Fred2015/ATDATA/DATABASE/Fred2015.dbf\n",
      "Processing Garr2015/ATDATA/DATABASE/Garr2015.dbf\n",
      "Processing Harf2015/ATDATA/DATABASE/Harf2015.dbf\n",
      "Processing Howa2015/ATDATA/DATABASE/Howa2015.dbf\n",
      "Processing Kent2015/ATDATA/DATABASE/Kent2015.dbf\n",
      "Processing Mont2015/ATDATA/DATABASE/Mont2015.dbf\n",
      "Processing Prin2015/ATDATA/DATABASE/Prin2015.dbf\n",
      "Processing Quee2015/ATDATA/DATABASE/Quee2015.dbf\n",
      "Processing Some2015/ATDATA/DATABASE/Some2015.dbf\n",
      "Processing Stma2015/ATDATA/DATABASE/Stma2015.dbf\n",
      "Processing Talb2015/ATDATA/DATABASE/Talb2015.dbf\n",
      "Processing Wash2015/ATDATA/DATABASE/Wash2015.dbf\n",
      "Processing Wico2015/ATDATA/DATABASE/Wico2015.dbf\n",
      "Processing Worc2015/ATDATA/DATABASE/Worc2015.dbf\n"
     ]
    }
   ],
   "source": [
    "import string\n",
    "# !rm locations.csv errors.csv\n",
    "output = open(\"labels2.csv\", \"w\")\n",
    "# errors = open(\"erros.csv\", \"w\")\n",
    "output.write(\"#,ACCTID,class,label text\\n\")\n",
    "# open and prepare filse\n",
    "\n",
    "row_num = 1\n",
    "\n",
    "building_types = {}\n",
    "\n",
    "for data_file in data_files:\n",
    "  print(f\"Processing {data_file}\")\n",
    "  dbf = DBF(data_file, encoding='iso-8859-1') # \n",
    "  for row in dbf:\n",
    "    acctid = row[\"ACCTID\"]\n",
    "    story = row[\"DESCSTYL\"]\n",
    "    residential = row[\"RESIDENT\"]\n",
    "    lu = row[\"LU\"]\n",
    "\n",
    "    building_type = 0\n",
    "    if lu in [\"C\", \"EC\"]: # commercial, exempt commercial\n",
    "      # print(\"commercial\")\n",
    "      building_type = 1\n",
    "          \n",
    "    story = row[\"BLDG_STORY\"]\n",
    "    story_num = 0\n",
    "    if \"STRY\" in row[\"DESCSTYL\"] and \"INDUSTRY\" not in row[\"DESCSTYL\"]:\n",
    "      story = row[\"DESCSTYL\"].replace(\"Split Foyer\", \"2\").lstrip(string.ascii_letters + \" \").split(\" Story\")[0].replace(\" 1/2\", \".5\")\n",
    "      # FIXME: Add support for different types of residential buildings here. E.g. TH, SF, CN, AP, etc.\n",
    "      story_num = min(int(float(story) * 2 - 1), 8)\n",
    "    elif story != \"\":\n",
    "      story_num = min(int(story.lstrip(\"0\")) * 2 - 1, 8)\n",
    "    else: # Unknown. Set everything to 0.\n",
    "      # if building_type == 1:\n",
    "      #   print(\"Undoing commercial\")\n",
    "      # else:\n",
    "      #   print(\"Not undoing commercial\")\n",
    "      building_type = 0\n",
    "      story_num = 0\n",
    "    \n",
    "      \n",
    "\n",
    "    class_num = building_type * 8 + story_num\n",
    "    \n",
    "    desc = \"\"\n",
    "\n",
    "    building_types = [\"residential\", \"commercial\"]\n",
    "    stories = [\"Cannot tell\", \"1\", \"1.5\", \"2\", \"2.5\", \"3\", \"3.5\", \"4\", \"> 4\"]\n",
    "\n",
    "    if class_num != 0:\n",
    "      desc += building_types[building_type]\n",
    "      \n",
    "    desc += stories[story_num]\n",
    "      \n",
    "    \n",
    "    # print(acctid, story, residential)\n",
    "    output.write(f\"{row_num},{acctid},{class_num},{desc}\\n\")\n",
    "    row_num += 1\n",
    "  output.flush()"
   ]
  },
  {
   "cell_type": "code",
   "execution_count": 0,
   "metadata": {
    "colab": {},
    "colab_type": "code",
    "id": "53E_Ms5tW7M4"
   },
   "outputs": [],
   "source": []
  }
 ],
 "metadata": {
  "colab": {
   "collapsed_sections": [],
   "name": "Copy of Maryland data into labels.ipynb",
   "provenance": [
    {
     "file_id": "1GeIxqSnIywEMBrJJR4cFL5QRc1PnJq38",
     "timestamp": 1584846134728
    },
    {
     "file_id": "1_a1MLluQ4wQ1cgKjucQrdR7JML9yb4Qj",
     "timestamp": 1583077274779
    }
   ],
   "toc_visible": true
  },
  "kernelspec": {
   "display_name": "Python 3",
   "language": "python",
   "name": "python3"
  },
  "toc": {
   "base_numbering": 1,
   "nav_menu": {},
   "number_sections": true,
   "sideBar": true,
   "skip_h1_title": false,
   "title_cell": "Table of Contents",
   "title_sidebar": "Contents",
   "toc_cell": false,
   "toc_position": {},
   "toc_section_display": true,
   "toc_window_display": false
  },
  "varInspector": {
   "cols": {
    "lenName": 16,
    "lenType": 16,
    "lenVar": 40
   },
   "kernels_config": {
    "python": {
     "delete_cmd_postfix": "",
     "delete_cmd_prefix": "del ",
     "library": "var_list.py",
     "varRefreshCmd": "print(var_dic_list())"
    },
    "r": {
     "delete_cmd_postfix": ") ",
     "delete_cmd_prefix": "rm(",
     "library": "var_list.r",
     "varRefreshCmd": "cat(var_dic_list()) "
    }
   },
   "types_to_exclude": [
    "module",
    "function",
    "builtin_function_or_method",
    "instance",
    "_Feature"
   ],
   "window_display": false
  }
 },
 "nbformat": 4,
 "nbformat_minor": 1
}

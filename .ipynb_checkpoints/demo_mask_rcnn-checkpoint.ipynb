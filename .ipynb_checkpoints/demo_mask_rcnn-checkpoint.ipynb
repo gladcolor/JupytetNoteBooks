{
 "cells": [
  {
   "cell_type": "code",
   "execution_count": 1,
   "metadata": {},
   "outputs": [],
   "source": [
    "%matplotlib inline"
   ]
  },
  {
   "cell_type": "markdown",
   "metadata": {},
   "source": [
    "1. Predict with pre-trained Mask RCNN models\n",
    "===============================================\n",
    "\n",
    "This article shows how to play with pre-trained Mask RCNN model.\n",
    "\n",
    "Mask RCNN networks are extensions to Faster RCNN networks.\n",
    ":py:class:`gluoncv.model_zoo.MaskRCNN` is inherited from\n",
    ":py:class:`gluoncv.model_zoo.FasterRCNN`.\n",
    "It is highly recommended to read :doc:`../examples_detection/demo_faster_rcnn` first.\n",
    "\n",
    "First let's import some necessary libraries:\n"
   ]
  },
  {
   "cell_type": "code",
   "execution_count": 2,
   "metadata": {},
   "outputs": [],
   "source": [
    "from matplotlib import pyplot as plt\n",
    "from gluoncv import model_zoo, data, utils"
   ]
  },
  {
   "cell_type": "markdown",
   "metadata": {},
   "source": [
    "Load a pretrained model\n",
    "-------------------------\n",
    "\n",
    "Let's get an Mask RCNN model trained on COCO dataset with ResNet-50 backbone.\n",
    "By specifying ``pretrained=True``, it will automatically download the model\n",
    "from the model zoo if necessary. For more pretrained models, please refer to\n",
    ":doc:`../../model_zoo/index`.\n",
    "\n",
    "The returned model is a HybridBlock :py:class:`gluoncv.model_zoo.MaskRCNN`\n",
    "with a default context of `cpu(0)`.\n",
    "\n"
   ]
  },
  {
   "cell_type": "code",
   "execution_count": null,
   "metadata": {},
   "outputs": [],
   "source": [
    "net = model_zoo.get_model('mask_rcnn_resnet50_v1b_coco', pretrained=True)"
   ]
  },
  {
   "cell_type": "markdown",
   "metadata": {},
   "source": [
    "Pre-process an image\n",
    "--------------------\n",
    "\n",
    "The pre-processing step is identical to Faster RCNN.\n",
    "\n",
    "Next we download an image, and pre-process with preset data transforms.\n",
    "The default behavior is to resize the short edge of the image to 600px.\n",
    "But you can feed an arbitrarily sized image.\n",
    "\n",
    "You can provide a list of image file names, such as ``[im_fname1, im_fname2,\n",
    "...]`` to :py:func:`gluoncv.data.transforms.presets.rcnn.load_test` if you\n",
    "want to load multiple image together.\n",
    "\n",
    "This function returns two results. The first is a NDArray with shape\n",
    "`(batch_size, RGB_channels, height, width)`. It can be fed into the\n",
    "model directly. The second one contains the images in numpy format to\n",
    "easy to be plotted. Since we only loaded a single image, the first dimension\n",
    "of `x` is 1.\n",
    "\n",
    "Please beware that `orig_img` is resized to short edge 600px.\n",
    "\n"
   ]
  },
  {
   "cell_type": "code",
   "execution_count": null,
   "metadata": {},
   "outputs": [],
   "source": [
    "im_fname = utils.download('https://github.com/dmlc/web-data/blob/master/' +\n",
    "                          'gluoncv/detection/biking.jpg?raw=true',\n",
    "                          path='biking.jpg')\n",
    "x, orig_img = data.transforms.presets.rcnn.load_test(im_fname)"
   ]
  },
  {
   "cell_type": "code",
   "execution_count": null,
   "metadata": {},
   "outputs": [],
   "source": [
    "im_fname = utils.download(r'K:\\OneDrive_NJIT\\OneDrive - NJIT\\Research\\Trees\\datasets\\Ottawa\\tree_jpg2\\-_rkGFM4l5PUNzh6SkYQJw_-75.774753_45.354809_0_144.98.jpg')\n",
    "x, orig_img = data.transforms.presets.rcnn.load_test(im_fname)"
   ]
  },
  {
   "cell_type": "markdown",
   "metadata": {},
   "source": [
    "Inference and display\n",
    "---------------------\n",
    "\n",
    "The Mask RCNN model returns predicted class IDs, confidence scores,\n",
    "bounding boxes coordinates and segmentation masks.\n",
    "Their shape are (batch_size, num_bboxes, 1), (batch_size, num_bboxes, 1)\n",
    "(batch_size, num_bboxes, 4), and (batch_size, num_bboxes, mask_size, mask_size)\n",
    "respectively. For the model used in this tutorial, mask_size is 14.\n",
    "\n",
    "Object Detection results\n",
    "\n",
    "We can use :py:func:`gluoncv.utils.viz.plot_bbox` to visualize the\n",
    "results. We slice the results for the first image and feed them into `plot_bbox`:\n",
    "\n",
    "Plot Segmentation\n",
    "\n",
    ":py:func:`gluoncv.utils.viz.expand_mask` will resize the segmentation mask\n",
    "and fill the bounding box size in the original image.\n",
    ":py:func:`gluoncv.utils.viz.plot_mask` will modify an image to\n",
    "overlay segmentation masks.\n",
    "\n"
   ]
  },
  {
   "cell_type": "code",
   "execution_count": null,
   "metadata": {},
   "outputs": [],
   "source": [
    "ids, scores, bboxes, masks = [xx[0].asnumpy() for xx in net(x)]\n",
    "\n",
    "# paint segmentation mask on images directly\n",
    "width, height = orig_img.shape[1], orig_img.shape[0]\n",
    "masks, _ = utils.viz.expand_mask(masks, bboxes, (width, height), scores)\n",
    "orig_img = utils.viz.plot_mask(orig_img, masks)\n",
    "\n",
    "# identical to Faster RCNN object detection\n",
    "fig = plt.figure(figsize=(10, 10))\n",
    "ax = fig.add_subplot(1, 1, 1)\n",
    "ax = utils.viz.plot_bbox(orig_img, bboxes, scores, ids,\n",
    "                         class_names=net.classes, ax=ax)\n",
    "plt.show()"
   ]
  }
 ],
 "metadata": {
  "kernelspec": {
   "display_name": "Python 3",
   "language": "python",
   "name": "python3"
  },
  "toc": {
   "base_numbering": 1,
   "nav_menu": {},
   "number_sections": true,
   "sideBar": true,
   "skip_h1_title": false,
   "title_cell": "Table of Contents",
   "title_sidebar": "Contents",
   "toc_cell": false,
   "toc_position": {},
   "toc_section_display": true,
   "toc_window_display": false
  },
  "varInspector": {
   "cols": {
    "lenName": 16,
    "lenType": 16,
    "lenVar": 40
   },
   "kernels_config": {
    "python": {
     "delete_cmd_postfix": "",
     "delete_cmd_prefix": "del ",
     "library": "var_list.py",
     "varRefreshCmd": "print(var_dic_list())"
    },
    "r": {
     "delete_cmd_postfix": ") ",
     "delete_cmd_prefix": "rm(",
     "library": "var_list.r",
     "varRefreshCmd": "cat(var_dic_list()) "
    }
   },
   "types_to_exclude": [
    "module",
    "function",
    "builtin_function_or_method",
    "instance",
    "_Feature"
   ],
   "window_display": false
  }
 },
 "nbformat": 4,
 "nbformat_minor": 1
}

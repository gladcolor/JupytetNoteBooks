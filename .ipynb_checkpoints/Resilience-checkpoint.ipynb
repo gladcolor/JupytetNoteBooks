{
 "cells": [
  {
   "cell_type": "code",
   "execution_count": 62,
   "metadata": {},
   "outputs": [],
   "source": [
    "import sklearn as sk\n",
    "import pandas as pd\n",
    "import numpy as np\n",
    "import os\n",
    "import re\n",
    "import glob\n",
    "import requests\n",
    "from dbfread import DBF\n",
    "from pyproj import CRS\n",
    "from pyproj import Transformer\n",
    "from pandas import DataFrame\n",
    "import pandas as pd\n",
    "from simpledbf import Dbf5"
   ]
  },
  {
   "cell_type": "code",
   "execution_count": 121,
   "metadata": {},
   "outputs": [
    {
     "name": "stdout",
     "output_type": "stream",
     "text": [
      "6493\n",
      "blue_collar\n",
      "old_housing\n",
      "new_house\n",
      "pop_density\n",
      "college_deg\n",
      "income\n",
      "pop_senior\n",
      "vacant_unit\n",
      "white_collar\n",
      "area\n"
     ]
    }
   ],
   "source": [
    "dbf_file = r'K:\\OneDrive_NJIT\\OneDrive - NJIT\\Research\\Resilience\\data\\New york\\SimplyAnalytics_Shapefiles_2020-07-10_03_48_19_1e328ebc91246864ceb1ce61586b3f18.dbf'\n",
    "# dbf = DBF(dbf_file, encoding='iso-8859-1')\n",
    "dbf = Dbf5(dbf_f
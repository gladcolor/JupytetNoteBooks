{
 "cells": [
  {
   "cell_type": "code",
   "execution_count": 5,
   "metadata": {},
   "outputs": [],
   "source": [
    "from owlready2 import *"
   ]
  },
  {
   "cell_type": "code",
   "execution_count": 17,
   "metadata": {},
   "outputs": [
    {
     "data": {
      "text/plain": [
       "[X:\\My Drive\\Research\\StreetGraph\\documents\\street_ontology.animal,\n",
       " X:\\My Drive\\Research\\StreetGraph\\documents\\street_ontology.street_objects,\n",
       " X:\\My Drive\\Research\\StreetGraph\\documents\\street_ontology.construction,\n",
       " X:\\My Drive\\Research\\StreetGraph\\documents\\street_ontology.flat,\n",
       " X:\\My Drive\\Research\\StreetGraph\\documents\\street_ontology.human,\n",
       " X:\\My Drive\\Research\\StreetGraph\\documents\\street_ontology.in_air,\n",
       " X:\\My Drive\\Research\\StreetGraph\\documents\\street_ontology.nature,\n",
       " X:\\My Drive\\Research\\StreetGraph\\documents\\street_ontology.text,\n",
       " X:\\My Drive\\Research\\StreetGraph\\documents\\street_ontology.things,\n",
       " X:\\My Drive\\Research\\StreetGraph\\documents\\street_ontology.under_ground,\n",
       " X:\\My Drive\\Research\\StreetGraph\\documents\\street_ontology.vertical]"
      ]
     },
     "execution_count": 17,
     "metadata": {},
     "output_type": "execute_result"
    }
   ],
   "source": [
    "onto = get_ontology(r'X:\\My Drive\\Research\\StreetGraph\\documents\\street_ontology.owl')\n",
    "# onto = get_ontology(r'K:\\temp\\pizza_ontology.owl')\n",
    "onto.load()\n",
    "list(onto.classes())"
   ]
  },
  {
   "cell_type": "code",
   "execution_count": 22,
   "metadata": {},
   "outputs": [
    {
     "data": {
      "text/plain": [
       "[X:\\My Drive\\Research\\StreetGraph\\documents\\street_ontology.flat,\n",
       " X:\\My Drive\\Research\\StreetGraph\\documents\\street_ontology.in_air,\n",
       " X:\\My Drive\\Research\\StreetGraph\\documents\\street_ontology.under_ground,\n",
       " X:\\My Drive\\Research\\StreetGraph\\documents\\street_ontology.vertical]"
      ]
     },
     "execution_count": 22,
     "metadata": {},
     "output_type": "execute_result"
    }
   ],
   "source": [
    "list(onto['construction'].subclasses())"
   ]
  },
  {
   "cell_type": "code",
   "execution_count": 25,
   "metadata": {},
   "outputs": [
    {
     "data": {
      "text/plain": [
       "[X:\\My Drive\\Research\\StreetGraph\\documents\\street_ontology.in_air]"
      ]
     },
     "execution_count": 25,
     "metadata": {},
     "output_type": "execute_result"
    }
   ],
   "source": [
    "onto.search(iri = \"*in_air\")"
   ]
  },
  {
   "cell_type": "code",
   "execution_count": 37,
   "metadata": {},
   "outputs": [
    {
     "name": "stdout",
     "output_type": "stream",
     "text": [
      "X:\\My Drive\\Research\\StreetGraph\\documents\\street_ontology.under_ground\n"
     ]
    }
   ],
   "source": [
    "print(onto.search_one(is_a = onto['under_ground']))"
   ]
  },
  {
   "cell_type": "code",
   "execution_count": 19,
   "metadata": {},
   "outputs": [
    {
     "ename": "AttributeError",
     "evalue": "'str' object has no attribute 'storid'",
     "output_type": "error",
     "traceback": [
      "\u001b[1;31m---------------------------------------------------------------------------\u001b[0m",
      "\u001b[1;31mAttributeError\u001b[0m                            Traceback (most recent call last)",
      "\u001b[1;32m<ipython-input-19-1935fca34209>\u001b[0m in \u001b[0;36m<module>\u001b[1;34m\u001b[0m\n\u001b[1;32m----> 1\u001b[1;33m \u001b[0monto\u001b[0m\u001b[1;33m.\u001b[0m\u001b[0mget_parents_of\u001b[0m\u001b[1;33m(\u001b[0m\u001b[1;34m\"things\"\u001b[0m\u001b[1;33m)\u001b[0m\u001b[1;33m\u001b[0m\u001b[1;33m\u001b[0m\u001b[0m\n\u001b[0m",
      "\u001b[1;32mD:\\Anaconda3\\lib\\site-packages\\owlready2\\namespace.py\u001b[0m in \u001b[0;36mget_parents_of\u001b[1;34m(self, entity)\u001b[0m\n\u001b[0;32m   1095\u001b[0m       \u001b[0mt\u001b[0m \u001b[1;33m=\u001b[0m \u001b[0mself\u001b[0m\u001b[1;33m.\u001b[0m\u001b[0m_get_obj_triples_sp_o\u001b[0m\u001b[1;33m(\u001b[0m\u001b[0mentity\u001b[0m\u001b[1;33m.\u001b[0m\u001b[0mstorid\u001b[0m\u001b[1;33m,\u001b[0m \u001b[0mrdf_type\u001b[0m\u001b[1;33m)\u001b[0m\u001b[1;33m\u001b[0m\u001b[1;33m\u001b[0m\u001b[0m\n\u001b[0;32m   1096\u001b[0m     \u001b[1;32melse\u001b[0m\u001b[1;33m:\u001b[0m\u001b[1;33m\u001b[0m\u001b[1;33m\u001b[0m\u001b[0m\n\u001b[1;32m-> 1097\u001b[1;33m       \u001b[0mt\u001b[0m \u001b[1;33m=\u001b[0m \u001b[0mself\u001b[0m\u001b[1;33m.\u001b[0m\u001b[0m_get_obj_triples_sp_o\u001b[0m\u001b[1;33m(\u001b[0m\u001b[0mentity\u001b[0m\u001b[1;33m.\u001b[0m\u001b[0mstorid\u001b[0m\u001b[1;33m,\u001b[0m \u001b[0mentity\u001b[0m\u001b[1;33m.\u001b[0m\u001b[0m_rdfs_is_a\u001b[0m\u001b[1;33m)\u001b[0m\u001b[1;33m\u001b[0m\u001b[1;33m\u001b[0m\u001b[0m\n\u001b[0m\u001b[0;32m   1098\u001b[0m     \u001b[0mr\u001b[0m \u001b[1;33m=\u001b[0m \u001b[1;33m[\u001b[0m\u001b[1;33m]\u001b[0m\u001b[1;33m\u001b[0m\u001b[1;33m\u001b[0m\u001b[0m\n\u001b[0;32m   1099\u001b[0m     \u001b[1;32mfor\u001b[0m \u001b[0mo\u001b[0m \u001b[1;32min\u001b[0m \u001b[0mt\u001b[0m\u001b[1;33m:\u001b[0m\u001b[1;33m\u001b[0m\u001b[1;33m\u001b[0m\u001b[0m\n",
      "\u001b[1;31mAttributeError\u001b[0m: 'str' object has no attribute 'storid'"
     ]
    }
   ],
   "source": [
    "onto.get_parents_of(\"things\")"
   ]
  }
 ],
 "metadata": {
  "kernelspec": {
   "display_name": "Python 3",
   "language": "python",
   "name": "python3"
  },
  "language_info": {
   "codemirror_mode": {
    "name": "ipython",
    "version": 3
   },
   "file_extension": ".py",
   "mimetype": "text/x-python",
   "name": "python",
   "nbconvert_exporter": "python",
   "pygments_lexer": "ipython3",
   "version": "3.7.4"
  },
  "toc": {
   "base_numbering": 1,
   "nav_menu": {},
   "number_sections": true,
   "sideBar": true,
   "skip_h1_title": false,
   "title_cell": "Table of Contents",
   "title_sidebar": "Contents",
   "toc_cell": false,
   "toc_position": {},
   "toc_section_display": true,
   "toc_window_display": false
  },
  "varInspector": {
   "cols": {
    "lenName": 16,
    "lenType": 16,
    "lenVar": 40
   },
   "kernels_config": {
    "python": {
     "delete_cmd_postfix": "",
     "delete_cmd_prefix": "del ",
     "library": "var_list.py",
     "varRefreshCmd": "print(var_dic_list())"
    },
    "r": {
     "delete_cmd_postfix": ") ",
     "delete_cmd_prefix": "rm(",
     "library": "var_list.r",
     "varRefreshCmd": "cat(var_dic_list()) "
    }
   },
   "types_to_exclude": [
    "module",
    "function",
    "builtin_function_or_method",
    "instance",
    "_Feature"
   ],
   "window_display": false
  }
 },
 "nbformat": 4,
 "nbformat_minor": 4
}

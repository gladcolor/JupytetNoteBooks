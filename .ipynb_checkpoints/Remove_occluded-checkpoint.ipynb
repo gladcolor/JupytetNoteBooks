{
 "cells": [
  {
   "cell_type": "markdown",
   "metadata": {},
   "source": [
    "# Get segmentation\n",
    "\n",
    "About MXNet:\n",
    "https://gluon-cv.mxnet.io/build/examples_segmentation/demo_psp.html#sphx-glr-build-examples-segmentation-demo-psp-py    "
   ]
  },
  {
   "cell_type": "code",
   "execution_count": 1,
   "metadata": {},
   "outputs": [
    {
     "name": "stdout",
     "output_type": "stream",
     "text": [
      "self.crop_size 480\n"
     ]
    }
   ],
   "source": [
    "import mxnet as mx\n",
    "from mxnet import image\n",
    "from mxnet.gluon.data.vision import transforms\n",
    "from gluoncv.data.transforms.presets.segmentation import test_transform\n",
    "from matplotlib import pyplot as plt\n",
    "import glob\n",
    "import gluoncv\n",
    "from skimage import io\n",
    "import mxnet as mx\n",
    "from mxnet import image\n",
    "from gluoncv.utils.viz import get_color_pallete\n",
    "import matplotlib.image as mpimg\n",
    "import glob\n",
    "import os\n",
    "\n",
    "import mxnet as mx\n",
    "from mxnet import image\n",
    "from mxnet.gluon.data.vision import transforms\n",
    "from gluoncv.data.transforms.presets.segmentation import test_transform\n",
    "from matplotlib import pyplot as plt\n",
    "import gluoncv\n",
    "import numpy\n",
    "from PIL import Image\n",
    "\n",
    "\n",
    "model = gluoncv.model_zoo.get_model('psp_resnet101_ade', pretrained=True, ctx=mx.gpu(0))\n",
    "ctx = mx.gpu(0)\n",
    "import numpy\n",
    "from PIL import Image\n",
    "\n",
    "import sklearn as sk\n",
    "import pandas as pd\n",
    "import numpy as np\n",
    "import os\n",
    "import re\n",
    "import glob\n",
    "import requests\n",
    "from dbfread import DBF\n",
    "from pyproj import CRS\n",
    "from pyproj import Transformer\n",
    "from pandas import DataFrame\n",
    "import pandas as pd\n",
    "from simpledbf import Dbf5"
   ]
  },
  {
   "cell_type": "code",
   "execution_count": 35,
   "metadata": {},
   "outputs": [
    {
     "name": "stdout",
     "output_type": "stream",
     "text": [
      "len of test_files: 5\n",
      "before sampling: 5\n",
      "after sampling: 5\n",
      "Processed:  0\n",
      "Processed:  1\n",
      "Processed:  2\n",
      "Processed:  3\n",
      "Processed:  4\n"
     ]
    }
   ],
   "source": [
    "from natsort import natsorted  # Huan\n",
    "\n",
    "image_dir = r'..\\test_images'\n",
    "file_ext = \"*.jpg\"\n",
    "\n",
    "saved_path = r'..\\test_images_segmentations'\n",
    "if not os.path.exists(saved_path):\n",
    "    os.mkdir(saved_path)\n",
    "\n",
    "test_files = glob.glob(os.path.join(image_dir, file_ext))\n",
    "\n",
    "test_files = natsorted(test_files)\n",
    "\n",
    "print(\"len of test_files:\", len(test_files))\n",
    "\n",
    "\n",
    "import random\n",
    "print(\"before sampling:\", len(test_files))\n",
    "sample_number = len(test_files)\n",
    "test_files = random.sample(test_files, sample_number)\n",
    "print(\"after sampling:\", len(test_files))\n",
    "\n",
    "for idx, filename in enumerate(test_files):\n",
    "    try:\n",
    "        img = image.imread(filename)\n",
    "        if img.shape[0] > 1023:\n",
    "            img = image.resize_short(img, 1024) \n",
    "#         img = image.resize_short(img, 100)\n",
    "        \n",
    "#         print(\"filename: \", filename)\n",
    "#         ctx = mx.gpu(0)\n",
    "\n",
    "        img = test_transform(img, ctx)\n",
    "  \n",
    "        output = model.predict(img)\n",
    "        \n",
    " \n",
    "        \n",
    "        predict = mx.nd.squeeze(mx.nd.argmax(output, 1)).asnumpy()\n",
    "\n",
    " \n",
    "        mask = get_color_pallete(predict, 'ade20k')\n",
    "\n",
    "        #predict.save('predict.png')\n",
    "        #mmask = mpimg.imread('output.png')\n",
    "        predict = predict.astype(numpy.uint8)\n",
    "        new_basename = os.path.basename(filename).replace(\".jpg\", \".png\")\n",
    "        new_name = os.path.join(saved_path, new_basename)\n",
    "        io.imsave(new_name, predict)\n",
    "        new_basename = os.path.basename(filename).replace(\".jpg\", \"_color.png\")\n",
    "        new_name = os.path.join(saved_path, new_basename)\n",
    "        mask.save(new_name)\n",
    "        if idx % 1 == 0:\n",
    "            print(\"Processed: \", idx)\n",
    "    except Exception as e:\n",
    "        print(\"Error in PSPNet:\",filename, e)\n",
    "        continue"
   ]
  },
  {
   "cell_type": "markdown",
   "metadata": {},
   "source": [
    "#  ADE20K class list:\n",
    "https://github.com/CSAILVision/sceneparsing/blob/master/objectInfo150.csv\n"
   ]
  },
  {
   "cell_type": "markdown",
   "metadata": {},
   "source": [
    "# Remove occluded "
   ]
  },
  {
   "cell_type": "markdown",
   "metadata": {},
   "source": [
    "## Read PNGs"
   ]
  },
  {
   "cell_type": "code",
   "execution_count": 36,
   "metadata": {},
   "outputs": [
    {
     "data": {
      "text/plain": [
       "['..\\\\test_images_segmentations\\\\60_zh7uCC1KLkIzHORYwIVlIQ_205.13_color.png',\n",
       " '..\\\\test_images_segmentations\\\\98_WHmViscF_6leDhpZLosXSQ_326.26_color.png',\n",
       " '..\\\\test_images_segmentations\\\\99_knxYmIUR3lddp9sbVp1x2w_218.7_color.png',\n",
       " '..\\\\test_images_segmentations\\\\100_oUUwCL6RJ53TmRjrP5u1SQ_32.55_color.png',\n",
       " '..\\\\test_images_segmentations\\\\101_ZfvvGESbNnVG8yFN9PORqQ_24.2_color.png']"
      ]
     },
     "execution_count": 36,
     "metadata": {},
     "output_type": "execute_result"
    }
   ],
   "source": [
    "import glob\n",
    "import PIL\n",
    "import numpy as np\n",
    "from PIL import Image\n",
    "from natsort import natsorted\n",
    "import matplotlib.pyplot as plt\n",
    "\n",
    "folder = os.path.join(saved_path, '*.png')\n",
    "files = glob.glob(folder)\n",
    "\n",
    "files_png = []\n",
    "\n",
    "for f in files:\n",
    "    if  \"_color.png\" in f:\n",
    "        files_png.append(f)\n",
    "        \n",
    "files_png = natsorted(files_png)\n",
    "files_png"
   ]
  },
  {
   "cell_type": "markdown",
   "metadata": {},
   "source": [
    "##  ADE20k Code\n",
    "2: building, edifice\n",
    "\n",
    "3: sky\n",
    "\n",
    "5：tree\n",
    "\n",
    "10: grass\n",
    "\n",
    "18: plant;flora;plant;life\n",
    "\n",
    "26: house\n",
    "\n",
    "73: palm;palm;tree"
   ]
  },
  {
   "cell_type": "markdown",
   "metadata": {},
   "source": [
    "## remove"
   ]
  },
  {
   "cell_type": "code",
   "execution_count": 38,
   "metadata": {},
   "outputs": [
    {
     "name": "stderr",
     "output_type": "stream",
     "text": [
      "\r",
      "  0%|                                                                                            | 0/5 [00:00<?, ?it/s]"
     ]
    },
    {
     "data": {
      "image/png": "[encoded data removed]",
      "text/plain": [
       "<Figure size 432x288 with 1 Axes>"
      ]
     },
     "metadata": {
      "needs_background": "light"
     },
     "output_type": "display_data"
    },
    {
     "name": "stderr",
     "output_type": "stream",
     "text": [
      "\r",
      " 20%|████████████████▊                                                                   | 1/5 [00:00<00:00,  4.83it/s]"
     ]
    },
    {
     "name": "stdout",
     "output_type": "stream",
     "text": [
      "old_name :  ..\\test_images\\60_zh7uCC1KLkIzHORYwIVlIQ_205.13.jpg\n",
      "New name:  ..\\image_move_to_here\\60_zh7uCC1KLkIzHORYwIVlIQ_205.13.jpg\n",
      "Moved file to:  ..\\image_move_to_here\\60_zh7uCC1KLkIzHORYwIVlIQ_205.13.jpg\n"
     ]
    },
    {
     "data": {
      "image/png": "[encoded data removed]",
      "text/plain": [
       "<Figure size 432x288 with 1 Axes>"
      ]
     },
     "metadata": {
      "needs_background": "light"
     },
     "output_type": "display_data"
    },
    {
     "name": "stderr",
     "output_type": "stream",
     "text": [
      "\r",
      " 40%|█████████████████████████████████▌                                                  | 2/5 [00:00<00:00,  4.95it/s]"
     ]
    },
    {
     "data": {
      "image/png": "[encoded data removed]",
      "text/plain": [
       "<Figure size 432x288 with 1 Axes>"
      ]
     },
     "metadata": {
      "needs_background": "light"
     },
     "output_type": "display_data"
    },
    {
     "name": "stderr",
     "output_type": "stream",
     "text": [
      "\r",
      " 60%|██████████████████████████████████████████████████▍                                 | 3/5 [00:00<00:00,  5.23it/s]"
     ]
    },
    {
     "data": {
      "image/png": "[encoded data removed]",
      "text/plain": [
       "<Figure size 432x288 with 1 Axes>"
      ]
     },
     "metadata": {
      "needs_background": "light"
     },
     "output_type": "display_data"
    },
    {
     "name": "stderr",
     "output_type": "stream",
     "text": [
      "\r",
      " 80%|███████████████████████████████████████████████████████████████████▏                | 4/5 [00:00<00:00,  5.41it/s]"
     ]
    },
    {
     "data": {
      "image/png": "[encoded data removed]",
      "text/plain": [
       "<Figure size 432x288 with 1 Axes>"
      ]
     },
     "metadata": {
      "needs_background": "light"
     },
     "output_type": "display_data"
    },
    {
     "name": "stderr",
     "output_type": "stream",
     "text": [
      "100%|████████████████████████████████████████████████████████████████████████████████████| 5/5 [00:00<00:00,  5.50it/s]\n"
     ]
    }
   ],
   "source": [
    "import shutil\n",
    "import os\n",
    "from tqdm import tqdm\n",
    "\n",
    " \n",
    "move_to_dir = r'..\\image_move_to_here'\n",
    "if not os.path.exists(move_to_dir):\n",
    "    os.mkdir(move_to_dir)\n",
    "\n",
    "for png in tqdm(files_png[:]):\n",
    "#     print(png)\n",
    "    img = Image.open(png)\n",
    "#     plt.imshow(img)\n",
    "#     plt.show()\n",
    "    \n",
    "    img = np.array(img)\n",
    "    \n",
    "    h = 1024\n",
    "    w = 1024\n",
    "    \n",
    "    clip_img = img[0:int(h/2), int(h/3):int(h*2/3)]  # just calculate the central part of the image\n",
    "    \n",
    "    hist = np.histogram(clip_img, range(153))\n",
    "    \n",
    "    plt.imshow(clip_img)\n",
    "    plt.show()\n",
    "    \n",
    "#     print(img)\n",
    "#     print(hist[0])\n",
    "#     print(hist[0].sum())\n",
    "#     print(\"wall:\", hist[0][1])\n",
    "#     print(\"building:\", hist[0][2])\n",
    "#     print(\"tree:\", hist[0][5])\n",
    "#     print(\"grass:\", hist[0][10])\n",
    "#     print(\"plant:\", hist[0][18])\n",
    "#     print(\"house:\", hist[0][26])\n",
    "#     print(\"palm;palm;tree:\", hist[0][73])\n",
    "    \n",
    "    house_cnt =  hist[0][1] + hist[0][2] + hist[0][26]\n",
    "    tree_cnt =  hist[0][5] + hist[0][18] + hist[0][73]\n",
    "     \n",
    "    house_pixel_enlarge_ratio = 1.5\n",
    "    if tree_cnt > (house_cnt * house_pixel_enlarge_ratio):     \n",
    "        basename = os.path.basename(png)\n",
    "        basename = basename.replace('_color.png', '.jpg')\n",
    "#         print(\"basename : \", basename)\n",
    "\n",
    "        old_name = os.path.join(image_dir, basename)\n",
    "        new_name = os.path.join(move_to_dir, basename)\n",
    "        print(\"old_name : \", old_name)\n",
    "        print(\"New name: \", new_name)\n",
    "#         print(\"house_cnt, tree_cnt: \", house_cnt,  ', ',  tree_cnt)\n",
    "        shutil.copy(old_name, new_name)\n",
    "        print(\"copy file to: \", new_name)\n",
    "        \n",
    "#         plt.imshow(clip_img)\n",
    "#         plt.show()\n",
    "        "
   ]
  },
  {
   "cell_type": "code",
   "execution_count": null,
   "metadata": {},
   "outputs": [],
   "source": []
  },
  {
   "cell_type": "code",
   "execution_count": null,
   "metadata": {},
   "outputs": [],
   "source": []
  },
  {
   "cell_type": "code",
   "execution_count": null,
   "metadata": {},
   "outputs": [],
   "source": []
  },
  {
   "cell_type": "code",
   "execution_count": null,
   "metadata": {},
   "outputs": [],
   "source": []
  }
 ],
 "metadata": {
  "kernelspec": {
   "display_name": "Python [conda env:root] *",
   "language": "python",
   "name": "conda-root-py"
  },
  "language_info": {
   "codemirror_mode": {
    "name": "ipython",
    "version": 3
   },
   "file_extension": ".py",
   "mimetype": "text/x-python",
   "name": "python",
   "nbconvert_exporter": "python",
   "pygments_lexer": "ipython3",
   "version": "3.7.4"
  },
  "toc": {
   "base_numbering": 1,
   "nav_menu": {},
   "number_sections": true,
   "sideBar": true,
   "skip_h1_title": false,
   "title_cell": "Table of Contents",
   "title_sidebar": "Contents",
   "toc_cell": false,
   "toc_position": {},
   "toc_section_display": true,
   "toc_window_display": true
  },
  "varInspector": {
   "cols": {
    "lenName": 16,
    "lenType": 16,
    "lenVar": 40
   },
   "kernels_config": {
    "python": {
     "delete_cmd_postfix": "",
     "delete_cmd_prefix": "del ",
     "library": "var_list.py",
     "varRefreshCmd": "print(var_dic_list())"
    },
    "r": {
     "delete_cmd_postfix": ") ",
     "delete_cmd_prefix": "rm(",
     "library": "var_list.r",
     "varRefreshCmd": "cat(var_dic_list()) "
    }
   },
   "types_to_exclude": [
    "module",
    "function",
    "builtin_function_or_method",
    "instance",
    "_Feature"
   ],
   "window_display": false
  }
 },
 "nbformat": 4,
 "nbformat_minor": 4
}

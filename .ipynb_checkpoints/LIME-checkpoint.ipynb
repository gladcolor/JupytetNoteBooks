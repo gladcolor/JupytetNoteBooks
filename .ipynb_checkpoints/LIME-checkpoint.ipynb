{
 "cells": [
  {
   "cell_type": "code",
   "execution_count": 63,
   "metadata": {},
   "outputs": [],
   "source": [
    "import matplotlib.pyplot as plt\n",
    "from PIL import Image\n",
    "import torch.nn as nn\n",
    "import numpy as np\n",
    "import os, json, glob\n",
    "\n",
    "import torch\n",
    "from torchvision import models, transforms\n",
    "from torch.autograd import Variable\n",
    "import torch.nn.functional as F\n",
    "import sys\n",
    "from lime import lime_image\n",
    "from skimage.segmentation import mark_boundaries\n"
   ]
  },
  {
   "cell_type": "code",
   "execution_count": 78,
   "metadata": {},
   "outputs": [],
   "source": [
    "# resize and take the center part of image to what our model expects\n",
    "def get_input_transform():\n",
    "    normalize = transforms.Normalize(mean=[0.485, 0.456, 0.406],\n",
    "                                    std=[0.229, 0.224, 0.225])       \n",
    "    transf = transforms.Compose([\n",
    "        transforms.Resize((256, 256)),\n",
    "        transforms.CenterCrop(224),\n",
    "        transforms.ToTensor(),\n",
    "        normalize\n",
    "    ])    \n",
    "\n",
    "    return transf\n",
    "\n",
    "def get_input_tensors(img):\n",
    "    transf = get_input_transform()\n",
    "    \n",
    "    img2 = transf(img).unsqueeze(0)\n",
    "    # unsqeeze converts single image to batch of 1\n",
    "    \n",
    "#     device = torch.device(\"cuda\" if torch.cuda.is_available() else \"cpu\")\n",
    "#     model.to(device)\n",
    "#     img = img.to(device)\n",
    "    \n",
    "    return img2\n",
    "\n",
    "def get_pil_transform(): \n",
    "    transf = transforms.Compose([\n",
    "        transforms.Resize((256, 256)),\n",
    "        transforms.CenterCrop(224)\n",
    "    ])    \n",
    "\n",
    "    return transf\n",
    "\n",
    "def get_preprocess_transform():\n",
    "    normalize = transforms.Normalize(mean=[0.485, 0.456, 0.406],\n",
    "                                    std=[0.229, 0.224, 0.225])     \n",
    "    transf = transforms.Compose([\n",
    "        transforms.ToTensor(),\n",
    "        normalize\n",
    "    ])    \n",
    "\n",
    "    return transf    \n",
    "\n",
    "def batch_predict(images):\n",
    "    model.eval()\n",
    "    batch = torch.stack(tuple(preprocess_transform(i) for i in images), dim=0)\n",
    "\n",
    "    device = torch.device(\"cuda\" if torch.cuda.is_available() else \"cpu\")\n",
    "    model.to(device)\n",
    "    batch = batch.to(device)\n",
    "    \n",
    "    logits = model(batch)\n",
    "    probs = F.softmax(logits, dim=1)\n",
    "    return probs.detach().cpu().numpy()\n",
    "\n",
    "def get_image(path):\n",
    "    with open(os.path.abspath(path), 'rb') as f:\n",
    "        with Image.open(f) as img:\n",
    "            return img.convert('RGB') "
   ]
  },
  {
   "cell_type": "code",
   "execution_count": 81,
   "metadata": {},
   "outputs": [
    {
     "data": {
      "text/plain": [
       "ResNet(\n",
       "  (conv1): Conv2d(3, 64, kernel_size=(7, 7), stride=(2, 2), padding=(3, 3), bias=False)\n",
       "  (bn1): BatchNorm2d(64, eps=1e-05, momentum=0.1, affine=True, track_running_stats=True)\n",
       "  (relu): ReLU(inplace=True)\n",
       "  (maxpool): MaxPool2d(kernel_size=3, stride=2, padding=1, dilation=1, ceil_mode=False)\n",
       "  (layer1): Sequential(\n",
       "    (0): Bottleneck(\n",
       "      (conv1): Conv2d(64, 64, kernel_size=(1, 1), stride=(1, 1), bias=False)\n",
       "      (bn1): BatchNorm2d(64, eps=1e-05, momentum=0.1, affine=True, track_running_stats=True)\n",
       "      (conv2): Conv2d(64, 64, kernel_size=(3, 3), stride=(1, 1), padding=(1, 1), bias=False)\n",
       "      (bn2): BatchNorm2d(64, eps=1e-05, momentum=0.1, affine=True, track_running_stats=True)\n",
       "      (conv3): Conv2d(64, 256, kernel_size=(1, 1), stride=(1, 1), bias=False)\n",
       "      (bn3): BatchNorm2d(256, eps=1e-05, momentum=0.1, affine=True, track_running_stats=True)\n",
       "      (relu): ReLU(inplace=True)\n",
       "      (downsample): Sequential(\n",
       "        (0): Conv2d(64, 256, kernel_size=(1, 1), stride=(1, 1), bias=False)\n",
       "        (1): BatchNorm2d(256, eps=1e-05, momentum=0.1, affine=True, track_running_stats=True)\n",
       "      )\n",
       "    )\n",
       "    (1): Bottleneck(\n",
       "      (conv1): Conv2d(256, 64, kernel_size=(1, 1), stride=(1, 1), bias=False)\n",
       "      (bn1): BatchNorm2d(64, eps=1e-05, momentum=0.1, affine=True, track_running_stats=True)\n",
       "      (conv2): Conv2d(64, 64, kernel_size=(3, 3), stride=(1, 1), padding=(1, 1), bias=False)\n",
       "      (bn2): BatchNorm2d(64, eps=1e-05, momentum=0.1, affine=True, track_running_stats=True)\n",
       "      (conv3): Conv2d(64, 256, kernel_size=(1, 1), stride=(1, 1), bias=False)\n",
       "      (bn3): BatchNorm2d(256, eps=1e-05, momentum=0.1, affine=True, track_running_stats=True)\n",
       "      (relu): ReLU(inplace=True)\n",
       "    )\n",
       "    (2): Bottleneck(\n",
       "      (conv1): Conv2d(256, 64, kernel_size=(1, 1), stride=(1, 1), bias=False)\n",
       "      (bn1): BatchNorm2d(64, eps=1e-05, momentum=0.1, affine=True, track_running_stats=True)\n",
       "      (conv2): Conv2d(64, 64, kernel_size=(3, 3), stride=(1, 1), padding=(1, 1), bias=False)\n",
       "      (bn2): BatchNorm2d(64, eps=1e-05, momentum=0.1, affine=True, track_running_stats=True)\n",
       "      (conv3): Conv2d(64, 256, kernel_size=(1, 1), stride=(1, 1), bias=False)\n",
       "      (bn3): BatchNorm2d(256, eps=1e-05, momentum=0.1, affine=True, track_running_stats=True)\n",
       "      (relu): ReLU(inplace=True)\n",
       "    )\n",
       "  )\n",
       "  (layer2): Sequential(\n",
       "    (0): Bottleneck(\n",
       "      (conv1): Conv2d(256, 128, kernel_size=(1, 1), stride=(1, 1), bias=False)\n",
       "      (bn1): BatchNorm2d(128, eps=1e-05, momentum=0.1, affine=True, track_running_stats=True)\n",
       "      (conv2): Conv2d(128, 128, kernel_size=(3, 3), stride=(2, 2), padding=(1, 1), bias=False)\n",
       "      (bn2): BatchNorm2d(128, eps=1e-05, momentum=0.1, affine=True, track_running_stats=True)\n",
       "      (conv3): Conv2d(128, 512, kernel_size=(1, 1), stride=(1, 1), bias=False)\n",
       "      (bn3): BatchNorm2d(512, eps=1e-05, momentum=0.1, affine=True, track_running_stats=True)\n",
       "      (relu): ReLU(inplace=True)\n",
       "      (downsample): Sequential(\n",
       "        (0): Conv2d(256, 512, kernel_size=(1, 1), stride=(2, 2), bias=False)\n",
       "        (1): BatchNorm2d(512, eps=1e-05, momentum=0.1, affine=True, track_running_stats=True)\n",
       "      )\n",
       "    )\n",
       "    (1): Bottleneck(\n",
       "      (conv1): Conv2d(512, 128, kernel_size=(1, 1), stride=(1, 1), bias=False)\n",
       "      (bn1): BatchNorm2d(128, eps=1e-05, momentum=0.1, affine=True, track_running_stats=True)\n",
       "      (conv2): Conv2d(128, 128, kernel_size=(3, 3), stride=(1, 1), padding=(1, 1), bias=False)\n",
       "      (bn2): BatchNorm2d(128, eps=1e-05, momentum=0.1, affine=True, track_running_stats=True)\n",
       "      (conv3): Conv2d(128, 512, kernel_size=(1, 1), stride=(1, 1), bias=False)\n",
       "      (bn3): BatchNorm2d(512, eps=1e-05, momentum=0.1, affine=True, track_running_stats=True)\n",
       "      (relu): ReLU(inplace=True)\n",
       "    )\n",
       "    (2): Bottleneck(\n",
       "      (conv1): Conv2d(512, 128, kernel_size=(1, 1), stride=(1, 1), bias=False)\n",
       "      (bn1): BatchNorm2d(128, eps=1e-05, momentum=0.1, affine=True, track_running_stats=True)\n",
       "      (conv2): Conv2d(128, 128, kernel_size=(3, 3), stride=(1, 1), padding=(1, 1), bias=False)\n",
       "      (bn2): BatchNorm2d(128, eps=1e-05, momentum=0.1, affine=True, track_running_stats=True)\n",
       "      (conv3): Conv2d(128, 512, kernel_size=(1, 1), stride=(1, 1), bias=False)\n",
       "      (bn3): BatchNorm2d(512, eps=1e-05, momentum=0.1, affine=True, track_running_stats=True)\n",
       "      (relu): ReLU(inplace=True)\n",
       "    )\n",
       "    (3): Bottleneck(\n",
       "      (conv1): Conv2d(512, 128, kernel_size=(1, 1), stride=(1, 1), bias=False)\n",
       "      (bn1): BatchNorm2d(128, eps=1e-05, momentum=0.1, affine=True, track_running_stats=True)\n",
       "      (conv2): Conv2d(128, 128, kernel_size=(3, 3), stride=(1, 1), padding=(1, 1), bias=False)\n",
       "      (bn2): BatchNorm2d(128, eps=1e-05, momentum=0.1, affine=True, track_running_stats=True)\n",
       "      (conv3): Conv2d(128, 512, kernel_size=(1, 1), stride=(1, 1), bias=False)\n",
       "      (bn3): BatchNorm2d(512, eps=1e-05, momentum=0.1, affine=True, track_running_stats=True)\n",
       "      (relu): ReLU(inplace=True)\n",
       "    )\n",
       "  )\n",
       "  (layer3): Sequential(\n",
       "    (0): Bottleneck(\n",
       "      (conv1): Conv2d(512, 256, kernel_size=(1, 1), stride=(1, 1), bias=False)\n",
       "      (bn1): BatchNorm2d(256, eps=1e-05, momentum=0.1, affine=True, track_running_stats=True)\n",
       "      (conv2): Conv2d(256, 256, kernel_size=(3, 3), stride=(2, 2), padding=(1, 1), bias=False)\n",
       "      (bn2): BatchNorm2d(256, eps=1e-05, momentum=0.1, affine=True, track_running_stats=True)\n",
       "      (conv3): Conv2d(256, 1024, kernel_size=(1, 1), stride=(1, 1), bias=False)\n",
       "      (bn3): BatchNorm2d(1024, eps=1e-05, momentum=0.1, affine=True, track_running_stats=True)\n",
       "      (relu): ReLU(inplace=True)\n",
       "      (downsample): Sequential(\n",
       "        (0): Conv2d(512, 1024, kernel_size=(1, 1), stride=(2, 2), bias=False)\n",
       "        (1): BatchNorm2d(1024, eps=1e-05, momentum=0.1, affine=True, track_running_stats=True)\n",
       "      )\n",
       "    )\n",
       "    (1): Bottleneck(\n",
       "      (conv1): Conv2d(1024, 256, kernel_size=(1, 1), stride=(1, 1), bias=False)\n",
       "      (bn1): BatchNorm2d(256, eps=1e-05, momentum=0.1, affine=True, track_running_stats=True)\n",
       "      (conv2): Conv2d(256, 256, kernel_size=(3, 3), stride=(1, 1), padding=(1, 1), bias=False)\n",
       "      (bn2): BatchNorm2d(256, eps=1e-05, momentum=0.1, affine=True, track_running_stats=True)\n",
       "      (conv3): Conv2d(256, 1024, kernel_size=(1, 1), stride=(1, 1), bias=False)\n",
       "      (bn3): BatchNorm2d(1024, eps=1e-05, momentum=0.1, affine=True, track_running_stats=True)\n",
       "      (relu): ReLU(inplace=True)\n",
       "    )\n",
       "    (2): Bottleneck(\n",
       "      (conv1): Conv2d(1024, 256, kernel_size=(1, 1), stride=(1, 1), bias=False)\n",
       "      (bn1): BatchNorm2d(256, eps=1e-05, momentum=0.1, affine=True, track_running_stats=True)\n",
       "      (conv2): Conv2d(256, 256, kernel_size=(3, 3), stride=(1, 1), padding=(1, 1), bias=False)\n",
       "      (bn2): BatchNorm2d(256, eps=1e-05, momentum=0.1, affine=True, track_running_stats=True)\n",
       "      (conv3): Conv2d(256, 1024, kernel_size=(1, 1), stride=(1, 1), bias=False)\n",
       "      (bn3): BatchNorm2d(1024, eps=1e-05, momentum=0.1, affine=True, track_running_stats=True)\n",
       "      (relu): ReLU(inplace=True)\n",
       "    )\n",
       "    (3): Bottleneck(\n",
       "      (conv1): Conv2d(1024, 256, kernel_size=(1, 1), stride=(1, 1), bias=False)\n",
       "      (bn1): BatchNorm2d(256, eps=1e-05, momentum=0.1, affine=True, track_running_stats=True)\n",
       "      (conv2): Conv2d(256, 256, kernel_size=(3, 3), stride=(1, 1), padding=(1, 1), bias=False)\n",
       "      (bn2): BatchNorm2d(256, eps=1e-05, momentum=0.1, affine=True, track_running_stats=True)\n",
       "      (conv3): Conv2d(256, 1024, kernel_size=(1, 1), stride=(1, 1), bias=False)\n",
       "      (bn3): BatchNorm2d(1024, eps=1e-05, momentum=0.1, affine=True, track_running_stats=True)\n",
       "      (relu): ReLU(inplace=True)\n",
       "    )\n",
       "    (4): Bottleneck(\n",
       "      (conv1): Conv2d(1024, 256, kernel_size=(1, 1), stride=(1, 1), bias=False)\n",
       "      (bn1): BatchNorm2d(256, eps=1e-05, momentum=0.1, affine=True, track_running_stats=True)\n",
       "      (conv2): Conv2d(256, 256, kernel_size=(3, 3), stride=(1, 1), padding=(1, 1), bias=False)\n",
       "      (bn2): BatchNorm2d(256, eps=1e-05, momentum=0.1, affine=True, track_running_stats=True)\n",
       "      (conv3): Conv2d(256, 1024, kernel_size=(1, 1), stride=(1, 1), bias=False)\n",
       "      (bn3): BatchNorm2d(1024, eps=1e-05, momentum=0.1, affine=True, track_running_stats=True)\n",
       "      (relu): ReLU(inplace=True)\n",
       "    )\n",
       "    (5): Bottleneck(\n",
       "      (conv1): Conv2d(1024, 256, kernel_size=(1, 1), stride=(1, 1), bias=False)\n",
       "      (bn1): BatchNorm2d(256, eps=1e-05, momentum=0.1, affine=True, track_running_stats=True)\n",
       "      (conv2): Conv2d(256, 256, kernel_size=(3, 3), stride=(1, 1), padding=(1, 1), bias=False)\n",
       "      (bn2): BatchNorm2d(256, eps=1e-05, momentum=0.1, affine=True, track_running_stats=True)\n",
       "      (conv3): Conv2d(256, 1024, kernel_size=(1, 1), stride=(1, 1), bias=False)\n",
       "      (bn3): BatchNorm2d(1024, eps=1e-05, momentum=0.1, affine=True, track_running_stats=True)\n",
       "      (relu): ReLU(inplace=True)\n",
       "    )\n",
       "    (6): Bottleneck(\n",
       "      (conv1): Conv2d(1024, 256, kernel_size=(1, 1), stride=(1, 1), bias=False)\n",
       "      (bn1): BatchNorm2d(256, eps=1e-05, momentum=0.1, affine=True, track_running_stats=True)\n",
       "      (conv2): Conv2d(256, 256, kernel_size=(3, 3), stride=(1, 1), padding=(1, 1), bias=False)\n",
       "      (bn2): BatchNorm2d(256, eps=1e-05, momentum=0.1, affine=True, track_running_stats=True)\n",
       "      (conv3): Conv2d(256, 1024, kernel_size=(1, 1), stride=(1, 1), bias=False)\n",
       "      (bn3): BatchNorm2d(1024, eps=1e-05, momentum=0.1, affine=True, track_running_stats=True)\n",
       "      (relu): ReLU(inplace=True)\n",
       "    )\n",
       "    (7): Bottleneck(\n",
       "      (conv1): Conv2d(1024, 256, kernel_size=(1, 1), stride=(1, 1), bias=False)\n",
       "      (bn1): BatchNorm2d(256, eps=1e-05, momentum=0.1, affine=True, track_running_stats=True)\n",
       "      (conv2): Conv2d(256, 256, kernel_size=(3, 3), stride=(1, 1), padding=(1, 1), bias=False)\n",
       "      (bn2): BatchNorm2d(256, eps=1e-05, momentum=0.1, affine=True, track_running_stats=True)\n",
       "      (conv3): Conv2d(256, 1024, kernel_size=(1, 1), stride=(1, 1), bias=False)\n",
       "      (bn3): BatchNorm2d(1024, eps=1e-05, momentum=0.1, affine=True, track_running_stats=True)\n",
       "      (relu): ReLU(inplace=True)\n",
       "    )\n",
       "    (8): Bottleneck(\n",
       "      (conv1): Conv2d(1024, 256, kernel_size=(1, 1), stride=(1, 1), bias=False)\n",
       "      (bn1): BatchNorm2d(256, eps=1e-05, momentum=0.1, affine=True, track_running_stats=True)\n",
       "      (conv2): Conv2d(256, 256, kernel_size=(3, 3), stride=(1, 1), padding=(1, 1), bias=False)\n",
       "      (bn2): BatchNorm2d(256, eps=1e-05, momentum=0.1, affine=True, track_running_stats=True)\n",
       "      (conv3): Conv2d(256, 1024, kernel_size=(1, 1), stride=(1, 1), bias=False)\n",
       "      (bn3): BatchNorm2d(1024, eps=1e-05, momentum=0.1, affine=True, track_running_stats=True)\n",
       "      (relu): ReLU(inplace=True)\n",
       "    )\n",
       "    (9): Bottleneck(\n",
       "      (conv1): Conv2d(1024, 256, kernel_size=(1, 1), stride=(1, 1), bias=False)\n",
       "      (bn1): BatchNorm2d(256, eps=1e-05, momentum=0.1, affine=True, track_running_stats=True)\n",
       "      (conv2): Conv2d(256, 256, kernel_size=(3, 3), stride=(1, 1), padding=(1, 1), bias=False)\n",
       "      (bn2): BatchNorm2d(256, eps=1e-05, momentum=0.1, affine=True, track_running_stats=True)\n",
       "      (conv3): Conv2d(256, 1024, kernel_size=(1, 1), stride=(1, 1), bias=False)\n",
       "      (bn3): BatchNorm2d(1024, eps=1e-05, momentum=0.1, affine=True, track_running_stats=True)\n",
       "      (relu): ReLU(inplace=True)\n",
       "    )\n",
       "    (10): Bottleneck(\n",
       "      (conv1): Conv2d(1024, 256, kernel_size=(1, 1), stride=(1, 1), bias=False)\n",
       "      (bn1): BatchNorm2d(256, eps=1e-05, momentum=0.1, affine=True, track_running_stats=True)\n",
       "      (conv2): Conv2d(256, 256, kernel_size=(3, 3), stride=(1, 1), padding=(1, 1), bias=False)\n",
       "      (bn2): BatchNorm2d(256, eps=1e-05, momentum=0.1, affine=True, track_running_stats=True)\n",
       "      (conv3): Conv2d(256, 1024, kernel_size=(1, 1), stride=(1, 1), bias=False)\n",
       "      (bn3): BatchNorm2d(1024, eps=1e-05, momentum=0.1, affine=True, track_running_stats=True)\n",
       "      (relu): ReLU(inplace=True)\n",
       "    )\n",
       "    (11): Bottleneck(\n",
       "      (conv1): Conv2d(1024, 256, kernel_size=(1, 1), stride=(1, 1), bias=False)\n",
       "      (bn1): BatchNorm2d(256, eps=1e-05, momentum=0.1, affine=True, track_running_stats=True)\n",
       "      (conv2): Conv2d(256, 256, kernel_size=(3, 3), stride=(1, 1), padding=(1, 1), bias=False)\n",
       "      (bn2): BatchNorm2d(256, eps=1e-05, momentum=0.1, affine=True, track_running_stats=True)\n",
       "      (conv3): Conv2d(256, 1024, kernel_size=(1, 1), stride=(1, 1), bias=False)\n",
       "      (bn3): BatchNorm2d(1024, eps=1e-05, momentum=0.1, affine=True, track_running_stats=True)\n",
       "      (relu): ReLU(inplace=True)\n",
       "    )\n",
       "    (12): Bottleneck(\n",
       "      (conv1): Conv2d(1024, 256, kernel_size=(1, 1), stride=(1, 1), bias=False)\n",
       "      (bn1): BatchNorm2d(256, eps=1e-05, momentum=0.1, affine=True, track_running_stats=True)\n",
       "      (conv2): Conv2d(256, 256, kernel_size=(3, 3), stride=(1, 1), padding=(1, 1), bias=False)\n",
       "      (bn2): BatchNorm2d(256, eps=1e-05, momentum=0.1, affine=True, track_running_stats=True)\n",
       "      (conv3): Conv2d(256, 1024, kernel_size=(1, 1), stride=(1, 1), bias=False)\n",
       "      (bn3): BatchNorm2d(1024, eps=1e-05, momentum=0.1, affine=True, track_running_stats=True)\n",
       "      (relu): ReLU(inplace=True)\n",
       "    )\n",
       "    (13): Bottleneck(\n",
       "      (conv1): Conv2d(1024, 256, kernel_size=(1, 1), stride=(1, 1), bias=False)\n",
       "      (bn1): BatchNorm2d(256, eps=1e-05, momentum=0.1, affine=True, track_running_stats=True)\n",
       "      (conv2): Conv2d(256, 256, kernel_size=(3, 3), stride=(1, 1), padding=(1, 1), bias=False)\n",
       "      (bn2): BatchNorm2d(256, eps=1e-05, momentum=0.1, affine=True, track_running_stats=True)\n",
       "      (conv3): Conv2d(256, 1024, kernel_size=(1, 1), stride=(1, 1), bias=False)\n",
       "      (bn3): BatchNorm2d(1024, eps=1e-05, momentum=0.1, affine=True, track_running_stats=True)\n",
       "      (relu): ReLU(inplace=True)\n",
       "    )\n",
       "    (14): Bottleneck(\n",
       "      (conv1): Conv2d(1024, 256, kernel_size=(1, 1), stride=(1, 1), bias=False)\n",
       "      (bn1): BatchNorm2d(256, eps=1e-05, momentum=0.1, affine=True, track_running_stats=True)\n",
       "      (conv2): Conv2d(256, 256, kernel_size=(3, 3), stride=(1, 1), padding=(1, 1), bias=False)\n",
       "      (bn2): BatchNorm2d(256, eps=1e-05, momentum=0.1, affine=True, track_running_stats=True)\n",
       "      (conv3): Conv2d(256, 1024, kernel_size=(1, 1), stride=(1, 1), bias=False)\n",
       "      (bn3): BatchNorm2d(1024, eps=1e-05, momentum=0.1, affine=True, track_running_stats=True)\n",
       "      (relu): ReLU(inplace=True)\n",
       "    )\n",
       "    (15): Bottleneck(\n",
       "      (conv1): Conv2d(1024, 256, kernel_size=(1, 1), stride=(1, 1), bias=False)\n",
       "      (bn1): BatchNorm2d(256, eps=1e-05, momentum=0.1, affine=True, track_running_stats=True)\n",
       "      (conv2): Conv2d(256, 256, kernel_size=(3, 3), stride=(1, 1), padding=(1, 1), bias=False)\n",
       "      (bn2): BatchNorm2d(256, eps=1e-05, momentum=0.1, affine=True, track_running_stats=True)\n",
       "      (conv3): Conv2d(256, 1024, kernel_size=(1, 1), stride=(1, 1), bias=False)\n",
       "      (bn3): BatchNorm2d(1024, eps=1e-05, momentum=0.1, affine=True, track_running_stats=True)\n",
       "      (relu): ReLU(inplace=True)\n",
       "    )\n",
       "    (16): Bottleneck(\n",
       "      (conv1): Conv2d(1024, 256, kernel_size=(1, 1), stride=(1, 1), bias=False)\n",
       "      (bn1): BatchNorm2d(256, eps=1e-05, momentum=0.1, affine=True, track_running_stats=True)\n",
       "      (conv2): Conv2d(256, 256, kernel_size=(3, 3), stride=(1, 1), padding=(1, 1), bias=False)\n",
       "      (bn2): BatchNorm2d(256, eps=1e-05, momentum=0.1, affine=True, track_running_stats=True)\n",
       "      (conv3): Conv2d(256, 1024, kernel_size=(1, 1), stride=(1, 1), bias=False)\n",
       "      (bn3): BatchNorm2d(1024, eps=1e-05, momentum=0.1, affine=True, track_running_stats=True)\n",
       "      (relu): ReLU(inplace=True)\n",
       "    )\n",
       "    (17): Bottleneck(\n",
       "      (conv1): Conv2d(1024, 256, kernel_size=(1, 1), stride=(1, 1), bias=False)\n",
       "      (bn1): BatchNorm2d(256, eps=1e-05, momentum=0.1, affine=True, track_running_stats=True)\n",
       "      (conv2): Conv2d(256, 256, kernel_size=(3, 3), stride=(1, 1), padding=(1, 1), bias=False)\n",
       "      (bn2): BatchNorm2d(256, eps=1e-05, momentum=0.1, affine=True, track_running_stats=True)\n",
       "      (conv3): Conv2d(256, 1024, kernel_size=(1, 1), stride=(1, 1), bias=False)\n",
       "      (bn3): BatchNorm2d(1024, eps=1e-05, momentum=0.1, affine=True, track_running_stats=True)\n",
       "      (relu): ReLU(inplace=True)\n",
       "    )\n",
       "    (18): Bottleneck(\n",
       "      (conv1): Conv2d(1024, 256, kernel_size=(1, 1), stride=(1, 1), bias=False)\n",
       "      (bn1): BatchNorm2d(256, eps=1e-05, momentum=0.1, affine=True, track_running_stats=True)\n",
       "      (conv2): Conv2d(256, 256, kernel_size=(3, 3), stride=(1, 1), padding=(1, 1), bias=False)\n",
       "      (bn2): BatchNorm2d(256, eps=1e-05, momentum=0.1, affine=True, track_running_stats=True)\n",
       "      (conv3): Conv2d(256, 1024, kernel_size=(1, 1), stride=(1, 1), bias=False)\n",
       "      (bn3): BatchNorm2d(1024, eps=1e-05, momentum=0.1, affine=True, track_running_stats=True)\n",
       "      (relu): ReLU(inplace=True)\n",
       "    )\n",
       "    (19): Bottleneck(\n",
       "      (conv1): Conv2d(1024, 256, kernel_size=(1, 1), stride=(1, 1), bias=False)\n",
       "      (bn1): BatchNorm2d(256, eps=1e-05, momentum=0.1, affine=True, track_running_stats=True)\n",
       "      (conv2): Conv2d(256, 256, kernel_size=(3, 3), stride=(1, 1), padding=(1, 1), bias=False)\n",
       "      (bn2): BatchNorm2d(256, eps=1e-05, momentum=0.1, affine=True, track_running_stats=True)\n",
       "      (conv3): Conv2d(256, 1024, kernel_size=(1, 1), stride=(1, 1), bias=False)\n",
       "      (bn3): BatchNorm2d(1024, eps=1e-05, momentum=0.1, affine=True, track_running_stats=True)\n",
       "      (relu): ReLU(inplace=True)\n",
       "    )\n",
       "    (20): Bottleneck(\n",
       "      (conv1): Conv2d(1024, 256, kernel_size=(1, 1), stride=(1, 1), bias=False)\n",
       "      (bn1): BatchNorm2d(256, eps=1e-05, momentum=0.1, affine=True, track_running_stats=True)\n",
       "      (conv2): Conv2d(256, 256, kernel_size=(3, 3), stride=(1, 1), padding=(1, 1), bias=False)\n",
       "      (bn2): BatchNorm2d(256, eps=1e-05, momentum=0.1, affine=True, track_running_stats=True)\n",
       "      (conv3): Conv2d(256, 1024, kernel_size=(1, 1), stride=(1, 1), bias=False)\n",
       "      (bn3): BatchNorm2d(1024, eps=1e-05, momentum=0.1, affine=True, track_running_stats=True)\n",
       "      (relu): ReLU(inplace=True)\n",
       "    )\n",
       "    (21): Bottleneck(\n",
       "      (conv1): Conv2d(1024, 256, kernel_size=(1, 1), stride=(1, 1), bias=False)\n",
       "      (bn1): BatchNorm2d(256, eps=1e-05, momentum=0.1, affine=True, track_running_stats=True)\n",
       "      (conv2): Conv2d(256, 256, kernel_size=(3, 3), stride=(1, 1), padding=(1, 1), bias=False)\n",
       "      (bn2): BatchNorm2d(256, eps=1e-05, momentum=0.1, affine=True, track_running_stats=True)\n",
       "      (conv3): Conv2d(256, 1024, kernel_size=(1, 1), stride=(1, 1), bias=False)\n",
       "      (bn3): BatchNorm2d(1024, eps=1e-05, momentum=0.1, affine=True, track_running_stats=True)\n",
       "      (relu): ReLU(inplace=True)\n",
       "    )\n",
       "    (22): Bottleneck(\n",
       "      (conv1): Conv2d(1024, 256, kernel_size=(1, 1), stride=(1, 1), bias=False)\n",
       "      (bn1): BatchNorm2d(256, eps=1e-05, momentum=0.1, affine=True, track_running_stats=True)\n",
       "      (conv2): Conv2d(256, 256, kernel_size=(3, 3), stride=(1, 1), padding=(1, 1), bias=False)\n",
       "      (bn2): BatchNorm2d(256, eps=1e-05, momentum=0.1, affine=True, track_running_stats=True)\n",
       "      (conv3): Conv2d(256, 1024, kernel_size=(1, 1), stride=(1, 1), bias=False)\n",
       "      (bn3): BatchNorm2d(1024, eps=1e-05, momentum=0.1, affine=True, track_running_stats=True)\n",
       "      (relu): ReLU(inplace=True)\n",
       "    )\n",
       "  )\n",
       "  (layer4): Sequential(\n",
       "    (0): Bottleneck(\n",
       "      (conv1): Conv2d(1024, 512, kernel_size=(1, 1), stride=(1, 1), bias=False)\n",
       "      (bn1): BatchNorm2d(512, eps=1e-05, momentum=0.1, affine=True, track_running_stats=True)\n",
       "      (conv2): Conv2d(512, 512, kernel_size=(3, 3), stride=(2, 2), padding=(1, 1), bias=False)\n",
       "      (bn2): BatchNorm2d(512, eps=1e-05, momentum=0.1, affine=True, track_running_stats=True)\n",
       "      (conv3): Conv2d(512, 2048, kernel_size=(1, 1), stride=(1, 1), bias=False)\n",
       "      (bn3): BatchNorm2d(2048, eps=1e-05, momentum=0.1, affine=True, track_running_stats=True)\n",
       "      (relu): ReLU(inplace=True)\n",
       "      (downsample): Sequential(\n",
       "        (0): Conv2d(1024, 2048, kernel_size=(1, 1), stride=(2, 2), bias=False)\n",
       "        (1): BatchNorm2d(2048, eps=1e-05, momentum=0.1, affine=True, track_running_stats=True)\n",
       "      )\n",
       "    )\n",
       "    (1): Bottleneck(\n",
       "      (conv1): Conv2d(2048, 512, kernel_size=(1, 1), stride=(1, 1), bias=False)\n",
       "      (bn1): BatchNorm2d(512, eps=1e-05, momentum=0.1, affine=True, track_running_stats=True)\n",
       "      (conv2): Conv2d(512, 512, kernel_size=(3, 3), stride=(1, 1), padding=(1, 1), bias=False)\n",
       "      (bn2): BatchNorm2d(512, eps=1e-05, momentum=0.1, affine=True, track_running_stats=True)\n",
       "      (conv3): Conv2d(512, 2048, kernel_size=(1, 1), stride=(1, 1), bias=False)\n",
       "      (bn3): BatchNorm2d(2048, eps=1e-05, momentum=0.1, affine=True, track_running_stats=True)\n",
       "      (relu): ReLU(inplace=True)\n",
       "    )\n",
       "    (2): Bottleneck(\n",
       "      (conv1): Conv2d(2048, 512, kernel_size=(1, 1), stride=(1, 1), bias=False)\n",
       "      (bn1): BatchNorm2d(512, eps=1e-05, momentum=0.1, affine=True, track_running_stats=True)\n",
       "      (conv2): Conv2d(512, 512, kernel_size=(3, 3), stride=(1, 1), padding=(1, 1), bias=False)\n",
       "      (bn2): BatchNorm2d(512, eps=1e-05, momentum=0.1, affine=True, track_running_stats=True)\n",
       "      (conv3): Conv2d(512, 2048, kernel_size=(1, 1), stride=(1, 1), bias=False)\n",
       "      (bn3): BatchNorm2d(2048, eps=1e-05, momentum=0.1, affine=True, track_running_stats=True)\n",
       "      (relu): ReLU(inplace=True)\n",
       "    )\n",
       "  )\n",
       "  (avgpool): AdaptiveAvgPool2d(output_size=(1, 1))\n",
       "  (fc): Linear(in_features=2048, out_features=4, bias=True)\n",
       ")"
      ]
     },
     "execution_count": 81,
     "metadata": {},
     "output_type": "execute_result"
    }
   ],
   "source": [
    "PATH = r\"I:\\Research\\House\\Dataset\\resnet84.pth\"\n",
    "feature_extract = True\n",
    "num_classes = 4\n",
    "\n",
    "batch_size=32\n",
    "def set_parameter_requires_grad(model, feature_extracting):\n",
    "    if feature_extracting:\n",
    "        for param in model.parameters():\n",
    "            param.requires_grad = False\n",
    "            \n",
    "model_ft = models.resnet101(pretrained=False)\n",
    "set_parameter_requires_grad(model_ft, feature_extract)\n",
    "num_ftrs = model_ft.fc.in_features\n",
    "model_ft.fc = nn.Linear(num_ftrs, num_classes)\n",
    "input_size = 224\n",
    "model_ft.load_state_dict(torch.load(PATH))\n",
    " \n",
    "# model_ft.cuda()\n",
    "\n",
    "model = model_ft \n",
    "model.cuda()\n",
    "model.eval()"
   ]
  },
  {
   "cell_type": "code",
   "execution_count": 123,
   "metadata": {},
   "outputs": [],
   "source": [
    "\n",
    "fi = files[0]\n",
    "\n",
    "def lime_explain(fi):\n",
    "\n",
    "    filename = os.path.splitext(os.path.basename(fi))[0]\n",
    "\n",
    "    print(filename)\n",
    "        \n",
    "    img = get_image(fi)\n",
    "    img_t = get_input_tensors(img)\n",
    "    \n",
    "    device = torch.device(\"cuda\" if torch.cuda.is_available() else \"cpu\")\n",
    "    print(\"device:\", device)\n",
    "    img_t = img_t.to(device)\n",
    "#     batch = batch.to(device)\n",
    "    \n",
    "    logits = model(img_t)\n",
    "    _, pred = torch.max(logits, 1)\n",
    "#     pred = pred.item[0]\n",
    "\n",
    "\n",
    "    \n",
    "    print(\"logits:\", logits)\n",
    "#     print(\"pred:\", pred.cpu().int())\n",
    "    pred = pred.cpu().item()\n",
    "    \n",
    "    print(\"pred:\", pred)\n",
    "    \n",
    "\n",
    "\n",
    "\n",
    "    pill_transf = get_pil_transform()\n",
    "    preprocess_transform = get_preprocess_transform()\n",
    "\n",
    "\n",
    "\n",
    "\n",
    "    explainer = lime_image.LimeImageExplainer()\n",
    "    explanation = explainer.explain_instance(np.array(pill_transf(img)), \n",
    "                                             batch_predict,\n",
    "                                             top_labels=5, \n",
    "                                             hide_color=0, \n",
    "                                             num_samples=1000)\n",
    "\n",
    "\n",
    "    \n",
    "\n",
    "    temp, mask = explanation.get_image_and_mask(explanation.top_labels[0], positive_only=True, num_features=5, hide_rest=False)\n",
    "    img_boundry1 = mark_boundaries(temp/255.0, mask)\n",
    "    plt.imsave(saved_path + \"Pred=\" + str(pred) + \"_\" +filename + '.png', img_boundry1)\n",
    "\n",
    "    temp, mask = explanation.get_image_and_mask(explanation.top_labels[0], positive_only=False, num_features=10, hide_rest=False)\n",
    "    img_boundry2 = mark_boundaries(temp/255.0, mask)\n",
    "    plt.imsave(saved_path + filename + 'redgreen.png', img_boundry2)\n",
    "    \n",
    "    del img\n",
    "    del img_t\n",
    "    del logits\n"
   ]
  },
  {
   "cell_type": "code",
   "execution_count": 128,
   "metadata": {
    "scrolled": true
   },
   "outputs": [
    {
     "name": "stdout",
     "output_type": "stream",
     "text": [
      "98\n",
      "Processing:  0 / 98\n",
      "0_0zRaWts5x4vjC5_fVk0EZw_-76.601806_39.287834_0_339.69 - Copy (2)\n",
      "device: cuda\n",
      "logits: tensor([[ 1.5088, -8.0233,  6.0073,  0.4789]], device='cuda:0',\n",
      "       grad_fn=<AddmmBackward>)\n",
      "pred: 2\n"
     ]
    },
    {
     "data": {
      "application/vnd.jupyter.widget-view+json": {
       "model_id": "3996daeef4b347299fbb8642a4730519",
       "version_major": 2,
       "version_minor": 0
      },
      "text/plain": [
       "HBox(children=(FloatProgress(value=0.0, max=1000.0), HTML(value='')))"
      ]
     },
     "metadata": {},
     "output_type": "display_data"
    },
    {
     "name": "stdout",
     "output_type": "stream",
     "text": [
      "\n",
      "Processing:  1 / 98\n",
      "0_4Tls9ztT1DgZbYwsB_zx4w_-76.705117_39.32929_0_140.56 - Copy (2)\n",
      "device: cuda\n",
      "logits: tensor([[-4.7891, -6.4472,  7.8837,  3.7208]], device='cuda:0',\n",
      "       grad_fn=<AddmmBackward>)\n",
      "pred: 2\n"
     ]
    },
    {
     "data": {
      "application/vnd.jupyter.widget-view+json": {
       "model_id": "3a6f482fb2a94f239dfcd1c693b396a9",
       "version_major": 2,
       "version_minor": 0
      },
      "text/plain": [
       "HBox(children=(FloatProgress(value=0.0, max=1000.0), HTML(value='')))"
      ]
     },
     "metadata": {},
     "output_type": "display_data"
    },
    {
     "name": "stdout",
     "output_type": "stream",
     "text": [
      "\n",
      "Processing:  2 / 98\n",
      "0_9YpJ-YfBYKaJsqyPfBo11g_-76.695941_39.335359_0_27.05 - Copy (2)\n",
      "device: cuda\n",
      "logits: tensor([[-4.7854, -0.4819,  1.0670,  4.6317]], device='cuda:0',\n",
      "       grad_fn=<AddmmBackward>)\n",
      "pred: 3\n"
     ]
    },
    {
     "data": {
      "application/vnd.jupyter.widget-view+json": {
       "model_id": "7838e345ac2f4f3ea1674008931478e7",
       "version_major": 2,
       "version_minor": 0
      },
      "text/plain": [
       "HBox(children=(FloatProgress(value=0.0, max=1000.0), HTML(value='')))"
      ]
     },
     "metadata": {},
     "output_type": "display_data"
    },
    {
     "name": "stdout",
     "output_type": "stream",
     "text": [
      "\n",
      "Processing:  3 / 98\n",
      "0_bVDMXb5VJLm3m4c5O0bTWw_-76.649627_39.31898_0_43.40 - Copy (2)\n",
      "device: cuda\n",
      "logits: tensor([[ 4.4543, -8.1146,  3.0979,  0.6706]], device='cuda:0',\n",
      "       grad_fn=<AddmmBackward>)\n",
      "pred: 0\n"
     ]
    },
    {
     "data": {
      "application/vnd.jupyter.widget-view+json": {
       "model_id": "682ae616f4fa46f3ab615c65c69ecdf8",
       "version_major": 2,
       "version_minor": 0
      },
      "text/plain": [
       "HBox(children=(FloatProgress(value=0.0, max=1000.0), HTML(value='')))"
      ]
     },
     "metadata": {},
     "output_type": "display_data"
    },
    {
     "name": "stdout",
     "output_type": "stream",
     "text": [
      "\n",
      "Processing:  4 / 98\n",
      "0_-Dr4lmtfoAQsuqx3SK9VBQ_-76.6866_39.337663_0_0.41 - Copy (2)\n",
      "device: cuda\n",
      "logits: tensor([[-2.1117, -1.9139,  1.1082,  3.1828]], device='cuda:0',\n",
      "       grad_fn=<AddmmBackward>)\n",
      "pred: 3\n"
     ]
    },
    {
     "data": {
      "application/vnd.jupyter.widget-view+json": {
       "model_id": "944447b27257420497c7cc6e3c96626d",
       "version_major": 2,
       "version_minor": 0
      },
      "text/plain": [
       "HBox(children=(FloatProgress(value=0.0, max=1000.0), HTML(value='')))"
      ]
     },
     "metadata": {},
     "output_type": "display_data"
    },
    {
     "name": "stdout",
     "output_type": "stream",
     "text": [
      "\n",
      "Processing:  5 / 98\n",
      "0_fL4J_qUVa25ojhXGSD2JZA_-76.617067_39.275311_0_92.11 - Copy (2)\n",
      "device: cuda\n",
      "logits: tensor([[ 1.7142, -6.5203,  5.0209, -0.1506]], device='cuda:0',\n",
      "       grad_fn=<AddmmBackward>)\n",
      "pred: 2\n"
     ]
    },
    {
     "data": {
      "application/vnd.jupyter.widget-view+json": {
       "model_id": "aa955142428a45aab349b22383d53003",
       "version_major": 2,
       "version_minor": 0
      },
      "text/plain": [
       "HBox(children=(FloatProgress(value=0.0, max=1000.0), HTML(value='')))"
      ]
     },
     "metadata": {},
     "output_type": "display_data"
    },
    {
     "name": "stdout",
     "output_type": "stream",
     "text": [
      "\n",
      "Processing:  6 / 98\n",
      "0_hb9FbjztjJrzOdWwUYMzLg_-76.634321_39.316004_0_166.51 - Copy (2)\n",
      "device: cuda\n",
      "logits: tensor([[ 3.6908, -6.1987,  4.3346, -2.1567]], device='cuda:0',\n",
      "       grad_fn=<AddmmBackward>)\n",
      "pred: 2\n"
     ]
    },
    {
     "data": {
      "application/vnd.jupyter.widget-view+json": {
       "model_id": "1cedbb5ba9104b82b47d731c6204527a",
       "version_major": 2,
       "version_minor": 0
      },
      "text/plain": [
       "HBox(children=(FloatProgress(value=0.0, max=1000.0), HTML(value='')))"
      ]
     },
     "metadata": {},
     "output_type": "display_data"
    },
    {
     "name": "stdout",
     "output_type": "stream",
     "text": [
      "\n",
      "Processing:  7 / 98\n",
      "0_iYBuHqPCX0xHlQ_pPjosBw_-76.636943_39.333622_0_147.50 - Copy (2)\n",
      "device: cuda\n",
      "logits: tensor([[ 1.0052, -6.6325,  6.0689, -0.5304]], device='cuda:0',\n",
      "       grad_fn=<AddmmBackward>)\n",
      "pred: 2\n"
     ]
    },
    {
     "data": {
      "application/vnd.jupyter.widget-view+json": {
       "model_id": "da1f6974b5ff4d3196cf456eaf2575d2",
       "version_major": 2,
       "version_minor": 0
      },
      "text/plain": [
       "HBox(children=(FloatProgress(value=0.0, max=1000.0), HTML(value='')))"
      ]
     },
     "metadata": {},
     "output_type": "display_data"
    },
    {
     "name": "stdout",
     "output_type": "stream",
     "text": [
      "\n",
      "Processing:  8 / 98\n",
      "0_lEeGUxFK5uM3CKjeHuGJ7g_-76.656853_39.281035_0_61.33 - Copy (2)\n",
      "device: cuda\n",
      "logits: tensor([[-2.0444, -8.0279, 10.3734, -0.3123]], device='cuda:0',\n",
      "       grad_fn=<AddmmBackward>)\n",
      "pred: 2\n"
     ]
    },
    {
     "data": {
      "application/vnd.jupyter.widget-view+json": {
       "model_id": "54a569da331a4a4db4aeab472fec8c14",
       "version_major": 2,
       "version_minor": 0
      },
      "text/plain": [
       "HBox(children=(FloatProgress(value=0.0, max=1000.0), HTML(value='')))"
      ]
     },
     "metadata": {},
     "output_type": "display_data"
    },
    {
     "name": "stdout",
     "output_type": "stream",
     "text": [
      "\n",
      "Processing:  9 / 98\n",
      "0_nsEgFP4-i0hu3GlvgqTa2A_-76.614929_39.315346_0_337.10 - Copy (2)\n",
      "device: cuda\n",
      "logits: tensor([[  3.7804, -10.1253,   7.0220,  -1.0352]], device='cuda:0',\n",
      "       grad_fn=<AddmmBackward>)\n",
      "pred: 2\n"
     ]
    },
    {
     "data": {
      "application/vnd.jupyter.widget-view+json": {
       "model_id": "8e0b47112e30421b89d05411c3cfad47",
       "version_major": 2,
       "version_minor": 0
      },
      "text/plain": [
       "HBox(children=(FloatProgress(value=0.0, max=1000.0), HTML(value='')))"
      ]
     },
     "metadata": {},
     "output_type": "display_data"
    },
    {
     "name": "stdout",
     "output_type": "stream",
     "text": [
      "\n",
      "Processing:  10 / 98\n",
      "0_QGVFd21asaqIojByc8QFfQ_-76.684588_39.280948_0_82.17 - Copy (2)\n",
      "device: cuda\n",
      "logits: tensor([[ 1.8248, -5.2166,  0.8617,  2.7862]], device='cuda:0',\n",
      "       grad_fn=<AddmmBackward>)\n",
      "pred: 3\n"
     ]
    },
    {
     "data": {
      "application/vnd.jupyter.widget-view+json": {
       "model_id": "fe4f897da23745a7b824fbaa8ee3fbc8",
       "version_major": 2,
       "version_minor": 0
      },
      "text/plain": [
       "HBox(children=(FloatProgress(value=0.0, max=1000.0), HTML(value='')))"
      ]
     },
     "metadata": {},
     "output_type": "display_data"
    },
    {
     "name": "stdout",
     "output_type": "stream",
     "text": [
      "\n",
      "Processing:  11 / 98\n",
      "0_T7q5RNy6Wbl3fZmg94Zh6A_-76.616166_39.314273_0_349.16 - Copy (2)\n",
      "device: cuda\n",
      "logits: tensor([[-0.1700, -8.6870,  8.2991,  0.5175]], device='cuda:0',\n",
      "       grad_fn=<AddmmBackward>)\n",
      "pred: 2\n"
     ]
    },
    {
     "data": {
      "application/vnd.jupyter.widget-view+json": {
       "model_id": "f907b5e6de2e47a28a769bd55dea2d70",
       "version_major": 2,
       "version_minor": 0
      },
      "text/plain": [
       "HBox(children=(FloatProgress(value=0.0, max=1000.0), HTML(value='')))"
      ]
     },
     "metadata": {},
     "output_type": "display_data"
    },
    {
     "name": "stdout",
     "output_type": "stream",
     "text": [
      "\n",
      "Processing:  12 / 98\n",
      "0_uxG4pXXd7Npqt1zOKp_98w_-76.629647_39.284849_0_191.04 - Copy (2)\n",
      "device: cuda\n",
      "logits: tensor([[ 0.5044, -9.4178,  6.3273,  2.4612]], device='cuda:0',\n",
      "       grad_fn=<AddmmBackward>)\n",
      "pred: 2\n"
     ]
    },
    {
     "data": {
      "application/vnd.jupyter.widget-view+json": {
       "model_id": "c9941c667a26497499b1f84def307fd8",
       "version_major": 2,
       "version_minor": 0
      },
      "text/plain": [
       "HBox(children=(FloatProgress(value=0.0, max=1000.0), HTML(value='')))"
      ]
     },
     "metadata": {},
     "output_type": "display_data"
    },
    {
     "name": "stdout",
     "output_type": "stream",
     "text": [
      "\n",
      "Processing:  13 / 98\n",
      "0_wtbRH2OmYBy2kf09qze3mw_-76.644687_39.296482_0_188.28 - Copy (2)\n",
      "device: cuda\n",
      "logits: tensor([[ 0.2453, -7.5655, 10.0512, -2.7265]], device='cuda:0',\n",
      "       grad_fn=<AddmmBackward>)\n",
      "pred: 2\n"
     ]
    },
    {
     "data": {
      "application/vnd.jupyter.widget-view+json": {
       "model_id": "dea2227707e940589b89f3a8bb282b90",
       "version_major": 2,
       "version_minor": 0
      },
      "text/plain": [
       "HBox(children=(FloatProgress(value=0.0, max=1000.0), HTML(value='')))"
      ]
     },
     "metadata": {},
     "output_type": "display_data"
    },
    {
     "name": "stdout",
     "output_type": "stream",
     "text": [
      "\n",
      "Processing:  14 / 98\n",
      "0_z9_FzmeAc5Uj3Gc2DSm3ew_-76.684831_39.285767_0_263.95 - Copy (2)\n",
      "device: cuda\n",
      "logits: tensor([[-1.6204, -4.8799,  8.6625, -2.3242]], device='cuda:0',\n",
      "       grad_fn=<AddmmBackward>)\n",
      "pred: 2\n"
     ]
    },
    {
     "data": {
      "application/vnd.jupyter.widget-view+json": {
       "model_id": "7793c29488724877aa5c9b954771cfc7",
       "version_major": 2,
       "version_minor": 0
      },
      "text/plain": [
       "HBox(children=(FloatProgress(value=0.0, max=1000.0), HTML(value='')))"
      ]
     },
     "metadata": {},
     "output_type": "display_data"
    },
    {
     "name": "stdout",
     "output_type": "stream",
     "text": [
      "\n",
      "Processing:  15 / 98\n",
      "602011603_eNowwIL8KSY8Hz2H7h7lFw_-75.799088_38.973226_0_40.32 - Copy (2)\n",
      "device: cuda\n",
      "logits: tensor([[-6.3832, -3.2140,  4.9074,  5.1351]], device='cuda:0',\n",
      "       grad_fn=<AddmmBackward>)\n",
      "pred: 3\n"
     ]
    },
    {
     "data": {
      "application/vnd.jupyter.widget-view+json": {
       "model_id": "548b0b458db54acfb5cd1bbdcb59ab64",
       "version_major": 2,
       "version_minor": 0
      },
      "text/plain": [
       "HBox(children=(FloatProgress(value=0.0, max=1000.0), HTML(value='')))"
      ]
     },
     "metadata": {},
     "output_type": "display_data"
    },
    {
     "name": "stdout",
     "output_type": "stream",
     "text": [
      "\n",
      "Processing:  16 / 98\n",
      "707070195_7QmWcttaDYxGSPRKZBvYag_-76.987441_39.566861_0_211.91 - Copy (2)\n",
      "device: cuda\n",
      "logits: tensor([[  0.1485, -10.2190,   7.1545,   3.2990]], device='cuda:0',\n",
      "       grad_fn=<AddmmBackward>)\n",
      "pred: 2\n"
     ]
    },
    {
     "data": {
      "application/vnd.jupyter.widget-view+json": {
       "model_id": "e01f8d7140454a0caa7b76986f25ad90",
       "version_major": 2,
       "version_minor": 0
      },
      "text/plain": [
       "HBox(children=(FloatProgress(value=0.0, max=1000.0), HTML(value='')))"
      ]
     },
     "metadata": {},
     "output_type": "display_data"
    },
    {
     "name": "stdout",
     "output_type": "stream",
     "text": [
      "\n",
      "Processing:  17 / 98\n",
      "805006996_U9hRut6PriKy9HcMoIR_0Q_-75.975081_39.575213_0_317.13 - Copy (2)\n",
      "device: cuda\n",
      "logits: tensor([[-1.4340, -4.6927,  3.0443,  3.3269]], device='cuda:0',\n",
      "       grad_fn=<AddmmBackward>)\n",
      "pred: 3\n"
     ]
    },
    {
     "data": {
      "application/vnd.jupyter.widget-view+json": {
       "model_id": "d2e26e1fa4374b1bab37177fb97c949d",
       "version_major": 2,
       "version_minor": 0
      },
      "text/plain": [
       "HBox(children=(FloatProgress(value=0.0, max=1000.0), HTML(value='')))"
      ]
     },
     "metadata": {},
     "output_type": "display_data"
    },
    {
     "name": "stdout",
     "output_type": "stream",
     "text": [
      "\n",
      "Processing:  18 / 98\n",
      "906275877_xRmPFxrb_6Yw7p7f_B8Eeg_-77.031784_38.614163_0_272.30 - Copy (2)\n",
      "device: cuda\n",
      "logits: tensor([[ 1.0666, -6.2498,  6.2100, -1.0487]], device='cuda:0',\n",
      "       grad_fn=<AddmmBackward>)\n",
      "pred: 2\n"
     ]
    },
    {
     "data": {
      "application/vnd.jupyter.widget-view+json": {
       "model_id": "e871a1fc890642b4a290c04f85fcbfed",
       "version_major": 2,
       "version_minor": 0
      },
      "text/plain": [
       "HBox(children=(FloatProgress(value=0.0, max=1000.0), HTML(value='')))"
      ]
     },
     "metadata": {},
     "output_type": "display_data"
    },
    {
     "name": "stdout",
     "output_type": "stream",
     "text": [
      "\n",
      "Processing:  19 / 98\n",
      "1015007753_TjQ6mxRJaBV9blPEA2zVOA_-75.86192_38.633027_0_153.76 - Copy (2)\n",
      "device: cuda\n",
      "logits: tensor([[-5.1957, -3.3276,  0.3493,  8.9714]], device='cuda:0',\n",
      "       grad_fn=<AddmmBackward>)\n",
      "pred: 3\n"
     ]
    },
    {
     "data": {
      "application/vnd.jupyter.widget-view+json": {
       "model_id": "ef21c7f3233f402b8d20d2c88615d96b",
       "version_major": 2,
       "version_minor": 0
      },
      "text/plain": [
       "HBox(children=(FloatProgress(value=0.0, max=1000.0), HTML(value='')))"
      ]
     },
     "metadata": {},
     "output_type": "display_data"
    },
    {
     "name": "stdout",
     "output_type": "stream",
     "text": [
      "\n",
      "Processing:  20 / 98\n",
      "1102154854_iokbjrbGgdqkHXtvuqRv-A_-77.453896_39.425083_0_298.27 - Copy (2)\n",
      "device: cuda\n",
      "logits: tensor([[-4.7974, -7.4568, 15.2580, -3.5562]], device='cuda:0',\n",
      "       grad_fn=<AddmmBackward>)\n",
      "pred: 2\n"
     ]
    },
    {
     "data": {
      "application/vnd.jupyter.widget-view+json": {
       "model_id": "fc1290740fde4c8580c08ff92b173f68",
       "version_major": 2,
       "version_minor": 0
      },
      "text/plain": [
       "HBox(children=(FloatProgress(value=0.0, max=1000.0), HTML(value='')))"
      ]
     },
     "metadata": {},
     "output_type": "display_data"
    },
    {
     "name": "stdout",
     "output_type": "stream",
     "text": [
      "\n",
      "Processing:  21 / 98\n",
      "1102217694_OYi1i95XUMg3feWyma1SDA_-77.43951_39.407848_0_221.43 - Copy (2)\n",
      "device: cuda\n",
      "logits: tensor([[-0.8243, -3.7292,  5.7053, -1.1750]], device='cuda:0',\n",
      "       grad_fn=<AddmmBackward>)\n",
      "pred: 2\n"
     ]
    },
    {
     "data": {
      "application/vnd.jupyter.widget-view+json": {
       "model_id": "d66d7501da11409bba0f6b443ea62690",
       "version_major": 2,
       "version_minor": 0
      },
      "text/plain": [
       "HBox(children=(FloatProgress(value=0.0, max=1000.0), HTML(value='')))"
      ]
     },
     "metadata": {},
     "output_type": "display_data"
    },
    {
     "name": "stdout",
     "output_type": "stream",
     "text": [
      "\n",
      "Processing:  22 / 98\n",
      "1102244799_FLsLKJXxNpIDtExohJLnYw_-77.407762_39.46397_0_351.38 - Copy (2)\n",
      "device: cuda\n",
      "logits: tensor([[  2.5217, -12.1073,   6.7662,   3.1065]], device='cuda:0',\n",
      "       grad_fn=<AddmmBackward>)\n",
      "pred: 2\n"
     ]
    },
    {
     "data": {
      "application/vnd.jupyter.widget-view+json": {
       "model_id": "bf5a6fd225054bd4aa9d79fc525cd7b9",
       "version_major": 2,
       "version_minor": 0
      },
      "text/plain": [
       "HBox(children=(FloatProgress(value=0.0, max=1000.0), HTML(value='')))"
      ]
     },
     "metadata": {},
     "output_type": "display_data"
    },
    {
     "name": "stdout",
     "output_type": "stream",
     "text": [
      "\n",
      "Processing:  23 / 98\n",
      "1102463997_DJZYTZXFcRheK3D2fNksoQ_-77.433482_39.394271_0_310.46 - Copy (2)\n",
      "device: cuda\n",
      "logits: tensor([[  4.2595, -12.3267,   7.5091,   0.5255]], device='cuda:0',\n",
      "       grad_fn=<AddmmBackward>)\n",
      "pred: 2\n"
     ]
    },
    {
     "data": {
      "application/vnd.jupyter.widget-view+json": {
       "model_id": "7b8343a77ca04bc38957de689f936e06",
       "version_major": 2,
       "version_minor": 0
      },
      "text/plain": [
       "HBox(children=(FloatProgress(value=0.0, max=1000.0), HTML(value='')))"
      ]
     },
     "metadata": {},
     "output_type": "display_data"
    },
    {
     "name": "stdout",
     "output_type": "stream",
     "text": [
      "\n",
      "Processing:  24 / 98\n",
      "1109278257_ZuKudK8ILbcxvvCfSvJOUA_-77.347568_39.400883_0_209.20 - Copy (2)\n",
      "device: cuda\n",
      "logits: tensor([[-0.6034, -3.8194,  3.9736,  0.7120]], device='cuda:0',\n",
      "       grad_fn=<AddmmBackward>)\n",
      "pred: 2\n"
     ]
    },
    {
     "data": {
      "application/vnd.jupyter.widget-view+json": {
       "model_id": "b8330768f1094f80bf56549d68d36ce7",
       "version_major": 2,
       "version_minor": 0
      },
      "text/plain": [
       "HBox(children=(FloatProgress(value=0.0, max=1000.0), HTML(value='')))"
      ]
     },
     "metadata": {},
     "output_type": "display_data"
    },
    {
     "name": "stdout",
     "output_type": "stream",
     "text": [
      "\n",
      "Processing:  25 / 98\n",
      "1128554648_APiGEgbYfPiiAZC2V7uEfA_-77.378109_39.452624_0_37.91 - Copy (2)\n",
      "device: cuda\n",
      "logits: tensor([[ 3.1697, -5.3723,  2.7454, -0.3620]], device='cuda:0',\n",
      "       grad_fn=<AddmmBackward>)\n",
      "pred: 0\n"
     ]
    },
    {
     "data": {
      "application/vnd.jupyter.widget-view+json": {
       "model_id": "97c01b06db254164ada16fce6aedb203",
       "version_major": 2,
       "version_minor": 0
      },
      "text/plain": [
       "HBox(children=(FloatProgress(value=0.0, max=1000.0), HTML(value='')))"
      ]
     },
     "metadata": {},
     "output_type": "display_data"
    },
    {
     "name": "stdout",
     "output_type": "stream",
     "text": [
      "\n",
      "Processing:  26 / 98\n",
      "1128576935_swchc6etZAduMxEGbLSSZg_-77.42576_39.375909_0_298.13 - Copy (2)\n",
      "device: cuda\n",
      "logits: tensor([[ 0.1845, -2.4742,  5.9861, -4.0235]], device='cuda:0',\n",
      "       grad_fn=<AddmmBackward>)\n",
      "pred: 2\n"
     ]
    },
    {
     "data": {
      "application/vnd.jupyter.widget-view+json": {
       "model_id": "95ca5008ca8f4200ac08a5b7bddb9d5e",
       "version_major": 2,
       "version_minor": 0
      },
      "text/plain": [
       "HBox(children=(FloatProgress(value=0.0, max=1000.0), HTML(value='')))"
      ]
     },
     "metadata": {},
     "output_type": "display_data"
    },
    {
     "name": "stdout",
     "output_type": "stream",
     "text": [
      "\n",
      "Processing:  27 / 98\n",
      "1302105365_ufzpcM1ZUwB-ro_zFe0Azg_-76.235996_39.441078_0_332.12 - Copy (2)\n",
      "device: cuda\n",
      "logits: tensor([[ 0.5622, -5.5933,  9.6933, -4.6070]], device='cuda:0',\n",
      "       grad_fn=<AddmmBackward>)\n",
      "pred: 2\n"
     ]
    },
    {
     "data": {
      "application/vnd.jupyter.widget-view+json": {
       "model_id": "d5d2d8b05a4943bbb45c2b14c65803b2",
       "version_major": 2,
       "version_minor": 0
      },
      "text/plain": [
       "HBox(children=(FloatProgress(value=0.0, max=1000.0), HTML(value='')))"
      ]
     },
     "metadata": {},
     "output_type": "display_data"
    },
    {
     "name": "stdout",
     "output_type": "stream",
     "text": [
      "\n",
      "Processing:  28 / 98\n",
      "1401196642_TC6hLf0eu4hf1IiYRxFEdg_-76.792591_39.202078_0_206.54 - Copy (2)\n",
      "device: cuda\n",
      "logits: tensor([[-5.3573, -6.6905, 11.5478,  0.3148]], device='cuda:0',\n",
      "       grad_fn=<AddmmBackward>)\n",
      "pred: 2\n"
     ]
    },
    {
     "data": {
      "application/vnd.jupyter.widget-view+json": {
       "model_id": "957376d6f15d4c549589f60ec92b4aad",
       "version_major": 2,
       "version_minor": 0
      },
      "text/plain": [
       "HBox(children=(FloatProgress(value=0.0, max=1000.0), HTML(value='')))"
      ]
     },
     "metadata": {},
     "output_type": "display_data"
    },
    {
     "name": "stdout",
     "output_type": "stream",
     "text": [
      "\n",
      "Processing:  29 / 98\n",
      "1401227084_rgogzG7kjwIb4uSzeSkK7A_-76.781696_39.197966_0_268.91 - Copy (2)\n",
      "device: cuda\n",
      "logits: tensor([[ 0.8089, -5.6847, 10.1295, -5.6085]], device='cuda:0',\n",
      "       grad_fn=<AddmmBackward>)\n",
      "pred: 2\n"
     ]
    },
    {
     "data": {
      "application/vnd.jupyter.widget-view+json": {
       "model_id": "96ba7aa03868415eb3138344dabd94ba",
       "version_major": 2,
       "version_minor": 0
      },
      "text/plain": [
       "HBox(children=(FloatProgress(value=0.0, max=1000.0), HTML(value='')))"
      ]
     },
     "metadata": {},
     "output_type": "display_data"
    },
    {
     "name": "stdout",
     "output_type": "stream",
     "text": [
      "\n",
      "Processing:  30 / 98\n",
      "1401311751_UFnrZDfzT4wwrjX13worMw_-76.784708_39.178033_0_334.50 - Copy (2)\n",
      "device: cuda\n",
      "logits: tensor([[  7.1512, -13.0235,   7.8727,  -2.1575]], device='cuda:0',\n",
      "       grad_fn=<AddmmBackward>)\n",
      "pred: 2\n"
     ]
    },
    {
     "data": {
      "application/vnd.jupyter.widget-view+json": {
       "model_id": "6bd597f2755945dbae458c0393647b2a",
       "version_major": 2,
       "version_minor": 0
      },
      "text/plain": [
       "HBox(children=(FloatProgress(value=0.0, max=1000.0), HTML(value='')))"
      ]
     },
     "metadata": {},
     "output_type": "display_data"
    },
    {
     "name": "stdout",
     "output_type": "stream",
     "text": [
      "\n",
      "Processing:  31 / 98\n",
      "1401323261_9sinVpXESR3R7uV7O-18Qw_-76.798379_39.215412_0_109.91 - Copy (2)\n",
      "device: cuda\n",
      "logits: tensor([[ 2.1905, -7.0615,  5.2860, -0.3843]], device='cuda:0',\n",
      "       grad_fn=<AddmmBackward>)\n",
      "pred: 2\n"
     ]
    },
    {
     "data": {
      "application/vnd.jupyter.widget-view+json": {
       "model_id": "4dc8a9ab7610485c9aaea7b14caa3406",
       "version_major": 2,
       "version_minor": 0
      },
      "text/plain": [
       "HBox(children=(FloatProgress(value=0.0, max=1000.0), HTML(value='')))"
      ]
     },
     "metadata": {},
     "output_type": "display_data"
    },
    {
     "name": "stdout",
     "output_type": "stream",
     "text": [
      "\n",
      "Processing:  32 / 98\n",
      "1402217171_wpYDK8K9O31jD3oLvSGdPQ_-76.804615_39.269441_0_185.28 - Copy (2)\n",
      "device: cuda\n",
      "logits: tensor([[-2.2650, -5.4685,  4.7154,  3.0965]], device='cuda:0',\n",
      "       grad_fn=<AddmmBackward>)\n",
      "pred: 2\n"
     ]
    },
    {
     "data": {
      "application/vnd.jupyter.widget-view+json": {
       "model_id": "723da9eb2f654c0ca3b4ab75a21651ce",
       "version_major": 2,
       "version_minor": 0
      },
      "text/plain": [
       "HBox(children=(FloatProgress(value=0.0, max=1000.0), HTML(value='')))"
      ]
     },
     "metadata": {},
     "output_type": "display_data"
    },
    {
     "name": "stdout",
     "output_type": "stream",
     "text": [
      "\n",
      "Processing:  33 / 98\n",
      "1402383365_Ep1igNw_3Oj-_oDXVf5kbA_-76.819194_39.283573_0_335.39 - Copy (2)\n",
      "device: cuda\n",
      "logits: tensor([[ 4.9859, -8.0562,  2.8398,  0.0647]], device='cuda:0',\n",
      "       grad_fn=<AddmmBackward>)\n",
      "pred: 0\n"
     ]
    },
    {
     "data": {
      "application/vnd.jupyter.widget-view+json": {
       "model_id": "6e47e7e5ff1e46c9b689f6a1f8eb173a",
       "version_major": 2,
       "version_minor": 0
      },
      "text/plain": [
       "HBox(children=(FloatProgress(value=0.0, max=1000.0), HTML(value='')))"
      ]
     },
     "metadata": {},
     "output_type": "display_data"
    },
    {
     "name": "stdout",
     "output_type": "stream",
     "text": [
      "\n",
      "Processing:  34 / 98\n",
      "1402399814_vrLy8n-lj0UeJJQx-lE21Q_-76.815092_39.283222_0_356.03 - Copy (2)\n",
      "device: cuda\n",
      "logits: tensor([[-4.3220, -4.8916, 10.1682, -0.9832]], device='cuda:0',\n",
      "       grad_fn=<AddmmBackward>)\n",
      "pred: 2\n"
     ]
    },
    {
     "data": {
      "application/vnd.jupyter.widget-view+json": {
       "model_id": "c7d24d9128b5418691ecefc261f68fdb",
       "version_major": 2,
       "version_minor": 0
      },
      "text/plain": [
       "HBox(children=(FloatProgress(value=0.0, max=1000.0), HTML(value='')))"
      ]
     },
     "metadata": {},
     "output_type": "display_data"
    },
    {
     "name": "stdout",
     "output_type": "stream",
     "text": [
      "\n",
      "Processing:  35 / 98\n",
      "1402594768__biTJs4yDQDArPLVDqPA3w_-76.812164_39.279958_0_128.20 - Copy (2)\n",
      "device: cuda\n",
      "logits: tensor([[-2.1462, -1.7922,  0.2485,  3.9330]], device='cuda:0',\n",
      "       grad_fn=<AddmmBackward>)\n",
      "pred: 3\n"
     ]
    },
    {
     "data": {
      "application/vnd.jupyter.widget-view+json": {
       "model_id": "8ec15a3883f941888998fa54bb602f26",
       "version_major": 2,
       "version_minor": 0
      },
      "text/plain": [
       "HBox(children=(FloatProgress(value=0.0, max=1000.0), HTML(value='')))"
      ]
     },
     "metadata": {},
     "output_type": "display_data"
    },
    {
     "name": "stdout",
     "output_type": "stream",
     "text": [
      "\n",
      "Processing:  36 / 98\n",
      "1403336107_Y1B2Qnl7UPaNkbvmqcQ77w_-76.88633_39.308918_0_76.34 - Copy (2)\n",
      "device: cuda\n",
      "logits: tensor([[-4.8791, -4.1904, 10.1907, -1.2526]], device='cuda:0',\n",
      "       grad_fn=<AddmmBackward>)\n",
      "pred: 2\n"
     ]
    },
    {
     "data": {
      "application/vnd.jupyter.widget-view+json": {
       "model_id": "5bd15b949e3d401e844992cb139772af",
       "version_major": 2,
       "version_minor": 0
      },
      "text/plain": [
       "HBox(children=(FloatProgress(value=0.0, max=1000.0), HTML(value='')))"
      ]
     },
     "metadata": {},
     "output_type": "display_data"
    },
    {
     "name": "stdout",
     "output_type": "stream",
     "text": [
      "\n",
      "Processing:  37 / 98\n",
      "1405441935_wDv4T2VHKS4cvoB7kdKNow_-76.903023_39.155313_0_62.88 - Copy (2)\n",
      "device: cuda\n",
      "logits: tensor([[ 2.2137, -7.3469,  7.4916, -2.9221]], device='cuda:0',\n",
      "       grad_fn=<AddmmBackward>)\n",
      "pred: 2\n"
     ]
    },
    {
     "data": {
      "application/vnd.jupyter.widget-view+json": {
       "model_id": "191c874899804e00b6bf12254304d470",
       "version_major": 2,
       "version_minor": 0
      },
      "text/plain": [
       "HBox(children=(FloatProgress(value=0.0, max=1000.0), HTML(value='')))"
      ]
     },
     "metadata": {},
     "output_type": "display_data"
    },
    {
     "name": "stdout",
     "output_type": "stream",
     "text": [
      "\n",
      "Processing:  38 / 98\n",
      "1406541518_14dx5wksAhM4f7YdBI24UQ_-76.831776_39.12788_0_241.41 - Copy (2)\n",
      "device: cuda\n",
      "logits: tensor([[ 5.1421, -6.3932,  1.5410, -0.3149]], device='cuda:0',\n",
      "       grad_fn=<AddmmBackward>)\n",
      "pred: 0\n"
     ]
    },
    {
     "data": {
      "application/vnd.jupyter.widget-view+json": {
       "model_id": "99699b32f4c147c2a900a7f595afa6bd",
       "version_major": 2,
       "version_minor": 0
      },
      "text/plain": [
       "HBox(children=(FloatProgress(value=0.0, max=1000.0), HTML(value='')))"
      ]
     },
     "metadata": {},
     "output_type": "display_data"
    },
    {
     "name": "stdout",
     "output_type": "stream",
     "text": [
      "\n",
      "Processing:  39 / 98\n",
      "1406577180_iIRsbhdl4hf94j64O7n15Q_-76.856128_39.140581_0_305.64 - Copy (2)\n",
      "device: cuda\n",
      "logits: tensor([[-0.7495, -8.8089, 11.9336, -2.7556]], device='cuda:0',\n",
      "       grad_fn=<AddmmBackward>)\n",
      "pred: 2\n"
     ]
    },
    {
     "data": {
      "application/vnd.jupyter.widget-view+json": {
       "model_id": "1c732ea9af9c48b89cbeb12475b36bc2",
       "version_major": 2,
       "version_minor": 0
      },
      "text/plain": [
       "HBox(children=(FloatProgress(value=0.0, max=1000.0), HTML(value='')))"
      ]
     },
     "metadata": {},
     "output_type": "display_data"
    },
    {
     "name": "stdout",
     "output_type": "stream",
     "text": [
      "\n",
      "Processing:  40 / 98\n",
      "1406588220_PdcuEzRw7fugCyQqKeb76w_-76.857194_39.137406_0_353.77 - Copy (2)\n",
      "device: cuda\n",
      "logits: tensor([[ 0.3274, -9.4939,  8.1196,  1.1919]], device='cuda:0',\n",
      "       grad_fn=<AddmmBackward>)\n",
      "pred: 2\n"
     ]
    },
    {
     "data": {
      "application/vnd.jupyter.widget-view+json": {
       "model_id": "7f968c2571584a6ab77f6d74a146ad2d",
       "version_major": 2,
       "version_minor": 0
      },
      "text/plain": [
       "HBox(children=(FloatProgress(value=0.0, max=1000.0), HTML(value='')))"
      ]
     },
     "metadata": {},
     "output_type": "display_data"
    },
    {
     "name": "stdout",
     "output_type": "stream",
     "text": [
      "\n",
      "Processing:  41 / 98\n",
      "1415093463_v_iiC_UM9mu1NPxwVRWHNA_-76.890825_39.227557_0_74.61 - Copy (2)\n",
      "device: cuda\n",
      "logits: tensor([[ 0.9479, -7.2452,  9.4193, -3.2421]], device='cuda:0',\n",
      "       grad_fn=<AddmmBackward>)\n",
      "pred: 2\n"
     ]
    },
    {
     "data": {
      "application/vnd.jupyter.widget-view+json": {
       "model_id": "401ad74b516f4cc496b75faa4bcc47f1",
       "version_major": 2,
       "version_minor": 0
      },
      "text/plain": [
       "HBox(children=(FloatProgress(value=0.0, max=1000.0), HTML(value='')))"
      ]
     },
     "metadata": {},
     "output_type": "display_data"
    },
    {
     "name": "stdout",
     "output_type": "stream",
     "text": [
      "\n",
      "Processing:  42 / 98\n",
      "1416185698_ptQwieYR0m8DPjLt4AHVqA_-76.845966_39.162684_0_233.83 - Copy (2)\n",
      "device: cuda\n",
      "logits: tensor([[-3.6356, -3.8730,  4.8946,  2.8465]], device='cuda:0',\n",
      "       grad_fn=<AddmmBackward>)\n",
      "pred: 2\n"
     ]
    },
    {
     "data": {
      "application/vnd.jupyter.widget-view+json": {
       "model_id": "c3be735392574f888781fdc4632f32c6",
       "version_major": 2,
       "version_minor": 0
      },
      "text/plain": [
       "HBox(children=(FloatProgress(value=0.0, max=1000.0), HTML(value='')))"
      ]
     },
     "metadata": {},
     "output_type": "display_data"
    },
    {
     "name": "stdout",
     "output_type": "stream",
     "text": [
      "\n",
      "Processing:  43 / 98\n",
      "1505001064_A2Kt8juo56W6QMU_mpzcaQ_-76.254806_39.140378_0_190.48 - Copy (2)\n",
      "device: cuda\n",
      "logits: tensor([[-4.1809, -3.0064,  6.1413,  1.0697]], device='cuda:0',\n",
      "       grad_fn=<AddmmBackward>)\n",
      "pred: 2\n"
     ]
    },
    {
     "data": {
      "application/vnd.jupyter.widget-view+json": {
       "model_id": "42e51c09bf5b465588626cd2844b75d0",
       "version_major": 2,
       "version_minor": 0
      },
      "text/plain": [
       "HBox(children=(FloatProgress(value=0.0, max=1000.0), HTML(value='')))"
      ]
     },
     "metadata": {},
     "output_type": "display_data"
    },
    {
     "name": "stdout",
     "output_type": "stream",
     "text": [
      "\n",
      "Processing:  44 / 98\n",
      "2204003306_ZmiHk7XTul2LAWcIYJ_8hg_-77.930459_39.656328_0_347.84 - Copy (2)\n",
      "device: cuda\n",
      "logits: tensor([[ 4.1173, -7.4846,  8.1937, -5.1844]], device='cuda:0',\n",
      "       grad_fn=<AddmmBackward>)\n",
      "pred: 2\n"
     ]
    },
    {
     "data": {
      "application/vnd.jupyter.widget-view+json": {
       "model_id": "435fd8144fd6486584b8d6a0e42f1e32",
       "version_major": 2,
       "version_minor": 0
      },
      "text/plain": [
       "HBox(children=(FloatProgress(value=0.0, max=1000.0), HTML(value='')))"
      ]
     },
     "metadata": {},
     "output_type": "display_data"
    },
    {
     "name": "stdout",
     "output_type": "stream",
     "text": [
      "\n",
      "Processing:  45 / 98\n",
      "2218031655_bczLszub6BbqZyc-pAOjMg_-77.67128_39.623813_0_265.48 - Copy (2)\n",
      "device: cuda\n",
      "logits: tensor([[-0.4974, -5.3075,  5.3612,  0.7653]], device='cuda:0',\n",
      "       grad_fn=<AddmmBackward>)\n",
      "pred: 2\n"
     ]
    },
    {
     "data": {
      "application/vnd.jupyter.widget-view+json": {
       "model_id": "5d4ffa67f2814d7ba5d52ddea74cf186",
       "version_major": 2,
       "version_minor": 0
      },
      "text/plain": [
       "HBox(children=(FloatProgress(value=0.0, max=1000.0), HTML(value='')))"
      ]
     },
     "metadata": {},
     "output_type": "display_data"
    },
    {
     "name": "stdout",
     "output_type": "stream",
     "text": [
      "\n",
      "Processing:  46 / 98\n",
      "2222006940_aAU4-2-G3MmwDr_Jvylo7A_-77.714633_39.645018_0_321.43 - Copy (2)\n",
      "device: cuda\n",
      "logits: tensor([[-0.3567, -6.2806,  5.8890,  0.8030]], device='cuda:0',\n",
      "       grad_fn=<AddmmBackward>)\n",
      "pred: 2\n"
     ]
    },
    {
     "data": {
      "application/vnd.jupyter.widget-view+json": {
       "model_id": "06aeb12cab084e8aa8f098c93b697a29",
       "version_major": 2,
       "version_minor": 0
      },
      "text/plain": [
       "HBox(children=(FloatProgress(value=0.0, max=1000.0), HTML(value='')))"
      ]
     },
     "metadata": {},
     "output_type": "display_data"
    },
    {
     "name": "stdout",
     "output_type": "stream",
     "text": [
      "\n",
      "Processing:  47 / 98\n",
      "2222025856_Zgl4VCwHoHqGuZj-GwVg3A_-77.698989_39.648288_0_275.46 - Copy (2)\n",
      "device: cuda\n",
      "logits: tensor([[-0.4681, -6.4259,  9.0770, -2.7458]], device='cuda:0',\n",
      "       grad_fn=<AddmmBackward>)\n",
      "pred: 2\n"
     ]
    },
    {
     "data": {
      "application/vnd.jupyter.widget-view+json": {
       "model_id": "59fb08e878594a2ab9802f54d8ffd75e",
       "version_major": 2,
       "version_minor": 0
      },
      "text/plain": [
       "HBox(children=(FloatProgress(value=0.0, max=1000.0), HTML(value='')))"
      ]
     },
     "metadata": {},
     "output_type": "display_data"
    },
    {
     "name": "stdout",
     "output_type": "stream",
     "text": [
      "\n",
      "Processing:  48 / 98\n",
      "2225003020_33yPgY6Hei5VAVNicjzKnw_-77.730554_39.651613_0_122.79 - Copy (2)\n",
      "device: cuda\n",
      "logits: tensor([[ 1.6719, -5.5082,  0.1251,  3.9494]], device='cuda:0',\n",
      "       grad_fn=<AddmmBackward>)\n",
      "pred: 3\n"
     ]
    },
    {
     "data": {
      "application/vnd.jupyter.widget-view+json": {
       "model_id": "5487e5390c284d96bd8f7021892714a6",
       "version_major": 2,
       "version_minor": 0
      },
      "text/plain": [
       "HBox(children=(FloatProgress(value=0.0, max=1000.0), HTML(value='')))"
      ]
     },
     "metadata": {},
     "output_type": "display_data"
    },
    {
     "name": "stdout",
     "output_type": "stream",
     "text": [
      "\n",
      "Processing:  49 / 98\n",
      "2225040686_Un60PwPbLJ-FF6Kzi3dX0g_-77.742732_39.669821_0_225.25 - Copy (2)\n",
      "device: cuda\n",
      "logits: tensor([[-4.2526, -4.7818, 10.4049, -1.3599]], device='cuda:0',\n",
      "       grad_fn=<AddmmBackward>)\n",
      "pred: 2\n"
     ]
    },
    {
     "data": {
      "application/vnd.jupyter.widget-view+json": {
       "model_id": "ad78fb490c5144b2bbf8f8ad2e95e559",
       "version_major": 2,
       "version_minor": 0
      },
      "text/plain": [
       "HBox(children=(FloatProgress(value=0.0, max=1000.0), HTML(value='')))"
      ]
     },
     "metadata": {},
     "output_type": "display_data"
    },
    {
     "name": "stdout",
     "output_type": "stream",
     "text": [
      "\n",
      "Processing:  50 / 98\n",
      "2316044415_grRHVp2rItIe_JiwVHNncQ_-75.621336_38.313513_0_253.51 - Copy (2)\n",
      "device: cuda\n",
      "logits: tensor([[-3.5481, -5.9543, 11.6505, -1.8833]], device='cuda:0',\n",
      "       grad_fn=<AddmmBackward>)\n",
      "pred: 2\n"
     ]
    },
    {
     "data": {
      "application/vnd.jupyter.widget-view+json": {
       "model_id": "50a1b83074ba47b78bc655c8ea4f5ac5",
       "version_major": 2,
       "version_minor": 0
      },
      "text/plain": [
       "HBox(children=(FloatProgress(value=0.0, max=1000.0), HTML(value='')))"
      ]
     },
     "metadata": {},
     "output_type": "display_data"
    },
    {
     "name": "stdout",
     "output_type": "stream",
     "text": [
      "\n",
      "Processing:  51 / 98\n",
      "2403068684_79risSTGQtMG60Yz29nH_Q_-75.138564_38.396057_0_41.92 - Copy (2)\n",
      "device: cuda\n",
      "logits: tensor([[ 0.9550, -7.3661,  9.2493, -2.8844]], device='cuda:0',\n",
      "       grad_fn=<AddmmBackward>)\n",
      "pred: 2\n"
     ]
    },
    {
     "data": {
      "application/vnd.jupyter.widget-view+json": {
       "model_id": "8a8c635d2f6b49bab4e5ab078d67925c",
       "version_major": 2,
       "version_minor": 0
      },
      "text/plain": [
       "HBox(children=(FloatProgress(value=0.0, max=1000.0), HTML(value='')))"
      ]
     },
     "metadata": {},
     "output_type": "display_data"
    },
    {
     "name": "stdout",
     "output_type": "stream",
     "text": [
      "\n",
      "Processing:  52 / 98\n",
      "2403129276_Zuf1kWMd1KC07yobvmdQGQ_-75.130656_38.379135_0_136.14 - Copy (2)\n",
      "device: cuda\n",
      "logits: tensor([[-5.2025, -8.3731, 16.7210, -3.3855]], device='cuda:0',\n",
      "       grad_fn=<AddmmBackward>)\n",
      "pred: 2\n"
     ]
    },
    {
     "data": {
      "application/vnd.jupyter.widget-view+json": {
       "model_id": "5ab1a20c658546c4a4db3f816bc26202",
       "version_major": 2,
       "version_minor": 0
      },
      "text/plain": [
       "HBox(children=(FloatProgress(value=0.0, max=1000.0), HTML(value='')))"
      ]
     },
     "metadata": {},
     "output_type": "display_data"
    },
    {
     "name": "stdout",
     "output_type": "stream",
     "text": [
      "\n",
      "Processing:  53 / 98\n",
      "2403160696_AU5VmyCYDAWYv3Fhlyjpkw_-75.153988_38.344308_0_285.68 - Copy (2)\n",
      "device: cuda\n",
      "logits: tensor([[-3.3870, -1.9073,  3.6183,  1.9284]], device='cuda:0',\n",
      "       grad_fn=<AddmmBackward>)\n",
      "pred: 2\n"
     ]
    },
    {
     "data": {
      "application/vnd.jupyter.widget-view+json": {
       "model_id": "96a1b9e71d0f4be38c1d09b5b82c82e1",
       "version_major": 2,
       "version_minor": 0
      },
      "text/plain": [
       "HBox(children=(FloatProgress(value=0.0, max=1000.0), HTML(value='')))"
      ]
     },
     "metadata": {},
     "output_type": "display_data"
    },
    {
     "name": "stdout",
     "output_type": "stream",
     "text": [
      "\n",
      "Processing:  54 / 98\n",
      "2410016312_Cm-tNRcAjHcYPUi5898wIQ_-75.106278_38.331452_0_179.56 - Copy (2)\n",
      "device: cuda\n",
      "logits: tensor([[-2.2443, -6.8479, 13.5151, -4.9818]], device='cuda:0',\n",
      "       grad_fn=<AddmmBackward>)\n",
      "pred: 2\n"
     ]
    },
    {
     "data": {
      "application/vnd.jupyter.widget-view+json": {
       "model_id": "18a7f9cb14794442838e9d440198bfd5",
       "version_major": 2,
       "version_minor": 0
      },
      "text/plain": [
       "HBox(children=(FloatProgress(value=0.0, max=1000.0), HTML(value='')))"
      ]
     },
     "metadata": {},
     "output_type": "display_data"
    },
    {
     "name": "stdout",
     "output_type": "stream",
     "text": [
      "\n",
      "Processing:  55 / 98\n",
      "2410032652_3MAsAD3IC7LGWdNtFfXZCw_-75.083366_38.336896_0_292.27 - Copy (2)\n",
      "device: cuda\n",
      "logits: tensor([[-1.7453, -3.2938,  5.2318, -0.2680]], device='cuda:0',\n",
      "       grad_fn=<AddmmBackward>)\n",
      "pred: 2\n"
     ]
    },
    {
     "data": {
      "application/vnd.jupyter.widget-view+json": {
       "model_id": "d2eb2a549c664f6583950b9314f6060d",
       "version_major": 2,
       "version_minor": 0
      },
      "text/plain": [
       "HBox(children=(FloatProgress(value=0.0, max=1000.0), HTML(value='')))"
      ]
     },
     "metadata": {},
     "output_type": "display_data"
    },
    {
     "name": "stdout",
     "output_type": "stream",
     "text": [
      "\n",
      "Processing:  56 / 98\n",
      "2410037603_mIrkbZiQN7Pgq_dvDzwOhw_-75.080121_38.34283_0_275.41 - Copy (2)\n",
      "device: cuda\n",
      "logits: tensor([[ 3.2712, -4.1097,  0.5425,  0.1967]], device='cuda:0',\n",
      "       grad_fn=<AddmmBackward>)\n",
      "pred: 0\n"
     ]
    },
    {
     "data": {
      "application/vnd.jupyter.widget-view+json": {
       "model_id": "3e51eda28a3141bb985cf1e221eb0918",
       "version_major": 2,
       "version_minor": 0
      },
      "text/plain": [
       "HBox(children=(FloatProgress(value=0.0, max=1000.0), HTML(value='')))"
      ]
     },
     "metadata": {},
     "output_type": "display_data"
    },
    {
     "name": "stdout",
     "output_type": "stream",
     "text": [
      "\n",
      "Processing:  57 / 98\n",
      "2410107741_sjAHExXXeSR1fhPk87B8Zw_-75.067262_38.417972_0_107.61 - Copy (2)\n",
      "device: cuda\n",
      "logits: tensor([[ 1.5777, -6.6422,  8.0769, -3.0409]], device='cuda:0',\n",
      "       grad_fn=<AddmmBackward>)\n",
      "pred: 2\n"
     ]
    },
    {
     "data": {
      "application/vnd.jupyter.widget-view+json": {
       "model_id": "abb9b00e493340a9a647fc570a560c7f",
       "version_major": 2,
       "version_minor": 0
      },
      "text/plain": [
       "HBox(children=(FloatProgress(value=0.0, max=1000.0), HTML(value='')))"
      ]
     },
     "metadata": {},
     "output_type": "display_data"
    },
    {
     "name": "stdout",
     "output_type": "stream",
     "text": [
      "\n",
      "Processing:  58 / 98\n",
      "2410246024_TnrJbge9-rx_vf3XmibntA_-75.065067_38.444362_0_309.23 - Copy (2)\n",
      "device: cuda\n",
      "logits: tensor([[-1.3925, -6.2982, 10.8774, -3.3989]], device='cuda:0',\n",
      "       grad_fn=<AddmmBackward>)\n",
      "pred: 2\n"
     ]
    },
    {
     "data": {
      "application/vnd.jupyter.widget-view+json": {
       "model_id": "2667c41ec04f4a5b82d125f69597d761",
       "version_major": 2,
       "version_minor": 0
      },
      "text/plain": [
       "HBox(children=(FloatProgress(value=0.0, max=1000.0), HTML(value='')))"
      ]
     },
     "metadata": {},
     "output_type": "display_data"
    },
    {
     "name": "stdout",
     "output_type": "stream",
     "text": [
      "\n",
      "Processing:  59 / 98\n",
      "2410355028_xxgraVxJ2NWAL85TiCKE4A_-75.102167_38.326281_0_106.36 - Copy (2)\n",
      "device: cuda\n",
      "logits: tensor([[ 1.1298, -6.6262,  7.0969, -1.5926]], device='cuda:0',\n",
      "       grad_fn=<AddmmBackward>)\n",
      "pred: 2\n"
     ]
    },
    {
     "data": {
      "application/vnd.jupyter.widget-view+json": {
       "model_id": "3b464e4df1114e4e9a3f861510f06543",
       "version_major": 2,
       "version_minor": 0
      },
      "text/plain": [
       "HBox(children=(FloatProgress(value=0.0, max=1000.0), HTML(value='')))"
      ]
     },
     "metadata": {},
     "output_type": "display_data"
    },
    {
     "name": "stdout",
     "output_type": "stream",
     "text": [
      "\n",
      "Processing:  60 / 98\n",
      "2410361656_AtpgeybEAShaLXyX7ZydDw_-75.10565_38.325806_0_179.01 - Copy (2)\n",
      "device: cuda\n",
      "logits: tensor([[ 1.5880, -5.7532,  6.1319, -1.9590]], device='cuda:0',\n",
      "       grad_fn=<AddmmBackward>)\n",
      "pred: 2\n"
     ]
    },
    {
     "data": {
      "application/vnd.jupyter.widget-view+json": {
       "model_id": "0de19efd2ac64cb9abbdb7016cebcea8",
       "version_major": 2,
       "version_minor": 0
      },
      "text/plain": [
       "HBox(children=(FloatProgress(value=0.0, max=1000.0), HTML(value='')))"
      ]
     },
     "metadata": {},
     "output_type": "display_data"
    },
    {
     "name": "stdout",
     "output_type": "stream",
     "text": [
      "\n",
      "Processing:  61 / 98\n",
      "2410373433_od9j-Vqf68YZ-6m9smxwXg_-75.116167_38.3149_0_168.32 - Copy (2)\n",
      "device: cuda\n",
      "logits: tensor([[-4.8108, -1.6935,  8.2767, -1.5737]], device='cuda:0',\n",
      "       grad_fn=<AddmmBackward>)\n",
      "pred: 2\n"
     ]
    },
    {
     "data": {
      "application/vnd.jupyter.widget-view+json": {
       "model_id": "896e9791c3964a91b057d0fbe844dbdb",
       "version_major": 2,
       "version_minor": 0
      },
      "text/plain": [
       "HBox(children=(FloatProgress(value=0.0, max=1000.0), HTML(value='')))"
      ]
     },
     "metadata": {},
     "output_type": "display_data"
    },
    {
     "name": "stdout",
     "output_type": "stream",
     "text": [
      "\n",
      "Processing:  62 / 98\n",
      "17070690982_6rLNS_07Iu7Iwo9ViWI9-Q_-76.747456_38.953646_0_275.55 - Copy (2)\n",
      "device: cuda\n",
      "logits: tensor([[-0.4927, -7.0240,  6.1427,  1.7408]], device='cuda:0',\n",
      "       grad_fn=<AddmmBackward>)\n",
      "pred: 2\n"
     ]
    },
    {
     "data": {
      "application/vnd.jupyter.widget-view+json": {
       "model_id": "5ac833f7e35147c784c57521a72d669c",
       "version_major": 2,
       "version_minor": 0
      },
      "text/plain": [
       "HBox(children=(FloatProgress(value=0.0, max=1000.0), HTML(value='')))"
      ]
     },
     "metadata": {},
     "output_type": "display_data"
    },
    {
     "name": "stdout",
     "output_type": "stream",
     "text": [
      "\n",
      "Processing:  63 / 98\n",
      "17141684422_-XX7yvnZ0lnd757qKyuUGA_-76.829043_38.987022_0_315.97 - Copy (2)\n",
      "device: cuda\n",
      "logits: tensor([[-3.1554, -5.9570,  5.0461,  4.2971]], device='cuda:0',\n",
      "       grad_fn=<AddmmBackward>)\n",
      "pred: 2\n"
     ]
    },
    {
     "data": {
      "application/vnd.jupyter.widget-view+json": {
       "model_id": "b001d64b7f4c4dbc9cf4f7964a6d9b3e",
       "version_major": 2,
       "version_minor": 0
      },
      "text/plain": [
       "HBox(children=(FloatProgress(value=0.0, max=1000.0), HTML(value='')))"
      ]
     },
     "metadata": {},
     "output_type": "display_data"
    },
    {
     "name": "stdout",
     "output_type": "stream",
     "text": [
      "\n",
      "Processing:  64 / 98\n",
      "160203123825_-JVDtRmnLkSEkeAaHV1EYQ_-77.284968_39.173007_0_253.14 - Copy (2)\n",
      "device: cuda\n",
      "logits: tensor([[-1.9634, -3.8494,  5.0328,  0.7296]], device='cuda:0',\n",
      "       grad_fn=<AddmmBackward>)\n",
      "pred: 2\n"
     ]
    },
    {
     "data": {
      "application/vnd.jupyter.widget-view+json": {
       "model_id": "9ef6b5201690450f98743070c2d6e0bd",
       "version_major": 2,
       "version_minor": 0
      },
      "text/plain": [
       "HBox(children=(FloatProgress(value=0.0, max=1000.0), HTML(value='')))"
      ]
     },
     "metadata": {},
     "output_type": "display_data"
    },
    {
     "name": "stdout",
     "output_type": "stream",
     "text": [
      "\n",
      "Processing:  65 / 98\n",
      "160203417508_PbUqu4tx-qqIviKO-bDxGg_-77.271584_39.237146_0_234.37 - Copy (2)\n",
      "device: cuda\n",
      "logits: tensor([[ 1.7659, -8.6750,  8.0350, -1.0939]], device='cuda:0',\n",
      "       grad_fn=<AddmmBackward>)\n",
      "pred: 2\n"
     ]
    },
    {
     "data": {
      "application/vnd.jupyter.widget-view+json": {
       "model_id": "a9fb9770f7cc462cbf6877f645f6df01",
       "version_major": 2,
       "version_minor": 0
      },
      "text/plain": [
       "HBox(children=(FloatProgress(value=0.0, max=1000.0), HTML(value='')))"
      ]
     },
     "metadata": {},
     "output_type": "display_data"
    },
    {
     "name": "stdout",
     "output_type": "stream",
     "text": [
      "\n",
      "Processing:  66 / 98\n",
      "160502549051_MhiP2oR1A2FSYT69SSXMow_-76.930984_39.096182_0_344.76 - Copy (2)\n",
      "device: cuda\n",
      "logits: tensor([[ 2.2325, -7.4450,  5.6930, -0.7516]], device='cuda:0',\n",
      "       grad_fn=<AddmmBackward>)\n",
      "pred: 2\n"
     ]
    },
    {
     "data": {
      "application/vnd.jupyter.widget-view+json": {
       "model_id": "2e5b0abf2ff24f1997f8e1f5bc3549da",
       "version_major": 2,
       "version_minor": 0
      },
      "text/plain": [
       "HBox(children=(FloatProgress(value=0.0, max=1000.0), HTML(value='')))"
      ]
     },
     "metadata": {},
     "output_type": "display_data"
    },
    {
     "name": "stdout",
     "output_type": "stream",
     "text": [
      "\n",
      "Processing:  67 / 98\n",
      "160700543873_ITE3Ag8dQhdT8qjdtlMPdQ_-77.088637_38.991488_0_350.46 - Copy (2)\n",
      "device: cuda\n",
      "logits: tensor([[-3.3324, -1.9862,  6.1528, -0.5529]], device='cuda:0',\n",
      "       grad_fn=<AddmmBackward>)\n",
      "pred: 2\n"
     ]
    },
    {
     "data": {
      "application/vnd.jupyter.widget-view+json": {
       "model_id": "8f3d55c1b2474fa784aac0eb6b5ae517",
       "version_major": 2,
       "version_minor": 0
      },
      "text/plain": [
       "HBox(children=(FloatProgress(value=0.0, max=1000.0), HTML(value='')))"
      ]
     },
     "metadata": {},
     "output_type": "display_data"
    },
    {
     "name": "stdout",
     "output_type": "stream",
     "text": [
      "\n",
      "Processing:  68 / 98\n",
      "160901717385_oYqwmcj4_EwsbRYzIG8MaQ_-77.204652_39.174547_0_356.39 - Copy (2)\n",
      "device: cuda\n",
      "logits: tensor([[ 0.7065, -0.2870,  1.4561, -1.7935]], device='cuda:0',\n",
      "       grad_fn=<AddmmBackward>)\n",
      "pred: 2\n"
     ]
    },
    {
     "data": {
      "application/vnd.jupyter.widget-view+json": {
       "model_id": "f69cc9abc0f94ab4b451de4975967dde",
       "version_major": 2,
       "version_minor": 0
      },
      "text/plain": [
       "HBox(children=(FloatProgress(value=0.0, max=1000.0), HTML(value='')))"
      ]
     },
     "metadata": {},
     "output_type": "display_data"
    },
    {
     "name": "stdout",
     "output_type": "stream",
     "text": [
      "\n",
      "Processing:  69 / 98\n",
      "160903297071_ZMwyJDtJoG5Mw-1c_6LOYQ_-77.230583_39.116639_0_44.42 - Copy (2)\n",
      "device: cuda\n",
      "logits: tensor([[-2.1359, -5.7396,  6.3438,  1.7155]], device='cuda:0',\n",
      "       grad_fn=<AddmmBackward>)\n",
      "pred: 2\n"
     ]
    },
    {
     "data": {
      "application/vnd.jupyter.widget-view+json": {
       "model_id": "5a3187b812744b05bf6d2f7028910759",
       "version_major": 2,
       "version_minor": 0
      },
      "text/plain": [
       "HBox(children=(FloatProgress(value=0.0, max=1000.0), HTML(value='')))"
      ]
     },
     "metadata": {},
     "output_type": "display_data"
    },
    {
     "name": "stdout",
     "output_type": "stream",
     "text": [
      "\n",
      "Processing:  70 / 98\n",
      "161303418970_qRGLH1LkLKL0Qxr4kd7AQA_-77.048394_39.036796_0_259.13 - Copy (2)\n",
      "device: cuda\n",
      "logits: tensor([[-1.2620, -6.5019, 11.1954, -4.0232]], device='cuda:0',\n",
      "       grad_fn=<AddmmBackward>)\n",
      "pred: 2\n"
     ]
    },
    {
     "data": {
      "application/vnd.jupyter.widget-view+json": {
       "model_id": "775036855628406db2d62706f482fbc3",
       "version_major": 2,
       "version_minor": 0
      },
      "text/plain": [
       "HBox(children=(FloatProgress(value=0.0, max=1000.0), HTML(value='')))"
      ]
     },
     "metadata": {},
     "output_type": "display_data"
    },
    {
     "name": "stdout",
     "output_type": "stream",
     "text": [
      "\n",
      "Processing:  71 / 98\n",
      "4012400005040_Hf3WoJhsDRexIxz3kcRsQQ_-76.769441_39.286065_0_162.92 - Copy (2)\n",
      "device: cuda\n",
      "logits: tensor([[-5.9103, -4.0882, 10.5477, -0.4957]], device='cuda:0',\n",
      "       grad_fn=<AddmmBackward>)\n",
      "pred: 2\n"
     ]
    },
    {
     "data": {
      "application/vnd.jupyter.widget-view+json": {
       "model_id": "eb402fa89d9e4b46adcbe164b34af777",
       "version_major": 2,
       "version_minor": 0
      },
      "text/plain": [
       "HBox(children=(FloatProgress(value=0.0, max=1000.0), HTML(value='')))"
      ]
     },
     "metadata": {},
     "output_type": "display_data"
    },
    {
     "name": "stdout",
     "output_type": "stream",
     "text": [
      "\n",
      "Processing:  72 / 98\n",
      "4032200028790_Fs2CxJg_3_Aqux7pK25Mzg_-76.749245_39.402905_0_272.85 - Copy (2)\n",
      "device: cuda\n",
      "logits: tensor([[-3.8881, -5.2133, 12.9529, -3.7467]], device='cuda:0',\n",
      "       grad_fn=<AddmmBackward>)\n",
      "pred: 2\n"
     ]
    },
    {
     "data": {
      "application/vnd.jupyter.widget-view+json": {
       "model_id": "6b08974c90994e189f64cb3fbe9de92c",
       "version_major": 2,
       "version_minor": 0
      },
      "text/plain": [
       "HBox(children=(FloatProgress(value=0.0, max=1000.0), HTML(value='')))"
      ]
     },
     "metadata": {},
     "output_type": "display_data"
    },
    {
     "name": "stdout",
     "output_type": "stream",
     "text": [
      "\n",
      "Processing:  73 / 98\n",
      "4092300012460_5MoWzOiyK_yP3Qu8iisdkA_-76.593172_39.402103_0_205.46 - Copy (2)\n",
      "device: cuda\n",
      "logits: tensor([[-0.3333, -5.6701,  1.2516,  5.3338]], device='cuda:0',\n",
      "       grad_fn=<AddmmBackward>)\n",
      "pred: 3\n"
     ]
    },
    {
     "data": {
      "application/vnd.jupyter.widget-view+json": {
       "model_id": "15719b0590ca40649f967111a2c615a8",
       "version_major": 2,
       "version_minor": 0
      },
      "text/plain": [
       "HBox(children=(FloatProgress(value=0.0, max=1000.0), HTML(value='')))"
      ]
     },
     "metadata": {},
     "output_type": "display_data"
    },
    {
     "name": "stdout",
     "output_type": "stream",
     "text": [
      "\n",
      "Processing:  74 / 98\n",
      "4122500005550_-_OOdWBb9yyadFDclFy2Ug_-76.496103_39.252001_0_1.17 - Copy (2)\n",
      "device: cuda\n",
      "logits: tensor([[-2.2040, -9.4779, 13.5577, -2.0830]], device='cuda:0',\n",
      "       grad_fn=<AddmmBackward>)\n",
      "pred: 2\n"
     ]
    },
    {
     "data": {
      "application/vnd.jupyter.widget-view+json": {
       "model_id": "e9dc348f9b8e4dc8abd7fe9258894768",
       "version_major": 2,
       "version_minor": 0
      },
      "text/plain": [
       "HBox(children=(FloatProgress(value=0.0, max=1000.0), HTML(value='')))"
      ]
     },
     "metadata": {},
     "output_type": "display_data"
    },
    {
     "name": "stdout",
     "output_type": "stream",
     "text": [
      "\n",
      "Processing:  75 / 98\n",
      "4151800009950_J8TxilCwqFKm_nY-k1vjJA_-76.383061_39.328436_0_251.97 - Copy (2)\n",
      "device: cuda\n",
      "logits: tensor([[-4.1743, -5.4545, 12.4031, -2.9406]], device='cuda:0',\n",
      "       grad_fn=<AddmmBackward>)\n",
      "pred: 2\n"
     ]
    },
    {
     "data": {
      "application/vnd.jupyter.widget-view+json": {
       "model_id": "c3853548cd20463caa571b1eaf20e7b4",
       "version_major": 2,
       "version_minor": 0
      },
      "text/plain": [
       "HBox(children=(FloatProgress(value=0.0, max=1000.0), HTML(value='')))"
      ]
     },
     "metadata": {},
     "output_type": "display_data"
    },
    {
     "name": "stdout",
     "output_type": "stream",
     "text": [
      "\n",
      "Processing:  76 / 98\n",
      "4152400001090_ay1t28Rnj7712oyo98vfow_-76.381906_39.328879_0_291.85 - Copy (2)\n",
      "device: cuda\n",
      "logits: tensor([[-3.6317, -5.8363,  9.6213, -0.2106]], device='cuda:0',\n",
      "       grad_fn=<AddmmBackward>)\n",
      "pred: 2\n"
     ]
    },
    {
     "data": {
      "application/vnd.jupyter.widget-view+json": {
       "model_id": "d2cc915ca580473dad96b82bc1a2f8f4",
       "version_major": 2,
       "version_minor": 0
      },
      "text/plain": [
       "HBox(children=(FloatProgress(value=0.0, max=1000.0), HTML(value='')))"
      ]
     },
     "metadata": {},
     "output_type": "display_data"
    },
    {
     "name": "stdout",
     "output_type": "stream",
     "text": [
      "\n",
      "Processing:  77 / 98\n",
      "20102690079300_aXf8yI9HWxMD9WiVBwu4rw_-76.588612_38.943336_0_348.22 - Copy (2)\n",
      "device: cuda\n",
      "logits: tensor([[-3.1908, -4.5840,  7.4749,  0.3396]], device='cuda:0',\n",
      "       grad_fn=<AddmmBackward>)\n",
      "pred: 2\n"
     ]
    },
    {
     "data": {
      "application/vnd.jupyter.widget-view+json": {
       "model_id": "bf6dc85019dd4546865705a24fee627a",
       "version_major": 2,
       "version_minor": 0
      },
      "text/plain": [
       "HBox(children=(FloatProgress(value=0.0, max=1000.0), HTML(value='')))"
      ]
     },
     "metadata": {},
     "output_type": "display_data"
    },
    {
     "name": "stdout",
     "output_type": "stream",
     "text": [
      "\n",
      "Processing:  78 / 98\n",
      "20169690215000_Nk0FTMJAFLjSSWzgEdgiig_-76.564173_38.93569_0_258.25 - Copy (2)\n",
      "device: cuda\n",
      "logits: tensor([[-3.4169, -9.6060, 14.1680, -1.2046]], device='cuda:0',\n",
      "       grad_fn=<AddmmBackward>)\n",
      "pred: 2\n"
     ]
    },
    {
     "data": {
      "application/vnd.jupyter.widget-view+json": {
       "model_id": "53c112e51a844377bf91fc9d2312dd8d",
       "version_major": 2,
       "version_minor": 0
      },
      "text/plain": [
       "HBox(children=(FloatProgress(value=0.0, max=1000.0), HTML(value='')))"
      ]
     },
     "metadata": {},
     "output_type": "display_data"
    },
    {
     "name": "stdout",
     "output_type": "stream",
     "text": [
      "\n",
      "Processing:  79 / 98\n",
      "20190402365100_g8EZbZAPVCemvrf1wWhC7A_-76.554502_38.930322_0_74.65 - Copy (2)\n",
      "device: cuda\n",
      "logits: tensor([[ 4.4542, -4.2007, -0.2092,  0.1827]], device='cuda:0',\n",
      "       grad_fn=<AddmmBackward>)\n",
      "pred: 0\n"
     ]
    },
    {
     "data": {
      "application/vnd.jupyter.widget-view+json": {
       "model_id": "4294a7c2e9c445b78700b94389b5563b",
       "version_major": 2,
       "version_minor": 0
      },
      "text/plain": [
       "HBox(children=(FloatProgress(value=0.0, max=1000.0), HTML(value='')))"
      ]
     },
     "metadata": {},
     "output_type": "display_data"
    },
    {
     "name": "stdout",
     "output_type": "stream",
     "text": [
      "\n",
      "Processing:  80 / 98\n",
      "20212990247200_hHNlPUf0W09_TDhG1Z3P-A_-76.545332_38.967946_0_214.33 - Copy (2)\n",
      "device: cuda\n",
      "logits: tensor([[ 0.0159, -6.8217,  6.7259,  0.4015]], device='cuda:0',\n",
      "       grad_fn=<AddmmBackward>)\n",
      "pred: 2\n"
     ]
    },
    {
     "data": {
      "application/vnd.jupyter.widget-view+json": {
       "model_id": "0330ac2b2f584b2aa7beb2d4a57dcdb0",
       "version_major": 2,
       "version_minor": 0
      },
      "text/plain": [
       "HBox(children=(FloatProgress(value=0.0, max=1000.0), HTML(value='')))"
      ]
     },
     "metadata": {},
     "output_type": "display_data"
    },
    {
     "name": "stdout",
     "output_type": "stream",
     "text": [
      "\n",
      "Processing:  81 / 98\n",
      "20221690210700_e3I34QFSx9lrZqehzUm0_A_-76.673891_38.993685_0_189.40 - Copy (2)\n",
      "device: cuda\n",
      "logits: tensor([[ 2.1144, -3.8903, -0.1610,  2.2494]], device='cuda:0',\n",
      "       grad_fn=<AddmmBackward>)\n",
      "pred: 3\n"
     ]
    },
    {
     "data": {
      "application/vnd.jupyter.widget-view+json": {
       "model_id": "1b92cecd14474dbeb389531fd79b6fde",
       "version_major": 2,
       "version_minor": 0
      },
      "text/plain": [
       "HBox(children=(FloatProgress(value=0.0, max=1000.0), HTML(value='')))"
      ]
     },
     "metadata": {},
     "output_type": "display_data"
    },
    {
     "name": "stdout",
     "output_type": "stream",
     "text": [
      "\n",
      "Processing:  82 / 98\n",
      "20290390063300_gvefA0ApYSMGMLwm10tMlg_-76.681393_39.026975_0_283.55 - Copy (2)\n",
      "device: cuda\n",
      "logits: tensor([[ 0.2625, -5.5482,  8.5770, -3.5594]], device='cuda:0',\n",
      "       grad_fn=<AddmmBackward>)\n",
      "pred: 2\n"
     ]
    },
    {
     "data": {
      "application/vnd.jupyter.widget-view+json": {
       "model_id": "b7495f612b4e49c8ad0e9d42606d182f",
       "version_major": 2,
       "version_minor": 0
      },
      "text/plain": [
       "HBox(children=(FloatProgress(value=0.0, max=1000.0), HTML(value='')))"
      ]
     },
     "metadata": {},
     "output_type": "display_data"
    },
    {
     "name": "stdout",
     "output_type": "stream",
     "text": [
      "\n",
      "Processing:  83 / 98\n",
      "20303390210200_gk9fVXdMI_0BF1V2cSh6OA_-76.514419_39.130955_0_206.06 - Copy (2)\n",
      "device: cuda\n",
      "logits: tensor([[-5.6356, -8.1328, 15.7661, -2.0360]], device='cuda:0',\n",
      "       grad_fn=<AddmmBackward>)\n",
      "pred: 2\n"
     ]
    },
    {
     "data": {
      "application/vnd.jupyter.widget-view+json": {
       "model_id": "99944ccc4f6649528d249cf986d467aa",
       "version_major": 2,
       "version_minor": 0
      },
      "text/plain": [
       "HBox(children=(FloatProgress(value=0.0, max=1000.0), HTML(value='')))"
      ]
     },
     "metadata": {},
     "output_type": "display_data"
    },
    {
     "name": "stdout",
     "output_type": "stream",
     "text": [
      "\n",
      "Processing:  84 / 98\n",
      "20320390084100_mo321Z_JvADOBTqr2OixCw_-76.44339_39.029947_0_66.59 - Copy (2)\n",
      "device: cuda\n",
      "logits: tensor([[-1.6832, -9.9390, 15.1038, -4.1093]], device='cuda:0',\n",
      "       grad_fn=<AddmmBackward>)\n",
      "pred: 2\n"
     ]
    },
    {
     "data": {
      "application/vnd.jupyter.widget-view+json": {
       "model_id": "51ec240aae6444299a20a868e5cd74b7",
       "version_major": 2,
       "version_minor": 0
      },
      "text/plain": [
       "HBox(children=(FloatProgress(value=0.0, max=1000.0), HTML(value='')))"
      ]
     },
     "metadata": {},
     "output_type": "display_data"
    },
    {
     "name": "stdout",
     "output_type": "stream",
     "text": [
      "\n",
      "Processing:  85 / 98\n",
      "20365321115000_NEMgUuaFXvTMOZMhEf83hw_-76.444103_39.120736_0_284.55 - Copy (2)\n",
      "device: cuda\n",
      "logits: tensor([[-0.5693, -7.5983, 10.4521, -2.2069]], device='cuda:0',\n",
      "       grad_fn=<AddmmBackward>)\n",
      "pred: 2\n"
     ]
    },
    {
     "data": {
      "application/vnd.jupyter.widget-view+json": {
       "model_id": "16a0b4a5ed914ce18734c6530bdb50e7",
       "version_major": 2,
       "version_minor": 0
      },
      "text/plain": [
       "HBox(children=(FloatProgress(value=0.0, max=1000.0), HTML(value='')))"
      ]
     },
     "metadata": {},
     "output_type": "display_data"
    },
    {
     "name": "stdout",
     "output_type": "stream",
     "text": [
      "\n",
      "Processing:  86 / 98\n",
      "20378390100500_PzCFtH4sSgOoxB2yEUt8Vw_-76.476618_39.042469_0_22.29 (1)\n",
      "device: cuda\n",
      "logits: tensor([[-0.3973, -9.3362, 11.5088, -1.9580]], device='cuda:0',\n",
      "       grad_fn=<AddmmBackward>)\n",
      "pred: 2\n"
     ]
    },
    {
     "data": {
      "application/vnd.jupyter.widget-view+json": {
       "model_id": "6a77840cfc81485482d0a98c143c1963",
       "version_major": 2,
       "version_minor": 0
      },
      "text/plain": [
       "HBox(children=(FloatProgress(value=0.0, max=1000.0), HTML(value='')))"
      ]
     },
     "metadata": {},
     "output_type": "display_data"
    },
    {
     "name": "stdout",
     "output_type": "stream",
     "text": [
      "\n",
      "Processing:  87 / 98\n",
      "20379790245900_0mgLVs2gjtCmN3U4yd4LPA_-76.556595_39.175521_0_154.83 - Copy (2)\n",
      "device: cuda\n",
      "logits: tensor([[-0.4964, -9.3611,  8.2063,  1.5977]], device='cuda:0',\n",
      "       grad_fn=<AddmmBackward>)\n",
      "pred: 2\n"
     ]
    },
    {
     "data": {
      "application/vnd.jupyter.widget-view+json": {
       "model_id": "a266da482d5e49cf900adab990fd3446",
       "version_major": 2,
       "version_minor": 0
      },
      "text/plain": [
       "HBox(children=(FloatProgress(value=0.0, max=1000.0), HTML(value='')))"
      ]
     },
     "metadata": {},
     "output_type": "display_data"
    },
    {
     "name": "stdout",
     "output_type": "stream",
     "text": [
      "\n",
      "Processing:  88 / 98\n",
      "20420890233600_xzzHRdlRZdc90HhJ6Pg_Wg_-76.732818_39.164427_0_155.26 - Copy (2)\n",
      "device: cuda\n",
      "logits: tensor([[ 0.8549, -8.0243, 10.0504, -2.7970]], device='cuda:0',\n",
      "       grad_fn=<AddmmBackward>)\n",
      "pred: 2\n"
     ]
    },
    {
     "data": {
      "application/vnd.jupyter.widget-view+json": {
       "model_id": "0e33dd9cabe146d5b93ffbc6b8f3677b",
       "version_major": 2,
       "version_minor": 0
      },
      "text/plain": [
       "HBox(children=(FloatProgress(value=0.0, max=1000.0), HTML(value='')))"
      ]
     },
     "metadata": {},
     "output_type": "display_data"
    },
    {
     "name": "stdout",
     "output_type": "stream",
     "text": [
      "\n",
      "Processing:  89 / 98\n",
      "20457190095900_fUAuVeSQVJR-t1P2CMw--w_-76.724587_39.058327_0_19.42 - Copy (2)\n",
      "device: cuda\n",
      "logits: tensor([[-2.2644, -5.8356, 12.3012, -4.6931]], device='cuda:0',\n",
      "       grad_fn=<AddmmBackward>)\n",
      "pred: 2\n"
     ]
    },
    {
     "data": {
      "application/vnd.jupyter.widget-view+json": {
       "model_id": "b545f627f0b340e1a4cac266b5647fd0",
       "version_major": 2,
       "version_minor": 0
      },
      "text/plain": [
       "HBox(children=(FloatProgress(value=0.0, max=1000.0), HTML(value='')))"
      ]
     },
     "metadata": {},
     "output_type": "display_data"
    },
    {
     "name": "stdout",
     "output_type": "stream",
     "text": [
      "\n",
      "Processing:  90 / 98\n",
      "20467590098800_D9MxWRuPfMXf7MLvQC611g_-76.796918_39.104663_0_221.40 - Copy (2)\n",
      "device: cuda\n",
      "logits: tensor([[-3.2304, -6.6411,  9.9532,  0.1619]], device='cuda:0',\n",
      "       grad_fn=<AddmmBackward>)\n",
      "pred: 2\n"
     ]
    },
    {
     "data": {
      "application/vnd.jupyter.widget-view+json": {
       "model_id": "21c18dc47fc44a2db19990429276f91e",
       "version_major": 2,
       "version_minor": 0
      },
      "text/plain": [
       "HBox(children=(FloatProgress(value=0.0, max=1000.0), HTML(value='')))"
      ]
     },
     "metadata": {},
     "output_type": "display_data"
    },
    {
     "name": "stdout",
     "output_type": "stream",
     "text": [
      "\n",
      "Processing:  91 / 98\n",
      "20468090095400_-7pZy5JIEpwFFFmgx3KK0A_-76.713456_39.100929_0_99.20 - Copy (2)\n",
      "device: cuda\n",
      "logits: tensor([[-0.1599, -8.1570,  8.1417,  0.4113]], device='cuda:0',\n",
      "       grad_fn=<AddmmBackward>)\n",
      "pred: 2\n"
     ]
    },
    {
     "data": {
      "application/vnd.jupyter.widget-view+json": {
       "model_id": "3c9daf12d01d46b5ad295761f851061e",
       "version_major": 2,
       "version_minor": 0
      },
      "text/plain": [
       "HBox(children=(FloatProgress(value=0.0, max=1000.0), HTML(value='')))"
      ]
     },
     "metadata": {},
     "output_type": "display_data"
    },
    {
     "name": "stdout",
     "output_type": "stream",
     "text": [
      "\n",
      "Processing:  92 / 98\n",
      "20469790247300_i_zsG4TSpEeR8uDpp51UUA_-76.684184_39.14353_0_206.73 - Copy (2)\n",
      "device: cuda\n",
      "logits: tensor([[-1.5563, -7.6062,  9.8878, -0.6625]], device='cuda:0',\n",
      "       grad_fn=<AddmmBackward>)\n",
      "pred: 2\n"
     ]
    },
    {
     "data": {
      "application/vnd.jupyter.widget-view+json": {
       "model_id": "9680607403ff417399817f22dfd13b44",
       "version_major": 2,
       "version_minor": 0
      },
      "text/plain": [
       "HBox(children=(FloatProgress(value=0.0, max=1000.0), HTML(value='')))"
      ]
     },
     "metadata": {},
     "output_type": "display_data"
    },
    {
     "name": "stdout",
     "output_type": "stream",
     "text": [
      "\n",
      "Processing:  93 / 98\n",
      "20488490226700_-_KP_wHSFPMKexxava8jKw_-76.739754_39.158224_0_127.83 - Copy (2)\n",
      "device: cuda\n",
      "logits: tensor([[ 1.3400, -5.7043,  4.7169, -0.4184]], device='cuda:0',\n",
      "       grad_fn=<AddmmBackward>)\n",
      "pred: 2\n"
     ]
    },
    {
     "data": {
      "application/vnd.jupyter.widget-view+json": {
       "model_id": "e856e0eb512848cd8bc8d3b05c808cf9",
       "version_major": 2,
       "version_minor": 0
      },
      "text/plain": [
       "HBox(children=(FloatProgress(value=0.0, max=1000.0), HTML(value='')))"
      ]
     },
     "metadata": {},
     "output_type": "display_data"
    },
    {
     "name": "stdout",
     "output_type": "stream",
     "text": [
      "\n",
      "Processing:  94 / 98\n",
      "20600002727900_fMqq0LoSwqVgrt4zlmKGhA_-76.488552_38.981353_0_44.28 - Copy (2)\n",
      "device: cuda\n",
      "logits: tensor([[ 1.3390, -2.5322,  3.0698, -2.0087]], device='cuda:0',\n",
      "       grad_fn=<AddmmBackward>)\n",
      "pred: 2\n"
     ]
    },
    {
     "data": {
      "application/vnd.jupyter.widget-view+json": {
       "model_id": "d798f9e0389845ab84bf246bf708ed18",
       "version_major": 2,
       "version_minor": 0
      },
      "text/plain": [
       "HBox(children=(FloatProgress(value=0.0, max=1000.0), HTML(value='')))"
      ]
     },
     "metadata": {},
     "output_type": "display_data"
    },
    {
     "name": "stdout",
     "output_type": "stream",
     "text": [
      "\n",
      "Processing:  95 / 98\n",
      "20600007218400_JooZLnqeHXWEs2idIsrM3w_-76.491348_38.977268_0_324.18 - Copy (2)\n",
      "device: cuda\n",
      "logits: tensor([[ 1.8095, -5.8765,  4.0201, -0.0691]], device='cuda:0',\n",
      "       grad_fn=<AddmmBackward>)\n",
      "pred: 2\n"
     ]
    },
    {
     "data": {
      "application/vnd.jupyter.widget-view+json": {
       "model_id": "794174b04c934415b3c79dd6349272ae",
       "version_major": 2,
       "version_minor": 0
      },
      "text/plain": [
       "HBox(children=(FloatProgress(value=0.0, max=1000.0), HTML(value='')))"
      ]
     },
     "metadata": {},
     "output_type": "display_data"
    },
    {
     "name": "stdout",
     "output_type": "stream",
     "text": [
      "\n",
      "Processing:  96 / 98\n",
      "20602590090000_aTs9GrqtL_pz0aJfSNpgTg_-76.524321_38.967934_0_145.82 - Copy (2)\n",
      "device: cuda\n",
      "logits: tensor([[ 1.5032, -7.2166,  2.9360,  3.3416]], device='cuda:0',\n",
      "       grad_fn=<AddmmBackward>)\n",
      "pred: 3\n"
     ]
    },
    {
     "data": {
      "application/vnd.jupyter.widget-view+json": {
       "model_id": "0983375455b847f5bf2bd33fdc921862",
       "version_major": 2,
       "version_minor": 0
      },
      "text/plain": [
       "HBox(children=(FloatProgress(value=0.0, max=1000.0), HTML(value='')))"
      ]
     },
     "metadata": {},
     "output_type": "display_data"
    },
    {
     "name": "stdout",
     "output_type": "stream",
     "text": [
      "\n",
      "Processing:  97 / 98\n",
      "20683490031500_XKppKL9SnGru3SiRxfpjEA_-76.504141_38.992612_0_186.56 - Copy (2)\n",
      "device: cuda\n",
      "logits: tensor([[ 1.5051, -7.0644,  8.1710, -2.4914]], device='cuda:0',\n",
      "       grad_fn=<AddmmBackward>)\n",
      "pred: 2\n"
     ]
    },
    {
     "data": {
      "application/vnd.jupyter.widget-view+json": {
       "model_id": "8555d2f8ef6a4ca8acea4ab7766daa89",
       "version_major": 2,
       "version_minor": 0
      },
      "text/plain": [
       "HBox(children=(FloatProgress(value=0.0, max=1000.0), HTML(value='')))"
      ]
     },
     "metadata": {},
     "output_type": "display_data"
    },
    {
     "name": "stdout",
     "output_type": "stream",
     "text": [
      "\n"
     ]
    }
   ],
   "source": [
    "folder = r'X:\\Shared drives\\Group_research\\Story_research\\Datasets\\LimeResult\\LimeResult\\test_img\\2\\*.jpg'\n",
    "saved_path = r\"X:\\Shared drives\\Group_research\\Story_research\\Datasets\\LimeResult\\LimeResult\\test_img\\2\\results\\\\\"\n",
    "# saved_path = saved_path.replace(r\"\\\\\", '\\\\')\n",
    "                                \n",
    "files = glob.glob(folder)\n",
    "print(len(files))\n",
    "\n",
    "\n",
    "for idx, f in enumerate(files[:]):\n",
    "    print(\"Processing: \", idx, \"/\", len(files))\n",
    "    lime_explain(f)\n",
    "    "
   ]
  },
  {
   "cell_type": "code",
   "execution_count": null,
   "metadata": {},
   "outputs": [],
   "source": []
  }
 ],
 "metadata": {
  "kernelspec": {
   "display_name": "Python [conda env:root] *",
   "language": "python",
   "name": "conda-root-py"
  },
  "language_info": {
   "codemirror_mode": {
    "name": "ipython",
    "version": 3
   },
   "file_extension": ".py",
   "mimetype": "text/x-python",
   "name": "python",
   "nbconvert_exporter": "python",
   "pygments_lexer": "ipython3",
   "version": "3.7.4"
  },
  "toc": {
   "base_numbering": 1,
   "nav_menu": {},
   "number_sections": true,
   "sideBar": true,
   "skip_h1_title": false,
   "title_cell": "Table of Contents",
   "title_sidebar": "Contents",
   "toc_cell": false,
   "toc_position": {},
   "toc_section_display": true,
   "toc_window_display": false
  },
  "varInspector": {
   "cols": {
    "lenName": 16,
    "lenType": 16,
    "lenVar": 40
   },
   "kernels_config": {
    "python": {
     "delete_cmd_postfix": "",
     "delete_cmd_prefix": "del ",
     "library": "var_list.py",
     "varRefreshCmd": "print(var_dic_list())"
    },
    "r": {
     "delete_cmd_postfix": ") ",
     "delete_cmd_prefix": "rm(",
     "library": "var_list.r",
     "varRefreshCmd": "cat(var_dic_list()) "
    }
   },
   "types_to_exclude": [
    "module",
    "function",
    "builtin_function_or_method",
    "instance",
    "_Feature"
   ],
   "window_display": false
  }
 },
 "nbformat": 4,
 "nbformat_minor": 4
}

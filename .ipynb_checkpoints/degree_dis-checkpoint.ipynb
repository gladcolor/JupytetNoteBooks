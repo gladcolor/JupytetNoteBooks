{
 "cells": [
  {
   "cell_type": "code",
   "execution_count": 1,
   "metadata": {
    "colab": {
     "base_uri": "https://localhost:8080/",
     "height": 124
    },
    "colab_type": "code",
    "id": "6l8BDWMZ7ZgV",
    "outputId": "045b8c74-83d7-4d3c-fd5e-b211009b948e"
   },
   "outputs": [
    {
     "name": "stdout",
     "output_type": "stream",
     "text": [
      "Go to this URL in a browser: https://accounts.google.com/o/oauth2/auth?client_id=947318989803-6bn6qk8qdgf4n4g3pfee6491hc0brc4i.apps.googleusercontent.com&redirect_uri=urn%3aietf%3awg%3aoauth%3a2.0%3aoob&response_type=code&scope=email%20https%3a%2f%2fwww.googleapis.com%2fauth%2fdocs.test%20https%3a%2f%2fwww.googleapis.com%2fauth%2fdrive%20https%3a%2f%2fwww.googleapis.com%2fauth%2fdrive.photos.readonly%20https%3a%2f%2fwww.googleapis.com%2fauth%2fpeopleapi.readonly\n",
      "\n",
      "Enter your authorization code:\n",
      "··········\n",
      "Mounted at /content/drive\n"
     ]
    }
   ],
   "source": [
    "from google.colab import drive\n",
    "drive.mount('/content/drive', force_remount=True)"
   ]
  },
  {
   "cell_type": "code",
   "execution_count": 73,
   "metadata": {
    "colab": {},
    "colab_type": "code",
    "id": "XFBv5gbZhfHc"
   },
   "outputs": [],
   "source": [
    "filepath = r'K:\\OneDrive_NJIT\\OneDrive - NJIT\\Courses\\CS786\\0323\\Huan_A3\\sample_rmat_1m.gr'"
   ]
  },
  {
   "cell_type": "code",
   "execution_count": 74,
   "metadata": {
    "colab": {
     "base_uri": "https://localhost:8080/",
     "height": 34
    },
    "colab_type": "code",
    "id": "KlTpmvIW67Gk",
    "outputId": "c312e905-b604-4087-d561-e0af05f2e481"
   },
   "outputs": [
    {
     "name": "stdout",
     "output_type": "stream",
     "text": [
      "done\n"
     ]
    }
   ],
   "source": [
    "in_dict = {}\n",
    "out_dict = {}\n",
    "\n",
    "with open(filepath) as fp:\n",
    "  flag = False\n",
    "\n",
    "  line = fp.readline()\n",
    "  cnt = 1\n",
    "\n",
    "  while line:\n",
    "\n",
    "    line = fp.readline()\n",
    "    cnt += 1\n",
    "\n",
    "    line_list = line.split(\" \")\n",
    "    # print(line_list)\n",
    "    if len(line_list) < 4:\n",
    "      break\n",
    "   \n",
    "    if line_list[0] == 'p':\n",
    "      flag = True\n",
    "      continue\n",
    "    \n",
    "    if flag == False:\n",
    "      continue\n",
    "    \n",
    "    # print(\"Line {}: {}\".format(cnt, line.strip()))\n",
    "    out_node = int(line_list[1])\n",
    "    in_node = int(line_list[2])\n",
    "    weight = int(line_list[3])\n",
    "\n",
    "    if in_node not in in_dict:\n",
    "      in_dict[in_node] = 0\n",
    "    in_dict[in_node] += 1\n",
    "\n",
    "    if out_node not in out_dict:\n",
    "      out_dict[out_node] = 0\n",
    "    out_dict[out_node] += 1\n",
    "\n",
    "print(\"done\")\n"
   ]
  },
  {
   "cell_type": "code",
   "execution_count": 75,
   "metadata": {
    "colab": {},
    "colab_type": "code",
    "id": "s_AZLi5lOdef"
   },
   "outputs": [],
   "source": [
    "from pprint import pprint"
   ]
  },
  {
   "cell_type": "code",
   "execution_count": 76,
   "metadata": {
    "colab": {
     "base_uri": "https://localhost:8080/",
     "height": 34
    },
    "colab_type": "code",
    "id": "WMnmGodMOhLM",
    "outputId": "d019ef37-2e7e-4926-d390-3e98ce7075ac"
   },
   "outputs": [],
   "source": [
    "# pprint(sum(out_dict.values()))"
   ]
  },
  {
   "cell_type": "code",
   "execution_count": 77,
   "metadata": {
    "colab": {
     "base_uri": "https://localhost:8080/",
     "height": 52
    },
    "colab_type": "code",
    "id": "65MLXwWTPbkr",
    "outputId": "e97ddb19-45f0-4295-955e-ae41c2e72f47"
   },
   "outputs": [],
   "source": [
    "# import operator\n",
    "# max_k = max(out_dict.items(), key=operator.itemgetter(1))[0]\n",
    "# max_v = max(out_dict.items(), key=operator.itemgetter(1))[1]\n",
    "# print(max_k)\n",
    "# print(max_v)"
   ]
  },
  {
   "cell_type": "code",
   "execution_count": 78,
   "metadata": {
    "colab": {},
    "colab_type": "code",
    "id": "lh-1DlTKRBby"
   },
   "outputs": [],
   "source": [
    "import matplotlib.pyplot as plt"
   ]
  },
  {
   "cell_type": "code",
   "execution_count": 79,
   "metadata": {
    "colab": {},
    "colab_type": "code",
    "id": "Z2atvAm7TPy_"
   },
   "outputs": [],
   "source": [
    "import operator\n",
    "sorted_out_dict = sorted(out_dict.items(), key=operator.itemgetter(0))\n",
    "sorted_in_dict = sorted(in_dict.items(), key=operator.itemgetter(0))"
   ]
  },
  {
   "cell_type": "code",
   "execution_count": 80,
   "metadata": {
    "colab": {
     "base_uri": "https://localhost:8080/",
     "height": 54
    },
    "colab_type": "code",
    "id": "iyV_5toHTl5K",
    "outputId": "56d13af5-b7ec-44a2-8700-05411bf5cae3"
   },
   "outputs": [],
   "source": [
    "# print(sorted_out_dict)"
   ]
  },
  {
   "cell_type": "code",
   "execution_count": 81,
   "metadata": {
    "colab": {},
    "colab_type": "code",
    "id": "6MQShPptO1Zy"
   },
   "outputs": [],
   "source": [
    "out_degree_dict = {}\n",
    "in_degree_dict = {}\n",
    "\n",
    "\n",
    "\n",
    "for n, o in sorted_out_dict:\n",
    "\n",
    "  if o not in out_degree_dict:\n",
    "    out_degree_dict[o] = 0\n",
    "  out_degree_dict[o] += 1\n",
    "\n",
    "\n",
    "\n",
    "for n, o in sorted_in_dict:\n",
    "\n",
    "  if o not in in_degree_dict:\n",
    "    in_degree_dict[o] = 0\n",
    "  in_degree_dict[o] += 1\n"
   ]
  },
  {
   "cell_type": "code",
   "execution_count": 82,
   "metadata": {
    "colab": {
     "base_uri": "https://localhost:8080/",
     "height": 72
    },
    "colab_type": "code",
    "id": "twN5O4TzdVxL",
    "outputId": "79c51492-01d2-4777-8b95-9859912cec49"
   },
   "outputs": [
    {
     "name": "stdout",
     "output_type": "stream",
     "text": [
      "{13: 76009, 8: 119327, 7: 95577, 11: 118914, 9: 131392, 14: 54242, 16: 22359, 15: 36011, 6: 66519, 12: 98508, 10: 131212, 3: 8157, 18: 7205, 17: 12906, 5: 39912, 4: 20197, 1: 504, 21: 866, 2: 2383, 19: 3719, 20: 1910, 22: 410, 25: 23, 23: 164, 24: 77, 28: 3, 26: 10, 29: 1, 27: 5}\n",
      "{4: 20277, 15: 35790, 11: 119592, 9: 131669, 7: 95108, 16: 22269, 13: 75512, 8: 118637, 3: 8161, 10: 131362, 12: 98906, 18: 7180, 5: 40000, 17: 12967, 6: 66823, 14: 53914, 19: 3932, 20: 1901, 2: 2408, 23: 150, 1: 503, 21: 949, 22: 408, 25: 27, 24: 68, 27: 12, 26: 8}\n"
     ]
    }
   ],
   "source": [
    "print(out_degree_dict)\n",
    "print(in_degree_dict)"
   ]
  },
  {
   "cell_type": "code",
   "execution_count": 83,
   "metadata": {
    "colab": {},
    "colab_type": "code",
    "id": "YtZh9QRud8fk"
   },
   "outputs": [],
   "source": [
    "on = []\n",
    "ox = []\n",
    "oy = []\n",
    "\n",
    "point_sum = sum(out_degree_dict.values())\n",
    "\n",
    "for d,c in out_degree_dict.items():\n",
    "  on.append(d)\n",
    "  ox.append(c)\n",
    "  oy.append(c/point_sum)"
   ]
  },
  {
   "cell_type": "code",
   "execution_count": 84,
   "metadata": {
    "colab": {
     "base_uri": "https://localhost:8080/",
     "height": 89
    },
    "colab_type": "code",
    "id": "rCBi9ifenSZX",
    "outputId": "e9c8b638-0b73-4aa0-f6bb-e4b37005fab4"
   },
   "outputs": [
    {
     "name": "stdout",
     "output_type": "stream",
     "text": [
      "[13, 8, 7, 11, 9, 14, 16, 15, 6, 12, 10, 3, 18, 17, 5, 4, 1, 21, 2, 19, 20, 22, 25, 23, 24, 28, 26, 29, 27]\n",
      "[76009, 119327, 95577, 118914, 131392, 54242, 22359, 36011, 66519, 98508, 131212, 8157, 7205, 12906, 39912, 20197, 504, 866, 2383, 3719, 1910, 410, 23, 164, 77, 3, 10, 1, 5]\n",
      "[0.07249156431624706, 0.11380495592844023, 0.09115402442676453, 0.11341106815116898, 0.12531162913129149, 0.05173186637953233, 0.021324302208251232, 0.03434453449713025, 0.06344072894989328, 0.09394938780492923, 0.12513995891359456, 0.0077795220319649945, 0.006871577325034668, 0.012308754608868483, 0.038065009603994955, 0.019262352149025008, 0.0004806766095513494, 0.0008259244918084694, 0.0022727229376207653, 0.003546897442304501, 0.0018216117544505503, 0.00039102660697629615, 2.1935638927938564e-05, 0.00015641064279051846, 7.343670423701172e-05, 2.8611702949485086e-06, 9.537234316495028e-06, 9.537234316495028e-07, 4.768617158247514e-06]\n"
     ]
    }
   ],
   "source": [
    "print(on)\n",
    "print(ox)\n",
    "print(oy)"
   ]
  },
  {
   "cell_type": "code",
   "execution_count": 85,
   "metadata": {
    "colab": {
     "base_uri": "https://localhost:8080/",
     "height": 34
    },
    "colab_type": "code",
    "id": "70NAmcO_xkvL",
    "outputId": "f98a46a3-95d2-48af-a58f-e46903440495"
   },
   "outputs": [
    {
     "name": "stdout",
     "output_type": "stream",
     "text": [
      "0.9999999999999999\n"
     ]
    }
   ],
   "source": [
    "print(sum(oy))"
   ]
  },
  {
   "cell_type": "code",
   "execution_count": 86,
   "metadata": {
    "colab": {
     "base_uri": "https://localhost:8080/",
     "height": 295
    },
    "colab_type": "code",
    "id": "UkpJj208V3dh",
    "outputId": "18a71aba-58ab-4e09-8b35-18accc6f96b5"
   },
   "outputs": [
    {
     "data": {
      "image/png": "[encoded data removed]",
      "text/plain": [
       "<Figure size 432x288 with 1 Axes>"
      ]
     },
     "metadata": {
      "needs_background": "light"
     },
     "output_type": "display_data"
    }
   ],
   "source": [
    "from matplotlib.ticker import MaxNLocator\n",
    "bins = sorted(on.copy())\n",
    "ax = plt.figure().gca()\n",
    "ax.xaxis.set_major_locator(MaxNLocator(integer=True))\n",
    "\n",
    "plt.plot(bins, [out_degree_dict[i]/sum(out_degree_dict.values()) for i in bins], 'r--')\n",
    "plt.bar(on,oy) # A bar chart\n",
    "plt.title('out degree distribution')\n",
    "plt.xlabel('out degree')\n",
    "plt.ylabel('proportion')\n",
    "\n",
    "\n",
    "plt.show()"
   ]
  },
  {
   "cell_type": "code",
   "execution_count": 87,
   "metadata": {
    "colab": {},
    "colab_type": "code",
    "id": "szuucaYKgz7M"
   },
   "outputs": [],
   "source": [
    "inn  = []\n",
    "inx = []\n",
    "iny = []\n",
    "\n",
    "point_sum = sum(in_degree_dict.values())\n",
    "\n",
    "for d,c in in_degree_dict.items():\n",
    "  inn.append(d)\n",
    "  inx.append(c)\n",
    "  iny.append(c/point_sum)"
   ]
  },
  {
   "cell_type": "code",
   "execution_count": 88,
   "metadata": {
    "colab": {
     "base_uri": "https://localhost:8080/",
     "height": 295
    },
    "colab_type": "code",
    "id": "OW-TwIwDhNnm",
    "outputId": "d797bfb6-591c-4c4a-a1bf-3aee636c7a8b"
   },
   "outputs": [
    {
     "data": {
      "image/png": "[encoded data removed]",
      "text/plain": [
       "<Figure size 432x288 with 1 Axes>"
      ]
     },
     "metadata": {
      "needs_background": "light"
     },
     "output_type": "display_data"
    }
   ],
   "source": [
    "bins = sorted(inn.copy())\n",
    "\n",
    "plt.bar(inn,iny) # A bar chart\n",
    "plt.plot(bins, [in_degree_dict[i]/sum(in_degree_dict.values()) for i in bins], 'r--')\n",
    "plt.title('in degree distribution')\n",
    "plt.xlabel('in degree')\n",
    "plt.ylabel('proportion')\n",
    "plt.show()"
   ]
  },
  {
   "cell_type": "code",
   "execution_count": null,
   "metadata": {},
   "outputs": [],
   "source": []
  },
  {
   "cell_type": "code",
   "execution_count": null,
   "metadata": {},
   "outputs": [],
   "source": []
  }
 ],
 "metadata": {
  "colab": {
   "name": "degree_dis.ipynb",
   "provenance": []
  },
  "kernelspec": {
   "display_name": "Python 3",
   "language": "python",
   "name": "python3"
  },
  "language_info": {
   "codemirror_mode": {
    "name": "ipython",
    "version": 3
   },
   "file_extension": ".py",
   "mimetype": "text/x-python",
   "name": "python",
   "nbconvert_exporter": "python",
   "pygments_lexer": "ipython3",
   "version": "3.7.4"
  },
  "toc": {
   "base_numbering": 1,
   "nav_menu": {},
   "number_sections": true,
   "sideBar": true,
   "skip_h1_title": false,
   "title_cell": "Table of Contents",
   "title_sidebar": "Contents",
   "toc_cell": false,
   "toc_position": {},
   "toc_section_display": true,
   "toc_window_display": false
  },
  "varInspector": {
   "cols": {
    "lenName": 16,
    "lenType": 16,
    "lenVar": 40
   },
   "kernels_config": {
    "python": {
     "delete_cmd_postfix": "",
     "delete_cmd_prefix": "del ",
     "library": "var_list.py",
     "varRefreshCmd": "print(var_dic_list())"
    },
    "r": {
     "delete_cmd_postfix": ") ",
     "delete_cmd_prefix": "rm(",
     "library": "var_list.r",
     "varRefreshCmd": "cat(var_dic_list()) "
    }
   },
   "types_to_exclude": [
    "module",
    "function",
    "builtin_function_or_method",
    "instance",
    "_Feature"
   ],
   "window_display": false
  }
 },
 "nbformat": 4,
 "nbformat_minor": 1
}

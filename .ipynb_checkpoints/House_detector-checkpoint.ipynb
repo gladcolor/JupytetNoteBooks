{
 "cells": [
  {
   "cell_type": "code",
   "execution_count": 2,
   "metadata": {},
   "outputs": [],
   "source": [
    "import json\n",
    "import geojson\n",
    "from shapely.geometry import shape\n",
    "\n",
    "o = {\n",
    "   \"coordinates\": [[[23.314208, 37.768469], [24.039306, 37.768469], [24.039306, 38.214372], [23.314208, 38.214372], [23.314208, 37.768469]]], \n",
    "   \"type\": \"Polygon\"\n",
    "}\n",
    "\n",
    "s = json.dumps(o)\n",
    "\n",
    "# Convert to geojson.geometry.Polygon\n",
    "g1 = geojson.loads(s)\n",
    "\n",
    "# Feed to shape() to convert to shapely.geometry.polygon.Polygon\n",
    "# This will invoke its __geo_interface__ (https://gist.github.com/sgillies/2217756)\n",
    "g2 = shape(g1)"
   ]
  },
  {
   "cell_type": "code",
   "execution_count": 3,
   "metadata": {},
   "outputs": [
    {
     "data": {
      "image/svg+xml": [
       "<svg xmlns=\"http://www.w3.org/2000/svg\" xmlns:xlink=\"http://www.w3.org/1999/xlink\" width=\"100.0\" height=\"100.0\" viewBox=\"23.28520408 37.73946508 0.783105840000001 0.5039108399999961\" preserveAspectRatio=\"xMinYMin meet\"><g transform=\"matrix(1,0,0,-1,0,75.98284100000001)\"><path fill-rule=\"evenodd\" fill=\"#66cc99\" stroke=\"#555555\" stroke-width=\"0.01566211680000002\" opacity=\"0.6\" d=\"M 23.314208,37.768469 L 24.039306,37.768469 L 24.039306,38.214372 L 23.314208,38.214372 L 23.314208,37.768469 z\" /></g></svg>"
      ],
      "text/plain": [
       "<shapely.geometry.polygon.Polygon at 0x190388f1ac8>"
      ]
     },
     "execution_count": 3,
     "metadata": {},
     "output_type": "execute_result"
    }
   ],
   "source": [
    "g2"
   ]
  },
  {
   "cell_type": "code",
   "execution_count": 6,
   "metadata": {},
   "outputs": [],
   "source": [
    "f = open(r'K:\\OneDrive_NJIT\\OneDrive - NJIT\\Research\\House\\maryland\\footprints\\buildings2.geojson', 'r')\n",
    "buildings = geojson.load(f)"
   ]
  },
  {
   "cell_type": "code",
   "execution_count": 7,
   "metadata": {},
   "outputs": [
    {
     "data": {
      "text/plain": [
       "2"
      ]
     },
     "execution_count": 7,
     "metadata": {},
     "output_type": "execute_result"
    }
   ],
   "source": [
    "len(buildings)"
   ]
  },
  {
   "cell_type": "code",
   "execution_count": 8,
   "metadata": {},
   "outputs": [
    {
     "data": {
      "text/plain": [
       "4"
      ]
     },
     "execution_count": 8,
     "metadata": {},
     "output_type": "execute_result"
    }
   ],
   "source": [
    "len(buildings[0])"
   ]
  },
  {
   "cell_type": "code",
   "execution_count": 9,
   "metadata": {},
   "outputs": [
    {
     "data": {
      "text/plain": [
       "4"
      ]
     },
     "execution_count": 9,
     "metadata": {},
     "output_type": "execute_result"
    }
   ],
   "source": [
    "len(buildings[1])"
   ]
  },
  {
   "cell_type": "code",
   "execution_count": null,
   "metadata": {},
   "outputs": [],
   "source": [
    "len(buildings['features'])"
   ]
  },
  {
   "cell_type": "code",
   "execution_count": 24,
   "metadata": {},
   "outputs": [],
   "source": [
    "features = buildings['features']"
   ]
  },
  {
   "cell_type": "code",
   "execution_count": null,
   "metadata": {},
   "outputs": [],
   "source": [
    "for f in buildings['features'][:10]:\n",
    "    print(f)"
   ]
  },
  {
   "cell_type": "code",
   "execution_count": null,
   "metadata": {
    "scrolled": false
   },
   "outputs": [],
   "source": [
    "buildings['features'][0]['geometry']"
   ]
  },
  {
   "cell_type": "code",
   "execution_count": null,
   "metadata": {},
   "outputs": [],
   "source": []
  },
  {
   "cell_type": "code",
   "execution_count": null,
   "metadata": {},
   "outputs": [],
   "source": [
    "x = buildings['features'][0]['geometry']"
   ]
  },
  {
   "cell_type": "code",
   "execution_count": null,
   "metadata": {},
   "outputs": [],
   "source": [
    "g2 = shape(x)"
   ]
  },
  {
   "cell_type": "code",
   "execution_count": null,
   "metadata": {},
   "outputs": [],
   "source": [
    "g2"
   ]
  },
  {
   "cell_type": "code",
   "execution_count": null,
   "metadata": {},
   "outputs": [],
   "source": []
  },
  {
   "cell_type": "code",
   "execution_count": 21,
   "metadata": {},
   "outputs": [],
   "source": [
    "import shapefile"
   ]
  },
  {
   "cell_type": "code",
   "execution_count": 57,
   "metadata": {},
   "outputs": [],
   "source": [
    "sf = shapefile.Reader(r\"K:\\OneDrive_NJIT\\OneDrive - NJIT\\Research\\House\\maryland\\footprints\\maryland_footprints_near_joined.shp\")"
   ]
  },
  {
   "cell_type": "code",
   "execution_count": 58,
   "metadata": {},
   "outputs": [
    {
     "data": {
      "text/plain": [
       "1200259"
      ]
     },
     "execution_count": 58,
     "metadata": {},
     "output_type": "execute_result"
    }
   ],
   "source": [
    "len(sf)"
   ]
  },
  {
   "cell_type": "code",
   "execution_count": 59,
   "metadata": {
    "scrolled": true
   },
   "outputs": [],
   "source": [
    "records = sf.records()\n"
   ]
  },
  {
   "cell_type": "code",
   "execution_count": 60,
   "metadata": {},
   "outputs": [],
   "source": [
    "shapes = sf.shapes()"
   ]
  },
  {
   "cell_type": "code",
   "execution_count": 61,
   "metadata": {},
   "outputs": [
    {
     "name": "stdout",
     "output_type": "stream",
     "text": [
      "Record #0: [0, 326.761000768, 0.0, 234920, 3.3589312901e-05, -75.92408208, 38.803475332, 119.693861039, 234920, 1470342, 'TALB', 2104152506.0, 1.5, 'Siding', 38.8034753317, -75.9240820803, 2463, '960100', '240419601001', 0.619781466884, 0.0104113559194, '15000US240419601001', '15000US240419601001', 186.0, 83.0, 1861]\n",
      "[(-75.92382100000236, 38.803426000006375), (-75.92398800000234, 38.8033310000064), (-75.92408500000236, 38.80343500000636), (-75.92384300000236, 38.8035730000064), (-75.92378400000236, 38.803510000006426), (-75.9238590000024, 38.80346700000638), (-75.92382100000236, 38.803426000006375)]\n",
      "-75.92388585714522 38.80345257143496\n",
      "38.80345257143496\n"
     ]
    },
    {
     "data": {
      "image/svg+xml": [
       "<svg xmlns=\"http://www.w3.org/2000/svg\" xmlns:xlink=\"http://www.w3.org/1999/xlink\" width=\"100.0\" height=\"100.0\" viewBox=\"-75.92409704000237 38.8033189600064 0.0003250800000103027 0.00026608000000294396\" preserveAspectRatio=\"xMinYMin meet\"><g transform=\"matrix(1,0,0,-1,0,77.6069040000128)\"><path fill-rule=\"evenodd\" fill=\"#66cc99\" stroke=\"#555555\" stroke-width=\"6.501600000206054e-06\" opacity=\"0.6\" d=\"M -75.92382100000236,38.803426000006375 L -75.92398800000234,38.8033310000064 L -75.92408500000236,38.80343500000636 L -75.92384300000236,38.8035730000064 L -75.92378400000236,38.803510000006426 L -75.9238590000024,38.80346700000638 L -75.92382100000236,38.803426000006375 z\" /></g></svg>"
      ],
      "text/plain": [
       "<shapely.geometry.polygon.Polygon at 0x2575ca7df48>"
      ]
     },
     "execution_count": 61,
     "metadata": {},
     "output_type": "execute_result"
    }
   ],
   "source": [
    "from shapely.geometry import Polygon\n",
    "import numpy as np\n",
    "\n",
    "print(records[0])\n",
    "print(shapes[0].points)\n",
    "pts_np = np.array(shapes[0].points)\n",
    "print(pts_np[:, 0].mean(), pts_np[:, 1].mean())\n",
    "print(pts_np[:, 1].mean())\n",
    "Polygon(shapes[0].points)\n"
   ]
  },
  {
   "cell_type": "code",
   "execution_count": 26,
   "metadata": {},
   "outputs": [],
   "source": [
    "import pandas as pd"
   ]
  },
  {
   "cell_type": "code",
   "execution_count": 28,
   "metadata": {},
   "outputs": [],
   "source": [
    "df = pd.DataFrame(records)"
   ]
  },
  {
   "cell_type": "code",
   "execution_count": 49,
   "metadata": {},
   "outputs": [],
   "source": [
    "df.columns =['Id', 'area_m', 'IIDD', 'NEAR_FID', 'NEAR_DIST', 'NEAR_X', 'NEAR_Y', \"NEAR_ANGLE\"]"
   ]
  },
  {
   "cell_type": "code",
   "execution_count": 50,
   "metadata": {
    "scrolled": true
   },
   "outputs": [
    {
     "data": {
      "text/html": [
       "<div>\n",
       "<style scoped>\n",
       "    .dataframe tbody tr th:only-of-type {\n",
       "        vertical-align: middle;\n",
       "    }\n",
       "\n",
       "    .dataframe tbody tr th {\n",
       "        vertical-align: top;\n",
       "    }\n",
       "\n",
       "    .dataframe thead th {\n",
       "        text-align: right;\n",
       "    }\n",
       "</style>\n",
       "<table border=\"1\" class=\"dataframe\">\n",
       "  <thead>\n",
       "    <tr style=\"text-align: right;\">\n",
       "      <th></th>\n",
       "      <th>Id</th>\n",
       "      <th>area_m</th>\n",
       "      <th>IIDD</th>\n",
       "      <th>NEAR_FID</th>\n",
       "      <th>NEAR_DIST</th>\n",
       "      <th>NEAR_X</th>\n",
       "      <th>NEAR_Y</th>\n",
       "      <th>NEAR_ANGLE</th>\n",
       "    </tr>\n",
       "  </thead>\n",
       "  <tbody>\n",
       "    <tr>\n",
       "      <th>0</th>\n",
       "      <td>0</td>\n",
       "      <td>326.761001</td>\n",
       "      <td>0.0</td>\n",
       "      <td>234920</td>\n",
       "      <td>0.000034</td>\n",
       "      <td>-75.924082</td>\n",
       "      <td>38.803475</td>\n",
       "      <td>119.693861</td>\n",
       "    </tr>\n",
       "    <tr>\n",
       "      <th>1</th>\n",
       "      <td>1</td>\n",
       "      <td>71.187956</td>\n",
       "      <td>1.0</td>\n",
       "      <td>233438</td>\n",
       "      <td>0.000141</td>\n",
       "      <td>-75.906349</td>\n",
       "      <td>38.800582</td>\n",
       "      <td>-117.761328</td>\n",
       "    </tr>\n",
       "    <tr>\n",
       "      <th>2</th>\n",
       "      <td>2</td>\n",
       "      <td>103.188035</td>\n",
       "      <td>2.0</td>\n",
       "      <td>235855</td>\n",
       "      <td>0.000088</td>\n",
       "      <td>-75.900442</td>\n",
       "      <td>38.805465</td>\n",
       "      <td>62.812527</td>\n",
       "    </tr>\n",
       "    <tr>\n",
       "      <th>3</th>\n",
       "      <td>3</td>\n",
       "      <td>139.193976</td>\n",
       "      <td>3.0</td>\n",
       "      <td>244528</td>\n",
       "      <td>0.000082</td>\n",
       "      <td>-75.864139</td>\n",
       "      <td>38.820742</td>\n",
       "      <td>134.193071</td>\n",
       "    </tr>\n",
       "    <tr>\n",
       "      <th>4</th>\n",
       "      <td>4</td>\n",
       "      <td>357.343938</td>\n",
       "      <td>4.0</td>\n",
       "      <td>241309</td>\n",
       "      <td>0.000115</td>\n",
       "      <td>-75.855429</td>\n",
       "      <td>38.815374</td>\n",
       "      <td>40.060784</td>\n",
       "    </tr>\n",
       "  </tbody>\n",
       "</table>\n",
       "</div>"
      ],
      "text/plain": [
       "   Id      area_m  IIDD  NEAR_FID  NEAR_DIST     NEAR_X     NEAR_Y  NEAR_ANGLE\n",
       "0   0  326.761001   0.0    234920   0.000034 -75.924082  38.803475  119.693861\n",
       "1   1   71.187956   1.0    233438   0.000141 -75.906349  38.800582 -117.761328\n",
       "2   2  103.188035   2.0    235855   0.000088 -75.900442  38.805465   62.812527\n",
       "3   3  139.193976   3.0    244528   0.000082 -75.864139  38.820742  134.193071\n",
       "4   4  357.343938   4.0    241309   0.000115 -75.855429  38.815374   40.060784"
      ]
     },
     "execution_count": 50,
     "metadata": {},
     "output_type": "execute_result"
    }
   ],
   "source": [
    "df.head()"
   ]
  },
  {
   "cell_type": "code",
   "execution_count": 39,
   "metadata": {},
   "outputs": [],
   "source": [
    "from dbfread import DBF"
   ]
  },
  {
   "cell_type": "code",
   "execution_count": 40,
   "metadata": {},
   "outputs": [],
   "source": [
    "dbf = DBF(r'K:\\OneDrive_NJIT\\OneDrive - NJIT\\Research\\House\\maryland\\location_Kim_pop.dbf', encoding='iso-8859-1') "
   ]
  },
  {
   "cell_type": "code",
   "execution_count": 42,
   "metadata": {},
   "outputs": [],
   "source": [
    "dbf_df =pd.DataFrame(iter(dbf))"
   ]
  },
  {
   "cell_type": "code",
   "execution_count": 51,
   "metadata": {},
   "outputs": [],
   "source": [
    "dbf_df['NEAR_FID'] = dbf_df.index"
   ]
  },
  {
   "cell_type": "code",
   "execution_count": 52,
   "metadata": {
    "scrolled": false
   },
   "outputs": [
    {
     "data": {
      "text/html": [
       "<div>\n",
       "<style scoped>\n",
       "    .dataframe tbody tr th:only-of-type {\n",
       "        vertical-align: middle;\n",
       "    }\n",
       "\n",
       "    .dataframe tbody tr th {\n",
       "        vertical-align: top;\n",
       "    }\n",
       "\n",
       "    .dataframe thead th {\n",
       "        text-align: right;\n",
       "    }\n",
       "</style>\n",
       "<table border=\"1\" class=\"dataframe\">\n",
       "  <thead>\n",
       "    <tr style=\"text-align: right;\">\n",
       "      <th></th>\n",
       "      <th>FID_locati</th>\n",
       "      <th>JURSCODE</th>\n",
       "      <th>ACCTID</th>\n",
       "      <th>story</th>\n",
       "      <th>material</th>\n",
       "      <th>Latitude</th>\n",
       "      <th>Longitude</th>\n",
       "      <th>FID_ACS_20</th>\n",
       "      <th>ACS_2017_5</th>\n",
       "      <th>ACS_2017_6</th>\n",
       "      <th>ACS_2017_7</th>\n",
       "      <th>ACS_2017_8</th>\n",
       "      <th>ACS_2017_9</th>\n",
       "      <th>X00_COUNTS</th>\n",
       "      <th>X00_COUN_1</th>\n",
       "      <th>X00_COUN_2</th>\n",
       "      <th>total_pop</th>\n",
       "      <th>FID</th>\n",
       "      <th>NEAR_FID</th>\n",
       "    </tr>\n",
       "  </thead>\n",
       "  <tbody>\n",
       "    <tr>\n",
       "      <th>1562630</th>\n",
       "      <td>19884</td>\n",
       "      <td>ALLE</td>\n",
       "      <td>105031982.0</td>\n",
       "      <td>2.0</td>\n",
       "      <td>Siding</td>\n",
       "      <td>39.722619</td>\n",
       "      <td>-78.721926</td>\n",
       "      <td>3494</td>\n",
       "      <td>000300</td>\n",
       "      <td>240010003001</td>\n",
       "      <td>0.305669</td>\n",
       "      <td>0.001409</td>\n",
       "      <td>15000US240010003001</td>\n",
       "      <td>15000US240010003001</td>\n",
       "      <td>134.0</td>\n",
       "      <td>52.0</td>\n",
       "      <td>1363</td>\n",
       "      <td>1562630</td>\n",
       "      <td>1562630</td>\n",
       "    </tr>\n",
       "    <tr>\n",
       "      <th>1562631</th>\n",
       "      <td>12058</td>\n",
       "      <td>ALLE</td>\n",
       "      <td>120011513.0</td>\n",
       "      <td>1.0</td>\n",
       "      <td>Brick</td>\n",
       "      <td>39.722630</td>\n",
       "      <td>-78.781934</td>\n",
       "      <td>972</td>\n",
       "      <td>001502</td>\n",
       "      <td>240010015021</td>\n",
       "      <td>0.267556</td>\n",
       "      <td>0.002498</td>\n",
       "      <td>15000US240010015021</td>\n",
       "      <td>15000US240010015021</td>\n",
       "      <td>255.0</td>\n",
       "      <td>120.0</td>\n",
       "      <td>1902</td>\n",
       "      <td>1562631</td>\n",
       "      <td>1562631</td>\n",
       "    </tr>\n",
       "    <tr>\n",
       "      <th>1562632</th>\n",
       "      <td>348</td>\n",
       "      <td>ALLE</td>\n",
       "      <td>120002565.0</td>\n",
       "      <td>1.0</td>\n",
       "      <td>Frame</td>\n",
       "      <td>39.722631</td>\n",
       "      <td>-78.776613</td>\n",
       "      <td>972</td>\n",
       "      <td>001502</td>\n",
       "      <td>240010015021</td>\n",
       "      <td>0.267556</td>\n",
       "      <td>0.002498</td>\n",
       "      <td>15000US240010015021</td>\n",
       "      <td>15000US240010015021</td>\n",
       "      <td>255.0</td>\n",
       "      <td>120.0</td>\n",
       "      <td>1902</td>\n",
       "      <td>1562632</td>\n",
       "      <td>1562632</td>\n",
       "    </tr>\n",
       "    <tr>\n",
       "      <th>1562633</th>\n",
       "      <td>8361</td>\n",
       "      <td>ALLE</td>\n",
       "      <td>134010463.0</td>\n",
       "      <td>2.0</td>\n",
       "      <td>Frame</td>\n",
       "      <td>39.722637</td>\n",
       "      <td>-78.693085</td>\n",
       "      <td>3866</td>\n",
       "      <td>000200</td>\n",
       "      <td>240010002002</td>\n",
       "      <td>0.398168</td>\n",
       "      <td>0.004991</td>\n",
       "      <td>15000US240010002002</td>\n",
       "      <td>15000US240010002002</td>\n",
       "      <td>99.0</td>\n",
       "      <td>49.0</td>\n",
       "      <td>1013</td>\n",
       "      <td>1562633</td>\n",
       "      <td>1562633</td>\n",
       "    </tr>\n",
       "    <tr>\n",
       "      <th>1562634</th>\n",
       "      <td>8362</td>\n",
       "      <td>ALLE</td>\n",
       "      <td>134005141.0</td>\n",
       "      <td>2.0</td>\n",
       "      <td>Siding</td>\n",
       "      <td>39.722637</td>\n",
       "      <td>-78.690063</td>\n",
       "      <td>3866</td>\n",
       "      <td>000200</td>\n",
       "      <td>240010002002</td>\n",
       "      <td>0.398168</td>\n",
       "      <td>0.004991</td>\n",
       "      <td>15000US240010002002</td>\n",
       "      <td>15000US240010002002</td>\n",
       "      <td>99.0</td>\n",
       "      <td>49.0</td>\n",
       "      <td>1013</td>\n",
       "      <td>1562634</td>\n",
       "      <td>1562634</td>\n",
       "    </tr>\n",
       "    <tr>\n",
       "      <th>1562635</th>\n",
       "      <td>7135</td>\n",
       "      <td>ALLE</td>\n",
       "      <td>120012587.0</td>\n",
       "      <td>2.0</td>\n",
       "      <td>Brick</td>\n",
       "      <td>39.722774</td>\n",
       "      <td>-78.777926</td>\n",
       "      <td>972</td>\n",
       "      <td>001502</td>\n",
       "      <td>240010015021</td>\n",
       "      <td>0.267556</td>\n",
       "      <td>0.002498</td>\n",
       "      <td>15000US240010015021</td>\n",
       "      <td>15000US240010015021</td>\n",
       "      <td>255.0</td>\n",
       "      <td>120.0</td>\n",
       "      <td>1902</td>\n",
       "      <td>1562635</td>\n",
       "      <td>1562635</td>\n",
       "    </tr>\n",
       "    <tr>\n",
       "      <th>1562636</th>\n",
       "      <td>18020</td>\n",
       "      <td>ALLE</td>\n",
       "      <td>120004398.0</td>\n",
       "      <td>1.0</td>\n",
       "      <td>Siding</td>\n",
       "      <td>39.722878</td>\n",
       "      <td>-78.776631</td>\n",
       "      <td>972</td>\n",
       "      <td>001502</td>\n",
       "      <td>240010015021</td>\n",
       "      <td>0.267556</td>\n",
       "      <td>0.002498</td>\n",
       "      <td>15000US240010015021</td>\n",
       "      <td>15000US240010015021</td>\n",
       "      <td>255.0</td>\n",
       "      <td>120.0</td>\n",
       "      <td>1902</td>\n",
       "      <td>1562636</td>\n",
       "      <td>1562636</td>\n",
       "    </tr>\n",
       "    <tr>\n",
       "      <th>1562637</th>\n",
       "      <td>8346</td>\n",
       "      <td>ALLE</td>\n",
       "      <td>120013435.0</td>\n",
       "      <td>2.0</td>\n",
       "      <td>Siding</td>\n",
       "      <td>39.722879</td>\n",
       "      <td>-78.780020</td>\n",
       "      <td>972</td>\n",
       "      <td>001502</td>\n",
       "      <td>240010015021</td>\n",
       "      <td>0.267556</td>\n",
       "      <td>0.002498</td>\n",
       "      <td>15000US240010015021</td>\n",
       "      <td>15000US240010015021</td>\n",
       "      <td>255.0</td>\n",
       "      <td>120.0</td>\n",
       "      <td>1902</td>\n",
       "      <td>1562637</td>\n",
       "      <td>1562637</td>\n",
       "    </tr>\n",
       "    <tr>\n",
       "      <th>1562638</th>\n",
       "      <td>18019</td>\n",
       "      <td>ALLE</td>\n",
       "      <td>120005904.0</td>\n",
       "      <td>2.0</td>\n",
       "      <td>Siding</td>\n",
       "      <td>39.722883</td>\n",
       "      <td>-78.776250</td>\n",
       "      <td>972</td>\n",
       "      <td>001502</td>\n",
       "      <td>240010015021</td>\n",
       "      <td>0.267556</td>\n",
       "      <td>0.002498</td>\n",
       "      <td>15000US240010015021</td>\n",
       "      <td>15000US240010015021</td>\n",
       "      <td>255.0</td>\n",
       "      <td>120.0</td>\n",
       "      <td>1902</td>\n",
       "      <td>1562638</td>\n",
       "      <td>1562638</td>\n",
       "    </tr>\n",
       "    <tr>\n",
       "      <th>1562639</th>\n",
       "      <td>1173</td>\n",
       "      <td>ALLE</td>\n",
       "      <td>113012040.0</td>\n",
       "      <td>1.5</td>\n",
       "      <td>Siding</td>\n",
       "      <td>39.722886</td>\n",
       "      <td>-78.845524</td>\n",
       "      <td>3491</td>\n",
       "      <td>001503</td>\n",
       "      <td>240010015031</td>\n",
       "      <td>0.220956</td>\n",
       "      <td>0.001293</td>\n",
       "      <td>15000US240010015031</td>\n",
       "      <td>15000US240010015031</td>\n",
       "      <td>92.0</td>\n",
       "      <td>39.0</td>\n",
       "      <td>529</td>\n",
       "      <td>1562639</td>\n",
       "      <td>1562639</td>\n",
       "    </tr>\n",
       "  </tbody>\n",
       "</table>\n",
       "</div>"
      ],
      "text/plain": [
       "         FID_locati JURSCODE       ACCTID  story material   Latitude  \\\n",
       "1562630       19884     ALLE  105031982.0    2.0   Siding  39.722619   \n",
       "1562631       12058     ALLE  120011513.0    1.0    Brick  39.722630   \n",
       "1562632         348     ALLE  120002565.0    1.0    Frame  39.722631   \n",
       "1562633        8361     ALLE  134010463.0    2.0    Frame  39.722637   \n",
       "1562634        8362     ALLE  134005141.0    2.0   Siding  39.722637   \n",
       "1562635        7135     ALLE  120012587.0    2.0    Brick  39.722774   \n",
       "1562636       18020     ALLE  120004398.0    1.0   Siding  39.722878   \n",
       "1562637        8346     ALLE  120013435.0    2.0   Siding  39.722879   \n",
       "1562638       18019     ALLE  120005904.0    2.0   Siding  39.722883   \n",
       "1562639        1173     ALLE  113012040.0    1.5   Siding  39.722886   \n",
       "\n",
       "         Longitude  FID_ACS_20 ACS_2017_5    ACS_2017_6  ACS_2017_7  \\\n",
       "1562630 -78.721926        3494     000300  240010003001    0.305669   \n",
       "1562631 -78.781934         972     001502  240010015021    0.267556   \n",
       "1562632 -78.776613         972     001502  240010015021    0.267556   \n",
       "1562633 -78.693085        3866     000200  240010002002    0.398168   \n",
       "1562634 -78.690063        3866     000200  240010002002    0.398168   \n",
       "1562635 -78.777926         972     001502  240010015021    0.267556   \n",
       "1562636 -78.776631         972     001502  240010015021    0.267556   \n",
       "1562637 -78.780020         972     001502  240010015021    0.267556   \n",
       "1562638 -78.776250         972     001502  240010015021    0.267556   \n",
       "1562639 -78.845524        3491     001503  240010015031    0.220956   \n",
       "\n",
       "         ACS_2017_8           ACS_2017_9           X00_COUNTS  X00_COUN_1  \\\n",
       "1562630    0.001409  15000US240010003001  15000US240010003001       134.0   \n",
       "1562631    0.002498  15000US240010015021  15000US240010015021       255.0   \n",
       "1562632    0.002498  15000US240010015021  15000US240010015021       255.0   \n",
       "1562633    0.004991  15000US240010002002  15000US240010002002        99.0   \n",
       "1562634    0.004991  15000US240010002002  15000US240010002002        99.0   \n",
       "1562635    0.002498  15000US240010015021  15000US240010015021       255.0   \n",
       "1562636    0.002498  15000US240010015021  15000US240010015021       255.0   \n",
       "1562637    0.002498  15000US240010015021  15000US240010015021       255.0   \n",
       "1562638    0.002498  15000US240010015021  15000US240010015021       255.0   \n",
       "1562639    0.001293  15000US240010015031  15000US240010015031        92.0   \n",
       "\n",
       "         X00_COUN_2  total_pop      FID  NEAR_FID  \n",
       "1562630        52.0       1363  1562630   1562630  \n",
       "1562631       120.0       1902  1562631   1562631  \n",
       "1562632       120.0       1902  1562632   1562632  \n",
       "1562633        49.0       1013  1562633   1562633  \n",
       "1562634        49.0       1013  1562634   1562634  \n",
       "1562635       120.0       1902  1562635   1562635  \n",
       "1562636       120.0       1902  1562636   1562636  \n",
       "1562637       120.0       1902  1562637   1562637  \n",
       "1562638       120.0       1902  1562638   1562638  \n",
       "1562639        39.0        529  1562639   1562639  "
      ]
     },
     "execution_count": 52,
     "metadata": {},
     "output_type": "execute_result"
    }
   ],
   "source": [
    "dbf_df.iloc[-10:]"
   ]
  },
  {
   "cell_type": "code",
   "execution_count": 63,
   "metadata": {},
   "outputs": [
    {
     "data": {
      "text/plain": [
       "1200259"
      ]
     },
     "execution_count": 63,
     "metadata": {},
     "output_type": "execute_result"
    }
   ],
   "source": [
    "len(merged)"
   ]
  },
  {
   "cell_type": "code",
   "execution_count": null,
   "metadata": {},
   "outputs": [],
   "source": [
    "merged = pd.merge(df, dbf_df, on='NEAR_FID')"
   ]
  },
  {
   "cell_type": "code",
   "execution_count": 64,
   "metadata": {},
   "outputs": [
    {
     "data": {
      "text/html": [
       "<div>\n",
       "<style scoped>\n",
       "    .dataframe tbody tr th:only-of-type {\n",
       "        vertical-align: middle;\n",
       "    }\n",
       "\n",
       "    .dataframe tbody tr th {\n",
       "        vertical-align: top;\n",
       "    }\n",
       "\n",
       "    .dataframe thead th {\n",
       "        text-align: right;\n",
       "    }\n",
       "</style>\n",
       "<table border=\"1\" class=\"dataframe\">\n",
       "  <thead>\n",
       "    <tr style=\"text-align: right;\">\n",
       "      <th></th>\n",
       "      <th>Id</th>\n",
       "      <th>area_m</th>\n",
       "      <th>IIDD</th>\n",
       "      <th>NEAR_FID</th>\n",
       "      <th>NEAR_DIST</th>\n",
       "      <th>NEAR_X</th>\n",
       "      <th>NEAR_Y</th>\n",
       "      <th>NEAR_ANGLE</th>\n",
       "      <th>FID_locati</th>\n",
       "      <th>JURSCODE</th>\n",
       "      <th>...</th>\n",
       "      <th>ACS_2017_5</th>\n",
       "      <th>ACS_2017_6</th>\n",
       "      <th>ACS_2017_7</th>\n",
       "      <th>ACS_2017_8</th>\n",
       "      <th>ACS_2017_9</th>\n",
       "      <th>X00_COUNTS</th>\n",
       "      <th>X00_COUN_1</th>\n",
       "      <th>X00_COUN_2</th>\n",
       "      <th>total_pop</th>\n",
       "      <th>FID</th>\n",
       "    </tr>\n",
       "  </thead>\n",
       "  <tbody>\n",
       "    <tr>\n",
       "      <th>0</th>\n",
       "      <td>0</td>\n",
       "      <td>326.761001</td>\n",
       "      <td>0.0</td>\n",
       "      <td>234920</td>\n",
       "      <td>0.000034</td>\n",
       "      <td>-75.924082</td>\n",
       "      <td>38.803475</td>\n",
       "      <td>119.693861</td>\n",
       "      <td>1470342</td>\n",
       "      <td>TALB</td>\n",
       "      <td>...</td>\n",
       "      <td>960100</td>\n",
       "      <td>240419601001</td>\n",
       "      <td>0.619781</td>\n",
       "      <td>0.010411</td>\n",
       "      <td>15000US240419601001</td>\n",
       "      <td>15000US240419601001</td>\n",
       "      <td>186.0</td>\n",
       "      <td>83.0</td>\n",
       "      <td>1861</td>\n",
       "      <td>234920</td>\n",
       "    </tr>\n",
       "    <tr>\n",
       "      <th>1</th>\n",
       "      <td>1</td>\n",
       "      <td>71.187956</td>\n",
       "      <td>1.0</td>\n",
       "      <td>233438</td>\n",
       "      <td>0.000141</td>\n",
       "      <td>-75.906349</td>\n",
       "      <td>38.800582</td>\n",
       "      <td>-117.761328</td>\n",
       "      <td>586901</td>\n",
       "      <td>CARO</td>\n",
       "      <td>...</td>\n",
       "      <td>955400</td>\n",
       "      <td>240119554002</td>\n",
       "      <td>0.343141</td>\n",
       "      <td>0.005224</td>\n",
       "      <td>15000US240119554002</td>\n",
       "      <td>15000US240119554002</td>\n",
       "      <td>196.0</td>\n",
       "      <td>69.0</td>\n",
       "      <td>1404</td>\n",
       "      <td>233438</td>\n",
       "    </tr>\n",
       "    <tr>\n",
       "      <th>2</th>\n",
       "      <td>406248</td>\n",
       "      <td>282.023503</td>\n",
       "      <td>406248.0</td>\n",
       "      <td>233438</td>\n",
       "      <td>0.000003</td>\n",
       "      <td>-75.906349</td>\n",
       "      <td>38.800582</td>\n",
       "      <td>32.186794</td>\n",
       "      <td>586901</td>\n",
       "      <td>CARO</td>\n",
       "      <td>...</td>\n",
       "      <td>955400</td>\n",
       "      <td>240119554002</td>\n",
       "      <td>0.343141</td>\n",
       "      <td>0.005224</td>\n",
       "      <td>15000US240119554002</td>\n",
       "      <td>15000US240119554002</td>\n",
       "      <td>196.0</td>\n",
       "      <td>69.0</td>\n",
       "      <td>1404</td>\n",
       "      <td>233438</td>\n",
       "    </tr>\n",
       "    <tr>\n",
       "      <th>3</th>\n",
       "      <td>2</td>\n",
       "      <td>103.188035</td>\n",
       "      <td>2.0</td>\n",
       "      <td>235855</td>\n",
       "      <td>0.000088</td>\n",
       "      <td>-75.900442</td>\n",
       "      <td>38.805465</td>\n",
       "      <td>62.812527</td>\n",
       "      <td>587032</td>\n",
       "      <td>CARO</td>\n",
       "      <td>...</td>\n",
       "      <td>955400</td>\n",
       "      <td>240119554002</td>\n",
       "      <td>0.343141</td>\n",
       "      <td>0.005224</td>\n",
       "      <td>15000US240119554002</td>\n",
       "      <td>15000US240119554002</td>\n",
       "      <td>196.0</td>\n",
       "      <td>69.0</td>\n",
       "      <td>1404</td>\n",
       "      <td>235855</td>\n",
       "    </tr>\n",
       "    <tr>\n",
       "      <th>4</th>\n",
       "      <td>3</td>\n",
       "      <td>139.193976</td>\n",
       "      <td>3.0</td>\n",
       "      <td>244528</td>\n",
       "      <td>0.000082</td>\n",
       "      <td>-75.864139</td>\n",
       "      <td>38.820742</td>\n",
       "      <td>134.193071</td>\n",
       "      <td>591246</td>\n",
       "      <td>CARO</td>\n",
       "      <td>...</td>\n",
       "      <td>955400</td>\n",
       "      <td>240119554002</td>\n",
       "      <td>0.343141</td>\n",
       "      <td>0.005224</td>\n",
       "      <td>15000US240119554002</td>\n",
       "      <td>15000US240119554002</td>\n",
       "      <td>196.0</td>\n",
       "      <td>69.0</td>\n",
       "      <td>1404</td>\n",
       "      <td>244528</td>\n",
       "    </tr>\n",
       "  </tbody>\n",
       "</table>\n",
       "<p>5 rows × 26 columns</p>\n",
       "</div>"
      ],
      "text/plain": [
       "       Id      area_m      IIDD  NEAR_FID  NEAR_DIST     NEAR_X     NEAR_Y  \\\n",
       "0       0  326.761001       0.0    234920   0.000034 -75.924082  38.803475   \n",
       "1       1   71.187956       1.0    233438   0.000141 -75.906349  38.800582   \n",
       "2  406248  282.023503  406248.0    233438   0.000003 -75.906349  38.800582   \n",
       "3       2  103.188035       2.0    235855   0.000088 -75.900442  38.805465   \n",
       "4       3  139.193976       3.0    244528   0.000082 -75.864139  38.820742   \n",
       "\n",
       "   NEAR_ANGLE  FID_locati JURSCODE  ...  ACS_2017_5    ACS_2017_6 ACS_2017_7  \\\n",
       "0  119.693861     1470342     TALB  ...      960100  240419601001   0.619781   \n",
       "1 -117.761328      586901     CARO  ...      955400  240119554002   0.343141   \n",
       "2   32.186794      586901     CARO  ...      955400  240119554002   0.343141   \n",
       "3   62.812527      587032     CARO  ...      955400  240119554002   0.343141   \n",
       "4  134.193071      591246     CARO  ...      955400  240119554002   0.343141   \n",
       "\n",
       "   ACS_2017_8           ACS_2017_9           X00_COUNTS X00_COUN_1 X00_COUN_2  \\\n",
       "0    0.010411  15000US240419601001  15000US240419601001      186.0       83.0   \n",
       "1    0.005224  15000US240119554002  15000US240119554002      196.0       69.0   \n",
       "2    0.005224  15000US240119554002  15000US240119554002      196.0       69.0   \n",
       "3    0.005224  15000US240119554002  15000US240119554002      196.0       69.0   \n",
       "4    0.005224  15000US240119554002  15000US240119554002      196.0       69.0   \n",
       "\n",
       "   total_pop     FID  \n",
       "0       1861  234920  \n",
       "1       1404  233438  \n",
       "2       1404  233438  \n",
       "3       1404  235855  \n",
       "4       1404  244528  \n",
       "\n",
       "[5 rows x 26 columns]"
      ]
     },
     "execution_count": 64,
     "metadata": {},
     "output_type": "execute_result"
    }
   ],
   "source": [
    "merged.head()"
   ]
  },
  {
   "cell_type": "code",
   "execution_count": null,
   "metadata": {},
   "outputs": [],
   "source": []
  },
  {
   "cell_type": "code",
   "execution_count": 67,
   "metadata": {},
   "outputs": [],
   "source": [
    "import numpy as np\n",
    "with open(r'K:\\OneDrive_NJIT\\OneDrive - NJIT\\Research\\House\\maryland\\footprints\\building_attri2.csv', 'w') as f:\n",
    "    f.write(f\"FID,area_m,ACCTID,story,GEOID,tract_pop,lon,lat,Polygon\\n\" )\n",
    "    for i in range(len(shapes[:])):\n",
    "        pts = shapes[i].points\n",
    "        p = Polygon(shapes[i].points)\n",
    "        pts_np = np.array(pts)\n",
    "        lon = pts_np[:, 0].mean()\n",
    "        lat = pts_np[:, 1].mean()\n",
    "        f.write(f\"{int(records[i]['IIDD'])},{records[i]['area_m']},{int(records[i]['ACCTID'])},{records[i]['story']},{records[i]['ACS_2017_6']},{records[i]['total_pop']},{lon},{lat},\\\"{str(p)}\\\"\\n\" )"
   ]
  },
  {
   "cell_type": "code",
   "execution_count": null,
   "metadata": {},
   "outputs": [],
   "source": []
  }
 ],
 "metadata": {
  "kernelspec": {
   "display_name": "Python 3",
   "language": "python",
   "name": "python3"
  },
  "language_info": {
   "codemirror_mode": {
    "name": "ipython",
    "version": 3
   },
   "file_extension": ".py",
   "mimetype": "text/x-python",
   "name": "python",
   "nbconvert_exporter": "python",
   "pygments_lexer": "ipython3",
   "version": "3.7.4"
  },
  "toc": {
   "base_numbering": 1,
   "nav_menu": {},
   "number_sections": true,
   "sideBar": true,
   "skip_h1_title": false,
   "title_cell": "Table of Contents",
   "title_sidebar": "Contents",
   "toc_cell": false,
   "toc_position": {},
   "toc_section_display": true,
   "toc_window_display": false
  },
  "varInspector": {
   "cols": {
    "lenName": 16,
    "lenType": 16,
    "lenVar": 40
   },
   "kernels_config": {
    "python": {
     "delete_cmd_postfix": "",
     "delete_cmd_prefix": "del ",
     "library": "var_list.py",
     "varRefreshCmd": "print(var_dic_list())"
    },
    "r": {
     "delete_cmd_postfix": ") ",
     "delete_cmd_prefix": "rm(",
     "library": "var_list.r",
     "varRefreshCmd": "cat(var_dic_list()) "
    }
   },
   "types_to_exclude": [
    "module",
    "function",
    "builtin_function_or_method",
    "instance",
    "_Feature"
   ],
   "window_display": false
  }
 },
 "nbformat": 4,
 "nbformat_minor": 4
}

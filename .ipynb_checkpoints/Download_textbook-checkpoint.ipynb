{
 "cells": [
  {
   "cell_type": "code",
   "execution_count": 1,
   "metadata": {},
   "outputs": [],
   "source": [
    "import pandas as pd\n",
    "import math"
   ]
  },
  {
   "cell_type": "code",
   "execution_count": 21,
   "metadata": {},
   "outputs": [
    {
     "ename": "XPathEvalError",
     "evalue": "Invalid expression",
     "output_type": "error",
     "traceback": [
      "\u001b[1;31m---------------------------------------------------------------------------\u001b[0m",
      "\u001b[1;31mXPathEvalError\u001b[0m                            Traceback (most recent call last)",
      "\u001b[1;32m<ipython-input-21-92a54d6ff26f>\u001b[0m in \u001b[0;36m<module>\u001b[1;34m\u001b[0m\n\u001b[0;32m      4\u001b[0m \u001b[0mpage2\u001b[0m\u001b[1;33m=\u001b[0m\u001b[0mrequests\u001b[0m\u001b[1;33m.\u001b[0m\u001b[0mSession\u001b[0m\u001b[1;33m(\u001b[0m\u001b[1;33m)\u001b[0m\u001b[1;33m.\u001b[0m\u001b[0mget\u001b[0m\u001b[1;33m(\u001b[0m\u001b[0murl2\u001b[0m\u001b[1;33m)\u001b[0m\u001b[1;33m\u001b[0m\u001b[1;33m\u001b[0m\u001b[0m\n\u001b[0;32m      5\u001b[0m \u001b[0mtree2\u001b[0m\u001b[1;33m=\u001b[0m\u001b[0mhtml\u001b[0m\u001b[1;33m.\u001b[0m\u001b[0mfromstring\u001b[0m\u001b[1;33m(\u001b[0m\u001b[0mpage2\u001b[0m\u001b[1;33m.\u001b[0m\u001b[0mtext\u001b[0m\u001b[1;33m)\u001b[0m\u001b[1;33m\u001b[0m\u001b[1;33m\u001b[0m\u001b[0m\n\u001b[1;32m----> 6\u001b[1;33m \u001b[0mresult2\u001b[0m\u001b[1;33m=\u001b[0m\u001b[0mtree2\u001b[0m\u001b[1;33m.\u001b[0m\u001b[0mxpath\u001b[0m\u001b[1;33m(\u001b[0m\u001b[1;34m'//fl js_cp//a/text()'\u001b[0m\u001b[1;33m)\u001b[0m \u001b[1;31m#获取需要的数据\u001b[0m\u001b[1;33m\u001b[0m\u001b[1;33m\u001b[0m\u001b[0m\n\u001b[0m\u001b[0;32m      7\u001b[0m \u001b[0mresult2\u001b[0m\u001b[1;33m\u001b[0m\u001b[1;33m\u001b[0m\u001b[0m\n",
      "\u001b[1;32msrc/lxml/etree.pyx\u001b[0m in \u001b[0;36mlxml.etree._Element.xpath\u001b[1;34m()\u001b[0m\n",
      "\u001b[1;32msrc/lxml/xpath.pxi\u001b[0m in \u001b[0;36mlxml.etree.XPathElementEvaluator.__call__\u001b[1;34m()\u001b[0m\n",
      "\u001b[1;32msrc/lxml/xpath.pxi\u001b[0m in \u001b[0;36mlxml.etree._XPathEvaluatorBase._handle_result\u001b[1;34m()\u001b[0m\n",
      "\u001b[1;31mXPathEvalError\u001b[0m: Invalid expression"
     ]
    }
   ],
   "source": [
    "import requests\n",
    "from lxml import html\n",
    "url2='https://bp.pep.com.cn/jc/ywjygjkcjc/xxsxjsys/' #需要爬数据的网址\n",
    "page2=requests.Session().get(url2) \n",
    "tree2=html.fromstring(page2.text) \n",
    "result2=tree2.xpath('//fl js_cp//a/text()') #获取需要的数据\n",
    "result2"
   ]
  },
  {
   "cell_type": "code",
   "execution_count": null,
   "metadata": {},
   "outputs": [],
   "source": []
  },
  {
   "cell_type": "code",
   "execution_count": null,
   "metadata": {},
   "outputs": [],
   "source": [
    "result3=tree2.xpath('//fl js_cp[@class=\"h_list\"]//span/text()') #获取需要的数据\n",
    "result3"
   ]
  },
  {
   "cell_type": "code",
   "execution_count": 22,
   "metadata": {},
   "outputs": [
    {
     "name": "stdout",
     "output_type": "stream",
     "text": [
      "<!doctype html>\n",
      "<html>\n",
      "<head>\n",
      "<meta charset=\"utf-8\">\n",
      "<meta name=\"format-detection\" content=\"telephone=no\">\n",
      "<meta name=\"viewport\" content=\"width=device-width,initial-scale=1,minimum-scale=1,maximum-scale=1,user-scalable=no\" />\n",
      "<title>思想政治教科书</title>\n",
      "<!--[if lt IE 9]> \n",
      "<script language=\"javascript\" type=\"text/jscript\" src=\"../../../images/html5_6_1.js\"></script>\n",
      "<script src=\"../../../images/respond_6_1.js\" type=\"text/javascript\" language=\"javascript\"></script>\n",
      "<![endif]-->\n",
      "<link href=\"../../../images/cssreset_2_1.css\" rel=\"stylesheet\" type=\"text/css\">\n",
      "<link href=\"../../../images/jcdzs2020.css\" rel=\"stylesheet\" type=\"text/css\">\n",
      "<style>\n",
      ".banner_jcdzs2020{ background-position:center;}\n",
      ".con_list_jcdzs2020 h6{ min-height:64px;}\n",
      "</style>\n",
      "</head>\n",
      "\n",
      "<body>\n",
      "<div class=\"banner_jcdzs2020\"><img src=\"../../../images/banner_jcdzs2020.jpg\" class=\"m_pxap\" alt=\"\" /></div>\n",
      "\n",
      "<div id=\"container\" class=\"p_b_0\">\n",
      "\t<div class=\"con_current_jcdzs2020 hide_cp\">\n",
      "\t\t当前位置：<a href=\"../../ \">首页</a><span>&gt;</span><a href=\"../\" target=\"_blank\" title=\"普通高中课程标准实验教科书\" class=\"CurrChnlCls\">普通高中课程标准实验教科书</a><span>&gt;</span><a href=\"./\" target=\"_blank\" title=\"思想政治教科书\" class=\"CurrChnlCls\">思想政治教科书</a>\n",
      "\t</div>\n",
      "  <div class=\"con_list_jcdzs2020\">\n",
      "    \t<div class=\"con_title_jcdzs2020\">\n",
      "       \t  <h4>思想政治教科书</h4>\n",
      "    \t</div>\n",
      "\n",
      "    \t<ul class=\"clearfix\">\n",
      "\n",
      "            <li class=\"fl js_cp\">\n",
      "            \t<a href=\"http://bp.pep.com.cn/ebook/gzsxzzbx2/index.html\" target=\"_blank\" title=\"思想政治2 必修 政治生活\"><img src=\"./202002/W020200211441264492709.jpg\" width=\"158\" height=\"220\" alt=\"\" /></a>\n",
      "                <h6><a href=\"http://bp.pep.com.cn/ebook/gzsxzzbx2/index.html\" target=\"_blank\" title=\"思想政治2 必修 政治生活\">思想政治2 必修 政治生活</a></h6>\n",
      "\t\t\t\t<div class=\"con_type_link_jcdzs2020\">\n",
      "\t\t\t\t\t<a href=\"http://bp.pep.com.cn/ebook/gzsxzzbx2/\" target=\"_blank\" title=\"阅读\" class=\"btn_type_dy\">阅读</a>\n",
      "\t\t\t\t\t<a href=\"./202002/P020200210569752434106.pdf\" target=\"_blank\" title=\"下载\" class=\"btn_type_dl\">下载</a>\n",
      "\t\t\t\t</div>\n",
      "            </li>\n",
      "\n",
      "            <li class=\"fl js_cp\">\n",
      "            \t<a href=\"http://bp.pep.com.cn/ebook/gzsxzzbx3/index.html\" target=\"_blank\" title=\"思想政治3 必修 文化生活\"><img src=\"./202002/W020200211441411504963.jpg\" width=\"158\" height=\"220\" alt=\"\" /></a>\n",
      "                <h6><a href=\"http://bp.pep.com.cn/ebook/gzsxzzbx3/index.html\" target=\"_blank\" title=\"思想政治3 必修 文化生活\">思想政治3 必修 文化生活</a></h6>\n",
      "\t\t\t\t<div class=\"con_type_link_jcdzs2020\">\n",
      "\t\t\t\t\t<a href=\"http://bp.pep.com.cn/ebook/gzsxzzbx3/\" target=\"_blank\" title=\"阅读\" class=\"btn_type_dy\">阅读</a>\n",
      "\t\t\t\t\t<a href=\"./202002/P020200210569909723488.pdf\" target=\"_blank\" title=\"下载\" class=\"btn_type_dl\">下载</a>\n",
      "\t\t\t\t</div>\n",
      "            </li>\n",
      "\n",
      "            <li class=\"fl js_cp\">\n",
      "            \t<a href=\"http://bp.pep.com.cn/ebook/gzsxzzbx4/index.html\" target=\"_blank\" title=\"思想政治4 必修 生活与哲学\"><img src=\"./202002/W020200211441560723500.jpg\" width=\"158\" height=\"220\" alt=\"\" /></a>\n",
      "                <h6><a href=\"http://bp.pep.com.cn/ebook/gzsxzzbx4/index.html\" target=\"_blank\" title=\"思想政治4 必修 生活与哲学\">思想政治4 必修 生活与哲学</a></h6>\n",
      "\t\t\t\t<div class=\"con_type_link_jcdzs2020\">\n",
      "\t\t\t\t\t<a href=\"http://bp.pep.com.cn/ebook/gzsxzzbx4/\" target=\"_blank\" title=\"阅读\" class=\"btn_type_dy\">阅读</a>\n",
      "\t\t\t\t\t<a href=\"./202002/P020200210570060358498.pdf\" target=\"_blank\" title=\"下载\" class=\"btn_type_dl\">下载</a>\n",
      "\t\t\t\t</div>\n",
      "            </li>\n",
      "\n",
      "            <li class=\"fl js_cp\">\n",
      "            \t<a href=\"http://bp.pep.com.cn/ebook/gzsxzzxx1/index.html\" target=\"_blank\" title=\"思想政治 选修1 科学社会主义常识\"><img src=\"./202002/W020200211441713511837.jpg\" width=\"158\" height=\"220\" alt=\"\" /></a>\n",
      "                <h6><a href=\"http://bp.pep.com.cn/ebook/gzsxzzxx1/index.html\" target=\"_blank\" title=\"思想政治 选修1 科学社会主义常识\">思想政治 选修1 科学社会主义常识</a></h6>\n",
      "\t\t\t\t<div class=\"con_type_link_jcdzs2020\">\n",
      "\t\t\t\t\t<a href=\"http://bp.pep.com.cn/ebook/gzsxzzxx1/\" target=\"_blank\" title=\"阅读\" class=\"btn_type_dy\">阅读</a>\n",
      "\t\t\t\t\t<a href=\"./202002/P020200210118138353663.pdf\" target=\"_blank\" title=\"下载\" class=\"btn_type_dl\">下载</a>\n",
      "\t\t\t\t</div>\n",
      "            </li>\n",
      "\n",
      "            <li class=\"fl js_cp\">\n",
      "            \t<a href=\"http://bp.pep.com.cn/ebook/gzsxzzxx2/index.html\" target=\"_blank\" title=\"思想政治 选修2 经济学常识\"><img src=\"./202002/W020200211441846236139.jpg\" width=\"158\" height=\"220\" alt=\"\" /></a>\n",
      "                <h6><a href=\"http://bp.pep.com.cn/ebook/gzsxzzxx2/index.html\" target=\"_blank\" title=\"思想政治 选修2 经济学常识\">思想政治 选修2 经济学常识</a></h6>\n",
      "\t\t\t\t<div class=\"con_type_link_jcdzs2020\">\n",
      "\t\t\t\t\t<a href=\"http://bp.pep.com.cn/ebook/gzsxzzxx2/\" target=\"_blank\" title=\"阅读\" class=\"btn_type_dy\">阅读</a>\n",
      "\t\t\t\t\t<a href=\"./202002/P020200210570824538719.pdf\" target=\"_blank\" title=\"下载\" class=\"btn_type_dl\">下载</a>\n",
      "\t\t\t\t</div>\n",
      "            </li>\n",
      "\n",
      "            <li class=\"fl js_cp\">\n",
      "            \t<a href=\"http://bp.pep.com.cn/ebook/gzsxzzxx3/index.html\" target=\"_blank\" title=\"思想政治 选修3 国家和国际组织常识\"><img src=\"./202002/W020200211441996169894.jpg\" width=\"158\" height=\"220\" alt=\"\" /></a>\n",
      "                <h6><a href=\"http://bp.pep.com.cn/ebook/gzsxzzxx3/index.html\" target=\"_blank\" title=\"思想政治 选修3 国家和国际组织常识\">思想政治 选修3 国家和国际组织常识</a></h6>\n",
      "\t\t\t\t<div class=\"con_type_link_jcdzs2020\">\n",
      "\t\t\t\t\t<a href=\"http://bp.pep.com.cn/ebook/gzsxzzxx3/\" target=\"_blank\" title=\"阅读\" class=\"btn_type_dy\">阅读</a>\n",
      "\t\t\t\t\t<a href=\"./202002/P020200210571021687136.pdf\" target=\"_blank\" title=\"下载\" class=\"btn_type_dl\">下载</a>\n",
      "\t\t\t\t</div>\n",
      "            </li>\n",
      "\n",
      "        </ul>\n",
      "\n",
      "    \t<ul class=\"clearfix\">\n",
      "\n",
      "            <li class=\"fl js_cp\">\n",
      "            \t<a href=\"http://bp.pep.com.cn/ebook/gzsxzzxx4/index.html\" target=\"_blank\" title=\"思想政治 选修4 科学思维常识\"><img src=\"./202002/W020200211442123763717.jpg\" width=\"158\" height=\"220\" alt=\"\" /></a>\n",
      "                <h6><a href=\"http://bp.pep.com.cn/ebook/gzsxzzxx4/index.html\" target=\"_blank\" title=\"思想政治 选修4 科学思维常识\">思想政治 选修4 科学思维常识</a></h6>\n",
      "\t\t\t\t<div class=\"con_type_link_jcdzs2020\">\n",
      "\t\t\t\t\t<a href=\"http://bp.pep.com.cn/ebook/gzsxzzxx4/\" target=\"_blank\" title=\"阅读\" class=\"btn_type_dy\">阅读</a>\n",
      "\t\t\t\t\t<a href=\"./202002/P020200210571216246632.pdf\" target=\"_blank\" title=\"下载\" class=\"btn_type_dl\">下载</a>\n",
      "\t\t\t\t</div>\n",
      "            </li>\n",
      "\n",
      "            <li class=\"fl js_cp\">\n",
      "            \t<a href=\"http://bp.pep.com.cn/ebook/gzsxzzxx5/index.html\" target=\"_blank\" title=\"思想政治 选修5 生活中的法律常识\"><img src=\"./202002/W020200211442286851261.jpg\" width=\"158\" height=\"220\" alt=\"\" /></a>\n",
      "                <h6><a href=\"http://bp.pep.com.cn/ebook/gzsxzzxx5/index.html\" target=\"_blank\" title=\"思想政治 选修5 生活中的法律常识\">思想政治 选修5 生活中的法律常识</a></h6>\n",
      "\t\t\t\t<div class=\"con_type_link_jcdzs2020\">\n",
      "\t\t\t\t\t<a href=\"http://bp.pep.com.cn/ebook/gzsxzzxx5/\" target=\"_blank\" title=\"阅读\" class=\"btn_type_dy\">阅读</a>\n",
      "\t\t\t\t\t<a href=\"./202002/P020200210571410972266.pdf\" target=\"_blank\" title=\"下载\" class=\"btn_type_dl\">下载</a>\n",
      "\t\t\t\t</div>\n",
      "            </li>\n",
      "\n",
      "            <li class=\"fl js_cp\">\n",
      "            \t<a href=\"http://bp.pep.com.cn/ebook/gzsxzzxx6/index.html\" target=\"_blank\" title=\"思想政治 选修6 公民道德与伦理常识\"><img src=\"./202002/W020200211442418535627.jpg\" width=\"158\" height=\"220\" alt=\"\" /></a>\n",
      "                <h6><a href=\"http://bp.pep.com.cn/ebook/gzsxzzxx6/index.html\" target=\"_blank\" title=\"思想政治 选修6 公民道德与伦理常识\">思想政治 选修6 公民道德与伦理常识</a></h6>\n",
      "\t\t\t\t<div class=\"con_type_link_jcdzs2020\">\n",
      "\t\t\t\t\t<a href=\"http://bp.pep.com.cn/ebook/gzsxzzxx6/\" target=\"_blank\" title=\"阅读\" class=\"btn_type_dy\">阅读</a>\n",
      "\t\t\t\t\t<a href=\"./202002/P020200210571562932684.pdf\" target=\"_blank\" title=\"下载\" class=\"btn_type_dl\">下载</a>\n",
      "\t\t\t\t</div>\n",
      "            </li>\n",
      "\n",
      "        </ul>\n",
      "\n",
      "  </div>    \t\n",
      "</div>\n",
      "\n",
      "<div class=\"footer hide_cp\">\n",
      "\t<p>&copy;版权所有 人民教育出版社<br/><a href=\"http://www.miibeian.gov.cn/state/outPortal/loginPortal.action \" target=\"_blank\">京ICP备05019902号</a><span>|</span><a href=\"http://www.pep.com.cn/rjgl/rjdt/201011/t20101103_944967.shtml\" target=\"_blank\">新出网证(京)字016</a><span>|</span>京公网安备1104024400009号</p>\n",
      "</div>\n",
      "<div class=\"footer m_pxap\">\n",
      "    <a href=\"http://www.pep.com.cn\" target=\"_blank\">&copy;版权所有 人民教育出版社</a>\n",
      "    <a href=\"http://www.miibeian.gov.cn/state/outPortal/loginPortal.action \" target=\"_blank\">京ICP备05019902号</a><br>\n",
      "    <a href=\"http://www.pep.com.cn/rjgl/rjdt/201011/t20101103_944967.shtml\" target=\"_blank\">新出网证(京)字016</a>\n",
      "    <span>京公网安备110402440009号</span>\n",
      "</div>\n",
      "\n",
      "<script type=\"text/javascript\" src=\"../../../images/jquery_5_2.min.js\"></script>\n",
      "\n",
      "<script>\n",
      "$(function(){\n",
      "\t\n",
      "\tif($(window).width()>1000){\n",
      "\t\t$(\".con_title_jcdzs2020 h4\").each(function(index, element) {\n",
      "\t\t\t$(this).css(\"marginLeft\",-$(this).innerWidth()/2)\n",
      "\t\t});\n",
      "\t}\n",
      "\n",
      "if(/AppleWebKit.*Mobile/i.test(navigator.userAgent) || (/MIDP|SymbianOS|yangshipin|NOKIA|SAMSUNG|LG|NEC|TCL|Alcatel|BIRD|DBTEL|Dopod|PHILIPS|HAIER|LENOVO|MOT-|Nokia|SonyEricsson|SIE-|Amoi|ZTE/.test(navigator.userAgent))){\n",
      "\tif(window.location.href.indexOf(\"?mobile\")<0){\n",
      "\t\ttry{\n",
      "\t\t    $(\".con_type_link_jcdzs2020\").hide();\n",
      "$(\".js_cp a\").removeAttr(\"target\")\n",
      "\t\t}catch(e){}\n",
      "\t}\n",
      "}\n",
      "\n",
      "})\n",
      "</script>\n",
      "\n",
      "<script>\n",
      "var _hmt = _hmt || [];\n",
      "(function() {\n",
      "  var hm = document.createElement(\"script\");\n",
      "  hm.src = \"https://hm.baidu.com/hm.js?505934b537b966bd0bc99ecac4714092\";\n",
      "  var s = document.getElementsByTagName(\"script\")[0]; \n",
      "  s.parentNode.insertBefore(hm, s);\n",
      "})();\n",
      "</script>\n",
      "\n",
      "<script src=\"https://bd-st.mypep.cn/js/points.js\"></script>\n",
      "    <script>\n",
      "        window.onload = function(){\n",
      "            pepPoints.loader.dataReport({\n",
      "                product_id: '300',    // 人教网product_id\n",
      "                company: '110000008'  // company\n",
      "            });\n",
      "        }\n",
      "</script> \n",
      "</body>\n",
      "</html>\n"
     ]
    }
   ],
   "source": [
    "#-*- coding : gbk -*-\n",
    "# coding: unicode_escape\n",
    "\n",
    "\n",
    "import requests\n",
    "from bs4 import BeautifulSoup\n",
    "\n",
    "# 1. save the source code of a web page to a html file.\n",
    "url = 'https://bp.pep.com.cn/jc/ptgzkcbzsyjks/gzkbsxzzjc/'\n",
    "r = requests.get(url)\n",
    "r.encoding = r.apparent_encoding\n",
    "to_file_path = \"bok-topics_11.html\"\n",
    "with open(to_file_path, \"w\", encoding='gbk') as f:\n",
    "    f.write(r.text)\n",
    "\n",
    "print(r.text)\n",
    "\n",
    "\n",
    "\n",
    "#\n",
    "# # 2. read a html file and extract what you need using BeautifulSoup\n",
    "# with open(to_file_path, \"r\") as f:\n",
    "#     html = f.read()\n",
    "# soup = BeautifulSoup(html, \"html.parser\")\n",
    "#\n",
    "# title = soup.find('h2', id='page-title').get_text()\n",
    "# print(\"title: \",title)\n",
    "#\n",
    "# content_div = soup.find('div', class_=\"content node-content\")\n",
    "# imgs = content_div.findAll('img')\n",
    "#\n",
    "# for img in imgs:\n",
    "#     print(img.get('src'))\n",
    "# # print(imgs)"
   ]
  },
  {
   "cell_type": "code",
   "execution_count": null,
   "metadata": {},
   "outputs": [],
   "source": []
  },
  {
   "cell_type": "code",
   "execution_count": null,
   "metadata": {},
   "outputs": [],
   "source": []
  },
  {
   "cell_type": "code",
   "execution_count": 25,
   "metadata": {},
   "outputs": [
    {
     "ename": "AttributeError",
     "evalue": "'NoneType' object has no attribute 'get_text'",
     "output_type": "error",
     "traceback": [
      "\u001b[1;31m---------------------------------------------------------------------------\u001b[0m",
      "\u001b[1;31mAttributeError\u001b[0m                            Traceback (most recent call last)",
      "\u001b[1;32m<ipython-input-25-8d29903b126e>\u001b[0m in \u001b[0;36m<module>\u001b[1;34m\u001b[0m\n\u001b[0;32m      4\u001b[0m \u001b[0msoup\u001b[0m \u001b[1;33m=\u001b[0m \u001b[0mBeautifulSoup\u001b[0m\u001b[1;33m(\u001b[0m\u001b[0mhtml\u001b[0m\u001b[1;33m,\u001b[0m \u001b[1;34m\"html.parser\"\u001b[0m\u001b[1;33m)\u001b[0m\u001b[1;33m\u001b[0m\u001b[1;33m\u001b[0m\u001b[0m\n\u001b[0;32m      5\u001b[0m \u001b[1;33m\u001b[0m\u001b[0m\n\u001b[1;32m----> 6\u001b[1;33m \u001b[0mtitle\u001b[0m \u001b[1;33m=\u001b[0m \u001b[0msoup\u001b[0m\u001b[1;33m.\u001b[0m\u001b[0mfind\u001b[0m\u001b[1;33m(\u001b[0m\u001b[1;34m'ul'\u001b[0m\u001b[1;33m,\u001b[0m \u001b[0mid\u001b[0m\u001b[1;33m=\u001b[0m\u001b[1;34m'clearfix'\u001b[0m\u001b[1;33m)\u001b[0m\u001b[1;33m.\u001b[0m\u001b[0mget_text\u001b[0m\u001b[1;33m(\u001b[0m\u001b[1;33m)\u001b[0m\u001b[1;33m\u001b[0m\u001b[1;33m\u001b[0m\u001b[0m\n\u001b[0m\u001b[0;32m      7\u001b[0m \u001b[0mprint\u001b[0m\u001b[1;33m(\u001b[0m\u001b[1;34m\"title: \"\u001b[0m\u001b[1;33m,\u001b[0m\u001b[0mtitle\u001b[0m\u001b[1;33m)\u001b[0m\u001b[1;33m\u001b[0m\u001b[1;33m\u001b[0m\u001b[0m\n\u001b[0;32m      8\u001b[0m \u001b[1;33m\u001b[0m\u001b[0m\n",
      "\u001b[1;31mAttributeError\u001b[0m: 'NoneType' object has no attribute 'get_text'"
     ]
    }
   ],
   "source": [
    "\n",
    "# 2. read a html file and extract what you need using BeautifulSoup\n",
    "with open(to_file_path, \"r\") as f:\n",
    "    html = f.read()\n",
    "soup = BeautifulSoup(html, \"html.parser\")\n",
    "\n",
    "title = soup.find('ul', id='clearfix').get_text()\n",
    "print(\"title: \",title)\n",
    "\n",
    "content_div = soup.find('div', class_=\"content node-content\")\n",
    "imgs = content_div.findAll('img')\n",
    "\n",
    "for img in imgs:\n",
    "    print(img.get('src'))\n",
    "# print(imgs)"
   ]
  },
  {
   "cell_type": "code",
   "execution_count": 30,
   "metadata": {},
   "outputs": [
    {
     "name": "stdout",
     "output_type": "stream",
     "text": [
      "思想政治2 必修 政治生活 https://bp.pep.com.cn/jc/ptgzkcbzsyjks/gzkbsxzzjc/202002/P020200210569752434106.pdf\n",
      "思想政治3 必修 文化生活 https://bp.pep.com.cn/jc/ptgzkcbzsyjks/gzkbsxzzjc/202002/P020200210569909723488.pdf\n",
      "思想政治4 必修 生活与哲学 https://bp.pep.com.cn/jc/ptgzkcbzsyjks/gzkbsxzzjc/202002/P020200210570060358498.pdf\n",
      "思想政治 选修1 科学社会主义常识 https://bp.pep.com.cn/jc/ptgzkcbzsyjks/gzkbsxzzjc/202002/P020200210118138353663.pdf\n",
      "思想政治 选修2 经济学常识 https://bp.pep.com.cn/jc/ptgzkcbzsyjks/gzkbsxzzjc/202002/P020200210570824538719.pdf\n",
      "思想政治 选修3 国家和国际组织常识 https://bp.pep.com.cn/jc/ptgzkcbzsyjks/gzkbsxzzjc/202002/P020200210571021687136.pdf\n",
      "思想政治 选修4 科学思维常识 https://bp.pep.com.cn/jc/ptgzkcbzsyjks/gzkbsxzzjc/202002/P020200210571216246632.pdf\n",
      "思想政治 选修5 生活中的法律常识 https://bp.pep.com.cn/jc/ptgzkcbzsyjks/gzkbsxzzjc/202002/P020200210571410972266.pdf\n",
      "思想政治 选修6 公民道德与伦理常识 https://bp.pep.com.cn/jc/ptgzkcbzsyjks/gzkbsxzzjc/202002/P020200210571562932684.pdf\n"
     ]
    }
   ],
   "source": [
    "head = r'https://bp.pep.com.cn/jc/ptgzkcbzsyjks/gzkbsxzzjc/202002/' \n",
    "with open(to_file_path, \"r\") as f:\n",
    "    html = f.read()\n",
    "soup = BeautifulSoup(html, \"html.parser\")\n",
    "\n",
    "lists = soup.findAll('li')\n",
    "for l in lists:\n",
    "    title = l.find('a').get('title')\n",
    "    pdf = head + l.find('a', class_='btn_type_dl').get('href').replace(r'./202002/', '')\n",
    "    print(title, pdf)"
   ]
  },
  {
   "cell_type": "code",
   "execution_count": 32,
   "metadata": {},
   "outputs": [],
   "source": []
  },
  {
   "cell_type": "code",
   "execution_count": 35,
   "metadata": {},
   "outputs": [],
   "source": [
    "import urllib\n",
    "file = urllib.request.urlopen(pdf)"
   ]
  },
  {
   "cell_type": "code",
   "execution_count": 36,
   "metadata": {},
   "outputs": [],
   "source": [
    "pdf_file = requests.get(pdf)\n",
    "with open(title, 'wb') as f:\n",
    "    f.write(pdf_file.content)"
   ]
  },
  {
   "cell_type": "code",
   "execution_count": null,
   "metadata": {},
   "outputs": [],
   "source": []
  },
  {
   "cell_type": "code",
   "execution_count": null,
   "metadata": {},
   "outputs": [],
   "source": [
    "https://bp.pep.com.cn/jc/ptgzkcbzsyjks/gzkbsxzzjc/202002/P020200210571021687136.pdf"
   ]
  },
  {
   "cell_type": "code",
   "execution_count": 4,
   "metadata": {
    "scrolled": false
   },
   "outputs": [
    {
     "name": "stdout",
     "output_type": "stream",
     "text": [
      "HTML file has lines: 55204\n"
     ]
    }
   ],
   "source": [
    "import requests\n",
    "from bs4 import BeautifulSoup\n",
    "import urllib\n",
    "import os\n",
    "\n",
    "\n",
    " \n",
    "    \n",
    " \n",
    "    \n",
    "# 1. save the source code of a web page to a html file.\n",
    "\n",
    "\n",
    "\n",
    "\n",
    "\n",
    "\n",
    "\n",
    "url = 'https://bp.pep.com.cn/jc/ywjygjkcjc/'\n",
    "saved_path = r'K:\\Personal\\Shanchuan\\textbook\\人教版中小学\\小学科学教师教学用书'\n",
    "\n",
    "url = 'https://bp.pep.com.cn/jc/yjcz/'\n",
    "saved_path = r\"K:\\Personal\\Shanchuan\\textbook\\人教版初中学\"\n",
    "\n",
    "\n",
    "\n",
    "url = 'https://bp.pep.com.cn/jc/ptgzkcbzsyjks/'\n",
    "saved_path = r\"K:\\Personal\\Shanchuan\\textbook\\普通高中课程标准实验教科书\"\n",
    "\n",
    "r = requests.get(url)\n",
    "r.encoding = r.apparent_encoding\n",
    "to_file_path = \"bok-topics_11.html\"\n",
    "with open(to_file_path, \"w\", encoding='gbk') as f:\n",
    "    f.write(r.text)\n",
    "print(\"HTML file has lines:\", len(r.text))\n",
    " \n",
    "\n",
    "# 2. read a html file and extract what you need using BeautifulSoup\n",
    " \n",
    "with open(to_file_path, \"r\") as f:\n",
    "    html = f.read()\n",
    "soup = BeautifulSoup(html, \"html.parser\")\n",
    "\n",
    "lists = soup.findAll('li')\n",
    "i = 0\n",
    "for l in lists[41+37:]:\n",
    "    title = l.find('a').get('title') + '.pdf'\n",
    "    pdf = url + l.find('a', class_='btn_type_dl').get('href').replace(r'./', '')\n",
    "    pdf_file = requests.get(pdf)\n",
    "    with open(os.path.join(saved_path, title), 'wb') as f:\n",
    "        f.write(pdf_file.content)\n",
    "    i = i + 1\n",
    "    print(i, \"/\", len(lists), title, pdf)"
   ]
  },
  {
   "cell_type": "code",
   "execution_count": null,
   "metadata": {},
   "outputs": [],
   "source": []
  }
 ],
 "metadata": {
  "kernelspec": {
   "display_name": "Python 3",
   "language": "python",
   "name": "python3"
  },
  "language_info": {
   "codemirror_mode": {
    "name": "ipython",
    "version": 3
   },
   "file_extension": ".py",
   "mimetype": "text/x-python",
   "name": "python",
   "nbconvert_exporter": "python",
   "pygments_lexer": "ipython3",
   "version": "3.7.4"
  },
  "toc": {
   "base_numbering": 1,
   "nav_menu": {},
   "number_sections": true,
   "sideBar": true,
   "skip_h1_title": false,
   "title_cell": "Table of Contents",
   "title_sidebar": "Contents",
   "toc_cell": false,
   "toc_position": {},
   "toc_section_display": true,
   "toc_window_display": false
  },
  "varInspector": {
   "cols": {
    "lenName": 16,
    "lenType": 16,
    "lenVar": 40
   },
   "kernels_config": {
    "python": {
     "delete_cmd_postfix": "",
     "delete_cmd_prefix": "del ",
     "library": "var_list.py",
     "varRefreshCmd": "print(var_dic_list())"
    },
    "r": {
     "delete_cmd_postfix": ") ",
     "delete_cmd_prefix": "rm(",
     "library": "var_list.r",
     "varRefreshCmd": "cat(var_dic_list()) "
    }
   },
   "types_to_exclude": [
    "module",
    "function",
    "builtin_function_or_method",
    "instance",
    "_Feature"
   ],
   "window_display": false
  }
 },
 "nbformat": 4,
 "nbformat_minor": 4
}

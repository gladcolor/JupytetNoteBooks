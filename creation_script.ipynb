{
 "cells": [
  {
   "cell_type": "code",
   "execution_count": 26,
   "metadata": {},
   "outputs": [],
   "source": [
    "import json\n",
    "from tqdm import tqdm\n",
    "import itertools\n",
    "import pdb\n",
    "import glob\n",
    "import os\n",
    "from PIL import Image"
   ]
  },
  {
   "cell_type": "code",
   "execution_count": 27,
   "metadata": {
    "scrolled": false
   },
   "outputs": [
    {
     "name": "stdout",
     "output_type": "stream",
     "text": [
      "138 27\n"
     ]
    }
   ],
   "source": [
    "def divid_train_val_image(image_dir, img_ext, val_ratio):\n",
    "    files = glob.glob(os.path.join(image_dir, \"*\" + img_ext))\n",
    "    val_files = []\n",
    "    train_files = []\n",
    "    val_ratio_rpl = 1/val_ratio\n",
    "    sum_ration = 0\n",
    "    for idx, file in enumerate(files):\n",
    "        sum_ration += val_ratio\n",
    "        if sum_ration > 1:\n",
    "            sum_ration = 0\n",
    "            val_files.append(file)\n",
    "        else:\n",
    "            train_files.append(file)\n",
    "            \n",
    "    return train_files, val_files\n",
    "    \n",
    "    \n",
    "image_dir = r\"L:\\Datasets\\ocean_city\\processed_json\"\n",
    "img_ext = \".json\"\n",
    "val_ratio = 0.2\n",
    "\n",
    "train_files, val_files = divid_train_val_image(image_dir, img_ext, val_ratio)\n",
    "print(len(train_files), len(val_files))"
   ]
  },
  {
   "cell_type": "code",
   "execution_count": 31,
   "metadata": {},
   "outputs": [
    {
     "name": "stdout",
     "output_type": "stream",
     "text": [
      "[{'image_id': '100_oUUwCL6RJ53TmRjrP5u1SQ_32.55', 'width': 3328, 'height': 3328, 'url': None, 'flickr_id': None, 'coco_id': None, 'anti_prop': 0.0}, {'image_id': '101_ZfvvGESbNnVG8yFN9PORqQ_24.2', 'width': 3328, 'height': 3328, 'url': None, 'flickr_id': None, 'coco_id': None, 'anti_prop': 0.0}, {'image_id': '102_aDNd7B-rqtKMpcw-Nvp5JQ_225.11', 'width': 4004, 'height': 4004, 'url': None, 'flickr_id': None, 'coco_id': None, 'anti_prop': 0.0}, {'image_id': '103_cC3D4p-Lj3pUVQ03gdovQw_45.33', 'width': 4096, 'height': 4096, 'url': None, 'flickr_id': None, 'coco_id': None, 'anti_prop': 0.0}, {'image_id': '104_izMCA8QLT_KCRokDsm_Zvg_319.71', 'width': 3328, 'height': 3328, 'url': None, 'flickr_id': None, 'coco_id': None, 'anti_prop': 0.0}, {'image_id': '106_LdXGcrXpLQc28rFjF__cKQ_0.43', 'width': 3328, 'height': 3328, 'url': None, 'flickr_id': None, 'coco_id': None, 'anti_prop': 0.0}, {'image_id': '107_7HfRX3diZje3jJgELHi5Kg_238.41', 'width': 3328, 'height': 3328, 'url': None, 'flickr_id': None, 'coco_id': None, 'anti_prop': 0.0}, {'image_id': '108_ZqBO-3Fx_roeVBNiLBnSVA_219.47', 'width': 3458, 'height': 3458, 'url': None, 'flickr_id': None, 'coco_id': None, 'anti_prop': 0.0}, {'image_id': '109__vH4I71u2hkWYNXJ5WDA_A_227.84', 'width': 2588, 'height': 2588, 'url': None, 'flickr_id': None, 'coco_id': None, 'anti_prop': 0.0}, {'image_id': '10_piJ3-HBctCPJ9qejZZesEQ_121.73', 'width': 1000, 'height': 1001, 'url': None, 'flickr_id': None, 'coco_id': None, 'anti_prop': 0.0}, {'image_id': '111_za8cyYaw9Zkj8FS3S8z-qw_221.62', 'width': 4096, 'height': 4096, 'url': None, 'flickr_id': None, 'coco_id': None, 'anti_prop': 0.0}, {'image_id': '112_PeSBBfnHQpCUcd5ZEn2IRw_214.13', 'width': 3328, 'height': 3328, 'url': None, 'flickr_id': None, 'coco_id': None, 'anti_prop': 0.0}, {'image_id': '113_iaY766f_G_B0IwgxMtBMQw_232.33', 'width': 3328, 'height': 3328, 'url': None, 'flickr_id': None, 'coco_id': None, 'anti_prop': 0.0}, {'image_id': '114_W_Vo5VGnGn2IvT7PuajJrQ_230.14', 'width': 3328, 'height': 3328, 'url': None, 'flickr_id': None, 'coco_id': None, 'anti_prop': 0.0}, {'image_id': '115_K0o_ugDJfH14nJMIsPFsEg_213.23', 'width': 3328, 'height': 3328, 'url': None, 'flickr_id': None, 'coco_id': None, 'anti_prop': 0.0}, {'image_id': '117_-wE4ucIq5YxwKhHaw6exTg_222.37', 'width': 3328, 'height': 3328, 'url': None, 'flickr_id': None, 'coco_id': None, 'anti_prop': 0.0}, {'image_id': '118_DIe7EEO4iSn5bIdABxBrmg_226.96', 'width': 4096, 'height': 4096, 'url': None, 'flickr_id': None, 'coco_id': None, 'anti_prop': 0.0}, {'image_id': '119_cF_ALcEJtGgGuKkkQQzwyA_219.42', 'width': 2810, 'height': 2810, 'url': None, 'flickr_id': None, 'coco_id': None, 'anti_prop': 0.0}, {'image_id': '11_eD6yAl7EAam1xa8Z6_5Amw_31.49', 'width': 1405, 'height': 1405, 'url': None, 'flickr_id': None, 'coco_id': None, 'anti_prop': 0.0}, {'image_id': '120_E3ALAGR9jCEVDheUGlOk_Q_217.83', 'width': 4096, 'height': 4096, 'url': None, 'flickr_id': None, 'coco_id': None, 'anti_prop': 0.0}, {'image_id': '122_QhVu6UqlvkQJWCsvI3xANw_311.43', 'width': 3328, 'height': 3328, 'url': None, 'flickr_id': None, 'coco_id': None, 'anti_prop': 0.0}, {'image_id': '123_uV9asaFH062aMSTC2-ooVg_223.95', 'width': 5461, 'height': 5461, 'url': None, 'flickr_id': None, 'coco_id': None, 'anti_prop': 0.0}, {'image_id': '124_Wfxspusmy8my5aub6O7hIw_228.22', 'width': 369, 'height': 369, 'url': None, 'flickr_id': None, 'coco_id': None, 'anti_prop': 0.0}, {'image_id': '125_RdNpf4eKtBlXrnats-Oapw_225.76', 'width': 3328, 'height': 3328, 'url': None, 'flickr_id': None, 'coco_id': None, 'anti_prop': 0.0}, {'image_id': '126_vpLP5jqdhJVzeiuT8WRBmQ_311.03', 'width': 4437, 'height': 4437, 'url': None, 'flickr_id': None, 'coco_id': None, 'anti_prop': 0.0}, {'image_id': '128_lfAxAp3AzlTHxvZnL6T5mQ_309.59', 'width': 4096, 'height': 4096, 'url': None, 'flickr_id': None, 'coco_id': None, 'anti_prop': 0.0}, {'image_id': '129_iZthSIfpTopbX1JGV7TRBg_295.72', 'width': 3328, 'height': 3328, 'url': None, 'flickr_id': None, 'coco_id': None, 'anti_prop': 0.0}, {'image_id': '130_cKklNZxbmCmu7aYkQyGCpQ_225.39', 'width': 5461, 'height': 5461, 'url': None, 'flickr_id': None, 'coco_id': None, 'anti_prop': 0.0}, {'image_id': '131_46QjVB_4GI1GcZ9EAf1UJw_331.03', 'width': 4437, 'height': 4437, 'url': None, 'flickr_id': None, 'coco_id': None, 'anti_prop': 0.0}, {'image_id': '132_tSuTxoUoPY160M7acSQeuw_280.38', 'width': 3328, 'height': 3328, 'url': None, 'flickr_id': None, 'coco_id': None, 'anti_prop': 0.0}, {'image_id': '134__4KiZ5MBonQnChnsdsOczA_311.68', 'width': 4096, 'height': 4096, 'url': None, 'flickr_id': None, 'coco_id': None, 'anti_prop': 0.0}, {'image_id': '135_qNF4kjToKwKUzFixhzJrlQ_273.16', 'width': 3328, 'height': 3328, 'url': None, 'flickr_id': None, 'coco_id': None, 'anti_prop': 0.0}, {'image_id': '136_4Kl-q4nC9YfFnP-fH8ibIQ_17.9', 'width': 3328, 'height': 3328, 'url': None, 'flickr_id': None, 'coco_id': None, 'anti_prop': 0.0}, {'image_id': '137_IQ5XPwIxpJ-mjOzF5mJJ-Q_224.04', 'width': 3328, 'height': 3328, 'url': None, 'flickr_id': None, 'coco_id': None, 'anti_prop': 0.0}, {'image_id': '139_3yp3dcf12WB0XRp-3Xu25g_243.16', 'width': 3328, 'height': 3328, 'url': None, 'flickr_id': None, 'coco_id': None, 'anti_prop': 0.0}, {'image_id': '140_g7eSiBnM8ezeyRZiqgQBIg_303.86', 'width': 2995, 'height': 2995, 'url': None, 'flickr_id': None, 'coco_id': None, 'anti_prop': 0.0}, {'image_id': '141_IrMhj9iaaKd9yWd1G3sL8g_25.78', 'width': 3328, 'height': 3328, 'url': None, 'flickr_id': None, 'coco_id': None, 'anti_prop': 0.0}, {'image_id': '142_XMtRvV02D0Zv4XqEL5zzRg_263.15', 'width': 3328, 'height': 3328, 'url': None, 'flickr_id': None, 'coco_id': None, 'anti_prop': 0.0}, {'image_id': '143_IfrVajcmC48ybxrfNz31nQ_217.78', 'width': 2995, 'height': 2995, 'url': None, 'flickr_id': None, 'coco_id': None, 'anti_prop': 0.0}, {'image_id': '144_NRcaan0pOUnb4nJCAA5B4A_219.86', 'width': 4096, 'height': 4096, 'url': None, 'flickr_id': None, 'coco_id': None, 'anti_prop': 0.0}, {'image_id': '146_wCyuMLslUHAOcSvUSGewPg_159.5', 'width': 3328, 'height': 3328, 'url': None, 'flickr_id': None, 'coco_id': None, 'anti_prop': 0.0}, {'image_id': '147_vMQC9my6j9BqjfEks9YZdw_322.99', 'width': 4096, 'height': 4096, 'url': None, 'flickr_id': None, 'coco_id': None, 'anti_prop': 0.0}, {'image_id': '148_FEx56_2bVXobYUzNIUTNzA_215.58', 'width': 3328, 'height': 3328, 'url': None, 'flickr_id': None, 'coco_id': None, 'anti_prop': 0.0}, {'image_id': '149_6-vpMZW_8DAvU03gsGjnrQ_232.53', 'width': 4096, 'height': 4096, 'url': None, 'flickr_id': None, 'coco_id': None, 'anti_prop': 0.0}, {'image_id': '14_mvxG0Y8r3Yzv-4e1_6esjQ_115.1', 'width': 3328, 'height': 3328, 'url': None, 'flickr_id': None, 'coco_id': None, 'anti_prop': 0.0}, {'image_id': '151_gOB9NirqBB4651m0OE66NQ_327.09', 'width': 4096, 'height': 4096, 'url': None, 'flickr_id': None, 'coco_id': None, 'anti_prop': 0.0}, {'image_id': '152_APrZRbTa4ip8ZrDvWn_0mA_309.93', 'width': 2776, 'height': 2776, 'url': None, 'flickr_id': None, 'coco_id': None, 'anti_prop': 0.0}, {'image_id': '153_zTqxzhdlB1Pbw9-oCvf2Zw_327.4', 'width': 4096, 'height': 4096, 'url': None, 'flickr_id': None, 'coco_id': None, 'anti_prop': 0.0}, {'image_id': '156_Oo40AE9q4yyLwSD1RCcKxA_303.43', 'width': 4096, 'height': 4096, 'url': None, 'flickr_id': None, 'coco_id': None, 'anti_prop': 0.0}, {'image_id': '157_BRRx44WzhvXLMtycSRdMSw_287.07', 'width': 4437, 'height': 4437, 'url': None, 'flickr_id': None, 'coco_id': None, 'anti_prop': 0.0}, {'image_id': '159_4XIrKoxodlyeQC-Nx3CUZg_307.32', 'width': 2685, 'height': 2685, 'url': None, 'flickr_id': None, 'coco_id': None, 'anti_prop': 0.0}, {'image_id': '15_IU40Fjvi2newL6AnPrtlvQ_128.5', 'width': 3328, 'height': 3328, 'url': None, 'flickr_id': None, 'coco_id': None, 'anti_prop': 0.0}, {'image_id': '160_iiDZXc3m6KF_pZkv801ffg_219.95', 'width': 5461, 'height': 5461, 'url': None, 'flickr_id': None, 'coco_id': None, 'anti_prop': 0.0}, {'image_id': '161_vdz8X96XU7kiOD_OlVypfg_142.84', 'width': 3185, 'height': 3185, 'url': None, 'flickr_id': None, 'coco_id': None, 'anti_prop': 0.0}, {'image_id': '162_6POgsLbygPA3LoniFTL9mA_129.39', 'width': 4437, 'height': 4437, 'url': None, 'flickr_id': None, 'coco_id': None, 'anti_prop': 0.0}, {'image_id': '164_2BU5g_Mt1a7L6031ssQJzQ_145.15', 'width': 3328, 'height': 3328, 'url': None, 'flickr_id': None, 'coco_id': None, 'anti_prop': 0.0}, {'image_id': '165_uMgYUtFt1-s-Y04jeoHJ7A_142.33', 'width': 4096, 'height': 4096, 'url': None, 'flickr_id': None, 'coco_id': None, 'anti_prop': 0.0}, {'image_id': '166_0weRhbksXBKMfey4DWji3Q_134.92', 'width': 4096, 'height': 4096, 'url': None, 'flickr_id': None, 'coco_id': None, 'anti_prop': 0.0}, {'image_id': '16_r2WkUL9GBcc6Sls1nruS-g_141.37', 'width': 3328, 'height': 3328, 'url': None, 'flickr_id': None, 'coco_id': None, 'anti_prop': 0.0}, {'image_id': '175_7i9_4f8BENdEjVUgxY3KAQ_285.41', 'width': 4096, 'height': 4096, 'url': None, 'flickr_id': None, 'coco_id': None, 'anti_prop': 0.0}, {'image_id': '177_RM7iP31lL7HfN5yQk3EwjQ_314.68', 'width': 4096, 'height': 4096, 'url': None, 'flickr_id': None, 'coco_id': None, 'anti_prop': 0.0}, {'image_id': '178_33wz2rVhX68hyfkPCRW6lQ_137.74', 'width': 3328, 'height': 3328, 'url': None, 'flickr_id': None, 'coco_id': None, 'anti_prop': 0.0}, {'image_id': '17_CHvOUEE19fIu9FpCIjnc3Q_142.29', 'width': 3328, 'height': 3328, 'url': None, 'flickr_id': None, 'coco_id': None, 'anti_prop': 0.0}, {'image_id': '180_1JZly-kT66kQLUKOa8WO4w_129.61', 'width': 4096, 'height': 4096, 'url': None, 'flickr_id': None, 'coco_id': None, 'anti_prop': 0.0}, {'image_id': '183_u-vlpvQ_Dp01YlGAQtQwDg_314.17', 'width': 4096, 'height': 4096, 'url': None, 'flickr_id': None, 'coco_id': None, 'anti_prop': 0.0}, {'image_id': '186_oxBJpfvEW1X8aiy4CA6H_w_317.07', 'width': 2995, 'height': 2995, 'url': None, 'flickr_id': None, 'coco_id': None, 'anti_prop': 0.0}, {'image_id': '187_3UmBXeVJE9lO6Te8iIN3Uw_297.0', 'width': 3458, 'height': 3458, 'url': None, 'flickr_id': None, 'coco_id': None, 'anti_prop': 0.0}, {'image_id': '188_3UmBXeVJE9lO6Te8iIN3Uw_333.43', 'width': 2002, 'height': 2002, 'url': None, 'flickr_id': None, 'coco_id': None, 'anti_prop': 0.0}, {'image_id': '189_GoF92nFLpEhiGtKGjsDSLw_304.79', 'width': 3959, 'height': 3959, 'url': None, 'flickr_id': None, 'coco_id': None, 'anti_prop': 0.0}, {'image_id': '190_1d9t38A6-yGpyRafIDeFDA_148.01', 'width': 3321, 'height': 3322, 'url': None, 'flickr_id': None, 'coco_id': None, 'anti_prop': 0.0}, {'image_id': '192_SEkj2oHWNtV5D7CMddAKlA_131.13', 'width': 4096, 'height': 4096, 'url': None, 'flickr_id': None, 'coco_id': None, 'anti_prop': 0.0}, {'image_id': '193_KgkmC03j17cgMHoHu5feRA_127.56', 'width': 4096, 'height': 4096, 'url': None, 'flickr_id': None, 'coco_id': None, 'anti_prop': 0.0}, {'image_id': '1_aLH8om-ax5boXJ-hXhFvaQ_123.73', 'width': 3328, 'height': 3328, 'url': None, 'flickr_id': None, 'coco_id': None, 'anti_prop': 0.0}, {'image_id': '20_7d5Z-9fkT8Qug72Npr0gFw_141.28', 'width': 4437, 'height': 4437, 'url': None, 'flickr_id': None, 'coco_id': None, 'anti_prop': 0.0}, {'image_id': '21_No_0dIFyQgVQ15Ia4nsx8w_71.2', 'width': 3328, 'height': 3328, 'url': None, 'flickr_id': None, 'coco_id': None, 'anti_prop': 0.0}, {'image_id': '23_jzJvxCK0hjkfMl38bceuSg_327.94', 'width': 1774, 'height': 1774, 'url': None, 'flickr_id': None, 'coco_id': None, 'anti_prop': 0.0}, {'image_id': '24_jY3wJ92oyM4O9c9ZY62Ayg_86.63', 'width': 1405, 'height': 1405, 'url': None, 'flickr_id': None, 'coco_id': None, 'anti_prop': 0.0}, {'image_id': '26_AgnxrVMgjMWMUyjHhDm0yA_13.46', 'width': 3328, 'height': 3328, 'url': None, 'flickr_id': None, 'coco_id': None, 'anti_prop': 0.0}, {'image_id': '27_D1W_INovqjxugxSXhNVDrw_47.02', 'width': 3328, 'height': 3328, 'url': None, 'flickr_id': None, 'coco_id': None, 'anti_prop': 0.0}, {'image_id': '28_BJgg5dOshRrf3nqV1lYhxQ_52.0', 'width': 5461, 'height': 5461, 'url': None, 'flickr_id': None, 'coco_id': None, 'anti_prop': 0.0}, {'image_id': '2_N2TakAa4EvhSCDIb44lEBw_83.71', 'width': 4096, 'height': 4096, 'url': None, 'flickr_id': None, 'coco_id': None, 'anti_prop': 0.0}, {'image_id': '30_uBOyZK1EtnQ6esmLJSn4IQ_15.78', 'width': 3328, 'height': 3328, 'url': None, 'flickr_id': None, 'coco_id': None, 'anti_prop': 0.0}, {'image_id': '32_u8K_tA16gxqk3NutP1O3PQ_132.11', 'width': 3328, 'height': 3328, 'url': None, 'flickr_id': None, 'coco_id': None, 'anti_prop': 0.0}, {'image_id': '34_JkZmQs5J2FSo-PaVFhP4uw_53.82', 'width': 1220, 'height': 1220, 'url': None, 'flickr_id': None, 'coco_id': None, 'anti_prop': 0.0}, {'image_id': '35_YHlIPrt3E8Op60JztAx8lA_143.04', 'width': 3328, 'height': 3328, 'url': None, 'flickr_id': None, 'coco_id': None, 'anti_prop': 0.0}, {'image_id': '37_t8_9FpsLDTV3rCR8x5DX-w_72.3', 'width': 3328, 'height': 3328, 'url': None, 'flickr_id': None, 'coco_id': None, 'anti_prop': 0.0}, {'image_id': '38_qyA_621V5O11QOJ1wj9rDQ_344.19', 'width': 2048, 'height': 2048, 'url': None, 'flickr_id': None, 'coco_id': None, 'anti_prop': 0.0}, {'image_id': '39_k-rY6EGYm4EicR2OzqYq7A_42.77', 'width': 3328, 'height': 3328, 'url': None, 'flickr_id': None, 'coco_id': None, 'anti_prop': 0.0}, {'image_id': '3_n4aTTgHhJ2AkPbSg0X3MfA_11.99', 'width': 1092, 'height': 1092, 'url': None, 'flickr_id': None, 'coco_id': None, 'anti_prop': 0.0}, {'image_id': '40_QnOkZ_D0Qwa-D3ZK4AAZUQ_134.05', 'width': 3328, 'height': 3328, 'url': None, 'flickr_id': None, 'coco_id': None, 'anti_prop': 0.0}, {'image_id': '42_L-3y0LJMUCvqSbILU3VNoA_125.08', 'width': 3328, 'height': 3328, 'url': None, 'flickr_id': None, 'coco_id': None, 'anti_prop': 0.0}, {'image_id': '43_eCgsuDe3bJqSuUsx2SVDsw_147.92', 'width': 4437, 'height': 4437, 'url': None, 'flickr_id': None, 'coco_id': None, 'anti_prop': 0.0}, {'image_id': '44_ufVfRYjIMfCtqcyzy-Iuqw_38.39', 'width': 5461, 'height': 5461, 'url': None, 'flickr_id': None, 'coco_id': None, 'anti_prop': 0.0}, {'image_id': '45_1Xvkvz9sbcdujslP0tInOg_39.05', 'width': 4096, 'height': 4096, 'url': None, 'flickr_id': None, 'coco_id': None, 'anti_prop': 0.0}, {'image_id': '46_uYSrwFfe9M1TiU7Ktq4Igg_224.48', 'width': 3328, 'height': 3328, 'url': None, 'flickr_id': None, 'coco_id': None, 'anti_prop': 0.0}, {'image_id': '48_EAT8qDwUWop6vwUZDL5lMg_109.55', 'width': 1456, 'height': 1456, 'url': None, 'flickr_id': None, 'coco_id': None, 'anti_prop': 0.0}, {'image_id': '4_7pBBmj5k9GAh1o-n4ctSpQ_56.94', 'width': 454, 'height': 455, 'url': None, 'flickr_id': None, 'coco_id': None, 'anti_prop': 0.0}, {'image_id': '50_fuaojnEBEZzS1eFstnYbZA_138.91', 'width': 1885, 'height': 1885, 'url': None, 'flickr_id': None, 'coco_id': None, 'anti_prop': 0.0}, {'image_id': '51__ekMo0sgk0mHx6b8wPy7pA_36.93', 'width': 5461, 'height': 5461, 'url': None, 'flickr_id': None, 'coco_id': None, 'anti_prop': 0.0}, {'image_id': '52_9U-n20NiqzPenWx7HCFF8A_53.2', 'width': 4096, 'height': 4096, 'url': None, 'flickr_id': None, 'coco_id': None, 'anti_prop': 0.0}, {'image_id': '55_95h2Jheazjs9pLU7nJaGzw_130.7', 'width': 3328, 'height': 3328, 'url': None, 'flickr_id': None, 'coco_id': None, 'anti_prop': 0.0}, {'image_id': '56_6cUDjaEgR1MVUr8ltKa9-w_41.13', 'width': 4096, 'height': 4096, 'url': None, 'flickr_id': None, 'coco_id': None, 'anti_prop': 0.0}, {'image_id': '57_lMomzplYGE7y-lCs96qHEg_43.11', 'width': 3328, 'height': 3328, 'url': None, 'flickr_id': None, 'coco_id': None, 'anti_prop': 0.0}, {'image_id': '59_b_idOUZXxAgP7u6MzwCMMQ_202.84', 'width': 3328, 'height': 3328, 'url': None, 'flickr_id': None, 'coco_id': None, 'anti_prop': 0.0}, {'image_id': '5_0_Z25VniDxurxsixrPV1LA_33.93', 'width': 3328, 'height': 3328, 'url': None, 'flickr_id': None, 'coco_id': None, 'anti_prop': 0.0}, {'image_id': '61_ZrQR7rwqa3QPLdlTR800Tg_236.8', 'width': 4096, 'height': 4096, 'url': None, 'flickr_id': None, 'coco_id': None, 'anti_prop': 0.0}, {'image_id': '62_BolMWZCMf9bTNmrHgwh-Sg_213.12', 'width': 1627, 'height': 1627, 'url': None, 'flickr_id': None, 'coco_id': None, 'anti_prop': 0.0}, {'image_id': '63_t_an19plCH8--uOaabOq8Q_220.22', 'width': 3328, 'height': 3328, 'url': None, 'flickr_id': None, 'coco_id': None, 'anti_prop': 0.0}, {'image_id': '67_S8f4BhPL-eyNqlaw6LVckA_232.59', 'width': 1664, 'height': 1664, 'url': None, 'flickr_id': None, 'coco_id': None, 'anti_prop': 0.0}, {'image_id': '68_5zfQ5iit_K-t7G_LoEdGJA_219.98', 'width': 3328, 'height': 3328, 'url': None, 'flickr_id': None, 'coco_id': None, 'anti_prop': 0.0}, {'image_id': '6_WHxaTCBPZ8v_L8S9Nr24fA_43.17', 'width': 3328, 'height': 3328, 'url': None, 'flickr_id': None, 'coco_id': None, 'anti_prop': 0.0}, {'image_id': '70_gcHhbdYmQ6Uh_J2m1lwazw_233.26', 'width': 4096, 'height': 4096, 'url': None, 'flickr_id': None, 'coco_id': None, 'anti_prop': 0.0}, {'image_id': '71_LxnZ_hp69a4O6XpRcDmOfQ_319.12', 'width': 2662, 'height': 2662, 'url': None, 'flickr_id': None, 'coco_id': None, 'anti_prop': 0.0}, {'image_id': '72_n3jmwRI3YgPL_B3D6PxWqg_314.26', 'width': 2736, 'height': 2736, 'url': None, 'flickr_id': None, 'coco_id': None, 'anti_prop': 0.0}, {'image_id': '73_daaRpJftM26Cdkve2_ETiQ_313.67', 'width': 3328, 'height': 3328, 'url': None, 'flickr_id': None, 'coco_id': None, 'anti_prop': 0.0}, {'image_id': '75_YqtSLYpq8bkzFukNG-nntw_232.84', 'width': 2773, 'height': 2773, 'url': None, 'flickr_id': None, 'coco_id': None, 'anti_prop': 0.0}, {'image_id': '76_zprmUY4GBkfC34IHlho6qQ_321.18', 'width': 3328, 'height': 3328, 'url': None, 'flickr_id': None, 'coco_id': None, 'anti_prop': 0.0}, {'image_id': '77_sdjFnxiPek9JVyNeOH8b_Q_329.58', 'width': 2551, 'height': 2551, 'url': None, 'flickr_id': None, 'coco_id': None, 'anti_prop': 0.0}, {'image_id': '78_uzyONFkiVzHjQnj1HR6Qzg_210.09', 'width': 3328, 'height': 3328, 'url': None, 'flickr_id': None, 'coco_id': None, 'anti_prop': 0.0}, {'image_id': '79__zArHqBBVbvBtpoKLZTJsw_206.58', 'width': 4050, 'height': 4050, 'url': None, 'flickr_id': None, 'coco_id': None, 'anti_prop': 0.0}, {'image_id': '81_nnZhf5fH54hcjFOle2PvRQ_181.62', 'width': 2594, 'height': 2594, 'url': None, 'flickr_id': None, 'coco_id': None, 'anti_prop': 0.0}, {'image_id': '82_o2fjI6l-iHG0h6hPaQbeEA_244.67', 'width': 2958, 'height': 2958, 'url': None, 'flickr_id': None, 'coco_id': None, 'anti_prop': 0.0}, {'image_id': '83_t0ZtPDPOXW-lMLmAKEkHRA_339.0', 'width': 2810, 'height': 2810, 'url': None, 'flickr_id': None, 'coco_id': None, 'anti_prop': 0.0}, {'image_id': '84_YO7BgNEfxDhAMb53kCaf1g_318.7', 'width': 3328, 'height': 3328, 'url': None, 'flickr_id': None, 'coco_id': None, 'anti_prop': 0.0}, {'image_id': '85_GT7OS31PvBhvJRoYPoW9bg_323.51', 'width': 3328, 'height': 3328, 'url': None, 'flickr_id': None, 'coco_id': None, 'anti_prop': 0.0}, {'image_id': '87_IWZk_OdSJEwDc02O1AIw3Q_305.2', 'width': 3291, 'height': 3291, 'url': None, 'flickr_id': None, 'coco_id': None, 'anti_prop': 0.0}, {'image_id': '88_E5LsNiEHdAoHbETHCOyNXA_308.39', 'width': 3328, 'height': 3328, 'url': None, 'flickr_id': None, 'coco_id': None, 'anti_prop': 0.0}, {'image_id': '89_-pOC6BP_b_JyA7kB3YdrDw_228.84', 'width': 3328, 'height': 3328, 'url': None, 'flickr_id': None, 'coco_id': None, 'anti_prop': 0.0}, {'image_id': '8_M3I2qNQeBB2MFg3IHuCbig_104.0', 'width': 1848, 'height': 1848, 'url': None, 'flickr_id': None, 'coco_id': None, 'anti_prop': 0.0}, {'image_id': '90_C90HkdzepV66PEg1tOzptw_220.62', 'width': 3328, 'height': 3328, 'url': None, 'flickr_id': None, 'coco_id': None, 'anti_prop': 0.0}, {'image_id': '92_7Xn8xrdBQ2nDyfEpjA8whw_317.08', 'width': 3328, 'height': 3328, 'url': None, 'flickr_id': None, 'coco_id': None, 'anti_prop': 0.0}, {'image_id': '93_z6qljoyo2laZF89kKVj52A_219.96', 'width': 3328, 'height': 3328, 'url': None, 'flickr_id': None, 'coco_id': None, 'anti_prop': 0.0}, {'image_id': '94_T0tbnT58Iydyw7qHCzO2Hg_176.92', 'width': 2912, 'height': 2912, 'url': None, 'flickr_id': None, 'coco_id': None, 'anti_prop': 0.0}, {'image_id': '95_rONwgumLQUY07pB5R6yUOA_233.5', 'width': 3032, 'height': 3032, 'url': None, 'flickr_id': None, 'coco_id': None, 'anti_prop': 0.0}, {'image_id': '96_1XFkv_-3Vqc91Bvz91uUvA_302.9', 'width': 3328, 'height': 3328, 'url': None, 'flickr_id': None, 'coco_id': None, 'anti_prop': 0.0}, {'image_id': '98_WHmViscF_6leDhpZLosXSQ_326.26', 'width': 4437, 'height': 4437, 'url': None, 'flickr_id': None, 'coco_id': None, 'anti_prop': 0.0}, {'image_id': '99_knxYmIUR3lddp9sbVp1x2w_218.7', 'width': 4096, 'height': 4096, 'url': None, 'flickr_id': None, 'coco_id': None, 'anti_prop': 0.0}, {'image_id': '9_as2lf1LPPhGI1D5DEQtDyA_55.07', 'width': 3328, 'height': 3328, 'url': None, 'flickr_id': None, 'coco_id': None, 'anti_prop': 0.0}]\n"
     ]
    }
   ],
   "source": [
    "def create_image_json(files):\n",
    "#     with open('gqa_image_metadata.json', 'w') as outfile:  \n",
    "#     json.dump(gqa_image_data, outfile)\n",
    "    results = []\n",
    "    for file in files:\n",
    "        file = file.replace(\".json\", \".jpg\")\n",
    "        img = Image.open(file)\n",
    "        \n",
    "        img_name = os.path.basename(file).replace(\".jpg\", \"\")\n",
    "        img_h, img_w = img.size\n",
    "        # print(img_w, img_h)\n",
    "        data_dict = {\"image_id\": img_name,\n",
    "                     \"width\": img_w,\n",
    "                     \"height\": img_h,\n",
    "                    \"url\": None, \n",
    "                    \"flickr_id\": None,\n",
    "                    \"coco_id\": None,\n",
    "                    \"anti_prop\": 0.0}\n",
    "        results.append(data_dict)\n",
    "        \n",
    "    print(results)\n",
    "\n",
    "\n",
    "# for image_set in (train_files, val_files):\n",
    "create_image_json(train_files)"
   ]
  },
  {
   "cell_type": "code",
   "execution_count": 12,
   "metadata": {},
   "outputs": [],
   "source": [
    "def create_gqa_image_data(gqa_image_data, scene_graphs, forb_list):\n",
    "\n",
    "    for img in scene_graphs.keys():\n",
    "        if img not in forb_list:\n",
    "            gqa_image_data.append({'width': scene_graphs[img]['width'],\n",
    "                                   'url' : None,\n",
    "                                   'height': scene_graphs[img]['height'],\n",
    "                                   'image_id': int(img),\n",
    "                                   'coco_id' : None,\n",
    "                                   'flickr_id' : None,\n",
    "                                   'anti_prop' : 0.0})\n",
    "    return gqa_image_data"
   ]
  },
  {
   "cell_type": "code",
   "execution_count": 3,
   "metadata": {},
   "outputs": [],
   "source": [
    "gqa_image_data = []\n",
    "\n",
    "for name in ('val_sceneGraphs', 'train_sceneGraphs'):\n",
    "    with open('//local-scratch/data/GQA/SceneGraphs/' + name + '.json') as json_file:\n",
    "        obj_data = json.load(json_file)    \n",
    "    \n",
    "    gqa_image_data = create_gqa_image_data(gqa_image_data, obj_data, [])\n",
    "\n",
    "with open('gqa_image_metadata.json', 'w') as outfile:  \n",
    "    json.dump(gqa_image_data, outfile)\n",
    "    "
   ]
  },
  {
   "cell_type": "code",
   "execution_count": 4,
   "metadata": {},
   "outputs": [],
   "source": [
    "def create_obj_dict(img_list, obj_data, forb_list):\n",
    "    \n",
    "    for img in obj_data.keys():\n",
    "        if img not in forb_list:\n",
    "            tmp_dict = {'image_id' : int(img), 'objects' : [], 'image_url' : ''}\n",
    "            tmp_list = []\n",
    "            for obj in obj_data[img]['objects']:\n",
    "                tmp_list.append({'synsets': [obj_data[img]['objects'][obj]['name']],\n",
    "                                 'h': obj_data[img]['objects'][obj]['h'],\n",
    "                                 'object_id': int(obj),\n",
    "                                 'merged_object_ids': [],\n",
    "                                 'names': [obj_data[img]['objects'][obj]['name']],\n",
    "                                 'w': obj_data[img]['objects'][obj]['w'],\n",
    "                                 'y': obj_data[img]['objects'][obj]['y'],\n",
    "                                 'x': obj_data[img]['objects'][obj]['x']})\n",
    "\n",
    "            tmp_dict['objects'] = tmp_list\n",
    "            img_list.append(tmp_dict)\n",
    "        \n",
    "    return img_list"
   ]
  },
  {
   "cell_type": "code",
   "execution_count": 5,
   "metadata": {},
   "outputs": [],
   "source": [
    "def create_rel_dict(cntr, rel_list, obj_data, forb_list):\n",
    "\n",
    "    for img in obj_data.keys():\n",
    "        if img not in forb_list:\n",
    "            tmp_list = []\n",
    "            for obj in obj_data[img]['objects']:\n",
    "                for rel in obj_data[img]['objects'][obj]['relations']:\n",
    "                    cntr += 1\n",
    "                    subj = rel['object']\n",
    "                    tmp_list.append({'predicate': rel['name'],\n",
    "                                     'object': {'h': obj_data[img]['objects'][obj]['h'],\n",
    "                                     'object_id': int(obj),\n",
    "                                     'merged_object_ids': [],\n",
    "                                     'synsets': [obj_data[img]['objects'][obj]['name']],\n",
    "                                     'w': obj_data[img]['objects'][obj]['w'],\n",
    "                                     'y': obj_data[img]['objects'][obj]['y'],\n",
    "                                     'x': obj_data[img]['objects'][obj]['x'],\n",
    "                                     'names': [obj_data[img]['objects'][obj]['name']]},\n",
    "                                    'relationship_id': cntr,\n",
    "                                    'synsets': [rel['name']],\n",
    "                                    'subject': {'name': obj_data[img]['objects'][subj]['name'],\n",
    "                                     'h': obj_data[img]['objects'][subj]['h'],\n",
    "                                     'synsets': [obj_data[img]['objects'][subj]['name']],\n",
    "                                     'object_id': int(subj),\n",
    "                                     'w': obj_data[img]['objects'][subj]['w'],\n",
    "                                     'y': obj_data[img]['objects'][subj]['y'],\n",
    "                                     'x': obj_data[img]['objects'][subj]['x']}})\n",
    "            rel_list.append({'relationships' : tmp_list, 'image_id' : int(img)})\n",
    "    \n",
    "    return cntr, rel_list"
   ]
  },
  {
   "cell_type": "code",
   "execution_count": 6,
   "metadata": {},
   "outputs": [],
   "source": [
    "def create_attr_dict(attr_list, obj_data, forb_list):\n",
    "    \n",
    "    for img in obj_data.keys():\n",
    "        if img not in forb_list:\n",
    "            tmp_dict = {'image_id' : int(img), 'attributes' : []}\n",
    "            tmp_list = []\n",
    "            for obj in obj_data[img]['objects']:\n",
    "                if obj_data[img]['objects'][obj]['attributes'] != []:\n",
    "                    tmp_list.append({'synsets': [obj_data[img]['objects'][obj]['name']],\n",
    "                                     'h': obj_data[img]['objects'][obj]['h'],\n",
    "                                     'object_id': int(obj),\n",
    "                                     'attributes' : obj_data[img]['objects'][obj]['attributes'],\n",
    "                                     'names': [obj_data[img]['objects'][obj]['name']],\n",
    "                                     'w': obj_data[img]['objects'][obj]['w'],\n",
    "                                     'y': obj_data[img]['objects'][obj]['y'],\n",
    "                                     'x': obj_data[img]['objects'][obj]['x']})\n",
    "                else:\n",
    "                    tmp_list.append({'synsets': [obj_data[img]['objects'][obj]['name']],\n",
    "                                     'h': obj_data[img]['objects'][obj]['h'],\n",
    "                                     'object_id': int(obj),\n",
    "                                     'names': [obj_data[img]['objects'][obj]['name']],\n",
    "                                     'w': obj_data[img]['objects'][obj]['w'],\n",
    "                                     'y': obj_data[img]['objects'][obj]['y'],\n",
    "                                     'x': obj_data[img]['objects'][obj]['x']})\n",
    "\n",
    "            tmp_dict['attributes'] = tmp_list\n",
    "            attr_list.append(tmp_dict)\n",
    "        \n",
    "    return attr_list"
   ]
  },
  {
   "cell_type": "code",
   "execution_count": 7,
   "metadata": {},
   "outputs": [],
   "source": [
    "def save_to_file(text, name):\n",
    "\n",
    "    with open(name, mode='wt', encoding='utf-8') as myfile:\n",
    "        myfile.write('\\n'.join(text))\n",
    "        myfile.write('\\n')"
   ]
  },
  {
   "cell_type": "code",
   "execution_count": 9,
   "metadata": {},
   "outputs": [],
   "source": [
    "cntr = 0\n",
    "img_list = []\n",
    "rel_list = []\n",
    "attr_list = []\n",
    "gqa_image_data = []\n",
    "forb_list = open(\"non_ex_haha.txt\", \"r\").read().split('\\n')\n",
    "\n",
    "for name in ('val_sceneGraphs', 'train_sceneGraphs'):\n",
    "    with open('//local-scratch/data/GQA/SceneGraphs/' + name + '.json') as json_file:\n",
    "        obj_data = json.load(json_file)\n",
    "        \n",
    "    img_list = create_obj_dict(img_list, obj_data, forb_list)\n",
    "    cntr, rel_list = create_rel_dict(cntr, rel_list, obj_data, forb_list)\n",
    "    gqa_image_data = create_gqa_image_data(gqa_image_data, obj_data, forb_list)\n",
    "    attr_list = create_attr_dict(attr_list, obj_data, forb_list)"
   ]
  },
  {
   "cell_type": "code",
   "execution_count": 10,
   "metadata": {},
   "outputs": [],
   "source": [
    "relsMap = json.load(open('/home/lkochiev/Documents/SFU/NSM/vgLists/relInfo.json'))\n",
    "save_to_file(list(relsMap.keys()), 'gqa_relationship_list.txt')"
   ]
  },
  {
   "cell_type": "code",
   "execution_count": 11,
   "metadata": {},
   "outputs": [],
   "source": [
    "attrInfo = json.load(open('/home/lkochiev/Documents/SFU/NSM/vgLists/attrMap.json'))\n",
    "merged = list(itertools.chain(*list(attrInfo.values())))\n",
    "save_to_file(merged, 'gqa_attribute_list.txt')"
   ]
  },
  {
   "cell_type": "code",
   "execution_count": 12,
   "metadata": {},
   "outputs": [],
   "source": [
    "catMap = json.load(open('/home/lkochiev/Documents/SFU/NSM/vgLists/hObjInfo.json'))\n",
    "save_to_file(list(catMap.keys()), 'gqa_object_list.txt')"
   ]
  },
  {
   "cell_type": "code",
   "execution_count": 13,
   "metadata": {},
   "outputs": [],
   "source": [
    "with open('gqa_objects.json', 'w') as outfile:\n",
    "    json.dump(img_list, outfile)\n",
    "    \n",
    "with open('gqa_relationships.json', 'w') as outfile:\n",
    "    json.dump(rel_list, outfile)\n",
    "    \n",
    "with open('gqa_image_metadata.json', 'w') as outfile:  \n",
    "    json.dump(gqa_image_data, outfile)\n",
    "    \n",
    "with open('gqa_attributes.json', 'w') as outfile:\n",
    "    json.dump(attr_list, outfile)"
   ]
  },
  {
   "cell_type": "code",
   "execution_count": null,
   "metadata": {},
   "outputs": [],
   "source": []
  },
  {
   "cell_type": "code",
   "execution_count": null,
   "metadata": {},
   "outputs": [],
   "source": []
  },
  {
   "cell_type": "code",
   "execution_count": null,
   "metadata": {},
   "outputs": [],
   "source": []
  },
  {
   "cell_type": "code",
   "execution_count": 38,
   "metadata": {},
   "outputs": [
    {
     "name": "stderr",
     "output_type": "stream",
     "text": [
      "100%|██████████| 10696/10696 [00:00<00:00, 24711.95it/s]\n",
      "100%|██████████| 74942/74942 [00:03<00:00, 24782.53it/s]\n"
     ]
    }
   ],
   "source": [
    "obj_ent = []\n",
    "att_ent = []\n",
    "rel_ent = []\n",
    "\n",
    "for name in ('val_sceneGraphs', 'train_sceneGraphs'):\n",
    "    with open('//local-scratch/data/GQA/SceneGraphs/' + name + '.json') as json_file:\n",
    "        obj_data = json.load(json_file)\n",
    "    \n",
    "    for key in tqdm(obj_data.keys()):\n",
    "        for obj in obj_data[key]['objects']:\n",
    "            \n",
    "            if obj_data[key]['objects'][obj]['name'] in obj_ent:\n",
    "                continue\n",
    "            else: \n",
    "                obj_ent.append(obj_data[key]['objects'][obj]['name'])\n",
    "            \n",
    "            for rel in obj_data[key]['objects'][obj]['relations']:\n",
    "                if rel['name'] == 'licking':\n",
    "                    print('licking')\n",
    "                if rel['name'] in rel_ent:\n",
    "                    continue\n",
    "                else: \n",
    "                    rel_ent.append(rel['name'])\n",
    "                    \n",
    "            for att in obj_data[key]['objects'][obj]['attributes']:\n",
    "                if att in att_ent:\n",
    "                    continue\n",
    "                else: \n",
    "                    att_ent.append(att)"
   ]
  },
  {
   "cell_type": "code",
   "execution_count": 40,
   "metadata": {},
   "outputs": [
    {
     "data": {
      "text/plain": [
       "(65, 182)"
      ]
     },
     "execution_count": 40,
     "metadata": {},
     "output_type": "execute_result"
    }
   ],
   "source": [
    "len(rel_ent), len(att_ent)"
   ]
  },
  {
   "cell_type": "code",
   "execution_count": null,
   "metadata": {},
   "outputs": [],
   "source": []
  }
 ],
 "metadata": {
  "kernelspec": {
   "display_name": "Python 3",
   "language": "python",
   "name": "python3"
  },
  "toc": {
   "base_numbering": 1,
   "nav_menu": {},
   "number_sections": true,
   "sideBar": true,
   "skip_h1_title": false,
   "title_cell": "Table of Contents",
   "title_sidebar": "Contents",
   "toc_cell": false,
   "toc_position": {},
   "toc_section_display": true,
   "toc_window_display": false
  },
  "varInspector": {
   "cols": {
    "lenName": 16,
    "lenType": 16,
    "lenVar": 40
   },
   "kernels_config": {
    "python": {
     "delete_cmd_postfix": "",
     "delete_cmd_prefix": "del ",
     "library": "var_list.py",
     "varRefreshCmd": "print(var_dic_list())"
    },
    "r": {
     "delete_cmd_postfix": ") ",
     "delete_cmd_prefix": "rm(",
     "library": "var_list.r",
     "varRefreshCmd": "cat(var_dic_list()) "
    }
   },
   "types_to_exclude": [
    "module",
    "function",
    "builtin_function_or_method",
    "instance",
    "_Feature"
   ],
   "window_display": false
  }
 },
 "nbformat": 4,
 "nbformat_minor": 4
}

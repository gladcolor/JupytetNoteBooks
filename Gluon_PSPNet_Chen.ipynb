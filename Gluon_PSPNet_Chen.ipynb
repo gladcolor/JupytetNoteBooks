{
 "cells": [
  {
   "cell_type": "markdown",
   "metadata": {},
   "source": [
    "# Toturial\n",
    "https://gluon-cv.mxnet.io/build/examples_segmentation/demo_psp.html#sphx-glr-build-examples-segmentation-demo-psp-py"
   ]
  },
  {
   "cell_type": "code",
   "execution_count": 2,
   "metadata": {
    "ExecuteTime": {
     "end_time": "2020-01-16T05:58:11.922903Z",
     "start_time": "2020-01-16T05:58:01.923851Z"
    },
    "scrolled": true
   },
   "outputs": [
    {
     "name": "stdout",
     "output_type": "stream",
     "text": [
      "self.crop_size 480\n"
     ]
    }
   ],
   "source": [
    "\n",
    "import mxnet as mx\n",
    "from mxnet import image\n",
    "from mxnet.gluon.data.vision import transforms\n",
    "from gluoncv.data.transforms.presets.segmentation import test_transform\n",
    "from matplotlib import pyplot as plt\n",
    "import glob\n",
    "import gluoncv\n",
    "from skimage import io\n",
    "import mxnet as mx\n",
    "from mxnet import image\n",
    "from gluoncv.utils.viz import get_color_pallete\n",
    "import matplotlib.image as mpimg\n",
    "import glob\n",
    "import os\n",
    "\n",
    "import mxnet as mx\n",
    "from mxnet import image\n",
    "from mxnet.gluon.data.vision import transforms\n",
    "from gluoncv.data.transforms.presets.segmentation import test_transform\n",
    "from matplotlib import pyplot as plt\n",
    "import gluoncv\n",
    "import numpy\n",
    "from PIL import Image\n",
    "\n",
    "\n",
    "model = gluoncv.model_zoo.get_model('psp_resnet101_ade', pretrained=True, ctx=mx.gpu(0))\n",
    "ctx = mx.gpu(0)\n",
    "import numpy\n",
    "from PIL import Image"
   ]
  },
  {
   "cell_type": "code",
   "execution_count": 2,
   "metadata": {
    "ExecuteTime": {
     "end_time": "2020-01-16T03:14:07.621714Z",
     "start_time": "2020-01-16T03:14:07.613711Z"
    }
   },
   "outputs": [],
   "source": [
    "import glob\n",
    "all_files = glob.glob(r'K:\\OneDrive_NJIT\\OneDrive - NJIT\\Research\\sidewalk\\Essex_test\\panos\\*.jpg')"
   ]
  },
  {
   "cell_type": "code",
   "execution_count": 3,
   "metadata": {
    "ExecuteTime": {
     "end_time": "2020-01-16T03:14:07.672233Z",
     "start_time": "2020-01-16T03:14:07.623714Z"
    },
    "scrolled": true
   },
   "outputs": [
    {
     "name": "stdout",
     "output_type": "stream",
     "text": [
      "['I:\\\\t\\\\depthmap\\\\-9eYImoKzQ9iOYWIPxDaXA.jpg', 'I:\\\\t\\\\depthmap\\\\-g3urziCFCj2P_VXY3qKkg.jpg', 'I:\\\\t\\\\depthmap\\\\-YGo7swzWTaKc9dvWcgw_w.jpg', 'I:\\\\t\\\\depthmap\\\\0-s1cUli9Fmv3JLm3lkMTQ-DESKTOP-H2OGE6L.jpg', 'I:\\\\t\\\\depthmap\\\\0-s1cUli9Fmv3JLm3lkMTQ.jpg', 'I:\\\\t\\\\depthmap\\\\02_WgU8fz6gBbeWUZbF2RQ.jpg', 'I:\\\\t\\\\depthmap\\\\03RBKNxMUwU336sfqaE-6Q.jpg', 'I:\\\\t\\\\depthmap\\\\0Hv60YEpNmQDZw-cKmjBxg.jpg', 'I:\\\\t\\\\depthmap\\\\0iZda9Vj0WFr3Tqqmy6Xcg.jpg', 'I:\\\\t\\\\depthmap\\\\0k548gcfScOz32zKyqK5XA.jpg', 'I:\\\\t\\\\depthmap\\\\0ke2y-yMkeJJsXQZA2Xn_Q.jpg', 'I:\\\\t\\\\depthmap\\\\0o7eIatingWl-v_DZ1CekQ.jpg', 'I:\\\\t\\\\depthmap\\\\0oKknddcwTIpPHeQyf6f5A.jpg', 'I:\\\\t\\\\depthmap\\\\0vL2wtNo4PIQ2S-g2-gHZw-DESKTOP-H2OGE6L.jpg', 'I:\\\\t\\\\depthmap\\\\0vL2wtNo4PIQ2S-g2-gHZw.jpg', 'I:\\\\t\\\\depthmap\\\\0w2WXTrjIC9zWgWlw1ss8Q.jpg', 'I:\\\\t\\\\depthmap\\\\1BV2qdirkaTkng2bqtfOMA-DESKTOP-H2OGE6L.jpg', 'I:\\\\t\\\\depthmap\\\\1BV2qdirkaTkng2bqtfOMA.jpg', 'I:\\\\t\\\\depthmap\\\\1eBn2Fgv9DXKsrtb01U-8A-DESKTOP-H2OGE6L.jpg', 'I:\\\\t\\\\depthmap\\\\1eBn2Fgv9DXKsrtb01U-8A.jpg', 'I:\\\\t\\\\depthmap\\\\1MlW29U0RjN_aWMRUv7rtQ-DESKTOP-H2OGE6L.jpg', 'I:\\\\t\\\\depthmap\\\\1MlW29U0RjN_aWMRUv7rtQ.jpg', 'I:\\\\t\\\\depthmap\\\\1oMnDSXHP6WMPAVRTUwitA.jpg', 'I:\\\\t\\\\depthmap\\\\1qfrmRl5VplI60uth54mnQ.jpg', 'I:\\\\t\\\\depthmap\\\\1zewT3qenJehSBZBPO2TxQ.jpg', 'I:\\\\t\\\\depthmap\\\\20zS9ddeN7CAQa2MeyA6Gg.jpg', 'I:\\\\t\\\\depthmap\\\\2HAXRd8KkOpCytXBmRyqpA.jpg', 'I:\\\\t\\\\depthmap\\\\2nl5dw2Vd5V8Aikm-Kg4Fg.jpg', 'I:\\\\t\\\\depthmap\\\\2RCegtG0TrR3V1EURSrh4g.jpg', 'I:\\\\t\\\\depthmap\\\\31LIA749XleioOrG3Wpfcg.jpg', 'I:\\\\t\\\\depthmap\\\\33pNVugQoCBmjoB59jJnuw.jpg', 'I:\\\\t\\\\depthmap\\\\3bGfIqI1sNzr-yrJdrcFqg.jpg', 'I:\\\\t\\\\depthmap\\\\3pk9hOt0J6RTZxAzNDEj0A.jpg', 'I:\\\\t\\\\depthmap\\\\3QDrsKRzUElu9_FMCwJJtg.jpg', 'I:\\\\t\\\\depthmap\\\\4drszDWN7KJn2uWVmFRv7A.jpg', 'I:\\\\t\\\\depthmap\\\\4ik_G1urAoBPNUIGOW_JWg.jpg', 'I:\\\\t\\\\depthmap\\\\4misdzQdeqbzoQzfIhP_iQ.jpg', 'I:\\\\t\\\\depthmap\\\\4M_GhP5TXuCsAEqjMPwoPg.jpg', 'I:\\\\t\\\\depthmap\\\\4oHz09u-8JQ8aFfAcQKuRg.jpg', 'I:\\\\t\\\\depthmap\\\\4Ow8Ex319owQR2bivwaVNQ.jpg', 'I:\\\\t\\\\depthmap\\\\4pNdwVOi0l-BTUsyMpKcYQ.jpg', 'I:\\\\t\\\\depthmap\\\\4SMiwxqllpu0yf-uq6pOGw.jpg', 'I:\\\\t\\\\depthmap\\\\4Tn0YwZUe2rNM-NeljoyOg.jpg', 'I:\\\\t\\\\depthmap\\\\5p-6SmOPndsImBbkVdx37w.jpg', 'I:\\\\t\\\\depthmap\\\\5qEt-NaX-b2xnxT_NGktIQ.jpg', 'I:\\\\t\\\\depthmap\\\\5UKyo_9ymTyIeAmUZWCpqA.jpg', 'I:\\\\t\\\\depthmap\\\\5X4jESlS6Vz3wMY6zEJRFQ.jpg', 'I:\\\\t\\\\depthmap\\\\5ywu6UsJ7BjbquAj8yzkIw.jpg', 'I:\\\\t\\\\depthmap\\\\6f6GMSnkwGP3qybADNeXvw.jpg', 'I:\\\\t\\\\depthmap\\\\6kPwaDvg4AZ39ESx1FK13g.jpg', 'I:\\\\t\\\\depthmap\\\\6oGJY2vraqjEdtwvOmtC2g.jpg', 'I:\\\\t\\\\depthmap\\\\6TdvCL-cMbO8WEBdZVeHcA.jpg', 'I:\\\\t\\\\depthmap\\\\7KgKx7zWBnydeuO71riNsA.jpg', 'I:\\\\t\\\\depthmap\\\\7pAzF7YHqfLO3QmHR2e2Sw.jpg', 'I:\\\\t\\\\depthmap\\\\7RZ9_n-p9qsj0NMJ1qxIVQ.jpg', 'I:\\\\t\\\\depthmap\\\\7wy2B5xVIOkx5WEw114z6A.jpg', 'I:\\\\t\\\\depthmap\\\\85roVUFsqPdqimhcqXpQiQ.jpg', 'I:\\\\t\\\\depthmap\\\\8flYA03M1o5LN_FHfcDwVw.jpg', 'I:\\\\t\\\\depthmap\\\\8xsKVb9flxnKhEvI4IXOvA.jpg', 'I:\\\\t\\\\depthmap\\\\8zBf1p40cPK6arA_PQk-nQ.jpg', 'I:\\\\t\\\\depthmap\\\\9D14FwJtREwh3ff01HYPzg.jpg', 'I:\\\\t\\\\depthmap\\\\9dG7p0YJE_KxPCN31jwkfQ.jpg', 'I:\\\\t\\\\depthmap\\\\9eRvpLEcMgMPWlMeED3tMQ.jpg', 'I:\\\\t\\\\depthmap\\\\9Jyly3NcEc_6wGI-T6MBRg.jpg', 'I:\\\\t\\\\depthmap\\\\9uyjldQIZB-H6MWLA3UFfg.jpg', 'I:\\\\t\\\\depthmap\\\\9XXnQaF8usINSKl60UO_2A.jpg', 'I:\\\\t\\\\depthmap\\\\9zlPARXhrRbDodq4UH0XoA.jpg', 'I:\\\\t\\\\depthmap\\\\ab1GQw8f0ht2bkmDzvc_Xg.jpg', 'I:\\\\t\\\\depthmap\\\\aCcWMgTXDxNGlUjLcJ57VQ.jpg', 'I:\\\\t\\\\depthmap\\\\AKFQWUGaRdjA4ZFiidSdgA.jpg', 'I:\\\\t\\\\depthmap\\\\AngIfPqGgUG-bIYTG5M1bQ.jpg', 'I:\\\\t\\\\depthmap\\\\aQbqKm34JjBlv2BbAmbwyw.jpg', 'I:\\\\t\\\\depthmap\\\\B9fsXiiERICQyKDVU95kVw.jpg', 'I:\\\\t\\\\depthmap\\\\BaiD7ptmSZATsdbgShYpMg.jpg', 'I:\\\\t\\\\depthmap\\\\BBsqgQ3KNxb0tlwpF-WWUw.jpg', 'I:\\\\t\\\\depthmap\\\\Bc7abQ-Q4or0_6bMuDGE2A.jpg', 'I:\\\\t\\\\depthmap\\\\BdFofBW70O4fcDpTIlMpeQ.jpg', 'I:\\\\t\\\\depthmap\\\\bDtgGIvfSvj9U9GnlIAqRA.jpg', 'I:\\\\t\\\\depthmap\\\\bEOoeEiErjQ5EXZzLGmoJw.jpg', 'I:\\\\t\\\\depthmap\\\\BiNHGnvVFGwX6HTZdB57KA.jpg', 'I:\\\\t\\\\depthmap\\\\bJn1yh0yUJKtV5-StxADoA.jpg', 'I:\\\\t\\\\depthmap\\\\BJUNhKERMnP_Llr4v2x-vw.jpg', 'I:\\\\t\\\\depthmap\\\\boTq-ANWe7vrt-3d-q3TqA.jpg', 'I:\\\\t\\\\depthmap\\\\bRWHaNMGxCnB9YduYODd1A.jpg', 'I:\\\\t\\\\depthmap\\\\bWgmoj6y7r7peObTD9Rbpw.jpg', 'I:\\\\t\\\\depthmap\\\\bXsilo2xE6codV2tVBWF-g.jpg', 'I:\\\\t\\\\depthmap\\\\C4k9bfmcbLIRF8WQQ6jA1w.jpg', 'I:\\\\t\\\\depthmap\\\\Ce3GRQ5iXvqbleDEo-h1fA.jpg', 'I:\\\\t\\\\depthmap\\\\cPyVQ8j000oyA4qpIP4iaw.jpg', 'I:\\\\t\\\\depthmap\\\\CQnHTF6fAkgTCIs5uYV_gw.jpg', 'I:\\\\t\\\\depthmap\\\\cR3LQ03CGevFEeaqD0uqYQ.jpg', 'I:\\\\t\\\\depthmap\\\\CRBTIPiOz_Tw0mbTCytj5A.jpg', 'I:\\\\t\\\\depthmap\\\\csQeARX94ruJ8K7rtefZAA.jpg', 'I:\\\\t\\\\depthmap\\\\cT_FpuDzimwQl8yoBJYExw.jpg', 'I:\\\\t\\\\depthmap\\\\cw0JVTpggy48_q1NOfVHpA.jpg', 'I:\\\\t\\\\depthmap\\\\d36O-hJI9adc-OD0rXXT1g.jpg', 'I:\\\\t\\\\depthmap\\\\d5FoSmPcx6ZlTjzYlUQaaw.jpg', 'I:\\\\t\\\\depthmap\\\\DBu_lHezDV7LL3zJixXSqg.jpg', 'I:\\\\t\\\\depthmap\\\\DdfjPV6SrIO-P_wbNwzcUw.jpg', 'I:\\\\t\\\\depthmap\\\\Dg0LGX581Uu5ooKrLlvQGA.jpg', 'I:\\\\t\\\\depthmap\\\\doVuS132m2clqtEZdZqv-Q.jpg', 'I:\\\\t\\\\depthmap\\\\Du0WBruIm_hC1vUo4FBNLQ.jpg', 'I:\\\\t\\\\depthmap\\\\DXK9j1LtQJlN6J-IuyoNcA.jpg', 'I:\\\\t\\\\depthmap\\\\d_-GgE-zjwL36zgzsks4MQ.jpg', 'I:\\\\t\\\\depthmap\\\\E0JksWvgmovc3UX0VVh1DQ.jpg', 'I:\\\\t\\\\depthmap\\\\E8eK-68sVkLEz3JkM2nLcg.jpg', 'I:\\\\t\\\\depthmap\\\\e8VKdnJeRr3SsK7hcMnxgw.jpg', 'I:\\\\t\\\\depthmap\\\\eEKI3whL_Qf48OpotFgPjA.jpg', 'I:\\\\t\\\\depthmap\\\\efJTCO_Jz0ul81Hs2FiFew.jpg', 'I:\\\\t\\\\depthmap\\\\EG4Sr2JMkQHa_zHw4OFZbQ.jpg', 'I:\\\\t\\\\depthmap\\\\Ek_JXn2zj3-Mu9XAo4u16Q.jpg', 'I:\\\\t\\\\depthmap\\\\enoi_gvrNsWG-tUyMg_Ozg.jpg', 'I:\\\\t\\\\depthmap\\\\EZVZiNATNWd1JF5HZrKFrg.jpg', 'I:\\\\t\\\\depthmap\\\\F4yeOLQ9QJWf2OuQCW4YTQ.jpg', 'I:\\\\t\\\\depthmap\\\\f7ktpQx6XSJOv0oxW2rg3g.jpg', 'I:\\\\t\\\\depthmap\\\\fBRKbJx3dzy9lwkbOCGc5Q.jpg', 'I:\\\\t\\\\depthmap\\\\fDIKqboDVECWz8nByNfEuA.jpg', 'I:\\\\t\\\\depthmap\\\\fl_hrRbbeypRjz-CDRGTPA.jpg', 'I:\\\\t\\\\depthmap\\\\FmcpPxbIEVsnVHGegiDz9Q.jpg', 'I:\\\\t\\\\depthmap\\\\FNkXZ-8DenjDYmHq4QmPJQ.jpg', 'I:\\\\t\\\\depthmap\\\\FoDOu8wJZ3dgKmGTwWdu7A.jpg', 'I:\\\\t\\\\depthmap\\\\FUfUnHNb0K4NS4A5Tdh5Ug.jpg', 'I:\\\\t\\\\depthmap\\\\FuJ2gZJ6H_QiqeD8b6GBqw.jpg', 'I:\\\\t\\\\depthmap\\\\gdV8f9AdRGl-uWTOqE4fLQ.jpg', 'I:\\\\t\\\\depthmap\\\\gGgQTNhhUhfO-q2bghNa0g.jpg', 'I:\\\\t\\\\depthmap\\\\h6aDculbcxkcbUCUNruZgA.jpg', 'I:\\\\t\\\\depthmap\\\\hCVSQClhCYU2h6Mq59v1KA.jpg', 'I:\\\\t\\\\depthmap\\\\hGuPVEsrpuhvNtGg6UjOxA.jpg', 'I:\\\\t\\\\depthmap\\\\hi_3sRwNmoRlUg7vyqXu5g.jpg', 'I:\\\\t\\\\depthmap\\\\HqXNGmm00BSesxt_XEIhhw.jpg', 'I:\\\\t\\\\depthmap\\\\HrKPXRJ_gqljXAgZ4w5Q3Q.jpg', 'I:\\\\t\\\\depthmap\\\\HW6hHc5x8lB8OPPMLKW7Qg.jpg', 'I:\\\\t\\\\depthmap\\\\i9ZpjuNDNXb8DHHSyu_LaQ.jpg', 'I:\\\\t\\\\depthmap\\\\iBESksfaP1BtTAlE0sGgqQ.jpg', 'I:\\\\t\\\\depthmap\\\\IEiJfDicXGTPsnQcYq0CwQ.jpg', 'I:\\\\t\\\\depthmap\\\\ilnBcF0ZOVDY-VIjgYTiJg.jpg', 'I:\\\\t\\\\depthmap\\\\ImHSTTDu_JAnjNGNCUt1uA.jpg', 'I:\\\\t\\\\depthmap\\\\iMYzd7bDv0J0CKfdLzkAZg.jpg', 'I:\\\\t\\\\depthmap\\\\iPBT5BGybtuTulyr94eqRQ.jpg', 'I:\\\\t\\\\depthmap\\\\iQ9Yk6re834ZluvfQXkt5g.jpg', 'I:\\\\t\\\\depthmap\\\\iRzjJ1Npko7mP5xasUDnoQ.jpg', 'I:\\\\t\\\\depthmap\\\\Isbq-Cy-25WO3RdmzueVIA.jpg', 'I:\\\\t\\\\depthmap\\\\IYLL3Eg7VIqSt2CR6Q1nBQ.jpg', 'I:\\\\t\\\\depthmap\\\\jcIVLvWwxJFf0ArYtyvkuw.jpg', 'I:\\\\t\\\\depthmap\\\\jfdHS1dm3JY6QsuCvr82bQ.jpg', 'I:\\\\t\\\\depthmap\\\\JgUI8i6PHXThdtVMm0zsng.jpg', 'I:\\\\t\\\\depthmap\\\\jS7rN0Wca908ifzbSUfi7Q.jpg', 'I:\\\\t\\\\depthmap\\\\JwEQvz_Pl_NNKUVI-S6PyQ.jpg', 'I:\\\\t\\\\depthmap\\\\JxfsCfUfyz5x6l6d-pdM2w.jpg', 'I:\\\\t\\\\depthmap\\\\k0zQop4gPaRGOPZxrS05ZQ.jpg', 'I:\\\\t\\\\depthmap\\\\K5hzKYsVp-sTjrxFh3zDHg.jpg', 'I:\\\\t\\\\depthmap\\\\kAeWnD5PAlg37AIoP55F9Q.jpg', 'I:\\\\t\\\\depthmap\\\\Kdj4KUv6JkBa8eU37Frrtg.jpg', 'I:\\\\t\\\\depthmap\\\\kE3e_0Ylr8kfcOkDJHXb1w.jpg', 'I:\\\\t\\\\depthmap\\\\KFUufR9nmV6043nWjcntrA.jpg', 'I:\\\\t\\\\depthmap\\\\KRvPKyofr2jR1OEhG_SqbQ.jpg', 'I:\\\\t\\\\depthmap\\\\Kww7aCSZY0tBqxcviM9MBw.jpg', 'I:\\\\t\\\\depthmap\\\\kXCFf4-80hefKt6084dFxQ.jpg', 'I:\\\\t\\\\depthmap\\\\L-UVeykq29YNjq7ZYVF5JA.jpg', 'I:\\\\t\\\\depthmap\\\\l2KgtOSrEuGa-nuf9cDE-A.jpg', 'I:\\\\t\\\\depthmap\\\\l8rEvMuFwVlQVekJbFMXyQ.jpg', 'I:\\\\t\\\\depthmap\\\\lADR1zp5Ivkr6fGRXWWabQ.jpg', 'I:\\\\t\\\\depthmap\\\\lBjhVXpgyno2vKnqO-KHQw.jpg', 'I:\\\\t\\\\depthmap\\\\LeRlODFFU25dRu9cNLG1Cw.jpg', 'I:\\\\t\\\\depthmap\\\\LeYAIu-xGFNEJQwOZAl3Iw.jpg', 'I:\\\\t\\\\depthmap\\\\lofyzn50-WyXOyzeqSHCCg.jpg', 'I:\\\\t\\\\depthmap\\\\lrl_ilkibnALxpYkLKGncQ.jpg', 'I:\\\\t\\\\depthmap\\\\LtWp40mfSiFSMykD7uIBXQ.jpg', 'I:\\\\t\\\\depthmap\\\\LxL5pcGETiFYJI8FvHhRyQ.jpg', 'I:\\\\t\\\\depthmap\\\\m40AUJJPmTVtSH8xoTxf7g.jpg', 'I:\\\\t\\\\depthmap\\\\m55FtFXSFwR28i2Wn-5lkg.jpg', 'I:\\\\t\\\\depthmap\\\\MFmbgLrS1F1LpwCHL5ms-w.jpg', 'I:\\\\t\\\\depthmap\\\\mGBJSbdRJP8gisdD7RR6Kw.jpg', 'I:\\\\t\\\\depthmap\\\\mH-oiSpXQqwnYXg9vS3k2g.jpg', 'I:\\\\t\\\\depthmap\\\\mmtp-uSJIIdeqVkKMHy-vw.jpg', 'I:\\\\t\\\\depthmap\\\\Mnm2av02BT427X9u_vocKw.jpg', 'I:\\\\t\\\\depthmap\\\\MwkKQU9bSz1RjR_0ZuaN3Q.jpg', 'I:\\\\t\\\\depthmap\\\\N-YIKgTuWLjI2_kn-G3j6A.jpg', 'I:\\\\t\\\\depthmap\\\\N2fw4bSApaoZAMSQerwSaA.jpg', 'I:\\\\t\\\\depthmap\\\\NeiGvHrGBpG-lS2UVdO89w.jpg', 'I:\\\\t\\\\depthmap\\\\NGo3gsolVCaewDpDCMme-g.jpg', 'I:\\\\t\\\\depthmap\\\\NK1DlLIPdcymB4APTHZ8Cw.jpg', 'I:\\\\t\\\\depthmap\\\\nPXxZno2b8ul3KE73Ka9qA.jpg', 'I:\\\\t\\\\depthmap\\\\nRtDekKxoevDSN8wmjhRNQ.jpg', 'I:\\\\t\\\\depthmap\\\\nSS95WIF5VXqmw8GrkPR9Q.jpg', 'I:\\\\t\\\\depthmap\\\\Nu8ubzlyJKQWe3qAhoOtxw.jpg', 'I:\\\\t\\\\depthmap\\\\nXAtl0xxbH4wO0ob6BbTrw.jpg', 'I:\\\\t\\\\depthmap\\\\nYHT6MrPhaHtkvfkrgQRqw.jpg', 'I:\\\\t\\\\depthmap\\\\O63iKX-4fVCFblyHAOovaA.jpg', 'I:\\\\t\\\\depthmap\\\\o9mc7cJOy0xeb795NC5BfQ.jpg', 'I:\\\\t\\\\depthmap\\\\oDJHTPrc1vYehMPvzkpt4A.jpg', 'I:\\\\t\\\\depthmap\\\\oguw5LRk-4Spol-3XQwp6A.jpg', 'I:\\\\t\\\\depthmap\\\\OjcmAcnrRUsm6FiJkwvgvA.jpg', 'I:\\\\t\\\\depthmap\\\\OlEkVIkSaMRmpvf8eva51g.jpg', 'I:\\\\t\\\\depthmap\\\\OnscXILHuyqAJrWW8Bx2AQ.jpg', 'I:\\\\t\\\\depthmap\\\\oplwuq-0zw1B1j-O6k7yIQ.jpg', 'I:\\\\t\\\\depthmap\\\\OqXCwajpRXm9U96nJVEv_w.jpg', 'I:\\\\t\\\\depthmap\\\\osZWRH_lKWehaVmzKQMLVw.jpg', 'I:\\\\t\\\\depthmap\\\\OTN_G5WuijD9HGzkNznoVA.jpg', 'I:\\\\t\\\\depthmap\\\\oucHJUyAvZNGDbprixYUeg.jpg', 'I:\\\\t\\\\depthmap\\\\oXQ6dQ8Q0vj-QNyXnwl2VA.jpg', 'I:\\\\t\\\\depthmap\\\\ozBjaRDVy8efC19VQ0jtjg.jpg', 'I:\\\\t\\\\depthmap\\\\OzF3fGi5x1VHWhJ7Y4I2mw.jpg', 'I:\\\\t\\\\depthmap\\\\o_tH7M1oynbaPTv7y8j6iA.jpg', 'I:\\\\t\\\\depthmap\\\\pauJj23G16R419KZr4deyw.jpg', 'I:\\\\t\\\\depthmap\\\\PC_G3xy725N3E4I0x-iZmw.jpg', 'I:\\\\t\\\\depthmap\\\\pGEmmlEomFxuoroEytIbAg.jpg', 'I:\\\\t\\\\depthmap\\\\PJZ5AOGl9_Jdzsieiah0Qw.jpg', 'I:\\\\t\\\\depthmap\\\\pLpdq03D6SfIVlPmLEyWEw.jpg', 'I:\\\\t\\\\depthmap\\\\Q6RGI5cICpRJBK3cXxKLhg.jpg', 'I:\\\\t\\\\depthmap\\\\qAYd9QiwszKOAKE7TGmfuQ.jpg', 'I:\\\\t\\\\depthmap\\\\qA_aMr-wNONr1dzp6rDJug.jpg', 'I:\\\\t\\\\depthmap\\\\qbOA2SauErwg_wuOgn0wtg.jpg', 'I:\\\\t\\\\depthmap\\\\qhAZ5i9OIpKeL4P7uQsGJg.jpg', 'I:\\\\t\\\\depthmap\\\\qiYf3L74hv-wUFgSfwC5ew.jpg', 'I:\\\\t\\\\depthmap\\\\QjO-h3flA2faoZX09954sg.jpg', 'I:\\\\t\\\\depthmap\\\\QkoG1sMV03bGPbMADdmV9g.jpg', 'I:\\\\t\\\\depthmap\\\\qKUbn77MsPWvFpR4g6ZQZw.jpg', 'I:\\\\t\\\\depthmap\\\\Qo9jlKCMigSzHKqHRgRAgQ.jpg', 'I:\\\\t\\\\depthmap\\\\Qpfnnu6uBu0YY7LhYLJMmw.jpg', 'I:\\\\t\\\\depthmap\\\\Qrfowk7mJ-RaWDZJAA9lVA.jpg', 'I:\\\\t\\\\depthmap\\\\QWfy2rFt3LedT5sh75XsnA.jpg', 'I:\\\\t\\\\depthmap\\\\QXAhi2jcqdfJtRSAOQ5Abg.jpg', 'I:\\\\t\\\\depthmap\\\\QxSHKdQarO5neX0wgkX_Sg.jpg', 'I:\\\\t\\\\depthmap\\\\r08wRuIj1qO8J97kMFAcCw.jpg', 'I:\\\\t\\\\depthmap\\\\R2nHHiKBPZ2HGoJisAAU-Q.jpg', 'I:\\\\t\\\\depthmap\\\\rDY-443oZLgRtylrVgjqzw.jpg', 'I:\\\\t\\\\depthmap\\\\rgd7Uw3OWvtwDaKYJ8N7nw.jpg', 'I:\\\\t\\\\depthmap\\\\rKBicEChjVWYipwOV5gKJQ.jpg', 'I:\\\\t\\\\depthmap\\\\rnjpHjdhEIJOG3daP2ZChA.jpg', 'I:\\\\t\\\\depthmap\\\\RQBgRMRyfsr4QjbMU12Udg.jpg', 'I:\\\\t\\\\depthmap\\\\rXkYHvrOXkIBTokqDfWMzg.jpg', 'I:\\\\t\\\\depthmap\\\\rXTCPLl8S-zX18CSEzgoQg.jpg', 'I:\\\\t\\\\depthmap\\\\rY4o0AuAqEKTBcOqRhEJPQ.jpg', 'I:\\\\t\\\\depthmap\\\\S59zLR3EKGOmlAycz9zhQw.jpg', 'I:\\\\t\\\\depthmap\\\\S7p-lTkcbvS2bosJlho2Kw.jpg', 'I:\\\\t\\\\depthmap\\\\sirJ8sydHs-bkf46kCpLTA.jpg', 'I:\\\\t\\\\depthmap\\\\sJdUrOPwPtiEbhmyrIrZmg.jpg', 'I:\\\\t\\\\depthmap\\\\SJF3_rDtUKm2EtU7OQWBTg.jpg', 'I:\\\\t\\\\depthmap\\\\Skkq8sbfaVdhfhcNttzfHw.jpg', 'I:\\\\t\\\\depthmap\\\\StaKtuyBw5s0bEqoydFI0w.jpg', 'I:\\\\t\\\\depthmap\\\\SU4jvyiNrtC-QwQUe6rs6Q.jpg', 'I:\\\\t\\\\depthmap\\\\sV0hXoceINQzfnwocZXFBg.jpg', 'I:\\\\t\\\\depthmap\\\\s_WbjaEtClmSDnhBTTOa-g.jpg', 'I:\\\\t\\\\depthmap\\\\Ttr9ymYQNwFB2nRivOyThA.jpg', 'I:\\\\t\\\\depthmap\\\\TTUlBOVDfOhor8d0cn53pw.jpg', 'I:\\\\t\\\\depthmap\\\\tWfbfcr6joV9IyvOwGp91Q.jpg', 'I:\\\\t\\\\depthmap\\\\u1yKKIB472WxxS8OsFA6iw.jpg', 'I:\\\\t\\\\depthmap\\\\UA2VZSGnfqId5-ZXpfn0DA.jpg', 'I:\\\\t\\\\depthmap\\\\UHg76--mCi5HvNwwoPTQQw.jpg', 'I:\\\\t\\\\depthmap\\\\uNTOz3KqXItBJPSuhriYsg.jpg', 'I:\\\\t\\\\depthmap\\\\Unxg_zw167VyIflIJD7BmQ.jpg', 'I:\\\\t\\\\depthmap\\\\unzFKYJmKaR1md6ayjQfGQ.jpg', 'I:\\\\t\\\\depthmap\\\\uqwOKzMvKB9ibBYGpa5hLg.jpg', 'I:\\\\t\\\\depthmap\\\\Ut13GCd6svZDZ_sncItLig.jpg', 'I:\\\\t\\\\depthmap\\\\UYrtMWM9SHB7cHR7rGSczQ.jpg', 'I:\\\\t\\\\depthmap\\\\V3Au5Um7v7KtHhr8nvSxPA.jpg', 'I:\\\\t\\\\depthmap\\\\VaPbIUdX4zK2NYb2pvjZcQ.jpg', 'I:\\\\t\\\\depthmap\\\\vcDG5aBs9xLJptqH57DU-g.jpg', 'I:\\\\t\\\\depthmap\\\\VFZUN8-xCycjtXfY1NUVYg.jpg', 'I:\\\\t\\\\depthmap\\\\VggqMw2RDb4BPE__WBN88A.jpg', 'I:\\\\t\\\\depthmap\\\\Vic-eLiB3iBe2bypkeDojw.jpg', 'I:\\\\t\\\\depthmap\\\\VID3GKoa0t3gpsSWdwf6cw.jpg', 'I:\\\\t\\\\depthmap\\\\VOWxj-YkptxEIdOOA7EQ6g.jpg', 'I:\\\\t\\\\depthmap\\\\vrdmB727cXaEnFwktBEDdg.jpg', 'I:\\\\t\\\\depthmap\\\\VyGo-qhMe9iM2UvMO0e3QQ.jpg', 'I:\\\\t\\\\depthmap\\\\w7Ci6_Cky-2g3ptUARQDRg.jpg', 'I:\\\\t\\\\depthmap\\\\w7kisV2zL3awmvAqeN6C8Q.jpg', 'I:\\\\t\\\\depthmap\\\\WbyxQ23QzeVhy13UtuMcyg.jpg', 'I:\\\\t\\\\depthmap\\\\wCrg17vkSB3zOrHVBBug2Q.jpg', 'I:\\\\t\\\\depthmap\\\\WEO6RUo6UrYayUtY1AqWWQ.jpg', 'I:\\\\t\\\\depthmap\\\\WJ159H3KSfmcagKCYrpzhg.jpg', 'I:\\\\t\\\\depthmap\\\\WQSz2lVMhB2OlL06RNuy2w.jpg', 'I:\\\\t\\\\depthmap\\\\WsarK1DjuuyeGXnd7ws9FQ.jpg', 'I:\\\\t\\\\depthmap\\\\Wy9vfP7X4qaLQwSBMbLfAg.jpg', 'I:\\\\t\\\\depthmap\\\\WyC4F1SgOI5acPwbuvCcfw.jpg', 'I:\\\\t\\\\depthmap\\\\W_JZ-t9zdFN_gzjoOoHFOA.jpg', 'I:\\\\t\\\\depthmap\\\\xcYWtjrTHQ-nP9D0S7MlPQ.jpg', 'I:\\\\t\\\\depthmap\\\\XETOwruzhAjGIwGoJAMXEQ.jpg', 'I:\\\\t\\\\depthmap\\\\XH2aghwDvMTtTzyrPDXdOw.jpg', 'I:\\\\t\\\\depthmap\\\\XIIGlcSz3FmQnrUB6e7UFQ.jpg', 'I:\\\\t\\\\depthmap\\\\xkL5yNeX3kTu7kTYLiwp4w.jpg', 'I:\\\\t\\\\depthmap\\\\XkUU_fucRkdqVuqTQweZTQ.jpg', 'I:\\\\t\\\\depthmap\\\\XmVHeNI7XPgHcdRs95a9-Q.jpg', 'I:\\\\t\\\\depthmap\\\\XoFSgGnPf3hjVahpliYAKg.jpg', 'I:\\\\t\\\\depthmap\\\\xOznBmnuFR1HUa8prGJW5g.jpg', 'I:\\\\t\\\\depthmap\\\\XP9xK9eCVp48_45-uyjOyg.jpg', 'I:\\\\t\\\\depthmap\\\\XpkpyczgNhHr7D1lz6VL1w.jpg', 'I:\\\\t\\\\depthmap\\\\xqR5GZTEsnoXUwAtzvelWg.jpg', 'I:\\\\t\\\\depthmap\\\\xr_EmWsEIlvnPo-mYSYCmw.jpg', 'I:\\\\t\\\\depthmap\\\\XZ0x-pHpfuXZaztieqncaQ.jpg', 'I:\\\\t\\\\depthmap\\\\y7O0eQUNyMzN2gnVm0oPKQ.jpg', 'I:\\\\t\\\\depthmap\\\\y8RV2vB5mljr2C8iJELUvA.jpg', 'I:\\\\t\\\\depthmap\\\\Y9ksJT8FCilYWYMNdCsEkA.jpg', 'I:\\\\t\\\\depthmap\\\\yEgb81dnihVhwWLt0JIm0Q.jpg', 'I:\\\\t\\\\depthmap\\\\yfvaQ7bv02ItaBoPhu-XJQ.jpg', 'I:\\\\t\\\\depthmap\\\\Yg5iufFycmDXtmX3Vf5EVQ.jpg', 'I:\\\\t\\\\depthmap\\\\YgKJJ2-n9ApDsx3xSyiKYA.jpg', 'I:\\\\t\\\\depthmap\\\\yIr4gfCaxAmmpqSgwK5Ysg.jpg', 'I:\\\\t\\\\depthmap\\\\YJcb-Ea0posfvNda_UNNyw.jpg', 'I:\\\\t\\\\depthmap\\\\yL2Nn6NPdmQjybAZNKUV9w.jpg', 'I:\\\\t\\\\depthmap\\\\YMeOQURr2iQw1bE4rbLBBQ.jpg', 'I:\\\\t\\\\depthmap\\\\YTFuKG691RxRp2MqZn5ojg.jpg', 'I:\\\\t\\\\depthmap\\\\YtVlkhGOm6N1eBsiAyhZHg.jpg', 'I:\\\\t\\\\depthmap\\\\yUbGmq83mxlhuDyOuuEnSQ.jpg', 'I:\\\\t\\\\depthmap\\\\yuZHFlgLQGHX_0tNaGoeVg.jpg', 'I:\\\\t\\\\depthmap\\\\yx-QWsDV8JtCNX8awX42Pg.jpg', 'I:\\\\t\\\\depthmap\\\\Z84lldW4Fg7OGehbTSGYyg.jpg', 'I:\\\\t\\\\depthmap\\\\ZbRxwTiMoQOtBqFV-RrJ4Q.jpg', 'I:\\\\t\\\\depthmap\\\\ZCVKIG7lrS-CrFYXsWDIJA.jpg', 'I:\\\\t\\\\depthmap\\\\ZdqK9lVgO7RDRAwihPTJGA.jpg', 'I:\\\\t\\\\depthmap\\\\zEtJ6d7G3ySyY5ZITcApFg.jpg', 'I:\\\\t\\\\depthmap\\\\zhYT-MBMWIbYyl8NOI5DMw.jpg', 'I:\\\\t\\\\depthmap\\\\zmUwLX-upAGraJ6jG4VoaQ.jpg', 'I:\\\\t\\\\depthmap\\\\ZREzpJBhOfWyn9_QeO5xwg.jpg', 'I:\\\\t\\\\depthmap\\\\zTM-56uHKotoDz6HFdAOiw.jpg', 'I:\\\\t\\\\depthmap\\\\ZvTUntkwy8VwPaaikfl1NQ.jpg', 'I:\\\\t\\\\depthmap\\\\_axfJf2JWGUCIM4Ln7NIxA.jpg', 'I:\\\\t\\\\depthmap\\\\_J5sbR3WBiEQ9w6bpbzqZg.jpg', 'I:\\\\t\\\\depthmap\\\\_v_pz7UNWc87AhF4d1dVVQ.jpg', 'I:\\\\t\\\\depthmap\\\\_Wgvq2h_bupYJFQWe7E4EA.jpg']\n"
     ]
    }
   ],
   "source": [
    "Essex_test_files = glob.glob(r'I:\\t\\depthmap\\*.jpg')\n",
    "print(Essex_test_files)"
   ]
  },
  {
   "cell_type": "markdown",
   "metadata": {},
   "source": [
    "# ADE20K class list:\n",
    "\n",
    "https://github.com/CSAILVision/sceneparsing/blob/master/objectInfo150.csv\n",
    "\n",
    "sidewalks:\n",
    "\n",
    "Idx  \tRatio \tTrain \tVal\tStuff\t Name\n",
    "\n",
    "12\t0.0166\t3068\t310\t1\tsidewalk;pavement"
   ]
  },
  {
   "cell_type": "code",
   "execution_count": 4,
   "metadata": {
    "ExecuteTime": {
     "end_time": "2020-01-16T03:14:07.713239Z",
     "start_time": "2020-01-16T03:14:07.674727Z"
    }
   },
   "outputs": [
    {
     "name": "stdout",
     "output_type": "stream",
     "text": [
      "len of Essex_test_files: 1896\n"
     ]
    }
   ],
   "source": [
    "saved_path = r'I:\\t\\gluon_pspnet_ade'\n",
    "# Essex_test_files = glob.glob(r'I:\\t\\depthmap\\*.jpg')\n",
    "Essex_test_files = glob.glob(r'K:\\OneDrive_NJIT\\OneDrive - NJIT\\Research\\sidewalk\\Essex_test\\jpg_pitch0\\*.jpg')\n",
    "print(\"len of Essex_test_files:\", len(Essex_test_files))"
   ]
  },
  {
   "cell_type": "code",
   "execution_count": null,
   "metadata": {
    "ExecuteTime": {
     "start_time": "2020-01-16T03:20:40.851Z"
    },
    "scrolled": false
   },
   "outputs": [
    {
     "name": "stdout",
     "output_type": "stream",
     "text": [
      "before sampling: 1896\n",
      "after sampling: 1896\n",
      "Processed:  0\n",
      "Processed:  10\n",
      "Processed:  20\n",
      "Processed:  30\n",
      "Processed:  40\n",
      "Processed:  50\n",
      "Processed:  60\n",
      "Processed:  70\n",
      "Processed:  80\n",
      "Processed:  90\n",
      "Processed:  100\n",
      "Processed:  110\n",
      "Processed:  120\n",
      "Processed:  130\n",
      "Processed:  140\n",
      "Processed:  150\n",
      "Processed:  160\n",
      "Processed:  170\n",
      "Processed:  180\n",
      "Processed:  190\n",
      "Processed:  200\n",
      "Processed:  210\n",
      "Processed:  220\n",
      "Processed:  230\n",
      "Processed:  240\n",
      "Processed:  250\n",
      "Processed:  260\n",
      "Processed:  270\n",
      "Processed:  280\n",
      "Processed:  290\n",
      "Processed:  300\n",
      "Processed:  310\n",
      "Processed:  320\n",
      "Processed:  330\n",
      "Processed:  340\n",
      "Processed:  350\n",
      "Processed:  360\n",
      "Processed:  370\n",
      "Processed:  380\n",
      "Processed:  390\n",
      "Processed:  400\n",
      "Processed:  410\n",
      "Processed:  420\n",
      "Processed:  430\n",
      "Processed:  440\n",
      "Processed:  450\n",
      "Processed:  460\n",
      "Processed:  470\n",
      "Processed:  480\n",
      "Processed:  490\n",
      "Processed:  500\n"
     ]
    },
    {
     "name": "stderr",
     "output_type": "stream",
     "text": [
      "D:\\Anaconda3\\lib\\site-packages\\skimage\\io\\_io.py:141: UserWarning: I:\\t\\gluon_pspnet_ade\\CQnHTF6fAkgTCIs5uYV_gw_-74.20607_40.793417_0_242.76.png is a low contrast image\n",
      "  warn('%s is a low contrast image' % fname)\n"
     ]
    },
    {
     "name": "stdout",
     "output_type": "stream",
     "text": [
      "Processed:  510\n"
     ]
    },
    {
     "name": "stderr",
     "output_type": "stream",
     "text": [
      "D:\\Anaconda3\\lib\\site-packages\\skimage\\io\\_io.py:141: UserWarning: I:\\t\\gluon_pspnet_ade\\cR3LQ03CGevFEeaqD0uqYQ_-74.204274_40.796911_0_286.10.png is a low contrast image\n",
      "  warn('%s is a low contrast image' % fname)\n"
     ]
    },
    {
     "name": "stdout",
     "output_type": "stream",
     "text": [
      "Processed:  520\n",
      "Processed:  530\n",
      "Processed:  540\n",
      "Processed:  550\n",
      "Processed:  560\n"
     ]
    },
    {
     "name": "stderr",
     "output_type": "stream",
     "text": [
      "D:\\Anaconda3\\lib\\site-packages\\skimage\\io\\_io.py:141: UserWarning: I:\\t\\gluon_pspnet_ade\\Dg0LGX581Uu5ooKrLlvQGA_-74.205195_40.796118_0_220.81.png is a low contrast image\n",
      "  warn('%s is a low contrast image' % fname)\n"
     ]
    },
    {
     "name": "stdout",
     "output_type": "stream",
     "text": [
      "Processed:  570\n",
      "Processed:  580\n",
      "Processed:  590\n",
      "Processed:  600\n",
      "Processed:  610\n",
      "Processed:  620\n"
     ]
    },
    {
     "name": "stderr",
     "output_type": "stream",
     "text": [
      "D:\\Anaconda3\\lib\\site-packages\\skimage\\io\\_io.py:141: UserWarning: I:\\t\\gluon_pspnet_ade\\efJTCO_Jz0ul81Hs2FiFew_-74.20417_40.796972_0_4.59.png is a low contrast image\n",
      "  warn('%s is a low contrast image' % fname)\n",
      "D:\\Anaconda3\\lib\\site-packages\\skimage\\io\\_io.py:141: UserWarning: I:\\t\\gluon_pspnet_ade\\EG4Sr2JMkQHa_zHw4OFZbQ_-74.208918_40.796332_0_40.25.png is a low contrast image\n",
      "  warn('%s is a low contrast image' % fname)\n"
     ]
    },
    {
     "name": "stdout",
     "output_type": "stream",
     "text": [
      "Processed:  630\n",
      "Processed:  640\n",
      "Processed:  650\n",
      "Processed:  660\n",
      "Processed:  670\n",
      "Processed:  680\n",
      "Processed:  690\n",
      "Processed:  700\n",
      "Processed:  710\n",
      "Processed:  720\n",
      "Processed:  730\n",
      "Processed:  740\n",
      "Processed:  750\n",
      "Processed:  760\n",
      "Processed:  770\n",
      "Processed:  780\n",
      "Processed:  790\n",
      "Processed:  800\n",
      "Processed:  810\n",
      "Processed:  820\n"
     ]
    },
    {
     "name": "stderr",
     "output_type": "stream",
     "text": [
      "D:\\Anaconda3\\lib\\site-packages\\skimage\\io\\_io.py:141: UserWarning: I:\\t\\gluon_pspnet_ade\\IYLL3Eg7VIqSt2CR6Q1nBQ_-74.207224_40.794017_0_158.06.png is a low contrast image\n",
      "  warn('%s is a low contrast image' % fname)\n"
     ]
    },
    {
     "name": "stdout",
     "output_type": "stream",
     "text": [
      "Processed:  830\n",
      "Processed:  840\n",
      "Processed:  850\n",
      "Processed:  860\n",
      "Processed:  870\n"
     ]
    },
    {
     "name": "stderr",
     "output_type": "stream",
     "text": [
      "D:\\Anaconda3\\lib\\site-packages\\skimage\\io\\_io.py:141: UserWarning: I:\\t\\gluon_pspnet_ade\\kAeWnD5PAlg37AIoP55F9Q_-74.208718_40.794756_0_123.44.png is a low contrast image\n",
      "  warn('%s is a low contrast image' % fname)\n"
     ]
    },
    {
     "name": "stdout",
     "output_type": "stream",
     "text": [
      "Processed:  880\n",
      "Processed:  890\n",
      "Processed:  900\n",
      "Processed:  910\n"
     ]
    },
    {
     "name": "stderr",
     "output_type": "stream",
     "text": [
      "D:\\Anaconda3\\lib\\site-packages\\skimage\\io\\_io.py:141: UserWarning: I:\\t\\gluon_pspnet_ade\\Kww7aCSZY0tBqxcviM9MBw_-74.206592_40.793682_0_64.31.png is a low contrast image\n",
      "  warn('%s is a low contrast image' % fname)\n",
      "D:\\Anaconda3\\lib\\site-packages\\skimage\\io\\_io.py:141: UserWarning: I:\\t\\gluon_pspnet_ade\\kXCFf4-80hefKt6084dFxQ_-74.206262_40.795325_0_121.93.png is a low contrast image\n",
      "  warn('%s is a low contrast image' % fname)\n",
      "D:\\Anaconda3\\lib\\site-packages\\skimage\\io\\_io.py:141: UserWarning: I:\\t\\gluon_pspnet_ade\\kXCFf4-80hefKt6084dFxQ_-74.206262_40.795325_0_61.93.png is a low contrast image\n",
      "  warn('%s is a low contrast image' % fname)\n"
     ]
    },
    {
     "name": "stdout",
     "output_type": "stream",
     "text": [
      "Processed:  920\n",
      "Processed:  930\n",
      "Processed:  940\n",
      "Processed:  950\n",
      "Processed:  960\n",
      "Processed:  970\n",
      "Processed:  980\n"
     ]
    },
    {
     "name": "stderr",
     "output_type": "stream",
     "text": [
      "D:\\Anaconda3\\lib\\site-packages\\skimage\\io\\_io.py:141: UserWarning: I:\\t\\gluon_pspnet_ade\\LxL5pcGETiFYJI8FvHhRyQ_-74.207423_40.797554_0_353.20.png is a low contrast image\n",
      "  warn('%s is a low contrast image' % fname)\n"
     ]
    },
    {
     "name": "stdout",
     "output_type": "stream",
     "text": [
      "Processed:  990\n",
      "Processed:  1000\n",
      "Processed:  1010\n",
      "Processed:  1020\n",
      "Processed:  1030\n"
     ]
    },
    {
     "name": "stderr",
     "output_type": "stream",
     "text": [
      "D:\\Anaconda3\\lib\\site-packages\\skimage\\io\\_io.py:141: UserWarning: I:\\t\\gluon_pspnet_ade\\N-YIKgTuWLjI2_kn-G3j6A_-74.207309_40.794062_0_153.01.png is a low contrast image\n",
      "  warn('%s is a low contrast image' % fname)\n"
     ]
    },
    {
     "name": "stdout",
     "output_type": "stream",
     "text": [
      "Processed:  1040\n",
      "Processed:  1050\n",
      "Processed:  1060\n",
      "Processed:  1070\n",
      "Processed:  1080\n",
      "Processed:  1090\n",
      "Processed:  1100\n",
      "Processed:  1110\n",
      "Processed:  1120\n",
      "Processed:  1130\n",
      "Processed:  1140\n",
      "Processed:  1150\n",
      "Processed:  1160\n",
      "Processed:  1170\n",
      "Processed:  1180\n",
      "Processed:  1190\n",
      "Processed:  1200\n",
      "Processed:  1210\n",
      "Processed:  1220\n",
      "Processed:  1230\n",
      "Processed:  1240\n"
     ]
    },
    {
     "name": "stderr",
     "output_type": "stream",
     "text": [
      "D:\\Anaconda3\\lib\\site-packages\\skimage\\io\\_io.py:141: UserWarning: I:\\t\\gluon_pspnet_ade\\qbOA2SauErwg_wuOgn0wtg_-74.206279_40.793518_0_2.58.png is a low contrast image\n",
      "  warn('%s is a low contrast image' % fname)\n"
     ]
    },
    {
     "name": "stdout",
     "output_type": "stream",
     "text": [
      "Processed:  1250\n"
     ]
    },
    {
     "name": "stderr",
     "output_type": "stream",
     "text": [
      "D:\\Anaconda3\\lib\\site-packages\\skimage\\io\\_io.py:141: UserWarning: I:\\t\\gluon_pspnet_ade\\qhAZ5i9OIpKeL4P7uQsGJg_-74.206262_40.795164_0_34.12.png is a low contrast image\n",
      "  warn('%s is a low contrast image' % fname)\n"
     ]
    },
    {
     "name": "stdout",
     "output_type": "stream",
     "text": [
      "Processed:  1260\n",
      "Processed:  1270\n",
      "Processed:  1280\n",
      "Processed:  1290\n",
      "Processed:  1300\n",
      "Processed:  1310\n",
      "Processed:  1320\n",
      "Processed:  1330\n"
     ]
    },
    {
     "name": "stderr",
     "output_type": "stream",
     "text": [
      "D:\\Anaconda3\\lib\\site-packages\\skimage\\io\\_io.py:141: UserWarning: I:\\t\\gluon_pspnet_ade\\rgd7Uw3OWvtwDaKYJ8N7nw_-74.205063_40.796168_0_225.24.png is a low contrast image\n",
      "  warn('%s is a low contrast image' % fname)\n"
     ]
    },
    {
     "name": "stdout",
     "output_type": "stream",
     "text": [
      "Processed:  1340\n",
      "Processed:  1350\n",
      "Processed:  1360\n"
     ]
    },
    {
     "name": "stderr",
     "output_type": "stream",
     "text": [
      "D:\\Anaconda3\\lib\\site-packages\\skimage\\io\\_io.py:141: UserWarning: I:\\t\\gluon_pspnet_ade\\rXTCPLl8S-zX18CSEzgoQg_-74.206157_40.795278_0_337.07.png is a low contrast image\n",
      "  warn('%s is a low contrast image' % fname)\n"
     ]
    },
    {
     "name": "stdout",
     "output_type": "stream",
     "text": [
      "Processed:  1370\n",
      "Processed:  1380\n",
      "Processed:  1390\n",
      "Processed:  1400\n",
      "Processed:  1410\n"
     ]
    },
    {
     "name": "stderr",
     "output_type": "stream",
     "text": [
      "D:\\Anaconda3\\lib\\site-packages\\skimage\\io\\_io.py:141: UserWarning: I:\\t\\gluon_pspnet_ade\\StaKtuyBw5s0bEqoydFI0w_-74.20508_40.796219_0_221.00.png is a low contrast image\n",
      "  warn('%s is a low contrast image' % fname)\n"
     ]
    },
    {
     "name": "stdout",
     "output_type": "stream",
     "text": [
      "Processed:  1420\n",
      "Processed:  1430\n",
      "Processed:  1440\n",
      "Processed:  1450\n",
      "Processed:  1460\n",
      "Processed:  1470\n"
     ]
    },
    {
     "name": "stderr",
     "output_type": "stream",
     "text": [
      "D:\\Anaconda3\\lib\\site-packages\\skimage\\io\\_io.py:141: UserWarning: I:\\t\\gluon_pspnet_ade\\Unxg_zw167VyIflIJD7BmQ_-74.206084_40.795348_0_220.83.png is a low contrast image\n",
      "  warn('%s is a low contrast image' % fname)\n"
     ]
    },
    {
     "name": "stdout",
     "output_type": "stream",
     "text": [
      "Processed:  1480\n"
     ]
    },
    {
     "name": "stderr",
     "output_type": "stream",
     "text": [
      "D:\\Anaconda3\\lib\\site-packages\\skimage\\io\\_io.py:141: UserWarning: I:\\t\\gluon_pspnet_ade\\unzFKYJmKaR1md6ayjQfGQ_-74.206609_40.794784_0_153.83.png is a low contrast image\n",
      "  warn('%s is a low contrast image' % fname)\n"
     ]
    },
    {
     "name": "stdout",
     "output_type": "stream",
     "text": [
      "Processed:  1490\n",
      "Processed:  1500\n",
      "Processed:  1510\n",
      "Processed:  1520\n"
     ]
    },
    {
     "name": "stderr",
     "output_type": "stream",
     "text": [
      "D:\\Anaconda3\\lib\\site-packages\\skimage\\io\\_io.py:141: UserWarning: I:\\t\\gluon_pspnet_ade\\VFZUN8-xCycjtXfY1NUVYg_-74.208571_40.796641_0_220.53.png is a low contrast image\n",
      "  warn('%s is a low contrast image' % fname)\n"
     ]
    },
    {
     "name": "stdout",
     "output_type": "stream",
     "text": [
      "Processed:  1530\n",
      "Processed:  1540\n",
      "Processed:  1550\n",
      "Processed:  1560\n",
      "Processed:  1570\n",
      "Processed:  1580\n",
      "Processed:  1590\n",
      "Processed:  1600\n",
      "Processed:  1610\n",
      "Processed:  1620\n"
     ]
    },
    {
     "name": "stderr",
     "output_type": "stream",
     "text": [
      "D:\\Anaconda3\\lib\\site-packages\\skimage\\io\\_io.py:141: UserWarning: I:\\t\\gluon_pspnet_ade\\WyC4F1SgOI5acPwbuvCcfw_-74.208995_40.796263_0_40.09.png is a low contrast image\n",
      "  warn('%s is a low contrast image' % fname)\n"
     ]
    },
    {
     "name": "stdout",
     "output_type": "stream",
     "text": [
      "Processed:  1630\n",
      "Processed:  1640\n",
      "Processed:  1650\n",
      "Processed:  1660\n"
     ]
    },
    {
     "name": "stderr",
     "output_type": "stream",
     "text": [
      "D:\\Anaconda3\\lib\\site-packages\\skimage\\io\\_io.py:141: UserWarning: I:\\t\\gluon_pspnet_ade\\XkUU_fucRkdqVuqTQweZTQ_-74.206111_40.795258_0_0.20.png is a low contrast image\n",
      "  warn('%s is a low contrast image' % fname)\n",
      "D:\\Anaconda3\\lib\\site-packages\\skimage\\io\\_io.py:141: UserWarning: I:\\t\\gluon_pspnet_ade\\XkUU_fucRkdqVuqTQweZTQ_-74.206111_40.795258_0_300.20.png is a low contrast image\n",
      "  warn('%s is a low contrast image' % fname)\n"
     ]
    },
    {
     "name": "stdout",
     "output_type": "stream",
     "text": [
      "Processed:  1670\n",
      "Processed:  1680\n",
      "Processed:  1690\n"
     ]
    },
    {
     "name": "stderr",
     "output_type": "stream",
     "text": [
      "D:\\Anaconda3\\lib\\site-packages\\skimage\\io\\_io.py:141: UserWarning: I:\\t\\gluon_pspnet_ade\\xqR5GZTEsnoXUwAtzvelWg_-74.206009_40.795414_0_221.18.png is a low contrast image\n",
      "  warn('%s is a low contrast image' % fname)\n"
     ]
    },
    {
     "name": "stdout",
     "output_type": "stream",
     "text": [
      "Processed:  1700\n",
      "Processed:  1710\n",
      "Processed:  1720\n",
      "Processed:  1730\n",
      "Processed:  1740\n"
     ]
    },
    {
     "name": "stderr",
     "output_type": "stream",
     "text": [
      "D:\\Anaconda3\\lib\\site-packages\\skimage\\io\\_io.py:141: UserWarning: I:\\t\\gluon_pspnet_ade\\Yg5iufFycmDXtmX3Vf5EVQ_-74.208417_40.796777_0_220.17.png is a low contrast image\n",
      "  warn('%s is a low contrast image' % fname)\n"
     ]
    },
    {
     "name": "stdout",
     "output_type": "stream",
     "text": [
      "Processed:  1750\n",
      "Processed:  1760\n",
      "Processed:  1770\n",
      "Processed:  1780\n",
      "Processed:  1790\n",
      "Processed:  1800\n"
     ]
    }
   ],
   "source": [
    "import random\n",
    "print(\"before sampling:\", len(Essex_test_files))\n",
    "# Essex_test_files = random.sample(Essex_test_files, len(Essex_test_files))\n",
    "print(\"after sampling:\", len(Essex_test_files))\n",
    "\n",
    "for idx, filename in enumerate(Essex_test_files):\n",
    "    try:\n",
    "        img = image.imread(filename)\n",
    "        img = image.resize_short(img, 1024) \n",
    "#         img = image.resize_short(img, 100)\n",
    "        \n",
    "#         print(\"filename: \", filename)\n",
    "#         ctx = mx.gpu(0)\n",
    "\n",
    "        img = test_transform(img, ctx)\n",
    "#         print(\"img: \", img)\n",
    "        \n",
    "        output = model.predict(img)\n",
    "        \n",
    "#         print(\"output: \", output)\n",
    "        \n",
    "        predict = mx.nd.squeeze(mx.nd.argmax(output, 1)).asnumpy()\n",
    "\n",
    "#         print(\"predict: \", predict)\n",
    "        \n",
    "        mask = get_color_pallete(predict, 'ade20k')\n",
    "\n",
    "        #predict.save('predict.png')\n",
    "        #mmask = mpimg.imread('output.png')\n",
    "        predict = predict.astype(numpy.uint8)\n",
    "        new_basename = os.path.basename(filename).replace(\".jpg\", \".png\")\n",
    "        new_name = os.path.join(saved_path, new_basename)\n",
    "        io.imsave(new_name, predict)\n",
    "        new_basename = os.path.basename(filename).replace(\".jpg\", \"_color.tif\")\n",
    "        new_name = os.path.join(saved_path, new_basename)\n",
    "        mask.save(new_name)\n",
    "        if idx % 10 == 0:\n",
    "            print(\"Processed: \", idx)\n",
    "    except Exception as e:\n",
    "        print(\"Error in PSPNet:\",filename, e)\n",
    "        continue"
   ]
  },
  {
   "cell_type": "code",
   "execution_count": 1,
   "metadata": {
    "ExecuteTime": {
     "end_time": "2020-01-04T18:04:15.214602Z",
     "start_time": "2020-01-04T16:40:00.701366Z"
    }
   },
   "outputs": [
    {
     "name": "stderr",
     "output_type": "stream",
     "text": [
      "100%|█████████████████████████████████████████████████████████████████████| 1468224/1468224 [1:24:03<00:00, 291.13it/s]\n"
     ]
    }
   ],
   "source": [
    "import os\n",
    "import shutil\n",
    "import glob\n",
    "from tqdm import tqdm\n",
    "\n",
    "from_folder = r'J:\\temp\\NYC_jsons3'\n",
    "copy_to_folder = r'J:\\temp\\NYC_jsons_all'\n",
    "files = glob.glob(from_folder + '\\*.json')\n",
    "for file in tqdm(files):\n",
    "    basename = os.path.basename(file) \n",
    "    copy_to = os.path.join(copy_to_folder, basename)\n",
    "    if not os.path.exists(copy_to): \n",
    "        shutil.copyfile(file, copy_to)\n",
    "        "
   ]
  }
 ],
 "metadata": {
  "kernelspec": {
   "display_name": "Python 3",
   "language": "python",
   "name": "python3"
  },
  "language_info": {
   "codemirror_mode": {
    "name": "ipython",
    "version": 3
   },
   "file_extension": ".py",
   "mimetype": "text/x-python",
   "name": "python",
   "nbconvert_exporter": "python",
   "pygments_lexer": "ipython3",
   "version": "3.7.4"
  },
  "toc": {
   "base_numbering": 1,
   "nav_menu": {},
   "number_sections": true,
   "sideBar": true,
   "skip_h1_title": false,
   "title_cell": "Table of Contents",
   "title_sidebar": "Contents",
   "toc_cell": false,
   "toc_position": {},
   "toc_section_display": true,
   "toc_window_display": false
  },
  "varInspector": {
   "cols": {
    "lenName": 16,
    "lenType": 16,
    "lenVar": 40
   },
   "kernels_config": {
    "python": {
     "delete_cmd_postfix": "",
     "delete_cmd_prefix": "del ",
     "library": "var_list.py",
     "varRefreshCmd": "print(var_dic_list())"
    },
    "r": {
     "delete_cmd_postfix": ") ",
     "delete_cmd_prefix": "rm(",
     "library": "var_list.r",
     "varRefreshCmd": "cat(var_dic_list()) "
    }
   },
   "types_to_exclude": [
    "module",
    "function",
    "builtin_function_or_method",
    "instance",
    "_Feature"
   ],
   "window_display": false
  }
 },
 "nbformat": 4,
 "nbformat_minor": 2
}

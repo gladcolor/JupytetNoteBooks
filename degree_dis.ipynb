{
 "cells": [
  {
   "cell_type": "code",
   "execution_count": 1,
   "metadata": {
    "colab": {
     "base_uri": "https://localhost:8080/",
     "height": 124
    },
    "colab_type": "code",
    "id": "6l8BDWMZ7ZgV",
    "outputId": "045b8c74-83d7-4d3c-fd5e-b211009b948e"
   },
   "outputs": [
    {
     "name": "stdout",
     "output_type": "stream",
     "text": [
      "Go to this URL in a browser: https://accounts.google.com/o/oauth2/auth?client_id=947318989803-6bn6qk8qdgf4n4g3pfee6491hc0brc4i.apps.googleusercontent.com&redirect_uri=urn%3aietf%3awg%3aoauth%3a2.0%3aoob&response_type=code&scope=email%20https%3a%2f%2fwww.googleapis.com%2fauth%2fdocs.test%20https%3a%2f%2fwww.googleapis.com%2fauth%2fdrive%20https%3a%2f%2fwww.googleapis.com%2fauth%2fdrive.photos.readonly%20https%3a%2f%2fwww.googleapis.com%2fauth%2fpeopleapi.readonly\n",
      "\n",
      "Enter your authorization code:\n",
      "··········\n",
      "Mounted at /content/drive\n"
     ]
    }
   ],
   "source": [
    "from google.colab import drive\n",
    "drive.mount('/content/drive', force_remount=True)"
   ]
  },
  {
   "cell_type": "code",
   "execution_count": 90,
   "metadata": {
    "colab": {},
    "colab_type": "code",
    "id": "XFBv5gbZhfHc"
   },
   "outputs": [],
   "source": [
    "filepath = r'K:\\OneDrive_NJIT\\OneDrive - NJIT\\Courses\\CS786\\0323\\Huan_A3\\sample_rmat_1m.gr'"
   ]
  },
  {
   "cell_type": "code",
   "execution_count": 91,
   "metadata": {
    "colab": {
     "base_uri": "https://localhost:8080/",
     "height": 34
    },
    "colab_type": "code",
    "id": "KlTpmvIW67Gk",
    "outputId": "c312e905-b604-4087-d561-e0af05f2e481"
   },
   "outputs": [
    {
     "name": "stdout",
     "output_type": "stream",
     "text": [
      "done\n"
     ]
    }
   ],
   "source": [
    "in_dict = {}\n",
    "out_dict = {}\n",
    "\n",
    "with open(filepath) as fp:\n",
    "  flag = False\n",
    "\n",
    "  line = fp.readline()\n",
    "  cnt = 1\n",
    "\n",
    "  while line:\n",
    "\n",
    "    line = fp.readline()\n",
    "    cnt += 1\n",
    "\n",
    "    line_list = line.split(\" \")\n",
    "    # print(line_list)\n",
    "    if len(line_list) < 4:\n",
    "      break\n",
    "   \n",
    "    if line_list[0] == 'p':\n",
    "      flag = True\n",
    "      continue\n",
    "    \n",
    "    if flag == False:\n",
    "      continue\n",
    "    \n",
    "    # print(\"Line {}: {}\".format(cnt, line.strip()))\n",
    "    out_node = int(line_list[1])\n",
    "    in_node = int(line_list[2])\n",
    "    weight = int(line_list[3])\n",
    "\n",
    "    if in_node not in in_dict:\n",
    "      in_dict[in_node] = 0\n",
    "    in_dict[in_node] += 1\n",
    "\n",
    "    if out_node not in out_dict:\n",
    "      out_dict[out_node] = 0\n",
    "    out_dict[out_node] += 1\n",
    "\n",
    "print(\"done\")\n"
   ]
  },
  {
   "cell_type": "code",
   "execution_count": 92,
   "metadata": {
    "colab": {},
    "colab_type": "code",
    "id": "s_AZLi5lOdef"
   },
   "outputs": [],
   "source": [
    "from pprint import pprint"
   ]
  },
  {
   "cell_type": "code",
   "execution_count": 93,
   "metadata": {
    "colab": {
     "base_uri": "https://localhost:8080/",
     "height": 34
    },
    "colab_type": "code",
    "id": "WMnmGodMOhLM",
    "outputId": "d019ef37-2e7e-4926-d390-3e98ce7075ac"
   },
   "outputs": [],
   "source": [
    "# pprint(sum(out_dict.values()))"
   ]
  },
  {
   "cell_type": "code",
   "execution_count": 94,
   "metadata": {
    "colab": {
     "base_uri": "https://localhost:8080/",
     "height": 52
    },
    "colab_type": "code",
    "id": "65MLXwWTPbkr",
    "outputId": "e97ddb19-45f0-4295-955e-ae41c2e72f47"
   },
   "outputs": [],
   "source": [
    "# import operator\n",
    "# max_k = max(out_dict.items(), key=operator.itemgetter(1))[0]\n",
    "# max_v = max(out_dict.items(), key=operator.itemgetter(1))[1]\n",
    "# print(max_k)\n",
    "# print(max_v)"
   ]
  },
  {
   "cell_type": "code",
   "execution_count": 95,
   "metadata": {
    "colab": {},
    "colab_type": "code",
    "id": "lh-1DlTKRBby"
   },
   "outputs": [],
   "source": [
    "import matplotlib.pyplot as plt"
   ]
  },
  {
   "cell_type": "code",
   "execution_count": 96,
   "metadata": {
    "colab": {},
    "colab_type": "code",
    "id": "Z2atvAm7TPy_"
   },
   "outputs": [],
   "source": [
    "import operator\n",
    "sorted_out_dict = sorted(out_dict.items(), key=operator.itemgetter(0))\n",
    "sorted_in_dict = sorted(in_dict.items(), key=operator.itemgetter(0))"
   ]
  },
  {
   "cell_type": "code",
   "execution_count": 97,
   "metadata": {
    "colab": {
     "base_uri": "https://localhost:8080/",
     "height": 54
    },
    "colab_type": "code",
    "id": "iyV_5toHTl5K",
    "outputId": "56d13af5-b7ec-44a2-8700-05411bf5cae3"
   },
   "outputs": [],
   "source": [
    "# print(sorted_out_dict)"
   ]
  },
  {
   "cell_type": "code",
   "execution_count": 98,
   "metadata": {
    "colab": {},
    "colab_type": "code",
    "id": "6MQShPptO1Zy"
   },
   "outputs": [],
   "source": [
    "out_degree_dict = {}\n",
    "in_degree_dict = {}\n",
    "\n",
    "\n",
    "\n",
    "for n, o in sorted_out_dict:\n",
    "\n",
    "  if o not in out_degree_dict:\n",
    "    out_degree_dict[o] = 0\n",
    "  out_degree_dict[o] += 1\n",
    "\n",
    "\n",
    "\n",
    "for n, o in sorted_in_dict:\n",
    "\n",
    "  if o not in in_degree_dict:\n",
    "    in_degree_dict[o] = 0\n",
    "  in_degree_dict[o] += 1\n"
   ]
  },
  {
   "cell_type": "code",
   "execution_count": 99,
   "metadata": {
    "colab": {
     "base_uri": "https://localhost:8080/",
     "height": 72
    },
    "colab_type": "code",
    "id": "twN5O4TzdVxL",
    "outputId": "79c51492-01d2-4777-8b95-9859912cec49"
   },
   "outputs": [
    {
     "name": "stdout",
     "output_type": "stream",
     "text": [
      "{698: 1, 355: 1, 368: 1, 218: 1, 392: 1, 214: 3, 121: 46, 408: 2, 206: 2, 203: 5, 128: 18, 235: 4, 141: 17, 142: 16, 80: 136, 420: 1, 291: 2, 209: 2, 136: 17, 254: 3, 151: 22, 144: 21, 221: 3, 132: 20, 134: 19, 59: 724, 125: 23, 71: 378, 62: 613, 40: 2068, 412: 1, 208: 4, 126: 30, 250: 5, 129: 22, 150: 18, 76: 220, 228: 2, 124: 28, 120: 44, 77: 210, 140: 8, 86: 161, 34: 2849, 239: 1, 147: 17, 70: 402, 123: 36, 105: 108, 31: 3589, 117: 47, 89: 121, 45: 1342, 73: 292, 58: 682, 41: 1964, 28: 4832, 240: 2, 246: 2, 137: 12, 139: 17, 72: 328, 237: 4, 146: 22, 85: 138, 78: 184, 74: 304, 37: 2559, 297: 1, 122: 35, 79: 188, 64: 581, 54: 770, 66: 519, 69: 422, 55: 727, 26: 5766, 263: 2, 148: 28, 82: 146, 157: 20, 88: 124, 87: 131, 52: 744, 51: 840, 35: 2816, 21: 9327, 130: 26, 65: 594, 57: 668, 101: 152, 48: 1015, 43: 1656, 30: 3849, 23: 7585, 29: 4264, 18: 12315, 429: 1, 230: 1, 152: 26, 234: 1, 75: 259, 84: 139, 245: 1, 138: 27, 67: 483, 156: 21, 56: 669, 53: 757, 238: 2, 92: 159, 42: 1828, 61: 620, 36: 2618, 154: 28, 49: 985, 32: 3173, 20: 9853, 241: 3, 167: 21, 90: 131, 24: 6862, 143: 11, 46: 1167, 22: 8434, 27: 5170, 16: 15894, 155: 25, 63: 561, 38: 2404, 33: 3016, 14: 20135, 83: 137, 39: 2234, 8: 45463, 427: 1, 242: 1, 232: 1, 251: 4, 95: 149, 153: 20, 81: 132, 60: 638, 97: 139, 19: 11139, 262: 5, 25: 6368, 104: 135, 93: 124, 44: 1512, 165: 22, 100: 148, 133: 13, 50: 860, 13: 22903, 11: 29765, 277: 6, 163: 21, 135: 12, 47: 1078, 91: 142, 98: 156, 96: 129, 15: 17853, 12: 25826, 164: 27, 99: 163, 17: 14132, 10: 34145, 94: 133, 6: 62100, 4: 83402, 438: 1, 278: 2, 280: 2, 118: 54, 145: 15, 252: 5, 131: 18, 159: 16, 103: 126, 158: 27, 161: 33, 106: 121, 257: 3, 160: 23, 261: 2, 9: 39082, 7: 53244, 5: 72137, 181: 11, 3: 94617, 465: 1, 272: 3, 227: 1, 233: 1, 162: 12, 68: 446, 269: 6, 168: 24, 258: 2, 102: 123, 149: 18, 114: 78, 109: 91, 2: 101450, 292: 3, 107: 97, 116: 51, 454: 1, 268: 6, 273: 3, 256: 3, 255: 3, 111: 86, 265: 2, 177: 14, 182: 12, 274: 3, 169: 30, 175: 17, 1: 95309, 260: 1, 112: 84, 418: 1, 247: 4, 275: 4, 166: 25, 108: 125, 115: 73, 127: 25, 179: 19, 176: 21, 110: 109, 172: 20, 178: 11, 304: 1, 171: 19, 170: 22, 430: 1, 243: 1, 264: 3, 279: 3, 180: 17, 193: 7, 174: 19, 253: 1, 294: 3, 190: 8, 276: 4, 113: 75, 184: 12, 119: 54, 463: 1, 231: 1, 226: 1, 285: 1, 282: 2, 270: 4, 284: 2, 303: 1, 316: 2, 186: 6, 301: 4, 187: 8, 189: 10, 194: 11, 173: 15, 474: 2, 249: 1, 310: 1, 286: 3, 259: 1, 201: 6, 215: 3, 198: 4, 185: 12, 445: 1, 266: 1, 302: 2, 192: 7, 205: 7, 191: 5, 322: 2, 210: 3, 212: 3, 485: 1, 244: 1, 295: 2, 271: 1, 200: 2, 195: 4, 204: 3, 197: 3, 289: 1, 188: 4, 317: 1, 312: 1, 211: 3, 196: 4, 311: 1, 464: 1, 183: 8, 332: 1, 293: 2, 290: 3, 321: 3, 283: 1, 199: 1, 213: 2, 336: 1, 287: 2, 326: 1, 219: 1, 308: 1, 318: 1, 306: 1, 225: 1}\n",
      "{216: 1, 148: 2, 160: 2, 122: 8, 155: 1, 137: 1, 113: 6, 99: 4, 125: 4, 118: 3, 81: 19, 107: 4, 90: 18, 86: 20, 67: 91, 117: 1, 120: 2, 95: 9, 116: 4, 109: 5, 61: 155, 108: 5, 78: 44, 69: 77, 96: 12, 62: 126, 82: 31, 50: 420, 153: 1, 106: 6, 98: 8, 85: 17, 79: 38, 104: 6, 88: 15, 93: 12, 68: 82, 70: 58, 124: 1, 71: 65, 75: 47, 63: 130, 76: 52, 51: 385, 53: 325, 83: 27, 73: 63, 54: 301, 47: 543, 36: 1835, 145: 1, 92: 18, 91: 11, 58: 207, 100: 6, 56: 214, 64: 137, 80: 31, 65: 129, 77: 28, 59: 198, 84: 19, 60: 173, 66: 95, 45: 661, 57: 193, 55: 272, 44: 796, 46: 607, 49: 425, 40: 1127, 41: 1032, 23: 8808, 144: 1, 74: 58, 94: 16, 87: 15, 42: 934, 105: 7, 52: 326, 72: 70, 27: 5208, 43: 837, 20: 12960, 35: 2012, 48: 479, 39: 1256, 31: 3264, 38: 1418, 24: 7639, 34: 2290, 26: 5891, 21: 11390, 111: 4, 123: 2, 101: 6, 110: 7, 102: 7, 33: 2390, 30: 3689, 28: 4508, 32: 2805, 29: 4096, 37: 1612, 22: 10148, 15: 26185, 97: 8, 25: 6665, 19: 14734, 14: 29943, 17: 19761, 16: 22523, 18: 17233, 12: 39919, 149: 1, 115: 2, 114: 2, 103: 4, 10: 52366, 13: 34525, 11: 45783, 7: 73907, 8: 67045, 6: 79388, 177: 1, 89: 11, 9: 59480, 5: 83224, 121: 1, 112: 1, 4: 82625, 2: 60120, 3: 75552, 1: 37776, 129: 2, 151: 1, 143: 1, 126: 1, 119: 1}\n"
     ]
    }
   ],
   "source": [
    "print(out_degree_dict)\n",
    "print(in_degree_dict)"
   ]
  },
  {
   "cell_type": "code",
   "execution_count": 100,
   "metadata": {
    "colab": {},
    "colab_type": "code",
    "id": "YtZh9QRud8fk"
   },
   "outputs": [],
   "source": [
    "on = []\n",
    "ox = []\n",
    "oy = []\n",
    "\n",
    "point_sum = sum(out_degree_dict.values())\n",
    "\n",
    "for d,c in out_degree_dict.items():\n",
    "  on.append(d)\n",
    "  ox.append(c)\n",
    "  oy.append(c/point_sum)"
   ]
  },
  {
   "cell_type": "code",
   "execution_count": 101,
   "metadata": {
    "colab": {
     "base_uri": "https://localhost:8080/",
     "height": 89
    },
    "colab_type": "code",
    "id": "rCBi9ifenSZX",
    "outputId": "e9c8b638-0b73-4aa0-f6bb-e4b37005fab4"
   },
   "outputs": [
    {
     "name": "stdout",
     "output_type": "stream",
     "text": [
      "[698, 355, 368, 218, 392, 214, 121, 408, 206, 203, 128, 235, 141, 142, 80, 420, 291, 209, 136, 254, 151, 144, 221, 132, 134, 59, 125, 71, 62, 40, 412, 208, 126, 250, 129, 150, 76, 228, 124, 120, 77, 140, 86, 34, 239, 147, 70, 123, 105, 31, 117, 89, 45, 73, 58, 41, 28, 240, 246, 137, 139, 72, 237, 146, 85, 78, 74, 37, 297, 122, 79, 64, 54, 66, 69, 55, 26, 263, 148, 82, 157, 88, 87, 52, 51, 35, 21, 130, 65, 57, 101, 48, 43, 30, 23, 29, 18, 429, 230, 152, 234, 75, 84, 245, 138, 67, 156, 56, 53, 238, 92, 42, 61, 36, 154, 49, 32, 20, 241, 167, 90, 24, 143, 46, 22, 27, 16, 155, 63, 38, 33, 14, 83, 39, 8, 427, 242, 232, 251, 95, 153, 81, 60, 97, 19, 262, 25, 104, 93, 44, 165, 100, 133, 50, 13, 11, 277, 163, 135, 47, 91, 98, 96, 15, 12, 164, 99, 17, 10, 94, 6, 4, 438, 278, 280, 118, 145, 252, 131, 159, 103, 158, 161, 106, 257, 160, 261, 9, 7, 5, 181, 3, 465, 272, 227, 233, 162, 68, 269, 168, 258, 102, 149, 114, 109, 2, 292, 107, 116, 454, 268, 273, 256, 255, 111, 265, 177, 182, 274, 169, 175, 1, 260, 112, 418, 247, 275, 166, 108, 115, 127, 179, 176, 110, 172, 178, 304, 171, 170, 430, 243, 264, 279, 180, 193, 174, 253, 294, 190, 276, 113, 184, 119, 463, 231, 226, 285, 282, 270, 284, 303, 316, 186, 301, 187, 189, 194, 173, 474, 249, 310, 286, 259, 201, 215, 198, 185, 445, 266, 302, 192, 205, 191, 322, 210, 212, 485, 244, 295, 271, 200, 195, 204, 197, 289, 188, 317, 312, 211, 196, 311, 464, 183, 332, 293, 290, 321, 283, 199, 213, 336, 287, 326, 219, 308, 318, 306, 225]\n",
      "[1, 1, 1, 1, 1, 3, 46, 2, 2, 5, 18, 4, 17, 16, 136, 1, 2, 2, 17, 3, 22, 21, 3, 20, 19, 724, 23, 378, 613, 2068, 1, 4, 30, 5, 22, 18, 220, 2, 28, 44, 210, 8, 161, 2849, 1, 17, 402, 36, 108, 3589, 47, 121, 1342, 292, 682, 1964, 4832, 2, 2, 12, 17, 328, 4, 22, 138, 184, 304, 2559, 1, 35, 188, 581, 770, 519, 422, 727, 5766, 2, 28, 146, 20, 124, 131, 744, 840, 2816, 9327, 26, 594, 668, 152, 1015, 1656, 3849, 7585, 4264, 12315, 1, 1, 26, 1, 259, 139, 1, 27, 483, 21, 669, 757, 2, 159, 1828, 620, 2618, 28, 985, 3173, 9853, 3, 21, 131, 6862, 11, 1167, 8434, 5170, 15894, 25, 561, 2404, 3016, 20135, 137, 2234, 45463, 1, 1, 1, 4, 149, 20, 132, 638, 139, 11139, 5, 6368, 135, 124, 1512, 22, 148, 13, 860, 22903, 29765, 6, 21, 12, 1078, 142, 156, 129, 17853, 25826, 27, 163, 14132, 34145, 133, 62100, 83402, 1, 2, 2, 54, 15, 5, 18, 16, 126, 27, 33, 121, 3, 23, 2, 39082, 53244, 72137, 11, 94617, 1, 3, 1, 1, 12, 446, 6, 24, 2, 123, 18, 78, 91, 101450, 3, 97, 51, 1, 6, 3, 3, 3, 86, 2, 14, 12, 3, 30, 17, 95309, 1, 84, 1, 4, 4, 25, 125, 73, 25, 19, 21, 109, 20, 11, 1, 19, 22, 1, 1, 3, 3, 17, 7, 19, 1, 3, 8, 4, 75, 12, 54, 1, 1, 1, 1, 2, 4, 2, 1, 2, 6, 4, 8, 10, 11, 15, 2, 1, 1, 3, 1, 6, 3, 4, 12, 1, 1, 2, 7, 7, 5, 2, 3, 3, 1, 1, 2, 1, 2, 4, 3, 3, 1, 4, 1, 1, 3, 4, 1, 1, 8, 1, 2, 3, 3, 1, 1, 2, 1, 2, 1, 1, 1, 1, 1, 1]\n",
      "[1.0150079069115948e-06, 1.0150079069115948e-06, 1.0150079069115948e-06, 1.0150079069115948e-06, 1.0150079069115948e-06, 3.0450237207347847e-06, 4.6690363717933364e-05, 2.0300158138231895e-06, 2.0300158138231895e-06, 5.075039534557974e-06, 1.8270142324408707e-05, 4.060031627646379e-06, 1.7255134417497112e-05, 1.6240126510585516e-05, 0.0001380410753399769, 1.0150079069115948e-06, 2.0300158138231895e-06, 2.0300158138231895e-06, 1.7255134417497112e-05, 3.0450237207347847e-06, 2.2330173952055086e-05, 2.131516604514349e-05, 3.0450237207347847e-06, 2.0300158138231895e-05, 1.9285150231320303e-05, 0.0007348657246039947, 2.3345181858966682e-05, 0.00038367298881258286, 0.0006221998469368076, 0.002099036351493178, 1.0150079069115948e-06, 4.060031627646379e-06, 3.0450237207347844e-05, 5.075039534557974e-06, 2.2330173952055086e-05, 1.8270142324408707e-05, 0.00022330173952055086, 2.0300158138231895e-06, 2.8420221393524657e-05, 4.466034790411017e-05, 0.0002131516604514349, 8.120063255292758e-06, 0.00016341627301276677, 0.0028917575267911337, 1.0150079069115948e-06, 1.7255134417497112e-05, 0.00040803317857846113, 3.6540284648817415e-05, 0.00010962085394645224, 0.0036428633779057138, 4.7705371624844956e-05, 0.00012281595673630297, 0.0013621406110753602, 0.0002963823088181857, 0.0006922353925137077, 0.0019934755291743725, 0.004904518206196826, 2.0300158138231895e-06, 2.0300158138231895e-06, 1.2180094882939139e-05, 1.7255134417497112e-05, 0.0003329225934670031, 4.060031627646379e-06, 2.2330173952055086e-05, 0.00014007109115380008, 0.00018676145487173346, 0.00030856240370112485, 0.0025974052337867713, 1.0150079069115948e-06, 3.552527674190582e-05, 0.00019082148649937983, 0.0005897195939156366, 0.000781556088321928, 0.0005267891036871178, 0.00042833333671669303, 0.0007379107483247295, 0.005852535591252256, 2.0300158138231895e-06, 2.8420221393524657e-05, 0.00014819115440909284, 2.0300158138231895e-05, 0.00012586098045703776, 0.00013296603580541892, 0.0007551658827422266, 0.0008526066418057396, 0.002858262265863051, 0.009466978747764445, 2.6390205579701465e-05, 0.0006029146967054873, 0.0006780252818169454, 0.00015428120185056242, 0.0010302330255152687, 0.0016808530938456012, 0.003906765433702729, 0.007698834973924447, 0.00432799371507104, 0.01249982237361629, 1.0150079069115948e-06, 1.0150079069115948e-06, 2.6390205579701465e-05, 1.0150079069115948e-06, 0.0002628870478901031, 0.00014108609906071168, 1.0150079069115948e-06, 2.740521348661306e-05, 0.0004902488190383003, 2.131516604514349e-05, 0.000679040289723857, 0.0007683609855320773, 2.0300158138231895e-06, 0.00016138625719894358, 0.0018554344538343954, 0.0006293049022851887, 0.0026572907002945555, 2.8420221393524657e-05, 0.000999782788307921, 0.0032206200886304905, 0.010000872906799943, 3.0450237207347847e-06, 2.131516604514349e-05, 0.00013296603580541892, 0.006964984257227364, 1.1165086976027543e-05, 0.0011845142273658313, 0.00856057668689239, 0.005247590878732946, 0.01613253567245289, 2.537519767278987e-05, 0.0005694194357774047, 0.002440079008215474, 0.00306126384724537, 0.02043718420566496, 0.0001390560832468885, 0.002267527664040503, 0.04614530447192183, 1.0150079069115948e-06, 1.0150079069115948e-06, 1.0150079069115948e-06, 4.060031627646379e-06, 0.00015123617812982763, 2.0300158138231895e-05, 0.00013398104371233053, 0.0006475750446095975, 0.00014108609906071168, 0.011306173075088254, 5.075039534557974e-06, 0.006463570351213036, 0.00013702606743306532, 0.00012586098045703776, 0.0015346919552503314, 2.2330173952055086e-05, 0.00015022117022291603, 1.3195102789850733e-05, 0.0008729067999439715, 0.023246726091996257, 0.03021171034922362, 6.090047441469569e-06, 2.131516604514349e-05, 1.2180094882939139e-05, 0.0010941785236506993, 0.00014413112278144647, 0.0001583412334782088, 0.00013093601999159574, 0.0181209361620927, 0.02621359420389885, 2.740521348661306e-05, 0.00016544628882658995, 0.014344091740474659, 0.03465744498149641, 0.0001349960516192421, 0.06303199101921005, 0.08465368945224083, 1.0150079069115948e-06, 2.0300158138231895e-06, 2.0300158138231895e-06, 5.481042697322612e-05, 1.5225118603673922e-05, 5.075039534557974e-06, 1.8270142324408707e-05, 1.6240126510585516e-05, 0.00012789099627086094, 2.740521348661306e-05, 3.349526092808263e-05, 0.00012281595673630297, 3.0450237207347847e-06, 2.3345181858966682e-05, 2.0300158138231895e-06, 0.03966853901791895, 0.054043080995600956, 0.07321962538088171, 1.1165086976027543e-05, 0.09603700312825438, 1.0150079069115948e-06, 3.0450237207347847e-06, 1.0150079069115948e-06, 1.0150079069115948e-06, 1.2180094882939139e-05, 0.0004526935264825713, 6.090047441469569e-06, 2.4360189765878278e-05, 2.0300158138231895e-06, 0.00012484597255012615, 1.8270142324408707e-05, 7.91706167391044e-05, 9.236571952895514e-05, 0.1029725521561813, 3.0450237207347847e-06, 9.84557669704247e-05, 5.176540325249134e-05, 1.0150079069115948e-06, 6.090047441469569e-06, 3.0450237207347847e-06, 3.0450237207347847e-06, 3.0450237207347847e-06, 8.729067999439716e-05, 2.0300158138231895e-06, 1.4210110696762328e-05, 1.2180094882939139e-05, 3.0450237207347847e-06, 3.0450237207347844e-05, 1.7255134417497112e-05, 0.09673938859983719, 1.0150079069115948e-06, 8.526066418057396e-05, 1.0150079069115948e-06, 4.060031627646379e-06, 4.060031627646379e-06, 2.537519767278987e-05, 0.00012687598836394937, 7.409557720454642e-05, 2.537519767278987e-05, 1.9285150231320303e-05, 2.131516604514349e-05, 0.00011063586185336384, 2.0300158138231895e-05, 1.1165086976027543e-05, 1.0150079069115948e-06, 1.9285150231320303e-05, 2.2330173952055086e-05, 1.0150079069115948e-06, 1.0150079069115948e-06, 3.0450237207347847e-06, 3.0450237207347847e-06, 1.7255134417497112e-05, 7.105055348381164e-06, 1.9285150231320303e-05, 1.0150079069115948e-06, 3.0450237207347847e-06, 8.120063255292758e-06, 4.060031627646379e-06, 7.612559301836962e-05, 1.2180094882939139e-05, 5.481042697322612e-05, 1.0150079069115948e-06, 1.0150079069115948e-06, 1.0150079069115948e-06, 1.0150079069115948e-06, 2.0300158138231895e-06, 4.060031627646379e-06, 2.0300158138231895e-06, 1.0150079069115948e-06, 2.0300158138231895e-06, 6.090047441469569e-06, 4.060031627646379e-06, 8.120063255292758e-06, 1.0150079069115948e-05, 1.1165086976027543e-05, 1.5225118603673922e-05, 2.0300158138231895e-06, 1.0150079069115948e-06, 1.0150079069115948e-06, 3.0450237207347847e-06, 1.0150079069115948e-06, 6.090047441469569e-06, 3.0450237207347847e-06, 4.060031627646379e-06, 1.2180094882939139e-05, 1.0150079069115948e-06, 1.0150079069115948e-06, 2.0300158138231895e-06, 7.105055348381164e-06, 7.105055348381164e-06, 5.075039534557974e-06, 2.0300158138231895e-06, 3.0450237207347847e-06, 3.0450237207347847e-06, 1.0150079069115948e-06, 1.0150079069115948e-06, 2.0300158138231895e-06, 1.0150079069115948e-06, 2.0300158138231895e-06, 4.060031627646379e-06, 3.0450237207347847e-06, 3.0450237207347847e-06, 1.0150079069115948e-06, 4.060031627646379e-06, 1.0150079069115948e-06, 1.0150079069115948e-06, 3.0450237207347847e-06, 4.060031627646379e-06, 1.0150079069115948e-06, 1.0150079069115948e-06, 8.120063255292758e-06, 1.0150079069115948e-06, 2.0300158138231895e-06, 3.0450237207347847e-06, 3.0450237207347847e-06, 1.0150079069115948e-06, 1.0150079069115948e-06, 2.0300158138231895e-06, 1.0150079069115948e-06, 2.0300158138231895e-06, 1.0150079069115948e-06, 1.0150079069115948e-06, 1.0150079069115948e-06, 1.0150079069115948e-06, 1.0150079069115948e-06, 1.0150079069115948e-06]\n"
     ]
    }
   ],
   "source": [
    "print(on)\n",
    "print(ox)\n",
    "print(oy)"
   ]
  },
  {
   "cell_type": "code",
   "execution_count": 102,
   "metadata": {
    "colab": {
     "base_uri": "https://localhost:8080/",
     "height": 34
    },
    "colab_type": "code",
    "id": "70NAmcO_xkvL",
    "outputId": "f98a46a3-95d2-48af-a58f-e46903440495"
   },
   "outputs": [
    {
     "name": "stdout",
     "output_type": "stream",
     "text": [
      "1.0000000000000007\n"
     ]
    }
   ],
   "source": [
    "print(sum(oy))"
   ]
  },
  {
   "cell_type": "code",
   "execution_count": 103,
   "metadata": {
    "colab": {
     "base_uri": "https://localhost:8080/",
     "height": 295
    },
    "colab_type": "code",
    "id": "UkpJj208V3dh",
    "outputId": "18a71aba-58ab-4e09-8b35-18accc6f96b5"
   },
   "outputs": [
    {
     "data": {
      "image/png": "[encoded data removed]",
      "text/plain": [
       "<Figure size 432x288 with 1 Axes>"
      ]
     },
     "metadata": {
      "needs_background": "light"
     },
     "output_type": "display_data"
    }
   ],
   "source": [
    "from matplotlib.ticker import MaxNLocator\n",
    "bins = sorted(on.copy())\n",
    "ax = plt.figure().gca()\n",
    "ax.xaxis.set_major_locator(MaxNLocator(integer=True))\n",
    "\n",
    "plt.plot(bins, [out_degree_dict[i]/sum(out_degree_dict.values()) for i in bins], 'r--')\n",
    "plt.bar(on,oy) # A bar chart\n",
    "plt.title('out degree distribution')\n",
    "plt.xlabel('out degree')\n",
    "plt.ylabel('proportion')\n",
    "\n",
    "\n",
    "plt.show()"
   ]
  },
  {
   "cell_type": "code",
   "execution_count": 104,
   "metadata": {
    "colab": {},
    "colab_type": "code",
    "id": "szuucaYKgz7M"
   },
   "outputs": [],
   "source": [
    "inn  = []\n",
    "inx = []\n",
    "iny = []\n",
    "\n",
    "point_sum = sum(in_degree_dict.values())\n",
    "\n",
    "for d,c in in_degree_dict.items():\n",
    "  inn.append(d)\n",
    "  inx.append(c)\n",
    "  iny.append(c/point_sum)"
   ]
  },
  {
   "cell_type": "code",
   "execution_count": 105,
   "metadata": {
    "colab": {
     "base_uri": "https://localhost:8080/",
     "height": 295
    },
    "colab_type": "code",
    "id": "OW-TwIwDhNnm",
    "outputId": "d797bfb6-591c-4c4a-a1bf-3aee636c7a8b"
   },
   "outputs": [
    {
     "data": {
      "image/png": "[encoded data removed]",
      "text/plain": [
       "<Figure size 432x288 with 1 Axes>"
      ]
     },
     "metadata": {
      "needs_background": "light"
     },
     "output_type": "display_data"
    }
   ],
   "source": [
    "bins = sorted(inn.copy())\n",
    "\n",
    "plt.bar(inn,iny) # A bar chart\n",
    "plt.plot(bins, [in_degree_dict[i]/sum(in_degree_dict.values()) for i in bins], 'r--')\n",
    "plt.title('in degree distribution')\n",
    "plt.xlabel('in degree')\n",
    "plt.ylabel('proportion')\n",
    "plt.show()"
   ]
  },
  {
   "cell_type": "code",
   "execution_count": null,
   "metadata": {},
   "outputs": [],
   "source": []
  },
  {
   "cell_type": "code",
   "execution_count": null,
   "metadata": {},
   "outputs": [],
   "source": []
  }
 ],
 "metadata": {
  "colab": {
   "name": "degree_dis.ipynb",
   "provenance": []
  },
  "kernelspec": {
   "display_name": "Python 3",
   "language": "python",
   "name": "python3"
  },
  "language_info": {
   "codemirror_mode": {
    "name": "ipython",
    "version": 3
   },
   "file_extension": ".py",
   "mimetype": "text/x-python",
   "name": "python",
   "nbconvert_exporter": "python",
   "pygments_lexer": "ipython3",
   "version": "3.7.4"
  },
  "toc": {
   "base_numbering": 1,
   "nav_menu": {},
   "number_sections": true,
   "sideBar": true,
   "skip_h1_title": false,
   "title_cell": "Table of Contents",
   "title_sidebar": "Contents",
   "toc_cell": false,
   "toc_position": {},
   "toc_section_display": true,
   "toc_window_display": false
  },
  "varInspector": {
   "cols": {
    "lenName": 16,
    "lenType": 16,
    "lenVar": 40
   },
   "kernels_config": {
    "python": {
     "delete_cmd_postfix": "",
     "delete_cmd_prefix": "del ",
     "library": "var_list.py",
     "varRefreshCmd": "print(var_dic_list())"
    },
    "r": {
     "delete_cmd_postfix": ") ",
     "delete_cmd_prefix": "rm(",
     "library": "var_list.r",
     "varRefreshCmd": "cat(var_dic_list()) "
    }
   },
   "types_to_exclude": [
    "module",
    "function",
    "builtin_function_or_method",
    "instance",
    "_Feature"
   ],
   "window_display": false
  }
 },
 "nbformat": 4,
 "nbformat_minor": 1
}
